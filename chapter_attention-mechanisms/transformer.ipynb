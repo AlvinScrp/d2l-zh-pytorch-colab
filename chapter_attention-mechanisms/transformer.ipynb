{
  "cells": [
    {
      "cell_type": "markdown",
      "metadata": {
        "id": "view-in-github",
        "colab_type": "text"
      },
      "source": [
        "<a href=\"https://colab.research.google.com/github/AlvinScrp/d2l-zh-pytorch-colab/blob/main/chapter_attention-mechanisms/transformer.ipynb\" target=\"_parent\"><img src=\"https://colab.research.google.com/assets/colab-badge.svg\" alt=\"Open In Colab\"/></a>"
      ]
    },
    {
      "cell_type": "markdown",
      "id": "330f5c9c",
      "metadata": {
        "id": "330f5c9c"
      },
      "source": [
        "The following additional libraries are needed to run this\n",
        "notebook. Note that running on Colab is experimental, please report a Github\n",
        "issue if you have any problem."
      ]
    },
    {
      "cell_type": "code",
      "execution_count": null,
      "id": "3867b143",
      "metadata": {
        "id": "3867b143",
        "outputId": "df2bf1e5-d86d-46bf-90c1-199c13c46f85",
        "colab": {
          "base_uri": "https://localhost:8080/"
        }
      },
      "outputs": [
        {
          "output_type": "stream",
          "name": "stdout",
          "text": [
            "Requirement already satisfied: numpy in /usr/local/lib/python3.12/dist-packages (2.0.2)\n",
            "Collecting d2l\n",
            "  Downloading d2l-1.0.3-py3-none-any.whl.metadata (556 bytes)\n",
            "Downloading d2l-1.0.3-py3-none-any.whl (111 kB)\n",
            "\u001b[2K   \u001b[90m━━━━━━━━━━━━━━━━━━━━━━━━━━━━━━━━━━━━━━━━\u001b[0m \u001b[32m111.7/111.7 kB\u001b[0m \u001b[31m3.9 MB/s\u001b[0m eta \u001b[36m0:00:00\u001b[0m\n",
            "\u001b[?25hInstalling collected packages: d2l\n",
            "Successfully installed d2l-1.0.3\n"
          ]
        }
      ],
      "source": [
        "!pip install numpy d2l --no-deps # installing d2l # installing d2l"
      ]
    },
    {
      "cell_type": "markdown",
      "id": "ad81766b",
      "metadata": {
        "origin_pos": 0,
        "id": "ad81766b"
      },
      "source": [
        "# Transformer\n",
        ":label:`sec_transformer`\n",
        "\n",
        " :numref:`subsec_cnn-rnn-self-attention`中比较了卷积神经网络（CNN）、循环神经网络（RNN）和自注意力（self-attention）。值得注意的是，自注意力同时具有并行计算和最短的最大路径长度这两个优势。因此，使用自注意力来设计深度架构是很有吸引力的。对比之前仍然依赖循环神经网络实现输入表示的自注意力模型 :cite:`Cheng.Dong.Lapata.2016,Lin.Feng.Santos.ea.2017,Paulus.Xiong.Socher.2017`，Transformer模型完全基于注意力机制，没有任何卷积层或循环神经网络层 :cite:`Vaswani.Shazeer.Parmar.ea.2017`。尽管Transformer最初是应用于在文本数据上的序列到序列学习，但现在已经推广到各种现代的深度学习中，例如语言、视觉、语音和强化学习领域。\n",
        "\n",
        "## 模型\n",
        "\n",
        "Transformer作为编码器－解码器架构的一个实例，其整体架构图在 :numref:`fig_transformer`中展示。正如所见到的，Transformer是由编码器和解码器组成的。与 :numref:`fig_s2s_attention_details`中基于Bahdanau注意力实现的序列到序列的学习相比，Transformer的编码器和解码器是基于自注意力的模块叠加而成的，源（输入）序列和目标（输出）序列的*嵌入*（embedding）表示将加上*位置编码*（positional encoding），再分别输入到编码器和解码器中。\n",
        "\n",
        "![transformer架构](http://d2l.ai/_images/transformer.svg)\n",
        ":width:`500px`\n",
        ":label:`fig_transformer`\n",
        "\n",
        "图 :numref:`fig_transformer`中概述了Transformer的架构。从宏观角度来看，Transformer的编码器是由多个相同的层叠加而成的，每个层都有两个子层（子层表示为$\\mathrm{sublayer}$）。第一个子层是*多头自注意力*（multi-head self-attention）汇聚；第二个子层是*基于位置的前馈网络*（positionwise feed-forward network）。具体来说，在计算编码器的自注意力时，查询、键和值都来自前一个编码器层的输出。受 :numref:`sec_resnet`中残差网络的启发，每个子层都采用了*残差连接*（residual connection）。在Transformer中，对于序列中任何位置的任何输入$\\mathbf{x} \\in \\mathbb{R}^d$，都要求满足$\\mathrm{sublayer}(\\mathbf{x}) \\in \\mathbb{R}^d$，以便残差连接满足$\\mathbf{x} + \\mathrm{sublayer}(\\mathbf{x}) \\in \\mathbb{R}^d$。在残差连接的加法计算之后，紧接着应用*层规范化*（layer normalization） :cite:`Ba.Kiros.Hinton.2016`。因此，输入序列对应的每个位置，Transformer编码器都将输出一个$d$维表示向量。\n",
        "\n",
        "Transformer解码器也是由多个相同的层叠加而成的，并且层中使用了残差连接和层规范化。除了编码器中描述的两个子层之外，解码器还在这两个子层之间插入了第三个子层，称为*编码器－解码器注意力*（encoder-decoder attention）层。在编码器－解码器注意力中，查询来自前一个解码器层的输出，而键和值来自整个编码器的输出。在解码器自注意力中，查询、键和值都来自上一个解码器层的输出。但是，解码器中的每个位置只能考虑该位置之前的所有位置。这种*掩蔽*（masked）注意力保留了*自回归*（auto-regressive）属性，确保预测仅依赖于已生成的输出词元。\n",
        "\n",
        "在此之前已经描述并实现了基于缩放点积多头注意力 :numref:`sec_multihead-attention`和位置编码 :numref:`subsec_positional-encoding`。接下来将实现Transformer模型的剩余部分。\n"
      ]
    },
    {
      "cell_type": "code",
      "execution_count": null,
      "id": "9309c9bd",
      "metadata": {
        "execution": {
          "iopub.execute_input": "2023-08-18T07:21:02.524217Z",
          "iopub.status.busy": "2023-08-18T07:21:02.523886Z",
          "iopub.status.idle": "2023-08-18T07:21:05.481998Z",
          "shell.execute_reply": "2023-08-18T07:21:05.481087Z"
        },
        "origin_pos": 2,
        "tab": [
          "pytorch"
        ],
        "id": "9309c9bd"
      },
      "outputs": [],
      "source": [
        "import math\n",
        "import pandas as pd\n",
        "import torch\n",
        "from torch import nn\n",
        "from d2l import torch as d2l"
      ]
    },
    {
      "cell_type": "markdown",
      "source": [
        "## 注意力分数(多头、缩放点积、掩码)"
      ],
      "metadata": {
        "id": "hSbgUcNsL8o7"
      },
      "id": "hSbgUcNsL8o7"
    },
    {
      "cell_type": "code",
      "source": [
        "class DotProductAttention(nn.Module):\n",
        "    \"\"\"缩放点积注意力\"\"\"\n",
        "    def __init__(self, dropout, **kwargs):\n",
        "        super(DotProductAttention, self).__init__(**kwargs)\n",
        "        self.dropout = nn.Dropout(dropout)\n",
        "\n",
        "    # queries的形状：(batch_size，查询的个数，d)\n",
        "    # keys的形状：(batch_size，“键－值”对的个数，d)\n",
        "    # values的形状：(batch_size，“键－值”对的个数，值的维度)\n",
        "    # valid_lens的形状:(batch_size，)或者(batch_size，查询的个数)\n",
        "    def forward(self, queries, keys, values, valid_lens=None):\n",
        "        dk = queries.shape[-1]\n",
        "        # 设置transpose_b=True为了交换keys的最后两个维度\n",
        "        scores = torch.bmm(queries, keys.transpose(1,2)) / math.sqrt(dk)\n",
        "        # print(\"scores\",scores)\n",
        "        self.attention_weights = masked_softmax(scores, valid_lens)\n",
        "        # print(\"attention_weights\",self.attention_weights)\n",
        "        return torch.bmm(self.dropout(self.attention_weights), values)\n",
        "\n",
        "def masked_softmax(X, valid_lens):\n",
        "    \"\"\"通过在最后一个轴上掩蔽元素来执行softmax操作\"\"\"\n",
        "    # X:3D张量，valid_lens:1D或2D张量\n",
        "    if valid_lens is None:\n",
        "        return nn.functional.softmax(X, dim=-1)\n",
        "    else:\n",
        "        shape = X.shape\n",
        "        if valid_lens.dim() == 1:\n",
        "            valid_lens = torch.repeat_interleave(valid_lens, shape[1])\n",
        "        else:\n",
        "            valid_lens = valid_lens.reshape(-1)\n",
        "        # 最后一轴上被掩蔽的元素使用一个非常大的负值替换，从而其softmax输出为0\n",
        "        X = sequence_mask(X.reshape(-1, shape[-1]), valid_lens, value=-1e6)\n",
        "        return nn.functional.softmax(X.reshape(shape), dim=-1)\n",
        "\n",
        "def sequence_mask(X, valid_len, value=0):\n",
        "    \"\"\"在序列中屏蔽不相关的项\"\"\"\n",
        "    maxlen = X.size(1)\n",
        "    mask = torch.arange((maxlen), dtype=torch.float32,\n",
        "                        device=X.device)[None, :] < valid_len[:, None]\n",
        "    X[~mask] = value\n",
        "    return X\n",
        "\n"
      ],
      "metadata": {
        "id": "wrBVnTJlyDgn"
      },
      "id": "wrBVnTJlyDgn",
      "execution_count": null,
      "outputs": []
    },
    {
      "cell_type": "code",
      "source": [
        "X = torch.tensor([[1, 2, 3], [4, 5, 6]])\n",
        "sequence_mask(X, torch.tensor([1, 2]))"
      ],
      "metadata": {
        "id": "TzIt6vypyrV1",
        "outputId": "3a1c5292-93dc-4576-df3b-237c0e212c70",
        "colab": {
          "base_uri": "https://localhost:8080/"
        }
      },
      "id": "TzIt6vypyrV1",
      "execution_count": null,
      "outputs": [
        {
          "output_type": "execute_result",
          "data": {
            "text/plain": [
              "tensor([[1, 0, 0],\n",
              "        [4, 5, 0]])"
            ]
          },
          "metadata": {},
          "execution_count": 116
        }
      ]
    },
    {
      "cell_type": "code",
      "source": [
        "masked_softmax(torch.rand(2, 2, 4), torch.tensor([[1, 3], [2, 4]]))"
      ],
      "metadata": {
        "id": "cUJQBfxFMv4-",
        "outputId": "78b1f7de-f8e2-4caf-9bae-15b0f0fbf4ab",
        "colab": {
          "base_uri": "https://localhost:8080/"
        }
      },
      "id": "cUJQBfxFMv4-",
      "execution_count": null,
      "outputs": [
        {
          "output_type": "execute_result",
          "data": {
            "text/plain": [
              "tensor([[[1.0000, 0.0000, 0.0000, 0.0000],\n",
              "         [0.4130, 0.2687, 0.3183, 0.0000]],\n",
              "\n",
              "        [[0.5184, 0.4816, 0.0000, 0.0000],\n",
              "         [0.2716, 0.3056, 0.2823, 0.1405]]])"
            ]
          },
          "metadata": {},
          "execution_count": 117
        }
      ]
    },
    {
      "cell_type": "code",
      "source": [
        "masked_softmax(torch.rand(2, 2, 4), torch.tensor([2, 3]))"
      ],
      "metadata": {
        "id": "M2xyCsMLMstT",
        "outputId": "f13b2bf0-3cb3-48a6-c224-cd8afcb54385",
        "colab": {
          "base_uri": "https://localhost:8080/"
        }
      },
      "id": "M2xyCsMLMstT",
      "execution_count": null,
      "outputs": [
        {
          "output_type": "execute_result",
          "data": {
            "text/plain": [
              "tensor([[[0.5279, 0.4721, 0.0000, 0.0000],\n",
              "         [0.5938, 0.4062, 0.0000, 0.0000]],\n",
              "\n",
              "        [[0.3600, 0.3803, 0.2597, 0.0000],\n",
              "         [0.3725, 0.2162, 0.4113, 0.0000]]])"
            ]
          },
          "metadata": {},
          "execution_count": 118
        }
      ]
    },
    {
      "cell_type": "code",
      "source": [
        "keys = torch.arange(40, dtype=torch.float32).reshape(2, 10, 2)\n",
        "# values的小批量，两个值矩阵是相同的\n",
        "values = torch.arange(40, dtype=torch.float32).reshape(1, 10, 4).repeat(\n",
        "    2, 1, 1)\n",
        "valid_lens = torch.tensor([2, 6])\n",
        "queries = torch.normal(0, 1, (2, 1, 2))\n",
        "print(\"queries\",queries)\n",
        "# print(\"keys\",keys)\n",
        "print(\"values\",values)\n",
        "attention = DotProductAttention(dropout=0.5)\n",
        "attention.eval() #评估模式dropout无效\n",
        "attention(queries, keys, values, valid_lens)"
      ],
      "metadata": {
        "id": "iHUGpq4jMz3q",
        "outputId": "eb97ea02-780a-46b6-9daf-8f64b915802d",
        "colab": {
          "base_uri": "https://localhost:8080/"
        }
      },
      "id": "iHUGpq4jMz3q",
      "execution_count": null,
      "outputs": [
        {
          "output_type": "stream",
          "name": "stdout",
          "text": [
            "queries tensor([[[0.2513, 1.2275]],\n",
            "\n",
            "        [[0.7612, 0.6926]]])\n",
            "values tensor([[[ 0.,  1.,  2.,  3.],\n",
            "         [ 4.,  5.,  6.,  7.],\n",
            "         [ 8.,  9., 10., 11.],\n",
            "         [12., 13., 14., 15.],\n",
            "         [16., 17., 18., 19.],\n",
            "         [20., 21., 22., 23.],\n",
            "         [24., 25., 26., 27.],\n",
            "         [28., 29., 30., 31.],\n",
            "         [32., 33., 34., 35.],\n",
            "         [36., 37., 38., 39.]],\n",
            "\n",
            "        [[ 0.,  1.,  2.,  3.],\n",
            "         [ 4.,  5.,  6.,  7.],\n",
            "         [ 8.,  9., 10., 11.],\n",
            "         [12., 13., 14., 15.],\n",
            "         [16., 17., 18., 19.],\n",
            "         [20., 21., 22., 23.],\n",
            "         [24., 25., 26., 27.],\n",
            "         [28., 29., 30., 31.],\n",
            "         [32., 33., 34., 35.],\n",
            "         [36., 37., 38., 39.]]])\n"
          ]
        },
        {
          "output_type": "execute_result",
          "data": {
            "text/plain": [
              "tensor([[[ 3.5602,  4.5602,  5.5602,  6.5602]],\n",
              "\n",
              "        [[19.4131, 20.4131, 21.4131, 22.4131]]])"
            ]
          },
          "metadata": {},
          "execution_count": 122
        }
      ]
    },
    {
      "cell_type": "code",
      "source": [
        "d2l.show_heatmaps(attention.attention_weights.reshape((1, 1, 2, 10)),\n",
        "                  xlabel='Keys', ylabel='Queries')\n"
      ],
      "metadata": {
        "id": "2jVj99tlM13r",
        "outputId": "be7c7233-a9b8-443a-9092-12c53f2c8966",
        "colab": {
          "base_uri": "https://localhost:8080/",
          "height": 159
        }
      },
      "id": "2jVj99tlM13r",
      "execution_count": null,
      "outputs": [
        {
          "output_type": "display_data",
          "data": {
            "text/plain": [
              "<Figure size 250x250 with 2 Axes>"
            ],
            "image/svg+xml": "<?xml version=\"1.0\" encoding=\"utf-8\" standalone=\"no\"?>\n<!DOCTYPE svg PUBLIC \"-//W3C//DTD SVG 1.1//EN\"\n  \"http://www.w3.org/Graphics/SVG/1.1/DTD/svg11.dtd\">\n<svg xmlns:xlink=\"http://www.w3.org/1999/xlink\" width=\"193.43925pt\" height=\"103.438906pt\" viewBox=\"0 0 193.43925 103.438906\" xmlns=\"http://www.w3.org/2000/svg\" version=\"1.1\">\n <metadata>\n  <rdf:RDF xmlns:dc=\"http://purl.org/dc/elements/1.1/\" xmlns:cc=\"http://creativecommons.org/ns#\" xmlns:rdf=\"http://www.w3.org/1999/02/22-rdf-syntax-ns#\">\n   <cc:Work>\n    <dc:type rdf:resource=\"http://purl.org/dc/dcmitype/StillImage\"/>\n    <dc:date>2025-10-12T13:10:16.180432</dc:date>\n    <dc:format>image/svg+xml</dc:format>\n    <dc:creator>\n     <cc:Agent>\n      <dc:title>Matplotlib v3.10.0, https://matplotlib.org/</dc:title>\n     </cc:Agent>\n    </dc:creator>\n   </cc:Work>\n  </rdf:RDF>\n </metadata>\n <defs>\n  <style type=\"text/css\">*{stroke-linejoin: round; stroke-linecap: butt}</style>\n </defs>\n <g id=\"figure_1\">\n  <g id=\"patch_1\">\n   <path d=\"M -0 103.438906 \nL 193.43925 103.438906 \nL 193.43925 0 \nL -0 0 \nz\n\" style=\"fill: #ffffff\"/>\n  </g>\n  <g id=\"axes_1\">\n   <g id=\"patch_2\">\n    <path d=\"M 34.240625 59.94 \nL 145.840625 59.94 \nL 145.840625 37.62 \nL 34.240625 37.62 \nz\n\" style=\"fill: #ffffff\"/>\n   </g>\n   <g clip-path=\"url(#p2086e32a95)\">\n    <image xlink:href=\"data:image/png;base64,\niVBORw0KGgoAAAANSUhEUgAAAJsAAAAfCAYAAADwQL9CAAAAoUlEQVR4nO3UsQ1BYRiGURelSmcQlQGMojAPNhILqMUkFDa4N3lEnNO/+f7iyT8cZqvXbKTL8zZ2+rHejJ4O88W02+Tm334A/0NsZMRGRmxkxEZGbGTERkZsZMRGRmxkxEZGbGTERkZsZMRGZnk6H0ePr9v9pOO7x33Snt/iZyMjNjJiIyM2MmIjIzYyYiMjNjJiIyM2MmIjIzYyYiMjNjJv+HcI6hbKD1kAAAAASUVORK5CYII=\" id=\"image90e6fbfa01\" transform=\"scale(1 -1) translate(0 -22.32)\" x=\"34.240625\" y=\"-37.62\" width=\"111.6\" height=\"22.32\"/>\n   </g>\n   <g id=\"matplotlib.axis_1\">\n    <g id=\"xtick_1\">\n     <g id=\"line2d_1\">\n      <defs>\n       <path id=\"mfa314f1377\" d=\"M 0 0 \nL 0 3.5 \n\" style=\"stroke: #000000; stroke-width: 0.8\"/>\n      </defs>\n      <g>\n       <use xlink:href=\"#mfa314f1377\" x=\"39.820625\" y=\"59.94\" style=\"stroke: #000000; stroke-width: 0.8\"/>\n      </g>\n     </g>\n     <g id=\"text_1\">\n      <!-- 0 -->\n      <g transform=\"translate(36.639375 74.538438) scale(0.1 -0.1)\">\n       <defs>\n        <path id=\"DejaVuSans-30\" d=\"M 2034 4250 \nQ 1547 4250 1301 3770 \nQ 1056 3291 1056 2328 \nQ 1056 1369 1301 889 \nQ 1547 409 2034 409 \nQ 2525 409 2770 889 \nQ 3016 1369 3016 2328 \nQ 3016 3291 2770 3770 \nQ 2525 4250 2034 4250 \nz\nM 2034 4750 \nQ 2819 4750 3233 4129 \nQ 3647 3509 3647 2328 \nQ 3647 1150 3233 529 \nQ 2819 -91 2034 -91 \nQ 1250 -91 836 529 \nQ 422 1150 422 2328 \nQ 422 3509 836 4129 \nQ 1250 4750 2034 4750 \nz\n\" transform=\"scale(0.015625)\"/>\n       </defs>\n       <use xlink:href=\"#DejaVuSans-30\"/>\n      </g>\n     </g>\n    </g>\n    <g id=\"xtick_2\">\n     <g id=\"line2d_2\">\n      <g>\n       <use xlink:href=\"#mfa314f1377\" x=\"95.620625\" y=\"59.94\" style=\"stroke: #000000; stroke-width: 0.8\"/>\n      </g>\n     </g>\n     <g id=\"text_2\">\n      <!-- 5 -->\n      <g transform=\"translate(92.439375 74.538438) scale(0.1 -0.1)\">\n       <defs>\n        <path id=\"DejaVuSans-35\" d=\"M 691 4666 \nL 3169 4666 \nL 3169 4134 \nL 1269 4134 \nL 1269 2991 \nQ 1406 3038 1543 3061 \nQ 1681 3084 1819 3084 \nQ 2600 3084 3056 2656 \nQ 3513 2228 3513 1497 \nQ 3513 744 3044 326 \nQ 2575 -91 1722 -91 \nQ 1428 -91 1123 -41 \nQ 819 9 494 109 \nL 494 744 \nQ 775 591 1075 516 \nQ 1375 441 1709 441 \nQ 2250 441 2565 725 \nQ 2881 1009 2881 1497 \nQ 2881 1984 2565 2268 \nQ 2250 2553 1709 2553 \nQ 1456 2553 1204 2497 \nQ 953 2441 691 2322 \nL 691 4666 \nz\n\" transform=\"scale(0.015625)\"/>\n       </defs>\n       <use xlink:href=\"#DejaVuSans-35\"/>\n      </g>\n     </g>\n    </g>\n    <g id=\"text_3\">\n     <!-- Keys -->\n     <g transform=\"translate(78.371094 88.216563) scale(0.1 -0.1)\">\n      <defs>\n       <path id=\"DejaVuSans-4b\" d=\"M 628 4666 \nL 1259 4666 \nL 1259 2694 \nL 3353 4666 \nL 4166 4666 \nL 1850 2491 \nL 4331 0 \nL 3500 0 \nL 1259 2247 \nL 1259 0 \nL 628 0 \nL 628 4666 \nz\n\" transform=\"scale(0.015625)\"/>\n       <path id=\"DejaVuSans-65\" d=\"M 3597 1894 \nL 3597 1613 \nL 953 1613 \nQ 991 1019 1311 708 \nQ 1631 397 2203 397 \nQ 2534 397 2845 478 \nQ 3156 559 3463 722 \nL 3463 178 \nQ 3153 47 2828 -22 \nQ 2503 -91 2169 -91 \nQ 1331 -91 842 396 \nQ 353 884 353 1716 \nQ 353 2575 817 3079 \nQ 1281 3584 2069 3584 \nQ 2775 3584 3186 3129 \nQ 3597 2675 3597 1894 \nz\nM 3022 2063 \nQ 3016 2534 2758 2815 \nQ 2500 3097 2075 3097 \nQ 1594 3097 1305 2825 \nQ 1016 2553 972 2059 \nL 3022 2063 \nz\n\" transform=\"scale(0.015625)\"/>\n       <path id=\"DejaVuSans-79\" d=\"M 2059 -325 \nQ 1816 -950 1584 -1140 \nQ 1353 -1331 966 -1331 \nL 506 -1331 \nL 506 -850 \nL 844 -850 \nQ 1081 -850 1212 -737 \nQ 1344 -625 1503 -206 \nL 1606 56 \nL 191 3500 \nL 800 3500 \nL 1894 763 \nL 2988 3500 \nL 3597 3500 \nL 2059 -325 \nz\n\" transform=\"scale(0.015625)\"/>\n       <path id=\"DejaVuSans-73\" d=\"M 2834 3397 \nL 2834 2853 \nQ 2591 2978 2328 3040 \nQ 2066 3103 1784 3103 \nQ 1356 3103 1142 2972 \nQ 928 2841 928 2578 \nQ 928 2378 1081 2264 \nQ 1234 2150 1697 2047 \nL 1894 2003 \nQ 2506 1872 2764 1633 \nQ 3022 1394 3022 966 \nQ 3022 478 2636 193 \nQ 2250 -91 1575 -91 \nQ 1294 -91 989 -36 \nQ 684 19 347 128 \nL 347 722 \nQ 666 556 975 473 \nQ 1284 391 1588 391 \nQ 1994 391 2212 530 \nQ 2431 669 2431 922 \nQ 2431 1156 2273 1281 \nQ 2116 1406 1581 1522 \nL 1381 1569 \nQ 847 1681 609 1914 \nQ 372 2147 372 2553 \nQ 372 3047 722 3315 \nQ 1072 3584 1716 3584 \nQ 2034 3584 2315 3537 \nQ 2597 3491 2834 3397 \nz\n\" transform=\"scale(0.015625)\"/>\n      </defs>\n      <use xlink:href=\"#DejaVuSans-4b\"/>\n      <use xlink:href=\"#DejaVuSans-65\" transform=\"translate(60.576172 0)\"/>\n      <use xlink:href=\"#DejaVuSans-79\" transform=\"translate(122.099609 0)\"/>\n      <use xlink:href=\"#DejaVuSans-73\" transform=\"translate(181.279297 0)\"/>\n     </g>\n    </g>\n   </g>\n   <g id=\"matplotlib.axis_2\">\n    <g id=\"ytick_1\">\n     <g id=\"line2d_3\">\n      <defs>\n       <path id=\"mfbb1469f0d\" d=\"M 0 0 \nL -3.5 0 \n\" style=\"stroke: #000000; stroke-width: 0.8\"/>\n      </defs>\n      <g>\n       <use xlink:href=\"#mfbb1469f0d\" x=\"34.240625\" y=\"43.2\" style=\"stroke: #000000; stroke-width: 0.8\"/>\n      </g>\n     </g>\n     <g id=\"text_4\">\n      <!-- 0 -->\n      <g transform=\"translate(20.878125 46.999219) scale(0.1 -0.1)\">\n       <use xlink:href=\"#DejaVuSans-30\"/>\n      </g>\n     </g>\n    </g>\n    <g id=\"ytick_2\">\n     <g id=\"line2d_4\">\n      <g>\n       <use xlink:href=\"#mfbb1469f0d\" x=\"34.240625\" y=\"54.36\" style=\"stroke: #000000; stroke-width: 0.8\"/>\n      </g>\n     </g>\n     <g id=\"text_5\">\n      <!-- 1 -->\n      <g transform=\"translate(20.878125 58.159219) scale(0.1 -0.1)\">\n       <defs>\n        <path id=\"DejaVuSans-31\" d=\"M 794 531 \nL 1825 531 \nL 1825 4091 \nL 703 3866 \nL 703 4441 \nL 1819 4666 \nL 2450 4666 \nL 2450 531 \nL 3481 531 \nL 3481 0 \nL 794 0 \nL 794 531 \nz\n\" transform=\"scale(0.015625)\"/>\n       </defs>\n       <use xlink:href=\"#DejaVuSans-31\"/>\n      </g>\n     </g>\n    </g>\n    <g id=\"text_6\">\n     <!-- Queries -->\n     <g transform=\"translate(14.798437 68.087031) rotate(-90) scale(0.1 -0.1)\">\n      <defs>\n       <path id=\"DejaVuSans-51\" d=\"M 2522 4238 \nQ 1834 4238 1429 3725 \nQ 1025 3213 1025 2328 \nQ 1025 1447 1429 934 \nQ 1834 422 2522 422 \nQ 3209 422 3611 934 \nQ 4013 1447 4013 2328 \nQ 4013 3213 3611 3725 \nQ 3209 4238 2522 4238 \nz\nM 3406 84 \nL 4238 -825 \nL 3475 -825 \nL 2784 -78 \nQ 2681 -84 2626 -87 \nQ 2572 -91 2522 -91 \nQ 1538 -91 948 567 \nQ 359 1225 359 2328 \nQ 359 3434 948 4092 \nQ 1538 4750 2522 4750 \nQ 3503 4750 4090 4092 \nQ 4678 3434 4678 2328 \nQ 4678 1516 4351 937 \nQ 4025 359 3406 84 \nz\n\" transform=\"scale(0.015625)\"/>\n       <path id=\"DejaVuSans-75\" d=\"M 544 1381 \nL 544 3500 \nL 1119 3500 \nL 1119 1403 \nQ 1119 906 1312 657 \nQ 1506 409 1894 409 \nQ 2359 409 2629 706 \nQ 2900 1003 2900 1516 \nL 2900 3500 \nL 3475 3500 \nL 3475 0 \nL 2900 0 \nL 2900 538 \nQ 2691 219 2414 64 \nQ 2138 -91 1772 -91 \nQ 1169 -91 856 284 \nQ 544 659 544 1381 \nz\nM 1991 3584 \nL 1991 3584 \nz\n\" transform=\"scale(0.015625)\"/>\n       <path id=\"DejaVuSans-72\" d=\"M 2631 2963 \nQ 2534 3019 2420 3045 \nQ 2306 3072 2169 3072 \nQ 1681 3072 1420 2755 \nQ 1159 2438 1159 1844 \nL 1159 0 \nL 581 0 \nL 581 3500 \nL 1159 3500 \nL 1159 2956 \nQ 1341 3275 1631 3429 \nQ 1922 3584 2338 3584 \nQ 2397 3584 2469 3576 \nQ 2541 3569 2628 3553 \nL 2631 2963 \nz\n\" transform=\"scale(0.015625)\"/>\n       <path id=\"DejaVuSans-69\" d=\"M 603 3500 \nL 1178 3500 \nL 1178 0 \nL 603 0 \nL 603 3500 \nz\nM 603 4863 \nL 1178 4863 \nL 1178 4134 \nL 603 4134 \nL 603 4863 \nz\n\" transform=\"scale(0.015625)\"/>\n      </defs>\n      <use xlink:href=\"#DejaVuSans-51\"/>\n      <use xlink:href=\"#DejaVuSans-75\" transform=\"translate(78.710938 0)\"/>\n      <use xlink:href=\"#DejaVuSans-65\" transform=\"translate(142.089844 0)\"/>\n      <use xlink:href=\"#DejaVuSans-72\" transform=\"translate(203.613281 0)\"/>\n      <use xlink:href=\"#DejaVuSans-69\" transform=\"translate(244.726562 0)\"/>\n      <use xlink:href=\"#DejaVuSans-65\" transform=\"translate(272.509766 0)\"/>\n      <use xlink:href=\"#DejaVuSans-73\" transform=\"translate(334.033203 0)\"/>\n     </g>\n    </g>\n   </g>\n   <g id=\"patch_3\">\n    <path d=\"M 34.240625 59.94 \nL 34.240625 37.62 \n\" style=\"fill: none; stroke: #000000; stroke-width: 0.8; stroke-linejoin: miter; stroke-linecap: square\"/>\n   </g>\n   <g id=\"patch_4\">\n    <path d=\"M 145.840625 59.94 \nL 145.840625 37.62 \n\" style=\"fill: none; stroke: #000000; stroke-width: 0.8; stroke-linejoin: miter; stroke-linecap: square\"/>\n   </g>\n   <g id=\"patch_5\">\n    <path d=\"M 34.240625 59.94 \nL 145.840625 59.94 \n\" style=\"fill: none; stroke: #000000; stroke-width: 0.8; stroke-linejoin: miter; stroke-linecap: square\"/>\n   </g>\n   <g id=\"patch_6\">\n    <path d=\"M 34.240625 37.62 \nL 145.840625 37.62 \n\" style=\"fill: none; stroke: #000000; stroke-width: 0.8; stroke-linejoin: miter; stroke-linecap: square\"/>\n   </g>\n  </g>\n  <g id=\"axes_2\">\n   <g id=\"patch_7\">\n    <path d=\"M 152.815625 90.36 \nL 156.973625 90.36 \nL 156.973625 7.2 \nL 152.815625 7.2 \nz\n\" style=\"fill: #ffffff\"/>\n   </g>\n   <image xlink:href=\"data:image/png;base64,\niVBORw0KGgoAAAANSUhEUgAAAAYAAAB0CAYAAACmJkOCAAAAyElEQVR4nM2WSwrEMAxDXcj9zzqbblp/egG/gEII02WEJMt2Qq+6f2XNN6yyO7dhGQQQo1qLFY9ij30AB5Rz6B7uIqNQKkiKAUwuAyRV8e6SmjTxgAcy5An+qTkD+vrQNVgw15sI5qWXi909kLwCpTCgDPgB83dfuXpVFDAD3vakR18H3KEqWJKJVCBAyTEgSukBw2WP9thsJP0zOAEoFcjoz22EUQ5kyFVhwH5BZx4MkBQ2Ee7mhAEjX2E88sxRCluyYg4MquoD0XoQUGMmzEcAAAAASUVORK5CYII=\" id=\"image74c6676d9e\" transform=\"scale(1 -1) translate(0 -83.52)\" x=\"152.64\" y=\"-6.48\" width=\"4.32\" height=\"83.52\"/>\n   <g id=\"matplotlib.axis_3\"/>\n   <g id=\"matplotlib.axis_4\">\n    <g id=\"ytick_3\">\n     <g id=\"line2d_5\">\n      <defs>\n       <path id=\"me47c7706be\" d=\"M 0 0 \nL 3.5 0 \n\" style=\"stroke: #000000; stroke-width: 0.8\"/>\n      </defs>\n      <g>\n       <use xlink:href=\"#me47c7706be\" x=\"156.973625\" y=\"90.36\" style=\"stroke: #000000; stroke-width: 0.8\"/>\n      </g>\n     </g>\n     <g id=\"text_7\">\n      <!-- 0.00 -->\n      <g transform=\"translate(163.973625 94.159219) scale(0.1 -0.1)\">\n       <defs>\n        <path id=\"DejaVuSans-2e\" d=\"M 684 794 \nL 1344 794 \nL 1344 0 \nL 684 0 \nL 684 794 \nz\n\" transform=\"scale(0.015625)\"/>\n       </defs>\n       <use xlink:href=\"#DejaVuSans-30\"/>\n       <use xlink:href=\"#DejaVuSans-2e\" transform=\"translate(63.623047 0)\"/>\n       <use xlink:href=\"#DejaVuSans-30\" transform=\"translate(95.410156 0)\"/>\n       <use xlink:href=\"#DejaVuSans-30\" transform=\"translate(159.033203 0)\"/>\n      </g>\n     </g>\n    </g>\n    <g id=\"ytick_4\">\n     <g id=\"line2d_6\">\n      <g>\n       <use xlink:href=\"#me47c7706be\" x=\"156.973625\" y=\"66.860743\" style=\"stroke: #000000; stroke-width: 0.8\"/>\n      </g>\n     </g>\n     <g id=\"text_8\">\n      <!-- 0.25 -->\n      <g transform=\"translate(163.973625 70.659962) scale(0.1 -0.1)\">\n       <defs>\n        <path id=\"DejaVuSans-32\" d=\"M 1228 531 \nL 3431 531 \nL 3431 0 \nL 469 0 \nL 469 531 \nQ 828 903 1448 1529 \nQ 2069 2156 2228 2338 \nQ 2531 2678 2651 2914 \nQ 2772 3150 2772 3378 \nQ 2772 3750 2511 3984 \nQ 2250 4219 1831 4219 \nQ 1534 4219 1204 4116 \nQ 875 4013 500 3803 \nL 500 4441 \nQ 881 4594 1212 4672 \nQ 1544 4750 1819 4750 \nQ 2544 4750 2975 4387 \nQ 3406 4025 3406 3419 \nQ 3406 3131 3298 2873 \nQ 3191 2616 2906 2266 \nQ 2828 2175 2409 1742 \nQ 1991 1309 1228 531 \nz\n\" transform=\"scale(0.015625)\"/>\n       </defs>\n       <use xlink:href=\"#DejaVuSans-30\"/>\n       <use xlink:href=\"#DejaVuSans-2e\" transform=\"translate(63.623047 0)\"/>\n       <use xlink:href=\"#DejaVuSans-32\" transform=\"translate(95.410156 0)\"/>\n       <use xlink:href=\"#DejaVuSans-35\" transform=\"translate(159.033203 0)\"/>\n      </g>\n     </g>\n    </g>\n    <g id=\"ytick_5\">\n     <g id=\"line2d_7\">\n      <g>\n       <use xlink:href=\"#me47c7706be\" x=\"156.973625\" y=\"43.361486\" style=\"stroke: #000000; stroke-width: 0.8\"/>\n      </g>\n     </g>\n     <g id=\"text_9\">\n      <!-- 0.50 -->\n      <g transform=\"translate(163.973625 47.160705) scale(0.1 -0.1)\">\n       <use xlink:href=\"#DejaVuSans-30\"/>\n       <use xlink:href=\"#DejaVuSans-2e\" transform=\"translate(63.623047 0)\"/>\n       <use xlink:href=\"#DejaVuSans-35\" transform=\"translate(95.410156 0)\"/>\n       <use xlink:href=\"#DejaVuSans-30\" transform=\"translate(159.033203 0)\"/>\n      </g>\n     </g>\n    </g>\n    <g id=\"ytick_6\">\n     <g id=\"line2d_8\">\n      <g>\n       <use xlink:href=\"#me47c7706be\" x=\"156.973625\" y=\"19.862229\" style=\"stroke: #000000; stroke-width: 0.8\"/>\n      </g>\n     </g>\n     <g id=\"text_10\">\n      <!-- 0.75 -->\n      <g transform=\"translate(163.973625 23.661448) scale(0.1 -0.1)\">\n       <defs>\n        <path id=\"DejaVuSans-37\" d=\"M 525 4666 \nL 3525 4666 \nL 3525 4397 \nL 1831 0 \nL 1172 0 \nL 2766 4134 \nL 525 4134 \nL 525 4666 \nz\n\" transform=\"scale(0.015625)\"/>\n       </defs>\n       <use xlink:href=\"#DejaVuSans-30\"/>\n       <use xlink:href=\"#DejaVuSans-2e\" transform=\"translate(63.623047 0)\"/>\n       <use xlink:href=\"#DejaVuSans-37\" transform=\"translate(95.410156 0)\"/>\n       <use xlink:href=\"#DejaVuSans-35\" transform=\"translate(159.033203 0)\"/>\n      </g>\n     </g>\n    </g>\n   </g>\n   <g id=\"LineCollection_1\"/>\n   <g id=\"patch_8\">\n    <path d=\"M 152.815625 90.36 \nL 154.894625 90.36 \nL 156.973625 90.36 \nL 156.973625 7.2 \nL 154.894625 7.2 \nL 152.815625 7.2 \nL 152.815625 90.36 \nz\n\" style=\"fill: none; stroke: #000000; stroke-width: 0.8; stroke-linejoin: miter; stroke-linecap: square\"/>\n   </g>\n  </g>\n </g>\n <defs>\n  <clipPath id=\"p2086e32a95\">\n   <rect x=\"34.240625\" y=\"37.62\" width=\"111.6\" height=\"22.32\"/>\n  </clipPath>\n </defs>\n</svg>\n"
          },
          "metadata": {}
        }
      ]
    },
    {
      "cell_type": "code",
      "source": [
        "class MultiHeadAttention(nn.Module):\n",
        "    \"\"\"多头注意力\"\"\"\n",
        "    def __init__(self, key_size, query_size, value_size, num_hiddens,\n",
        "                 num_heads, dropout, bias=False, **kwargs):\n",
        "        super(MultiHeadAttention, self).__init__(**kwargs)\n",
        "        self.num_heads = num_heads\n",
        "        self.attention = DotProductAttention(dropout)\n",
        "        self.W_q = nn.Linear(query_size, num_hiddens, bias=bias)\n",
        "        self.W_k = nn.Linear(key_size, num_hiddens, bias=bias)\n",
        "        self.W_v = nn.Linear(value_size, num_hiddens, bias=bias)\n",
        "        self.W_o = nn.Linear(num_hiddens, num_hiddens, bias=bias)\n",
        "\n",
        "    def forward(self, queriesX, keysY, valuesZ, valid_lens):\n",
        "        # queries，keys，values的形状:\n",
        "        # (batch_size，查询或者“键－值”对的个数，num_hiddens)\n",
        "        # valid_lens　的形状:\n",
        "        # (batch_size，)或(batch_size，查询的个数)\n",
        "        # 经过变换后，输出的queries，keys，values　的形状:\n",
        "        # (batch_size*num_heads，查询或者“键－值”对的个数，\n",
        "        # num_hiddens/num_heads)\n",
        "        queries = transpose_qkv(self.W_q(queriesX), self.num_heads)\n",
        "        keys = transpose_qkv(self.W_k(keysY), self.num_heads)\n",
        "        values = transpose_qkv(self.W_v(valuesZ), self.num_heads)\n",
        "\n",
        "        if valid_lens is not None:\n",
        "            # 在轴0，将第一项（标量或者矢量）复制num_heads次，\n",
        "            # 然后如此复制第二项，然后诸如此类。\n",
        "            valid_lens = torch.repeat_interleave(\n",
        "                valid_lens, repeats=self.num_heads, dim=0)\n",
        "\n",
        "        # output的形状:(batch_size*num_heads，查询的个数，\n",
        "        # num_hiddens/num_heads)\n",
        "        output = self.attention(queries, keys, values, valid_lens)\n",
        "\n",
        "        # output_concat的形状:(batch_size，查询的个数，num_hiddens)\n",
        "        output_concat = transpose_output(output, self.num_heads)\n",
        "        return self.W_o(output_concat)\n",
        "\n",
        "\n",
        "\n",
        "def transpose_qkv(X, num_heads):\n",
        "    \"\"\"为了多注意力头的并行计算而变换形状\"\"\"\n",
        "    # 输入X的形状:(batch_size，查询或者“键－值”对的个数，num_hiddens)\n",
        "    # 输出X的形状:(batch_size，查询或者“键－值”对的个数，num_heads，\n",
        "    # num_hiddens/num_heads)\n",
        "    X = X.reshape(X.shape[0], X.shape[1], num_heads, -1)\n",
        "\n",
        "    # 输出X的形状:(batch_size，num_heads，查询或者“键－值”对的个数,\n",
        "    # num_hiddens/num_heads)\n",
        "    X = X.permute(0, 2, 1, 3)\n",
        "\n",
        "    # 最终输出的形状:(batch_size*num_heads,查询或者“键－值”对的个数,\n",
        "    # num_hiddens/num_heads)\n",
        "    return X.reshape(-1, X.shape[2], X.shape[3])\n",
        "\n",
        "\n",
        "def transpose_output(X, num_heads):\n",
        "    \"\"\"逆转transpose_qkv函数的操作\"\"\"\n",
        "    X = X.reshape(-1, num_heads, X.shape[1], X.shape[2])\n",
        "    X = X.permute(0, 2, 1, 3)\n",
        "    return X.reshape(X.shape[0], X.shape[1], -1)"
      ],
      "metadata": {
        "id": "L5AICm8mJ4iW"
      },
      "id": "L5AICm8mJ4iW",
      "execution_count": null,
      "outputs": []
    },
    {
      "cell_type": "markdown",
      "source": [
        "## 位置编码 PositionalEncoding"
      ],
      "metadata": {
        "id": "qOboPLpLLwbg"
      },
      "id": "qOboPLpLLwbg"
    },
    {
      "cell_type": "code",
      "source": [
        "class PositionalEncoding(nn.Module):\n",
        "    \"\"\"位置编码\"\"\"\n",
        "    def __init__(self, num_hiddens, dropout, max_len=1000):\n",
        "        super(PositionalEncoding, self).__init__()\n",
        "        self.dropout = nn.Dropout(dropout)\n",
        "        # 创建一个足够长的P\n",
        "        self.P = torch.zeros((1, max_len, num_hiddens))\n",
        "        # seq (max_len,1), twoK (d/2)\n",
        "        seq = torch.arange(max_len, dtype=torch.float32).reshape(-1, 1)\n",
        "        twoK = torch.arange(0, num_hiddens, 2, dtype=torch.float32)\n",
        "        X = seq / torch.pow(10000, twoK / num_hiddens)\n",
        "\n",
        "        self.P[:, :, 0::2] = torch.sin(X)\n",
        "        self.P[:, :, 1::2] = torch.cos(X)\n",
        "\n",
        "        print(self.P[0][0][:8])\n",
        "        print(self.P[0][1][:8])\n",
        "        print(self.P[0][2][:8])\n",
        "        print(self.P[0][3][:8])\n",
        "        print(math.sin(0),math.cos(0))\n",
        "        print(math.sin(1),math.cos(1))\n",
        "        print(math.sin(2),math.cos(2))\n",
        "        print(math.sin(3),math.cos(3))\n",
        "\n",
        "    def forward(self, X):\n",
        "        X = X + self.P[:, :X.shape[1], :].to(X.device)\n",
        "        return self.dropout(X)"
      ],
      "metadata": {
        "id": "7cnQ8H9pLBB-"
      },
      "id": "7cnQ8H9pLBB-",
      "execution_count": null,
      "outputs": []
    },
    {
      "cell_type": "code",
      "source": [
        "encoding_dim, num_steps = 32, 60\n",
        "pos_encoding = PositionalEncoding(encoding_dim, 0,60)\n",
        "pos_encoding.eval()\n",
        "X = pos_encoding(torch.zeros((1, num_steps, encoding_dim)))\n",
        "P = pos_encoding.P[:, :X.shape[1], :]\n",
        "d2l.plot(torch.arange(num_steps), P[0, :, 6:].T, xlabel='Row (position)',\n",
        "         figsize=(6, 2.5), legend=[\"Col %d\" % d for d in torch.arange(6, 10)])"
      ],
      "metadata": {
        "id": "Tzx2aghYLEBu",
        "outputId": "781b605f-f779-4f19-bba1-5698d50dae54",
        "colab": {
          "base_uri": "https://localhost:8080/",
          "height": 405
        }
      },
      "id": "Tzx2aghYLEBu",
      "execution_count": null,
      "outputs": [
        {
          "output_type": "stream",
          "name": "stdout",
          "text": [
            "tensor([0., 1., 0., 1., 0., 1., 0., 1.])\n",
            "tensor([0.8415, 0.5403, 0.5332, 0.8460, 0.3110, 0.9504, 0.1769, 0.9842])\n",
            "tensor([ 0.9093, -0.4161,  0.9021,  0.4315,  0.5911,  0.8066,  0.3482,  0.9374])\n",
            "tensor([ 0.1411, -0.9900,  0.9933, -0.1160,  0.8126,  0.5828,  0.5085,  0.8610])\n",
            "0.0 1.0\n",
            "0.8414709848078965 0.5403023058681398\n",
            "0.9092974268256817 -0.4161468365471424\n",
            "0.1411200080598672 -0.9899924966004454\n"
          ]
        },
        {
          "output_type": "display_data",
          "data": {
            "text/plain": [
              "<Figure size 600x250 with 1 Axes>"
            ],
            "image/svg+xml": "<?xml version=\"1.0\" encoding=\"utf-8\" standalone=\"no\"?>\n<!DOCTYPE svg PUBLIC \"-//W3C//DTD SVG 1.1//EN\"\n  \"http://www.w3.org/Graphics/SVG/1.1/DTD/svg11.dtd\">\n<svg xmlns:xlink=\"http://www.w3.org/1999/xlink\" width=\"380.482812pt\" height=\"183.35625pt\" viewBox=\"0 0 380.482812 183.35625\" xmlns=\"http://www.w3.org/2000/svg\" version=\"1.1\">\n <metadata>\n  <rdf:RDF xmlns:dc=\"http://purl.org/dc/elements/1.1/\" xmlns:cc=\"http://creativecommons.org/ns#\" xmlns:rdf=\"http://www.w3.org/1999/02/22-rdf-syntax-ns#\">\n   <cc:Work>\n    <dc:type rdf:resource=\"http://purl.org/dc/dcmitype/StillImage\"/>\n    <dc:date>2025-10-12T12:01:54.337569</dc:date>\n    <dc:format>image/svg+xml</dc:format>\n    <dc:creator>\n     <cc:Agent>\n      <dc:title>Matplotlib v3.10.0, https://matplotlib.org/</dc:title>\n     </cc:Agent>\n    </dc:creator>\n   </cc:Work>\n  </rdf:RDF>\n </metadata>\n <defs>\n  <style type=\"text/css\">*{stroke-linejoin: round; stroke-linecap: butt}</style>\n </defs>\n <g id=\"figure_1\">\n  <g id=\"patch_1\">\n   <path d=\"M -0 183.35625 \nL 380.482812 183.35625 \nL 380.482812 0 \nL -0 0 \nz\n\" style=\"fill: #ffffff\"/>\n  </g>\n  <g id=\"axes_1\">\n   <g id=\"patch_2\">\n    <path d=\"M 38.482813 145.8 \nL 373.282813 145.8 \nL 373.282813 7.2 \nL 38.482813 7.2 \nz\n\" style=\"fill: #ffffff\"/>\n   </g>\n   <g id=\"matplotlib.axis_1\">\n    <g id=\"xtick_1\">\n     <g id=\"line2d_1\">\n      <path d=\"M 53.700994 145.8 \nL 53.700994 7.2 \n\" clip-path=\"url(#pae621b6c0c)\" style=\"fill: none; stroke: #b0b0b0; stroke-width: 0.8; stroke-linecap: square\"/>\n     </g>\n     <g id=\"line2d_2\">\n      <defs>\n       <path id=\"m678108982f\" d=\"M 0 0 \nL 0 3.5 \n\" style=\"stroke: #000000; stroke-width: 0.8\"/>\n      </defs>\n      <g>\n       <use xlink:href=\"#m678108982f\" x=\"53.700994\" y=\"145.8\" style=\"stroke: #000000; stroke-width: 0.8\"/>\n      </g>\n     </g>\n     <g id=\"text_1\">\n      <!-- 0 -->\n      <g transform=\"translate(50.519744 160.398438) scale(0.1 -0.1)\">\n       <defs>\n        <path id=\"DejaVuSans-30\" d=\"M 2034 4250 \nQ 1547 4250 1301 3770 \nQ 1056 3291 1056 2328 \nQ 1056 1369 1301 889 \nQ 1547 409 2034 409 \nQ 2525 409 2770 889 \nQ 3016 1369 3016 2328 \nQ 3016 3291 2770 3770 \nQ 2525 4250 2034 4250 \nz\nM 2034 4750 \nQ 2819 4750 3233 4129 \nQ 3647 3509 3647 2328 \nQ 3647 1150 3233 529 \nQ 2819 -91 2034 -91 \nQ 1250 -91 836 529 \nQ 422 1150 422 2328 \nQ 422 3509 836 4129 \nQ 1250 4750 2034 4750 \nz\n\" transform=\"scale(0.015625)\"/>\n       </defs>\n       <use xlink:href=\"#DejaVuSans-30\"/>\n      </g>\n     </g>\n    </g>\n    <g id=\"xtick_2\">\n     <g id=\"line2d_3\">\n      <path d=\"M 105.288051 145.8 \nL 105.288051 7.2 \n\" clip-path=\"url(#pae621b6c0c)\" style=\"fill: none; stroke: #b0b0b0; stroke-width: 0.8; stroke-linecap: square\"/>\n     </g>\n     <g id=\"line2d_4\">\n      <g>\n       <use xlink:href=\"#m678108982f\" x=\"105.288051\" y=\"145.8\" style=\"stroke: #000000; stroke-width: 0.8\"/>\n      </g>\n     </g>\n     <g id=\"text_2\">\n      <!-- 10 -->\n      <g transform=\"translate(98.925551 160.398438) scale(0.1 -0.1)\">\n       <defs>\n        <path id=\"DejaVuSans-31\" d=\"M 794 531 \nL 1825 531 \nL 1825 4091 \nL 703 3866 \nL 703 4441 \nL 1819 4666 \nL 2450 4666 \nL 2450 531 \nL 3481 531 \nL 3481 0 \nL 794 0 \nL 794 531 \nz\n\" transform=\"scale(0.015625)\"/>\n       </defs>\n       <use xlink:href=\"#DejaVuSans-31\"/>\n       <use xlink:href=\"#DejaVuSans-30\" transform=\"translate(63.623047 0)\"/>\n      </g>\n     </g>\n    </g>\n    <g id=\"xtick_3\">\n     <g id=\"line2d_5\">\n      <path d=\"M 156.875108 145.8 \nL 156.875108 7.2 \n\" clip-path=\"url(#pae621b6c0c)\" style=\"fill: none; stroke: #b0b0b0; stroke-width: 0.8; stroke-linecap: square\"/>\n     </g>\n     <g id=\"line2d_6\">\n      <g>\n       <use xlink:href=\"#m678108982f\" x=\"156.875108\" y=\"145.8\" style=\"stroke: #000000; stroke-width: 0.8\"/>\n      </g>\n     </g>\n     <g id=\"text_3\">\n      <!-- 20 -->\n      <g transform=\"translate(150.512608 160.398438) scale(0.1 -0.1)\">\n       <defs>\n        <path id=\"DejaVuSans-32\" d=\"M 1228 531 \nL 3431 531 \nL 3431 0 \nL 469 0 \nL 469 531 \nQ 828 903 1448 1529 \nQ 2069 2156 2228 2338 \nQ 2531 2678 2651 2914 \nQ 2772 3150 2772 3378 \nQ 2772 3750 2511 3984 \nQ 2250 4219 1831 4219 \nQ 1534 4219 1204 4116 \nQ 875 4013 500 3803 \nL 500 4441 \nQ 881 4594 1212 4672 \nQ 1544 4750 1819 4750 \nQ 2544 4750 2975 4387 \nQ 3406 4025 3406 3419 \nQ 3406 3131 3298 2873 \nQ 3191 2616 2906 2266 \nQ 2828 2175 2409 1742 \nQ 1991 1309 1228 531 \nz\n\" transform=\"scale(0.015625)\"/>\n       </defs>\n       <use xlink:href=\"#DejaVuSans-32\"/>\n       <use xlink:href=\"#DejaVuSans-30\" transform=\"translate(63.623047 0)\"/>\n      </g>\n     </g>\n    </g>\n    <g id=\"xtick_4\">\n     <g id=\"line2d_7\">\n      <path d=\"M 208.462165 145.8 \nL 208.462165 7.2 \n\" clip-path=\"url(#pae621b6c0c)\" style=\"fill: none; stroke: #b0b0b0; stroke-width: 0.8; stroke-linecap: square\"/>\n     </g>\n     <g id=\"line2d_8\">\n      <g>\n       <use xlink:href=\"#m678108982f\" x=\"208.462165\" y=\"145.8\" style=\"stroke: #000000; stroke-width: 0.8\"/>\n      </g>\n     </g>\n     <g id=\"text_4\">\n      <!-- 30 -->\n      <g transform=\"translate(202.099665 160.398438) scale(0.1 -0.1)\">\n       <defs>\n        <path id=\"DejaVuSans-33\" d=\"M 2597 2516 \nQ 3050 2419 3304 2112 \nQ 3559 1806 3559 1356 \nQ 3559 666 3084 287 \nQ 2609 -91 1734 -91 \nQ 1441 -91 1130 -33 \nQ 819 25 488 141 \nL 488 750 \nQ 750 597 1062 519 \nQ 1375 441 1716 441 \nQ 2309 441 2620 675 \nQ 2931 909 2931 1356 \nQ 2931 1769 2642 2001 \nQ 2353 2234 1838 2234 \nL 1294 2234 \nL 1294 2753 \nL 1863 2753 \nQ 2328 2753 2575 2939 \nQ 2822 3125 2822 3475 \nQ 2822 3834 2567 4026 \nQ 2313 4219 1838 4219 \nQ 1578 4219 1281 4162 \nQ 984 4106 628 3988 \nL 628 4550 \nQ 988 4650 1302 4700 \nQ 1616 4750 1894 4750 \nQ 2613 4750 3031 4423 \nQ 3450 4097 3450 3541 \nQ 3450 3153 3228 2886 \nQ 3006 2619 2597 2516 \nz\n\" transform=\"scale(0.015625)\"/>\n       </defs>\n       <use xlink:href=\"#DejaVuSans-33\"/>\n       <use xlink:href=\"#DejaVuSans-30\" transform=\"translate(63.623047 0)\"/>\n      </g>\n     </g>\n    </g>\n    <g id=\"xtick_5\">\n     <g id=\"line2d_9\">\n      <path d=\"M 260.049222 145.8 \nL 260.049222 7.2 \n\" clip-path=\"url(#pae621b6c0c)\" style=\"fill: none; stroke: #b0b0b0; stroke-width: 0.8; stroke-linecap: square\"/>\n     </g>\n     <g id=\"line2d_10\">\n      <g>\n       <use xlink:href=\"#m678108982f\" x=\"260.049222\" y=\"145.8\" style=\"stroke: #000000; stroke-width: 0.8\"/>\n      </g>\n     </g>\n     <g id=\"text_5\">\n      <!-- 40 -->\n      <g transform=\"translate(253.686722 160.398438) scale(0.1 -0.1)\">\n       <defs>\n        <path id=\"DejaVuSans-34\" d=\"M 2419 4116 \nL 825 1625 \nL 2419 1625 \nL 2419 4116 \nz\nM 2253 4666 \nL 3047 4666 \nL 3047 1625 \nL 3713 1625 \nL 3713 1100 \nL 3047 1100 \nL 3047 0 \nL 2419 0 \nL 2419 1100 \nL 313 1100 \nL 313 1709 \nL 2253 4666 \nz\n\" transform=\"scale(0.015625)\"/>\n       </defs>\n       <use xlink:href=\"#DejaVuSans-34\"/>\n       <use xlink:href=\"#DejaVuSans-30\" transform=\"translate(63.623047 0)\"/>\n      </g>\n     </g>\n    </g>\n    <g id=\"xtick_6\">\n     <g id=\"line2d_11\">\n      <path d=\"M 311.636279 145.8 \nL 311.636279 7.2 \n\" clip-path=\"url(#pae621b6c0c)\" style=\"fill: none; stroke: #b0b0b0; stroke-width: 0.8; stroke-linecap: square\"/>\n     </g>\n     <g id=\"line2d_12\">\n      <g>\n       <use xlink:href=\"#m678108982f\" x=\"311.636279\" y=\"145.8\" style=\"stroke: #000000; stroke-width: 0.8\"/>\n      </g>\n     </g>\n     <g id=\"text_6\">\n      <!-- 50 -->\n      <g transform=\"translate(305.273779 160.398438) scale(0.1 -0.1)\">\n       <defs>\n        <path id=\"DejaVuSans-35\" d=\"M 691 4666 \nL 3169 4666 \nL 3169 4134 \nL 1269 4134 \nL 1269 2991 \nQ 1406 3038 1543 3061 \nQ 1681 3084 1819 3084 \nQ 2600 3084 3056 2656 \nQ 3513 2228 3513 1497 \nQ 3513 744 3044 326 \nQ 2575 -91 1722 -91 \nQ 1428 -91 1123 -41 \nQ 819 9 494 109 \nL 494 744 \nQ 775 591 1075 516 \nQ 1375 441 1709 441 \nQ 2250 441 2565 725 \nQ 2881 1009 2881 1497 \nQ 2881 1984 2565 2268 \nQ 2250 2553 1709 2553 \nQ 1456 2553 1204 2497 \nQ 953 2441 691 2322 \nL 691 4666 \nz\n\" transform=\"scale(0.015625)\"/>\n       </defs>\n       <use xlink:href=\"#DejaVuSans-35\"/>\n       <use xlink:href=\"#DejaVuSans-30\" transform=\"translate(63.623047 0)\"/>\n      </g>\n     </g>\n    </g>\n    <g id=\"xtick_7\">\n     <g id=\"line2d_13\">\n      <path d=\"M 363.223336 145.8 \nL 363.223336 7.2 \n\" clip-path=\"url(#pae621b6c0c)\" style=\"fill: none; stroke: #b0b0b0; stroke-width: 0.8; stroke-linecap: square\"/>\n     </g>\n     <g id=\"line2d_14\">\n      <g>\n       <use xlink:href=\"#m678108982f\" x=\"363.223336\" y=\"145.8\" style=\"stroke: #000000; stroke-width: 0.8\"/>\n      </g>\n     </g>\n     <g id=\"text_7\">\n      <!-- 60 -->\n      <g transform=\"translate(356.860836 160.398438) scale(0.1 -0.1)\">\n       <defs>\n        <path id=\"DejaVuSans-36\" d=\"M 2113 2584 \nQ 1688 2584 1439 2293 \nQ 1191 2003 1191 1497 \nQ 1191 994 1439 701 \nQ 1688 409 2113 409 \nQ 2538 409 2786 701 \nQ 3034 994 3034 1497 \nQ 3034 2003 2786 2293 \nQ 2538 2584 2113 2584 \nz\nM 3366 4563 \nL 3366 3988 \nQ 3128 4100 2886 4159 \nQ 2644 4219 2406 4219 \nQ 1781 4219 1451 3797 \nQ 1122 3375 1075 2522 \nQ 1259 2794 1537 2939 \nQ 1816 3084 2150 3084 \nQ 2853 3084 3261 2657 \nQ 3669 2231 3669 1497 \nQ 3669 778 3244 343 \nQ 2819 -91 2113 -91 \nQ 1303 -91 875 529 \nQ 447 1150 447 2328 \nQ 447 3434 972 4092 \nQ 1497 4750 2381 4750 \nQ 2619 4750 2861 4703 \nQ 3103 4656 3366 4563 \nz\n\" transform=\"scale(0.015625)\"/>\n       </defs>\n       <use xlink:href=\"#DejaVuSans-36\"/>\n       <use xlink:href=\"#DejaVuSans-30\" transform=\"translate(63.623047 0)\"/>\n      </g>\n     </g>\n    </g>\n    <g id=\"text_8\">\n     <!-- Row (position) -->\n     <g transform=\"translate(170.189844 174.076563) scale(0.1 -0.1)\">\n      <defs>\n       <path id=\"DejaVuSans-52\" d=\"M 2841 2188 \nQ 3044 2119 3236 1894 \nQ 3428 1669 3622 1275 \nL 4263 0 \nL 3584 0 \nL 2988 1197 \nQ 2756 1666 2539 1819 \nQ 2322 1972 1947 1972 \nL 1259 1972 \nL 1259 0 \nL 628 0 \nL 628 4666 \nL 2053 4666 \nQ 2853 4666 3247 4331 \nQ 3641 3997 3641 3322 \nQ 3641 2881 3436 2590 \nQ 3231 2300 2841 2188 \nz\nM 1259 4147 \nL 1259 2491 \nL 2053 2491 \nQ 2509 2491 2742 2702 \nQ 2975 2913 2975 3322 \nQ 2975 3731 2742 3939 \nQ 2509 4147 2053 4147 \nL 1259 4147 \nz\n\" transform=\"scale(0.015625)\"/>\n       <path id=\"DejaVuSans-6f\" d=\"M 1959 3097 \nQ 1497 3097 1228 2736 \nQ 959 2375 959 1747 \nQ 959 1119 1226 758 \nQ 1494 397 1959 397 \nQ 2419 397 2687 759 \nQ 2956 1122 2956 1747 \nQ 2956 2369 2687 2733 \nQ 2419 3097 1959 3097 \nz\nM 1959 3584 \nQ 2709 3584 3137 3096 \nQ 3566 2609 3566 1747 \nQ 3566 888 3137 398 \nQ 2709 -91 1959 -91 \nQ 1206 -91 779 398 \nQ 353 888 353 1747 \nQ 353 2609 779 3096 \nQ 1206 3584 1959 3584 \nz\n\" transform=\"scale(0.015625)\"/>\n       <path id=\"DejaVuSans-77\" d=\"M 269 3500 \nL 844 3500 \nL 1563 769 \nL 2278 3500 \nL 2956 3500 \nL 3675 769 \nL 4391 3500 \nL 4966 3500 \nL 4050 0 \nL 3372 0 \nL 2619 2869 \nL 1863 0 \nL 1184 0 \nL 269 3500 \nz\n\" transform=\"scale(0.015625)\"/>\n       <path id=\"DejaVuSans-20\" transform=\"scale(0.015625)\"/>\n       <path id=\"DejaVuSans-28\" d=\"M 1984 4856 \nQ 1566 4138 1362 3434 \nQ 1159 2731 1159 2009 \nQ 1159 1288 1364 580 \nQ 1569 -128 1984 -844 \nL 1484 -844 \nQ 1016 -109 783 600 \nQ 550 1309 550 2009 \nQ 550 2706 781 3412 \nQ 1013 4119 1484 4856 \nL 1984 4856 \nz\n\" transform=\"scale(0.015625)\"/>\n       <path id=\"DejaVuSans-70\" d=\"M 1159 525 \nL 1159 -1331 \nL 581 -1331 \nL 581 3500 \nL 1159 3500 \nL 1159 2969 \nQ 1341 3281 1617 3432 \nQ 1894 3584 2278 3584 \nQ 2916 3584 3314 3078 \nQ 3713 2572 3713 1747 \nQ 3713 922 3314 415 \nQ 2916 -91 2278 -91 \nQ 1894 -91 1617 61 \nQ 1341 213 1159 525 \nz\nM 3116 1747 \nQ 3116 2381 2855 2742 \nQ 2594 3103 2138 3103 \nQ 1681 3103 1420 2742 \nQ 1159 2381 1159 1747 \nQ 1159 1113 1420 752 \nQ 1681 391 2138 391 \nQ 2594 391 2855 752 \nQ 3116 1113 3116 1747 \nz\n\" transform=\"scale(0.015625)\"/>\n       <path id=\"DejaVuSans-73\" d=\"M 2834 3397 \nL 2834 2853 \nQ 2591 2978 2328 3040 \nQ 2066 3103 1784 3103 \nQ 1356 3103 1142 2972 \nQ 928 2841 928 2578 \nQ 928 2378 1081 2264 \nQ 1234 2150 1697 2047 \nL 1894 2003 \nQ 2506 1872 2764 1633 \nQ 3022 1394 3022 966 \nQ 3022 478 2636 193 \nQ 2250 -91 1575 -91 \nQ 1294 -91 989 -36 \nQ 684 19 347 128 \nL 347 722 \nQ 666 556 975 473 \nQ 1284 391 1588 391 \nQ 1994 391 2212 530 \nQ 2431 669 2431 922 \nQ 2431 1156 2273 1281 \nQ 2116 1406 1581 1522 \nL 1381 1569 \nQ 847 1681 609 1914 \nQ 372 2147 372 2553 \nQ 372 3047 722 3315 \nQ 1072 3584 1716 3584 \nQ 2034 3584 2315 3537 \nQ 2597 3491 2834 3397 \nz\n\" transform=\"scale(0.015625)\"/>\n       <path id=\"DejaVuSans-69\" d=\"M 603 3500 \nL 1178 3500 \nL 1178 0 \nL 603 0 \nL 603 3500 \nz\nM 603 4863 \nL 1178 4863 \nL 1178 4134 \nL 603 4134 \nL 603 4863 \nz\n\" transform=\"scale(0.015625)\"/>\n       <path id=\"DejaVuSans-74\" d=\"M 1172 4494 \nL 1172 3500 \nL 2356 3500 \nL 2356 3053 \nL 1172 3053 \nL 1172 1153 \nQ 1172 725 1289 603 \nQ 1406 481 1766 481 \nL 2356 481 \nL 2356 0 \nL 1766 0 \nQ 1100 0 847 248 \nQ 594 497 594 1153 \nL 594 3053 \nL 172 3053 \nL 172 3500 \nL 594 3500 \nL 594 4494 \nL 1172 4494 \nz\n\" transform=\"scale(0.015625)\"/>\n       <path id=\"DejaVuSans-6e\" d=\"M 3513 2113 \nL 3513 0 \nL 2938 0 \nL 2938 2094 \nQ 2938 2591 2744 2837 \nQ 2550 3084 2163 3084 \nQ 1697 3084 1428 2787 \nQ 1159 2491 1159 1978 \nL 1159 0 \nL 581 0 \nL 581 3500 \nL 1159 3500 \nL 1159 2956 \nQ 1366 3272 1645 3428 \nQ 1925 3584 2291 3584 \nQ 2894 3584 3203 3211 \nQ 3513 2838 3513 2113 \nz\n\" transform=\"scale(0.015625)\"/>\n       <path id=\"DejaVuSans-29\" d=\"M 513 4856 \nL 1013 4856 \nQ 1481 4119 1714 3412 \nQ 1947 2706 1947 2009 \nQ 1947 1309 1714 600 \nQ 1481 -109 1013 -844 \nL 513 -844 \nQ 928 -128 1133 580 \nQ 1338 1288 1338 2009 \nQ 1338 2731 1133 3434 \nQ 928 4138 513 4856 \nz\n\" transform=\"scale(0.015625)\"/>\n      </defs>\n      <use xlink:href=\"#DejaVuSans-52\"/>\n      <use xlink:href=\"#DejaVuSans-6f\" transform=\"translate(64.982422 0)\"/>\n      <use xlink:href=\"#DejaVuSans-77\" transform=\"translate(126.164062 0)\"/>\n      <use xlink:href=\"#DejaVuSans-20\" transform=\"translate(207.951172 0)\"/>\n      <use xlink:href=\"#DejaVuSans-28\" transform=\"translate(239.738281 0)\"/>\n      <use xlink:href=\"#DejaVuSans-70\" transform=\"translate(278.751953 0)\"/>\n      <use xlink:href=\"#DejaVuSans-6f\" transform=\"translate(342.228516 0)\"/>\n      <use xlink:href=\"#DejaVuSans-73\" transform=\"translate(403.410156 0)\"/>\n      <use xlink:href=\"#DejaVuSans-69\" transform=\"translate(455.509766 0)\"/>\n      <use xlink:href=\"#DejaVuSans-74\" transform=\"translate(483.292969 0)\"/>\n      <use xlink:href=\"#DejaVuSans-69\" transform=\"translate(522.501953 0)\"/>\n      <use xlink:href=\"#DejaVuSans-6f\" transform=\"translate(550.285156 0)\"/>\n      <use xlink:href=\"#DejaVuSans-6e\" transform=\"translate(611.466797 0)\"/>\n      <use xlink:href=\"#DejaVuSans-29\" transform=\"translate(674.845703 0)\"/>\n     </g>\n    </g>\n   </g>\n   <g id=\"matplotlib.axis_2\">\n    <g id=\"ytick_1\">\n     <g id=\"line2d_15\">\n      <path d=\"M 38.482813 139.5 \nL 373.282813 139.5 \n\" clip-path=\"url(#pae621b6c0c)\" style=\"fill: none; stroke: #b0b0b0; stroke-width: 0.8; stroke-linecap: square\"/>\n     </g>\n     <g id=\"line2d_16\">\n      <defs>\n       <path id=\"me1a37e8d5c\" d=\"M 0 0 \nL -3.5 0 \n\" style=\"stroke: #000000; stroke-width: 0.8\"/>\n      </defs>\n      <g>\n       <use xlink:href=\"#me1a37e8d5c\" x=\"38.482813\" y=\"139.5\" style=\"stroke: #000000; stroke-width: 0.8\"/>\n      </g>\n     </g>\n     <g id=\"text_9\">\n      <!-- −1.0 -->\n      <g transform=\"translate(7.2 143.299219) scale(0.1 -0.1)\">\n       <defs>\n        <path id=\"DejaVuSans-2212\" d=\"M 678 2272 \nL 4684 2272 \nL 4684 1741 \nL 678 1741 \nL 678 2272 \nz\n\" transform=\"scale(0.015625)\"/>\n        <path id=\"DejaVuSans-2e\" d=\"M 684 794 \nL 1344 794 \nL 1344 0 \nL 684 0 \nL 684 794 \nz\n\" transform=\"scale(0.015625)\"/>\n       </defs>\n       <use xlink:href=\"#DejaVuSans-2212\"/>\n       <use xlink:href=\"#DejaVuSans-31\" transform=\"translate(83.789062 0)\"/>\n       <use xlink:href=\"#DejaVuSans-2e\" transform=\"translate(147.412109 0)\"/>\n       <use xlink:href=\"#DejaVuSans-30\" transform=\"translate(179.199219 0)\"/>\n      </g>\n     </g>\n    </g>\n    <g id=\"ytick_2\">\n     <g id=\"line2d_17\">\n      <path d=\"M 38.482813 108 \nL 373.282813 108 \n\" clip-path=\"url(#pae621b6c0c)\" style=\"fill: none; stroke: #b0b0b0; stroke-width: 0.8; stroke-linecap: square\"/>\n     </g>\n     <g id=\"line2d_18\">\n      <g>\n       <use xlink:href=\"#me1a37e8d5c\" x=\"38.482813\" y=\"108\" style=\"stroke: #000000; stroke-width: 0.8\"/>\n      </g>\n     </g>\n     <g id=\"text_10\">\n      <!-- −0.5 -->\n      <g transform=\"translate(7.2 111.799219) scale(0.1 -0.1)\">\n       <use xlink:href=\"#DejaVuSans-2212\"/>\n       <use xlink:href=\"#DejaVuSans-30\" transform=\"translate(83.789062 0)\"/>\n       <use xlink:href=\"#DejaVuSans-2e\" transform=\"translate(147.412109 0)\"/>\n       <use xlink:href=\"#DejaVuSans-35\" transform=\"translate(179.199219 0)\"/>\n      </g>\n     </g>\n    </g>\n    <g id=\"ytick_3\">\n     <g id=\"line2d_19\">\n      <path d=\"M 38.482813 76.5 \nL 373.282813 76.5 \n\" clip-path=\"url(#pae621b6c0c)\" style=\"fill: none; stroke: #b0b0b0; stroke-width: 0.8; stroke-linecap: square\"/>\n     </g>\n     <g id=\"line2d_20\">\n      <g>\n       <use xlink:href=\"#me1a37e8d5c\" x=\"38.482813\" y=\"76.5\" style=\"stroke: #000000; stroke-width: 0.8\"/>\n      </g>\n     </g>\n     <g id=\"text_11\">\n      <!-- 0.0 -->\n      <g transform=\"translate(15.579688 80.299219) scale(0.1 -0.1)\">\n       <use xlink:href=\"#DejaVuSans-30\"/>\n       <use xlink:href=\"#DejaVuSans-2e\" transform=\"translate(63.623047 0)\"/>\n       <use xlink:href=\"#DejaVuSans-30\" transform=\"translate(95.410156 0)\"/>\n      </g>\n     </g>\n    </g>\n    <g id=\"ytick_4\">\n     <g id=\"line2d_21\">\n      <path d=\"M 38.482813 45 \nL 373.282813 45 \n\" clip-path=\"url(#pae621b6c0c)\" style=\"fill: none; stroke: #b0b0b0; stroke-width: 0.8; stroke-linecap: square\"/>\n     </g>\n     <g id=\"line2d_22\">\n      <g>\n       <use xlink:href=\"#me1a37e8d5c\" x=\"38.482813\" y=\"45\" style=\"stroke: #000000; stroke-width: 0.8\"/>\n      </g>\n     </g>\n     <g id=\"text_12\">\n      <!-- 0.5 -->\n      <g transform=\"translate(15.579688 48.799219) scale(0.1 -0.1)\">\n       <use xlink:href=\"#DejaVuSans-30\"/>\n       <use xlink:href=\"#DejaVuSans-2e\" transform=\"translate(63.623047 0)\"/>\n       <use xlink:href=\"#DejaVuSans-35\" transform=\"translate(95.410156 0)\"/>\n      </g>\n     </g>\n    </g>\n    <g id=\"ytick_5\">\n     <g id=\"line2d_23\">\n      <path d=\"M 38.482813 13.5 \nL 373.282813 13.5 \n\" clip-path=\"url(#pae621b6c0c)\" style=\"fill: none; stroke: #b0b0b0; stroke-width: 0.8; stroke-linecap: square\"/>\n     </g>\n     <g id=\"line2d_24\">\n      <g>\n       <use xlink:href=\"#me1a37e8d5c\" x=\"38.482813\" y=\"13.5\" style=\"stroke: #000000; stroke-width: 0.8\"/>\n      </g>\n     </g>\n     <g id=\"text_13\">\n      <!-- 1.0 -->\n      <g transform=\"translate(15.579688 17.299219) scale(0.1 -0.1)\">\n       <use xlink:href=\"#DejaVuSans-31\"/>\n       <use xlink:href=\"#DejaVuSans-2e\" transform=\"translate(63.623047 0)\"/>\n       <use xlink:href=\"#DejaVuSans-30\" transform=\"translate(95.410156 0)\"/>\n      </g>\n     </g>\n    </g>\n   </g>\n   <g id=\"line2d_25\">\n    <path d=\"M 53.700994 76.5 \nL 58.8597 65.355792 \nL 64.018406 54.563068 \nL 69.177111 44.462222 \nL 74.335817 35.371837 \nL 79.494523 27.578612 \nL 84.653229 21.328343 \nL 89.811934 16.818165 \nL 94.97064 14.190325 \nL 100.129346 13.527701 \nL 105.288051 14.851191 \nL 110.446757 18.119061 \nL 115.605463 23.22824 \nL 120.764168 30.017578 \nL 125.922874 38.272962 \nL 131.08158 47.733995 \nL 136.240286 58.102294 \nL 141.398991 69.050862 \nL 146.557697 80.234358 \nL 151.716403 91.300088 \nL 156.875108 101.899017 \nL 162.033814 111.696885 \nL 167.19252 120.384648 \nL 172.351225 127.688311 \nL 177.509931 133.377536 \nL 182.668637 137.272851 \nL 187.827343 139.251424 \nL 192.986048 139.250846 \nL 198.144754 137.271135 \nL 203.30346 133.37473 \nL 208.462165 127.684526 \nL 213.620871 120.379992 \nL 218.779577 111.691504 \nL 223.938282 101.893063 \nL 229.096988 91.293765 \nL 234.255694 80.227879 \nL 239.4144 69.044417 \nL 244.573105 58.096071 \nL 249.731811 47.728208 \nL 254.890517 38.267791 \nL 260.049222 30.0132 \nL 265.207928 23.224759 \nL 270.366634 18.116616 \nL 275.525339 14.849854 \nL 280.684045 13.52751 \nL 285.842751 14.191283 \nL 291.001457 16.820238 \nL 296.160162 21.331467 \nL 301.318868 27.582724 \nL 306.477574 35.376772 \nL 311.636279 44.467828 \nL 316.794985 54.569164 \nL 321.953691 65.362187 \nL 327.112396 76.50649 \nL 332.271102 87.650589 \nL 337.429808 98.443004 \nL 342.588514 108.543399 \nL 347.747219 117.633104 \nL 352.905925 125.425496 \nL 358.064631 131.6748 \n\" clip-path=\"url(#pae621b6c0c)\" style=\"fill: none; stroke: #1f77b4; stroke-width: 1.5; stroke-linecap: square\"/>\n   </g>\n   <g id=\"line2d_26\">\n    <path d=\"M 53.700994 13.5 \nL 58.8597 14.493496 \nL 64.018406 17.442644 \nL 69.177111 22.254439 \nL 74.335817 28.77711 \nL 79.494523 36.804942 \nL 84.653229 46.084737 \nL 89.811934 56.323816 \nL 94.97064 67.199234 \nL 100.129346 78.368 \nL 105.288051 89.477851 \nL 110.446757 100.178386 \nL 115.605463 110.132123 \nL 120.764168 119.025106 \nL 125.922874 126.576875 \nL 131.08158 132.549237 \nL 136.240286 136.753833 \nL 141.398991 139.058056 \nL 146.557697 139.389225 \nL 151.716403 137.736898 \nL 156.875108 134.153187 \nL 162.033814 128.751119 \nL 167.19252 121.701079 \nL 172.351225 113.225425 \nL 177.509931 103.591439 \nL 182.668637 93.103029 \nL 187.827343 82.090967 \nL 192.986048 70.902569 \nL 198.144754 59.890681 \nL 203.30346 49.402673 \nL 208.462165 39.769302 \nL 213.620871 31.2944 \nL 218.779577 24.245258 \nL 223.938282 18.844191 \nL 229.096988 15.261578 \nL 234.255694 13.610392 \nL 239.4144 13.94271 \nL 244.573105 16.248067 \nL 249.731811 20.453733 \nL 254.890517 26.427072 \nL 260.049222 33.979686 \nL 265.207928 42.87339 \nL 270.366634 52.827643 \nL 275.525339 63.528508 \nL 280.684045 74.638487 \nL 285.842751 85.807178 \nL 291.001457 96.682325 \nL 296.160162 106.920933 \nL 301.318868 116.200123 \nL 306.477574 124.227145 \nL 311.636279 130.748869 \nL 316.794985 135.55962 \nL 321.953691 138.507653 \nL 327.112396 139.5 \nL 332.271102 138.505359 \nL 337.429808 135.555099 \nL 342.588514 130.742238 \nL 347.747219 124.218628 \nL 352.905925 116.19 \nL 358.064631 106.909564 \n\" clip-path=\"url(#pae621b6c0c)\" style=\"fill: none; stroke-dasharray: 5.55,2.4; stroke-dashoffset: 0; stroke: #bf00bf; stroke-width: 1.5\"/>\n   </g>\n   <g id=\"line2d_27\">\n    <path d=\"M 53.700994 76.5 \nL 58.8597 70.210494 \nL 64.018406 63.983832 \nL 69.177111 57.882226 \nL 74.335817 51.966643 \nL 79.494523 46.29619 \nL 84.653229 40.927523 \nL 89.811934 35.914287 \nL 94.97064 31.306567 \nL 100.129346 27.150408 \nL 105.288051 23.48733 \nL 110.446757 20.353934 \nL 115.605463 17.781538 \nL 120.764168 15.795834 \nL 125.922874 14.416667 \nL 131.08158 13.657815 \nL 136.240286 13.526864 \nL 141.398991 14.025116 \nL 146.557697 15.147599 \nL 151.716403 16.883094 \nL 156.875108 19.214263 \nL 162.033814 22.117806 \nL 167.19252 25.56473 \nL 172.351225 29.520569 \nL 177.509931 33.945826 \nL 182.668637 38.796257 \nL 187.827343 44.023409 \nL 192.986048 49.57507 \nL 198.144754 55.395743 \nL 203.30346 61.427298 \nL 208.462165 67.60944 \nL 213.620871 73.880412 \nL 218.779577 80.177574 \nL 223.938282 86.437976 \nL 229.096988 92.599096 \nL 234.255694 98.599343 \nL 239.4144 104.378782 \nL 244.573105 109.879679 \nL 249.731811 115.047043 \nL 254.890517 119.829274 \nL 260.049222 124.178557 \nL 265.207928 128.051455 \nL 270.366634 131.409266 \nL 275.525339 134.218458 \nL 280.684045 136.450932 \nL 285.842751 138.084398 \nL 291.001457 139.102531 \nL 296.160162 139.495163 \nL 301.318868 139.258367 \nL 306.477574 138.394512 \nL 311.636279 136.91223 \nL 316.794985 134.826329 \nL 321.953691 132.157649 \nL 327.112396 128.932843 \nL 332.271102 125.18416 \nL 337.429808 120.949039 \nL 342.588514 116.269803 \nL 347.747219 111.193199 \nL 352.905925 105.769927 \nL 358.064631 100.054224 \n\" clip-path=\"url(#pae621b6c0c)\" style=\"fill: none; stroke-dasharray: 9.6,2.4,1.5,2.4; stroke-dashoffset: 0; stroke: #008000; stroke-width: 1.5\"/>\n   </g>\n   <g id=\"line2d_28\">\n    <path d=\"M 53.700994 13.5 \nL 58.8597 13.814737 \nL 64.018406 14.755804 \nL 69.177111 16.3138 \nL 74.335817 18.473158 \nL 79.494523 21.212299 \nL 84.653229 24.503856 \nL 89.811934 28.314941 \nL 94.97064 32.607477 \nL 100.129346 37.338571 \nL 105.288051 42.460953 \nL 110.446757 47.923445 \nL 115.605463 53.671465 \nL 120.764168 59.647571 \nL 125.922874 65.792069 \nL 131.08158 72.043557 \nL 136.240286 78.339571 \nL 141.398991 84.617206 \nL 146.557697 90.813729 \nL 151.716403 96.867241 \nL 156.875108 102.717251 \nL 162.033814 108.3053 \nL 167.19252 113.575573 \nL 172.351225 118.475387 \nL 177.509931 122.955809 \nL 182.668637 126.972046 \nL 187.827343 130.483989 \nL 192.986048 133.456546 \nL 198.144754 135.860008 \nL 203.30346 137.670365 \nL 208.462165 138.869527 \nL 213.620871 139.445514 \nL 218.779577 139.392571 \nL 223.938282 138.711228 \nL 229.096988 137.408286 \nL 234.255694 135.496771 \nL 239.4144 132.995782 \nL 244.573105 129.9303 \nL 249.731811 126.330969 \nL 254.890517 122.233731 \nL 260.049222 117.679547 \nL 265.207928 112.713914 \nL 270.366634 107.386442 \nL 275.525339 101.750337 \nL 280.684045 95.861965 \nL 285.842751 89.780136 \nL 291.001457 83.565615 \nL 296.160162 77.280498 \nL 301.318868 70.987552 \nL 306.477574 64.749714 \nL 311.636279 58.629281 \nL 316.794985 52.687407 \nL 321.953691 46.983461 \nL 327.112396 41.574405 \nL 332.271102 36.514343 \nL 337.429808 31.853804 \nL 342.588514 27.639354 \nL 347.747219 23.913101 \nL 352.905925 20.712264 \nL 358.064631 18.068855 \n\" clip-path=\"url(#pae621b6c0c)\" style=\"fill: none; stroke-dasharray: 1.5,2.475; stroke-dashoffset: 0; stroke: #ff0000; stroke-width: 1.5\"/>\n   </g>\n   <g id=\"patch_3\">\n    <path d=\"M 38.482813 145.8 \nL 38.482813 7.2 \n\" style=\"fill: none; stroke: #000000; stroke-width: 0.8; stroke-linejoin: miter; stroke-linecap: square\"/>\n   </g>\n   <g id=\"patch_4\">\n    <path d=\"M 373.282813 145.8 \nL 373.282813 7.2 \n\" style=\"fill: none; stroke: #000000; stroke-width: 0.8; stroke-linejoin: miter; stroke-linecap: square\"/>\n   </g>\n   <g id=\"patch_5\">\n    <path d=\"M 38.482813 145.8 \nL 373.282812 145.8 \n\" style=\"fill: none; stroke: #000000; stroke-width: 0.8; stroke-linejoin: miter; stroke-linecap: square\"/>\n   </g>\n   <g id=\"patch_6\">\n    <path d=\"M 38.482813 7.2 \nL 373.282812 7.2 \n\" style=\"fill: none; stroke: #000000; stroke-width: 0.8; stroke-linejoin: miter; stroke-linecap: square\"/>\n   </g>\n   <g id=\"legend_1\">\n    <g id=\"patch_7\">\n     <path d=\"M 45.482813 140.8 \nL 102.903125 140.8 \nQ 104.903125 140.8 104.903125 138.8 \nL 104.903125 81.0875 \nQ 104.903125 79.0875 102.903125 79.0875 \nL 45.482813 79.0875 \nQ 43.482813 79.0875 43.482813 81.0875 \nL 43.482813 138.8 \nQ 43.482813 140.8 45.482813 140.8 \nz\n\" style=\"fill: #ffffff; opacity: 0.8; stroke: #cccccc; stroke-linejoin: miter\"/>\n    </g>\n    <g id=\"line2d_29\">\n     <path d=\"M 47.482813 87.185938 \nL 57.482813 87.185938 \nL 67.482812 87.185938 \n\" style=\"fill: none; stroke: #1f77b4; stroke-width: 1.5; stroke-linecap: square\"/>\n    </g>\n    <g id=\"text_14\">\n     <!-- Col 6 -->\n     <g transform=\"translate(75.482812 90.685938) scale(0.1 -0.1)\">\n      <defs>\n       <path id=\"DejaVuSans-43\" d=\"M 4122 4306 \nL 4122 3641 \nQ 3803 3938 3442 4084 \nQ 3081 4231 2675 4231 \nQ 1875 4231 1450 3742 \nQ 1025 3253 1025 2328 \nQ 1025 1406 1450 917 \nQ 1875 428 2675 428 \nQ 3081 428 3442 575 \nQ 3803 722 4122 1019 \nL 4122 359 \nQ 3791 134 3420 21 \nQ 3050 -91 2638 -91 \nQ 1578 -91 968 557 \nQ 359 1206 359 2328 \nQ 359 3453 968 4101 \nQ 1578 4750 2638 4750 \nQ 3056 4750 3426 4639 \nQ 3797 4528 4122 4306 \nz\n\" transform=\"scale(0.015625)\"/>\n       <path id=\"DejaVuSans-6c\" d=\"M 603 4863 \nL 1178 4863 \nL 1178 0 \nL 603 0 \nL 603 4863 \nz\n\" transform=\"scale(0.015625)\"/>\n      </defs>\n      <use xlink:href=\"#DejaVuSans-43\"/>\n      <use xlink:href=\"#DejaVuSans-6f\" transform=\"translate(69.824219 0)\"/>\n      <use xlink:href=\"#DejaVuSans-6c\" transform=\"translate(131.005859 0)\"/>\n      <use xlink:href=\"#DejaVuSans-20\" transform=\"translate(158.789062 0)\"/>\n      <use xlink:href=\"#DejaVuSans-36\" transform=\"translate(190.576172 0)\"/>\n     </g>\n    </g>\n    <g id=\"line2d_30\">\n     <path d=\"M 47.482813 101.864063 \nL 57.482813 101.864063 \nL 67.482812 101.864063 \n\" style=\"fill: none; stroke-dasharray: 5.55,2.4; stroke-dashoffset: 0; stroke: #bf00bf; stroke-width: 1.5\"/>\n    </g>\n    <g id=\"text_15\">\n     <!-- Col 7 -->\n     <g transform=\"translate(75.482812 105.364063) scale(0.1 -0.1)\">\n      <defs>\n       <path id=\"DejaVuSans-37\" d=\"M 525 4666 \nL 3525 4666 \nL 3525 4397 \nL 1831 0 \nL 1172 0 \nL 2766 4134 \nL 525 4134 \nL 525 4666 \nz\n\" transform=\"scale(0.015625)\"/>\n      </defs>\n      <use xlink:href=\"#DejaVuSans-43\"/>\n      <use xlink:href=\"#DejaVuSans-6f\" transform=\"translate(69.824219 0)\"/>\n      <use xlink:href=\"#DejaVuSans-6c\" transform=\"translate(131.005859 0)\"/>\n      <use xlink:href=\"#DejaVuSans-20\" transform=\"translate(158.789062 0)\"/>\n      <use xlink:href=\"#DejaVuSans-37\" transform=\"translate(190.576172 0)\"/>\n     </g>\n    </g>\n    <g id=\"line2d_31\">\n     <path d=\"M 47.482813 116.542188 \nL 57.482813 116.542188 \nL 67.482812 116.542188 \n\" style=\"fill: none; stroke-dasharray: 9.6,2.4,1.5,2.4; stroke-dashoffset: 0; stroke: #008000; stroke-width: 1.5\"/>\n    </g>\n    <g id=\"text_16\">\n     <!-- Col 8 -->\n     <g transform=\"translate(75.482812 120.042188) scale(0.1 -0.1)\">\n      <defs>\n       <path id=\"DejaVuSans-38\" d=\"M 2034 2216 \nQ 1584 2216 1326 1975 \nQ 1069 1734 1069 1313 \nQ 1069 891 1326 650 \nQ 1584 409 2034 409 \nQ 2484 409 2743 651 \nQ 3003 894 3003 1313 \nQ 3003 1734 2745 1975 \nQ 2488 2216 2034 2216 \nz\nM 1403 2484 \nQ 997 2584 770 2862 \nQ 544 3141 544 3541 \nQ 544 4100 942 4425 \nQ 1341 4750 2034 4750 \nQ 2731 4750 3128 4425 \nQ 3525 4100 3525 3541 \nQ 3525 3141 3298 2862 \nQ 3072 2584 2669 2484 \nQ 3125 2378 3379 2068 \nQ 3634 1759 3634 1313 \nQ 3634 634 3220 271 \nQ 2806 -91 2034 -91 \nQ 1263 -91 848 271 \nQ 434 634 434 1313 \nQ 434 1759 690 2068 \nQ 947 2378 1403 2484 \nz\nM 1172 3481 \nQ 1172 3119 1398 2916 \nQ 1625 2713 2034 2713 \nQ 2441 2713 2670 2916 \nQ 2900 3119 2900 3481 \nQ 2900 3844 2670 4047 \nQ 2441 4250 2034 4250 \nQ 1625 4250 1398 4047 \nQ 1172 3844 1172 3481 \nz\n\" transform=\"scale(0.015625)\"/>\n      </defs>\n      <use xlink:href=\"#DejaVuSans-43\"/>\n      <use xlink:href=\"#DejaVuSans-6f\" transform=\"translate(69.824219 0)\"/>\n      <use xlink:href=\"#DejaVuSans-6c\" transform=\"translate(131.005859 0)\"/>\n      <use xlink:href=\"#DejaVuSans-20\" transform=\"translate(158.789062 0)\"/>\n      <use xlink:href=\"#DejaVuSans-38\" transform=\"translate(190.576172 0)\"/>\n     </g>\n    </g>\n    <g id=\"line2d_32\">\n     <path d=\"M 47.482813 131.220313 \nL 57.482813 131.220313 \nL 67.482812 131.220313 \n\" style=\"fill: none; stroke-dasharray: 1.5,2.475; stroke-dashoffset: 0; stroke: #ff0000; stroke-width: 1.5\"/>\n    </g>\n    <g id=\"text_17\">\n     <!-- Col 9 -->\n     <g transform=\"translate(75.482812 134.720313) scale(0.1 -0.1)\">\n      <defs>\n       <path id=\"DejaVuSans-39\" d=\"M 703 97 \nL 703 672 \nQ 941 559 1184 500 \nQ 1428 441 1663 441 \nQ 2288 441 2617 861 \nQ 2947 1281 2994 2138 \nQ 2813 1869 2534 1725 \nQ 2256 1581 1919 1581 \nQ 1219 1581 811 2004 \nQ 403 2428 403 3163 \nQ 403 3881 828 4315 \nQ 1253 4750 1959 4750 \nQ 2769 4750 3195 4129 \nQ 3622 3509 3622 2328 \nQ 3622 1225 3098 567 \nQ 2575 -91 1691 -91 \nQ 1453 -91 1209 -44 \nQ 966 3 703 97 \nz\nM 1959 2075 \nQ 2384 2075 2632 2365 \nQ 2881 2656 2881 3163 \nQ 2881 3666 2632 3958 \nQ 2384 4250 1959 4250 \nQ 1534 4250 1286 3958 \nQ 1038 3666 1038 3163 \nQ 1038 2656 1286 2365 \nQ 1534 2075 1959 2075 \nz\n\" transform=\"scale(0.015625)\"/>\n      </defs>\n      <use xlink:href=\"#DejaVuSans-43\"/>\n      <use xlink:href=\"#DejaVuSans-6f\" transform=\"translate(69.824219 0)\"/>\n      <use xlink:href=\"#DejaVuSans-6c\" transform=\"translate(131.005859 0)\"/>\n      <use xlink:href=\"#DejaVuSans-20\" transform=\"translate(158.789062 0)\"/>\n      <use xlink:href=\"#DejaVuSans-39\" transform=\"translate(190.576172 0)\"/>\n     </g>\n    </g>\n   </g>\n  </g>\n </g>\n <defs>\n  <clipPath id=\"pae621b6c0c\">\n   <rect x=\"38.482813\" y=\"7.2\" width=\"334.8\" height=\"138.6\"/>\n  </clipPath>\n </defs>\n</svg>\n"
          },
          "metadata": {}
        }
      ]
    },
    {
      "cell_type": "markdown",
      "id": "660c2057",
      "metadata": {
        "origin_pos": 5,
        "id": "660c2057"
      },
      "source": [
        "## [**基于位置的前馈网络**]\n",
        "\n",
        "基于位置的前馈网络对序列中的所有位置的表示进行变换时使用的是同一个多层感知机（MLP），这就是称前馈网络是*基于位置的*（positionwise）的原因。在下面的实现中，输入`X`的形状（批量大小，时间步数或序列长度，隐单元数或特征维度）将被一个两层的感知机转换成形状为（批量大小，时间步数，`ffn_num_outputs`）的输出张量。\n"
      ]
    },
    {
      "cell_type": "code",
      "execution_count": null,
      "id": "5a030ddc",
      "metadata": {
        "execution": {
          "iopub.execute_input": "2023-08-18T07:21:05.487583Z",
          "iopub.status.busy": "2023-08-18T07:21:05.486906Z",
          "iopub.status.idle": "2023-08-18T07:21:05.492826Z",
          "shell.execute_reply": "2023-08-18T07:21:05.492063Z"
        },
        "origin_pos": 7,
        "tab": [
          "pytorch"
        ],
        "id": "5a030ddc"
      },
      "outputs": [],
      "source": [
        "class PositionWiseFFN(nn.Module):\n",
        "    \"\"\"基于位置的前馈网络\"\"\"\n",
        "    def __init__(self, ffn_num_input, ffn_num_hiddens, ffn_num_outputs,\n",
        "                 **kwargs):\n",
        "        super(PositionWiseFFN, self).__init__(**kwargs)\n",
        "        self.dense1 = nn.Linear(ffn_num_input, ffn_num_hiddens)\n",
        "        self.relu = nn.ReLU()\n",
        "        self.dense2 = nn.Linear(ffn_num_hiddens, ffn_num_outputs)\n",
        "\n",
        "    def forward(self, X):\n",
        "        return self.dense2(self.relu(self.dense1(X)))"
      ]
    },
    {
      "cell_type": "markdown",
      "id": "d5d02e37",
      "metadata": {
        "origin_pos": 10,
        "id": "d5d02e37"
      },
      "source": [
        "下面的例子显示，[**改变张量的最里层维度的尺寸**]，会改变成基于位置的前馈网络的输出尺寸。因为用同一个多层感知机对所有位置上的输入进行变换，所以当所有这些位置的输入相同时，它们的输出也是相同的。\n"
      ]
    },
    {
      "cell_type": "code",
      "execution_count": null,
      "id": "be51755b",
      "metadata": {
        "execution": {
          "iopub.execute_input": "2023-08-18T07:21:05.498028Z",
          "iopub.status.busy": "2023-08-18T07:21:05.497721Z",
          "iopub.status.idle": "2023-08-18T07:21:05.527774Z",
          "shell.execute_reply": "2023-08-18T07:21:05.526996Z"
        },
        "origin_pos": 12,
        "tab": [
          "pytorch"
        ],
        "id": "be51755b",
        "outputId": "b1462453-3874-4518-c45b-68b2b75f4be0",
        "colab": {
          "base_uri": "https://localhost:8080/"
        }
      },
      "outputs": [
        {
          "output_type": "execute_result",
          "data": {
            "text/plain": [
              "(torch.Size([2, 3, 8]),\n",
              " tensor([[ 0.1046,  0.2348,  0.1530,  0.0491, -0.2924,  0.0922,  0.2950, -0.4224],\n",
              "         [ 0.1046,  0.2348,  0.1530,  0.0491, -0.2924,  0.0922,  0.2950, -0.4224],\n",
              "         [ 0.1046,  0.2348,  0.1530,  0.0491, -0.2924,  0.0922,  0.2950, -0.4224]],\n",
              "        grad_fn=<SelectBackward0>))"
            ]
          },
          "metadata": {},
          "execution_count": 110
        }
      ],
      "source": [
        "ffn = PositionWiseFFN(4, 4, 8)\n",
        "ffn.eval()\n",
        "\n",
        "ffn(torch.ones((2, 3, 4))).shape,ffn(torch.ones((2, 3, 4)))[0]"
      ]
    },
    {
      "cell_type": "markdown",
      "id": "3b4b7f94",
      "metadata": {
        "origin_pos": 15,
        "id": "3b4b7f94"
      },
      "source": [
        "## 残差连接和层规范化\n",
        "\n",
        "现在让我们关注 :numref:`fig_transformer`中的*加法和规范化*（add&norm）组件。正如在本节开头所述，这是由残差连接和紧随其后的层规范化组成的。两者都是构建有效的深度架构的关键。\n",
        "\n",
        " :numref:`sec_batch_norm`中解释了在一个小批量的样本内基于批量规范化对数据进行重新中心化和重新缩放的调整。层规范化和批量规范化的目标相同，但层规范化是基于特征维度进行规范化。尽管批量规范化在计算机视觉中被广泛应用，但在自然语言处理任务中（输入通常是变长序列）批量规范化通常不如层规范化的效果好。\n",
        "\n",
        "以下代码[**对比不同维度的层规范化和批量规范化的效果**]。\n"
      ]
    },
    {
      "cell_type": "code",
      "execution_count": null,
      "id": "1da6d2d6",
      "metadata": {
        "execution": {
          "iopub.execute_input": "2023-08-18T07:21:05.531626Z",
          "iopub.status.busy": "2023-08-18T07:21:05.531338Z",
          "iopub.status.idle": "2023-08-18T07:21:05.541716Z",
          "shell.execute_reply": "2023-08-18T07:21:05.540694Z"
        },
        "origin_pos": 17,
        "tab": [
          "pytorch"
        ],
        "id": "1da6d2d6",
        "outputId": "5d923594-d585-45b7-80b1-f4bdf148fa6e",
        "colab": {
          "base_uri": "https://localhost:8080/"
        }
      },
      "outputs": [
        {
          "output_type": "stream",
          "name": "stdout",
          "text": [
            "layer norm: tensor([[-1.0000,  1.0000],\n",
            "        [-1.0000,  1.0000]], grad_fn=<NativeLayerNormBackward0>) \n",
            "batch norm: tensor([[-1.0000, -1.0000],\n",
            "        [ 1.0000,  1.0000]], grad_fn=<NativeBatchNormBackward0>)\n"
          ]
        }
      ],
      "source": [
        "ln = nn.LayerNorm(2)\n",
        "bn = nn.BatchNorm1d(2)\n",
        "X = torch.tensor([[1, 2], [2, 3]], dtype=torch.float32)\n",
        "# 在训练模式下计算X的均值和方差\n",
        "print('layer norm:', ln(X), '\\nbatch norm:', bn(X))"
      ]
    },
    {
      "cell_type": "markdown",
      "id": "a7438b9a",
      "metadata": {
        "origin_pos": 20,
        "id": "a7438b9a"
      },
      "source": [
        "现在可以[**使用残差连接和层规范化**]来实现`AddNorm`类。暂退法也被作为正则化方法使用。\n"
      ]
    },
    {
      "cell_type": "code",
      "execution_count": null,
      "id": "41dc88c3",
      "metadata": {
        "execution": {
          "iopub.execute_input": "2023-08-18T07:21:05.547230Z",
          "iopub.status.busy": "2023-08-18T07:21:05.546508Z",
          "iopub.status.idle": "2023-08-18T07:21:05.553654Z",
          "shell.execute_reply": "2023-08-18T07:21:05.552629Z"
        },
        "origin_pos": 22,
        "tab": [
          "pytorch"
        ],
        "id": "41dc88c3"
      },
      "outputs": [],
      "source": [
        "class AddNorm(nn.Module):\n",
        "    \"\"\"残差连接后进行层规范化\"\"\"\n",
        "    def __init__(self, normalized_shape, dropout, **kwargs):\n",
        "        super(AddNorm, self).__init__(**kwargs)\n",
        "        self.dropout = nn.Dropout(dropout)\n",
        "        self.ln = nn.LayerNorm(normalized_shape)\n",
        "\n",
        "    def forward(self, X, Y):\n",
        "        return self.ln(self.dropout(Y) + X)"
      ]
    },
    {
      "cell_type": "markdown",
      "id": "17336160",
      "metadata": {
        "origin_pos": 25,
        "id": "17336160"
      },
      "source": [
        "残差连接要求两个输入的形状相同，以便[**加法操作后输出张量的形状相同**]。\n"
      ]
    },
    {
      "cell_type": "code",
      "execution_count": null,
      "id": "9ddbf972",
      "metadata": {
        "execution": {
          "iopub.execute_input": "2023-08-18T07:21:05.559356Z",
          "iopub.status.busy": "2023-08-18T07:21:05.558397Z",
          "iopub.status.idle": "2023-08-18T07:21:05.568412Z",
          "shell.execute_reply": "2023-08-18T07:21:05.567252Z"
        },
        "origin_pos": 27,
        "tab": [
          "pytorch"
        ],
        "id": "9ddbf972",
        "outputId": "14ea2558-0ec9-4809-de1b-8cdebff0ccc2",
        "colab": {
          "base_uri": "https://localhost:8080/"
        }
      },
      "outputs": [
        {
          "output_type": "execute_result",
          "data": {
            "text/plain": [
              "torch.Size([2, 3, 4])"
            ]
          },
          "metadata": {},
          "execution_count": 113
        }
      ],
      "source": [
        "add_norm = AddNorm([3, 4], 0.5)\n",
        "add_norm.eval()\n",
        "add_norm(torch.ones((2, 3, 4)), torch.ones((2, 3, 4))).shape"
      ]
    },
    {
      "cell_type": "markdown",
      "source": [],
      "metadata": {
        "id": "K4RT8qRngvOk"
      },
      "id": "K4RT8qRngvOk"
    },
    {
      "cell_type": "markdown",
      "source": [
        "## EncoderDecoder"
      ],
      "metadata": {
        "id": "p3cPTSBEkkKp"
      },
      "id": "p3cPTSBEkkKp"
    },
    {
      "cell_type": "code",
      "source": [
        "from torch import nn\n",
        "\n",
        "\n",
        "class Encoder(nn.Module):\n",
        "    \"\"\"编码器-解码器架构的基本编码器接口\"\"\"\n",
        "    def __init__(self, **kwargs):\n",
        "        super(Encoder, self).__init__(**kwargs)\n",
        "\n",
        "    def forward(self, X, *args):\n",
        "        raise NotImplementedError\n",
        "\n",
        "class Decoder(nn.Module):\n",
        "    \"\"\"编码器-解码器架构的基本解码器接口\"\"\"\n",
        "    def __init__(self, **kwargs):\n",
        "        super(Decoder, self).__init__(**kwargs)\n",
        "\n",
        "    def init_state(self, enc_outputs, *args):\n",
        "        raise NotImplementedError\n",
        "\n",
        "    def forward(self, X, state):\n",
        "        raise NotImplementedError\n",
        "\n",
        "class AttentionDecoder(Decoder):\n",
        "    \"\"\"带有注意力机制解码器的基本接口\"\"\"\n",
        "    def __init__(self, **kwargs):\n",
        "        super(AttentionDecoder, self).__init__(**kwargs)\n",
        "\n",
        "    @property\n",
        "    def attention_weights(self):\n",
        "        raise NotImplementedError\n",
        "\n",
        "class EncoderDecoder(nn.Module):\n",
        "    \"\"\"编码器-解码器架构的基类\"\"\"\n",
        "    def __init__(self, encoder, decoder, **kwargs):\n",
        "        super(EncoderDecoder, self).__init__(**kwargs)\n",
        "        self.encoder = encoder\n",
        "        self.decoder = decoder\n",
        "\n",
        "    def forward(self, enc_X, dec_X, *args):\n",
        "        enc_outputs = self.encoder(enc_X, *args)\n",
        "        dec_state = self.decoder.init_state(enc_outputs, *args)\n",
        "        return self.decoder(dec_X, dec_state)\n",
        "\n"
      ],
      "metadata": {
        "id": "EjBhxLGmkoEY"
      },
      "id": "EjBhxLGmkoEY",
      "execution_count": null,
      "outputs": []
    },
    {
      "cell_type": "markdown",
      "id": "af623091",
      "metadata": {
        "origin_pos": 29,
        "id": "af623091"
      },
      "source": [
        "## 编码器\n",
        "\n",
        "有了组成Transformer编码器的基础组件，现在可以先[**实现编码器中的一个层**]。下面的`EncoderBlock`类包含两个子层：多头自注意力和基于位置的前馈网络，这两个子层都使用了残差连接和紧随的层规范化。\n"
      ]
    },
    {
      "cell_type": "code",
      "execution_count": null,
      "id": "3a4bae18",
      "metadata": {
        "execution": {
          "iopub.execute_input": "2023-08-18T07:21:05.572991Z",
          "iopub.status.busy": "2023-08-18T07:21:05.572138Z",
          "iopub.status.idle": "2023-08-18T07:21:05.581937Z",
          "shell.execute_reply": "2023-08-18T07:21:05.580861Z"
        },
        "origin_pos": 31,
        "tab": [
          "pytorch"
        ],
        "id": "3a4bae18"
      },
      "outputs": [],
      "source": [
        "class EncoderBlock(nn.Module):\n",
        "    \"\"\"Transformer编码器块\"\"\"\n",
        "    def __init__(self, key_size, query_size, value_size, num_hiddens,\n",
        "                 norm_shape, ffn_num_input, ffn_num_hiddens, num_heads,\n",
        "                 dropout, use_bias=False, **kwargs):\n",
        "        super(EncoderBlock, self).__init__(**kwargs)\n",
        "        self.attention = MultiHeadAttention(\n",
        "            key_size, query_size, value_size, num_hiddens, num_heads, dropout,\n",
        "            use_bias)\n",
        "        self.addnorm1 = AddNorm(norm_shape, dropout)\n",
        "        self.ffn = PositionWiseFFN(\n",
        "            ffn_num_input, ffn_num_hiddens, num_hiddens)\n",
        "        self.addnorm2 = AddNorm(norm_shape, dropout)\n",
        "\n",
        "    def forward(self, X, valid_lens):\n",
        "        Y = self.addnorm1(X, self.attention(X, X, X, valid_lens))\n",
        "        return self.addnorm2(Y, self.ffn(Y))"
      ]
    },
    {
      "cell_type": "markdown",
      "id": "683dbd77",
      "metadata": {
        "origin_pos": 34,
        "id": "683dbd77"
      },
      "source": [
        "正如从代码中所看到的，[**Transformer编码器中的任何层都不会改变其输入的形状**]。\n"
      ]
    },
    {
      "cell_type": "code",
      "execution_count": null,
      "id": "f55eefee",
      "metadata": {
        "execution": {
          "iopub.execute_input": "2023-08-18T07:21:05.586090Z",
          "iopub.status.busy": "2023-08-18T07:21:05.585452Z",
          "iopub.status.idle": "2023-08-18T07:21:05.601167Z",
          "shell.execute_reply": "2023-08-18T07:21:05.599824Z"
        },
        "origin_pos": 36,
        "tab": [
          "pytorch"
        ],
        "id": "f55eefee",
        "outputId": "7f3dd401-eba1-4955-95d8-aa3662e8fe1a",
        "colab": {
          "base_uri": "https://localhost:8080/"
        }
      },
      "outputs": [
        {
          "output_type": "execute_result",
          "data": {
            "text/plain": [
              "torch.Size([2, 100, 24])"
            ]
          },
          "metadata": {},
          "execution_count": 134
        }
      ],
      "source": [
        "X = torch.ones((2, 100, 24))\n",
        "valid_lens = torch.tensor([3, 2])\n",
        "encoder_blk = EncoderBlock(24, 24, 24, 24, [100, 24], 24, 48, 8, 0.5)\n",
        "encoder_blk.eval()\n",
        "encoder_blk(X, valid_lens).shape"
      ]
    },
    {
      "cell_type": "markdown",
      "id": "cde53f8e",
      "metadata": {
        "origin_pos": 38,
        "id": "cde53f8e"
      },
      "source": [
        "下面实现的[**Transformer编码器**]的代码中，堆叠了`num_layers`个`EncoderBlock`类的实例。由于这里使用的是值范围在$-1$和$1$之间的固定位置编码，因此通过学习得到的输入的嵌入表示的值需要先乘以嵌入维度的平方根进行重新缩放，然后再与位置编码相加。\n"
      ]
    },
    {
      "cell_type": "code",
      "execution_count": null,
      "id": "94c5fb5d",
      "metadata": {
        "execution": {
          "iopub.execute_input": "2023-08-18T07:21:05.605447Z",
          "iopub.status.busy": "2023-08-18T07:21:05.604941Z",
          "iopub.status.idle": "2023-08-18T07:21:05.618289Z",
          "shell.execute_reply": "2023-08-18T07:21:05.616871Z"
        },
        "origin_pos": 40,
        "tab": [
          "pytorch"
        ],
        "id": "94c5fb5d"
      },
      "outputs": [],
      "source": [
        "class TransformerEncoder(Encoder):\n",
        "    \"\"\"Transformer编码器\"\"\"\n",
        "    def __init__(self, vocab_size, key_size, query_size, value_size,\n",
        "                 num_hiddens, norm_shape, ffn_num_input, ffn_num_hiddens,\n",
        "                 num_heads, num_layers, dropout, use_bias=False, **kwargs):\n",
        "        super(TransformerEncoder, self).__init__(**kwargs)\n",
        "        self.num_hiddens = num_hiddens\n",
        "        self.embedding = nn.Embedding(vocab_size, num_hiddens)\n",
        "        self.pos_encoding = PositionalEncoding(num_hiddens, dropout)\n",
        "        self.blks = nn.Sequential()\n",
        "        for i in range(num_layers):\n",
        "            self.blks.add_module(\"block\"+str(i),\n",
        "                EncoderBlock(key_size, query_size, value_size, num_hiddens,\n",
        "                             norm_shape, ffn_num_input, ffn_num_hiddens,\n",
        "                             num_heads, dropout, use_bias))\n",
        "\n",
        "    def forward(self, X, valid_lens, *args):\n",
        "        # 因为位置编码值在-1和1之间，\n",
        "        # 因此嵌入值乘以嵌入维度的平方根进行缩放，\n",
        "        # 然后再与位置编码相加。\n",
        "        X = self.pos_encoding(self.embedding(X) * math.sqrt(self.num_hiddens))\n",
        "        self.attention_weights = [None] * len(self.blks)\n",
        "        for i, blk in enumerate(self.blks):\n",
        "            X = blk(X, valid_lens)\n",
        "            self.attention_weights[i] = blk.attention.attention.attention_weights\n",
        "        return X"
      ]
    },
    {
      "cell_type": "markdown",
      "id": "a0025bec",
      "metadata": {
        "origin_pos": 43,
        "id": "a0025bec"
      },
      "source": [
        "下面我们指定了超参数来[**创建一个两层的Transformer编码器**]。\n",
        "Transformer编码器输出的形状是（批量大小，时间步数目，`num_hiddens`）。\n"
      ]
    },
    {
      "cell_type": "code",
      "execution_count": null,
      "id": "b16ed63f",
      "metadata": {
        "execution": {
          "iopub.execute_input": "2023-08-18T07:21:05.624985Z",
          "iopub.status.busy": "2023-08-18T07:21:05.623935Z",
          "iopub.status.idle": "2023-08-18T07:21:05.643729Z",
          "shell.execute_reply": "2023-08-18T07:21:05.642680Z"
        },
        "origin_pos": 45,
        "tab": [
          "pytorch"
        ],
        "id": "b16ed63f",
        "outputId": "e6cdd890-b271-4988-fe1f-a45ad77237e2",
        "colab": {
          "base_uri": "https://localhost:8080/"
        }
      },
      "outputs": [
        {
          "output_type": "stream",
          "name": "stdout",
          "text": [
            "tensor([0., 1., 0., 1., 0., 1., 0., 1.])\n",
            "tensor([0.8415, 0.5403, 0.4477, 0.8942, 0.2138, 0.9769, 0.0998, 0.9950])\n",
            "tensor([ 0.9093, -0.4161,  0.8006,  0.5992,  0.4177,  0.9086,  0.1987,  0.9801])\n",
            "tensor([ 0.1411, -0.9900,  0.9841,  0.1774,  0.6023,  0.7983,  0.2955,  0.9553])\n",
            "0.0 1.0\n",
            "0.8414709848078965 0.5403023058681398\n",
            "0.9092974268256817 -0.4161468365471424\n",
            "0.1411200080598672 -0.9899924966004454\n"
          ]
        },
        {
          "output_type": "execute_result",
          "data": {
            "text/plain": [
              "torch.Size([2, 100, 24])"
            ]
          },
          "metadata": {},
          "execution_count": 136
        }
      ],
      "source": [
        "encoder = TransformerEncoder(\n",
        "    200, 24, 24, 24, 24, [100, 24], 24, 48, 8, 2, 0.5)\n",
        "encoder.eval()\n",
        "encoder(torch.ones((2, 100), dtype=torch.long), valid_lens).shape"
      ]
    },
    {
      "cell_type": "markdown",
      "id": "db537625",
      "metadata": {
        "origin_pos": 48,
        "id": "db537625"
      },
      "source": [
        "## 解码器\n",
        "\n",
        "如 :numref:`fig_transformer`所示，[**Transformer解码器也是由多个相同的层组成**]。在`DecoderBlock`类中实现的每个层包含了三个子层：解码器自注意力、“编码器-解码器”注意力和基于位置的前馈网络。这些子层也都被残差连接和紧随的层规范化围绕。\n",
        "\n",
        "正如在本节前面所述，在掩蔽多头解码器自注意力层（第一个子层）中，查询、键和值都来自上一个解码器层的输出。关于*序列到序列模型*（sequence-to-sequence model），在训练阶段，其输出序列的所有位置（时间步）的词元都是已知的；然而，在预测阶段，其输出序列的词元是逐个生成的。因此，在任何解码器时间步中，只有生成的词元才能用于解码器的自注意力计算中。为了在解码器中保留自回归的属性，其掩蔽自注意力设定了参数`dec_valid_lens`，以便任何查询都只会与解码器中所有已经生成词元的位置（即直到该查询位置为止）进行注意力计算。\n"
      ]
    },
    {
      "cell_type": "code",
      "execution_count": null,
      "id": "b97dbb3a",
      "metadata": {
        "execution": {
          "iopub.execute_input": "2023-08-18T07:21:05.648104Z",
          "iopub.status.busy": "2023-08-18T07:21:05.647725Z",
          "iopub.status.idle": "2023-08-18T07:21:05.662950Z",
          "shell.execute_reply": "2023-08-18T07:21:05.661933Z"
        },
        "origin_pos": 50,
        "tab": [
          "pytorch"
        ],
        "id": "b97dbb3a"
      },
      "outputs": [],
      "source": [
        "class DecoderBlock(nn.Module):\n",
        "    \"\"\"解码器中第i个块\"\"\"\n",
        "    def __init__(self, key_size, query_size, value_size, num_hiddens,\n",
        "                 norm_shape, ffn_num_input, ffn_num_hiddens, num_heads,\n",
        "                 dropout, i, **kwargs):\n",
        "        super(DecoderBlock, self).__init__(**kwargs)\n",
        "        self.i = i\n",
        "        self.attention1 = MultiHeadAttention(\n",
        "            key_size, query_size, value_size, num_hiddens, num_heads, dropout)\n",
        "        self.addnorm1 = AddNorm(norm_shape, dropout)\n",
        "        self.attention2 = MultiHeadAttention(\n",
        "            key_size, query_size, value_size, num_hiddens, num_heads, dropout)\n",
        "        self.addnorm2 = AddNorm(norm_shape, dropout)\n",
        "        self.ffn = PositionWiseFFN(ffn_num_input, ffn_num_hiddens,\n",
        "                                   num_hiddens)\n",
        "        self.addnorm3 = AddNorm(norm_shape, dropout)\n",
        "\n",
        "    def forward(self, X, state):\n",
        "        enc_outputs, enc_valid_lens = state[0], state[1]\n",
        "        # 训练阶段，输出序列的所有词元都在同一时间处理，\n",
        "        # 因此state[2][self.i]初始化为None。\n",
        "        # 预测阶段，输出序列是通过词元一个接着一个解码的，\n",
        "        # 因此state[2][self.i]包含着直到当前时间步第i个块解码的输出表示\n",
        "        if state[2][self.i] is None:\n",
        "            key_values = X\n",
        "        else:\n",
        "            key_values = torch.cat((state[2][self.i], X), axis=1)\n",
        "        state[2][self.i] = key_values\n",
        "        if self.training:\n",
        "            batch_size, num_steps, _ = X.shape\n",
        "            # dec_valid_lens的开头:(batch_size,num_steps),\n",
        "            # 其中每一行是[1,2,...,num_steps]\n",
        "            dec_valid_lens = torch.arange(\n",
        "                1, num_steps + 1, device=X.device).repeat(batch_size, 1)\n",
        "        else:\n",
        "            dec_valid_lens = None\n",
        "\n",
        "        # 自注意力\n",
        "        X2 = self.attention1(X, key_values, key_values, dec_valid_lens)\n",
        "        Y = self.addnorm1(X, X2)\n",
        "        # 编码器－解码器注意力。\n",
        "        # enc_outputs的开头:(batch_size,num_steps,num_hiddens)\n",
        "        Y2 = self.attention2(Y, enc_outputs, enc_outputs, enc_valid_lens)\n",
        "        Z = self.addnorm2(Y, Y2)\n",
        "        return self.addnorm3(Z, self.ffn(Z)), state"
      ]
    },
    {
      "cell_type": "markdown",
      "id": "860e7d0c",
      "metadata": {
        "origin_pos": 53,
        "id": "860e7d0c"
      },
      "source": [
        "为了便于在“编码器－解码器”注意力中进行缩放点积计算和残差连接中进行加法计算，[**编码器和解码器的特征维度都是`num_hiddens`。**]\n"
      ]
    },
    {
      "cell_type": "code",
      "execution_count": null,
      "id": "92119d80",
      "metadata": {
        "execution": {
          "iopub.execute_input": "2023-08-18T07:21:05.666987Z",
          "iopub.status.busy": "2023-08-18T07:21:05.666595Z",
          "iopub.status.idle": "2023-08-18T07:21:05.685799Z",
          "shell.execute_reply": "2023-08-18T07:21:05.684460Z"
        },
        "origin_pos": 55,
        "tab": [
          "pytorch"
        ],
        "id": "92119d80",
        "outputId": "349fc9db-5dfa-4969-a72e-2caf9fb3c2e0",
        "colab": {
          "base_uri": "https://localhost:8080/"
        }
      },
      "outputs": [
        {
          "output_type": "execute_result",
          "data": {
            "text/plain": [
              "torch.Size([2, 100, 24])"
            ]
          },
          "metadata": {},
          "execution_count": 138
        }
      ],
      "source": [
        "decoder_blk = DecoderBlock(24, 24, 24, 24, [100, 24], 24, 48, 8, 0.5, 0)\n",
        "decoder_blk.eval()\n",
        "X = torch.ones((2, 100, 24))\n",
        "state = [encoder_blk(X, valid_lens), valid_lens, [None]]\n",
        "decoder_blk(X, state)[0].shape"
      ]
    },
    {
      "cell_type": "markdown",
      "id": "7b3b57e3",
      "metadata": {
        "origin_pos": 57,
        "id": "7b3b57e3"
      },
      "source": [
        "现在我们构建了由`num_layers`个`DecoderBlock`实例组成的完整的[**Transformer解码器**]。最后，通过一个全连接层计算所有`vocab_size`个可能的输出词元的预测值。解码器的自注意力权重和编码器解码器注意力权重都被存储下来，方便日后可视化的需要。\n"
      ]
    },
    {
      "cell_type": "code",
      "execution_count": null,
      "id": "1fa8eade",
      "metadata": {
        "execution": {
          "iopub.execute_input": "2023-08-18T07:21:05.691062Z",
          "iopub.status.busy": "2023-08-18T07:21:05.690657Z",
          "iopub.status.idle": "2023-08-18T07:21:05.706405Z",
          "shell.execute_reply": "2023-08-18T07:21:05.704976Z"
        },
        "origin_pos": 59,
        "tab": [
          "pytorch"
        ],
        "id": "1fa8eade"
      },
      "outputs": [],
      "source": [
        "class TransformerDecoder(AttentionDecoder):\n",
        "    def __init__(self, vocab_size, key_size, query_size, value_size,\n",
        "                 num_hiddens, norm_shape, ffn_num_input, ffn_num_hiddens,\n",
        "                 num_heads, num_layers, dropout, **kwargs):\n",
        "        super(TransformerDecoder, self).__init__(**kwargs)\n",
        "        self.num_hiddens = num_hiddens\n",
        "        self.num_layers = num_layers\n",
        "        self.embedding = nn.Embedding(vocab_size, num_hiddens)\n",
        "        self.pos_encoding = PositionalEncoding(num_hiddens, dropout)\n",
        "        self.blks = nn.Sequential()\n",
        "        for i in range(num_layers):\n",
        "            self.blks.add_module(\"block\"+str(i),\n",
        "                DecoderBlock(key_size, query_size, value_size, num_hiddens,\n",
        "                             norm_shape, ffn_num_input, ffn_num_hiddens,\n",
        "                             num_heads, dropout, i))\n",
        "        self.dense = nn.Linear(num_hiddens, vocab_size)\n",
        "\n",
        "    def init_state(self, enc_outputs, enc_valid_lens, *args):\n",
        "        return [enc_outputs, enc_valid_lens, [None] * self.num_layers]\n",
        "\n",
        "    def forward(self, X, state):\n",
        "        X = self.pos_encoding(self.embedding(X) * math.sqrt(self.num_hiddens))\n",
        "        self._attention_weights = [[None] * len(self.blks) for _ in range (2)]\n",
        "        for i, blk in enumerate(self.blks):\n",
        "            X, state = blk(X, state)\n",
        "            # 解码器自注意力权重\n",
        "            self._attention_weights[0][\n",
        "                i] = blk.attention1.attention.attention_weights\n",
        "            # “编码器－解码器”自注意力权重\n",
        "            self._attention_weights[1][\n",
        "                i] = blk.attention2.attention.attention_weights\n",
        "        return self.dense(X), state\n",
        "\n",
        "    @property\n",
        "    def attention_weights(self):\n",
        "        return self._attention_weights"
      ]
    },
    {
      "cell_type": "markdown",
      "id": "3adc5f9d",
      "metadata": {
        "origin_pos": 62,
        "id": "3adc5f9d"
      },
      "source": [
        "## [**训练**]\n",
        "\n",
        "依照Transformer架构来实例化编码器－解码器模型。在这里，指定Transformer的编码器和解码器都是2层，都使用4头注意力。与 :numref:`sec_seq2seq_training`类似，为了进行序列到序列的学习，下面在“英语－法语”机器翻译数据集上训练Transformer模型。\n"
      ]
    },
    {
      "cell_type": "markdown",
      "source": [
        "### function：train_seq2seq"
      ],
      "metadata": {
        "id": "hnBzyyLGj1Lr"
      },
      "id": "hnBzyyLGj1Lr"
    },
    {
      "cell_type": "code",
      "source": [
        "class MaskedSoftmaxCELoss(nn.CrossEntropyLoss):\n",
        "    \"\"\"带遮蔽的softmax交叉熵损失函数\"\"\"\n",
        "    # pred的形状：(batch_size,num_steps,vocab_size)\n",
        "    # label的形状：(batch_size,num_steps)\n",
        "    # valid_len的形状：(batch_size,)\n",
        "    def forward(self, pred, label, valid_len):\n",
        "        weights = torch.ones_like(label)\n",
        "        weights = sequence_mask(weights, valid_len)\n",
        "        self.reduction='none'\n",
        "        unweighted_loss = super(MaskedSoftmaxCELoss, self).forward(\n",
        "            pred.permute(0, 2, 1), label)\n",
        "        weighted_loss = (unweighted_loss * weights).mean(dim=1)\n",
        "        return weighted_loss\n",
        "def train_seq2seq(net, data_iter, lr, num_epochs, tgt_vocab, device):\n",
        "    \"\"\"训练序列到序列模型\"\"\"\n",
        "    def xavier_init_weights(m):\n",
        "        if type(m) == nn.Linear:\n",
        "            nn.init.xavier_uniform_(m.weight)\n",
        "        if type(m) == nn.GRU:\n",
        "            for param in m._flat_weights_names:\n",
        "                if \"weight\" in param:\n",
        "                    nn.init.xavier_uniform_(m._parameters[param])\n",
        "\n",
        "    net.apply(xavier_init_weights)\n",
        "    net.to(device)\n",
        "    optimizer = torch.optim.Adam(net.parameters(), lr=lr)\n",
        "    loss = MaskedSoftmaxCELoss()\n",
        "    net.train()\n",
        "    animator = d2l.Animator(xlabel='epoch', ylabel='loss',\n",
        "                     xlim=[10, num_epochs])\n",
        "    for epoch in range(num_epochs):\n",
        "        timer = d2l.Timer()\n",
        "        metric = d2l.Accumulator(2)  # 训练损失总和，词元数量\n",
        "        for batch in data_iter:\n",
        "            optimizer.zero_grad()\n",
        "            X, X_valid_len, Y, Y_valid_len = [x.to(device) for x in batch]\n",
        "            bos = torch.tensor([tgt_vocab['<bos>']] * Y.shape[0],\n",
        "                          device=device).reshape(-1, 1)\n",
        "            dec_input = torch.cat([bos, Y[:, :-1]], 1)  # 强制教学\n",
        "            Y_hat, _ = net(X, dec_input, X_valid_len)\n",
        "            l = loss(Y_hat, Y, Y_valid_len)\n",
        "            l.sum().backward()      # 损失函数的标量进行“反向传播”\n",
        "            d2l.grad_clipping(net, 1)\n",
        "            num_tokens = Y_valid_len.sum()\n",
        "            optimizer.step()\n",
        "            with torch.no_grad():\n",
        "                metric.add(l.sum(), num_tokens)\n",
        "        if (epoch + 1) % 10 == 0:\n",
        "            animator.add(epoch + 1, (metric[0] / metric[1],))\n",
        "    print(f'loss {metric[0] / metric[1]:.3f}, {metric[1] / timer.stop():.1f} '\n",
        "        f'tokens/sec on {str(device)}')"
      ],
      "metadata": {
        "id": "ZhOBWY94jkvV"
      },
      "id": "ZhOBWY94jkvV",
      "execution_count": null,
      "outputs": []
    },
    {
      "cell_type": "markdown",
      "source": [
        "### 机器翻译和数据集\n",
        "d2l.load_data_nmt\n",
        "\n",
        "https://github.com/AlvinScrp/d2l-zh-pytorch-colab/blob/main/chapter_recurrent-modern/machine-translation-and-dataset.ipynb"
      ],
      "metadata": {
        "id": "kaD_5fxkMMj4"
      },
      "id": "kaD_5fxkMMj4"
    },
    {
      "cell_type": "markdown",
      "source": [
        "### 执行训练"
      ],
      "metadata": {
        "id": "cK1y5OaJj64A"
      },
      "id": "cK1y5OaJj64A"
    },
    {
      "cell_type": "code",
      "execution_count": null,
      "id": "1adc9e94",
      "metadata": {
        "execution": {
          "iopub.execute_input": "2023-08-18T07:21:05.711753Z",
          "iopub.status.busy": "2023-08-18T07:21:05.710942Z",
          "iopub.status.idle": "2023-08-18T07:22:31.086151Z",
          "shell.execute_reply": "2023-08-18T07:22:31.084931Z"
        },
        "origin_pos": 64,
        "tab": [
          "pytorch"
        ],
        "id": "1adc9e94",
        "outputId": "ead89ce5-4069-4153-b953-1d0b3fcd806a",
        "colab": {
          "base_uri": "https://localhost:8080/",
          "height": 283
        }
      },
      "outputs": [
        {
          "output_type": "stream",
          "name": "stdout",
          "text": [
            "loss 0.031, 4424.2 tokens/sec on cpu\n"
          ]
        },
        {
          "output_type": "display_data",
          "data": {
            "text/plain": [
              "<Figure size 350x250 with 1 Axes>"
            ],
            "image/svg+xml": "<?xml version=\"1.0\" encoding=\"utf-8\" standalone=\"no\"?>\n<!DOCTYPE svg PUBLIC \"-//W3C//DTD SVG 1.1//EN\"\n  \"http://www.w3.org/Graphics/SVG/1.1/DTD/svg11.dtd\">\n<svg xmlns:xlink=\"http://www.w3.org/1999/xlink\" width=\"262.1875pt\" height=\"183.35625pt\" viewBox=\"0 0 262.1875 183.35625\" xmlns=\"http://www.w3.org/2000/svg\" version=\"1.1\">\n <metadata>\n  <rdf:RDF xmlns:dc=\"http://purl.org/dc/elements/1.1/\" xmlns:cc=\"http://creativecommons.org/ns#\" xmlns:rdf=\"http://www.w3.org/1999/02/22-rdf-syntax-ns#\">\n   <cc:Work>\n    <dc:type rdf:resource=\"http://purl.org/dc/dcmitype/StillImage\"/>\n    <dc:date>2025-10-12T13:23:31.584450</dc:date>\n    <dc:format>image/svg+xml</dc:format>\n    <dc:creator>\n     <cc:Agent>\n      <dc:title>Matplotlib v3.10.0, https://matplotlib.org/</dc:title>\n     </cc:Agent>\n    </dc:creator>\n   </cc:Work>\n  </rdf:RDF>\n </metadata>\n <defs>\n  <style type=\"text/css\">*{stroke-linejoin: round; stroke-linecap: butt}</style>\n </defs>\n <g id=\"figure_1\">\n  <g id=\"patch_1\">\n   <path d=\"M 0 183.35625 \nL 262.1875 183.35625 \nL 262.1875 0 \nL 0 0 \nz\n\" style=\"fill: #ffffff\"/>\n  </g>\n  <g id=\"axes_1\">\n   <g id=\"patch_2\">\n    <path d=\"M 50.14375 145.8 \nL 245.44375 145.8 \nL 245.44375 7.2 \nL 50.14375 7.2 \nz\n\" style=\"fill: #ffffff\"/>\n   </g>\n   <g id=\"matplotlib.axis_1\">\n    <g id=\"xtick_1\">\n     <g id=\"line2d_1\">\n      <path d=\"M 91.259539 145.8 \nL 91.259539 7.2 \n\" clip-path=\"url(#p09fa9dcba9)\" style=\"fill: none; stroke: #b0b0b0; stroke-width: 0.8; stroke-linecap: square\"/>\n     </g>\n     <g id=\"line2d_2\">\n      <defs>\n       <path id=\"m02231f3d51\" d=\"M 0 0 \nL 0 3.5 \n\" style=\"stroke: #000000; stroke-width: 0.8\"/>\n      </defs>\n      <g>\n       <use xlink:href=\"#m02231f3d51\" x=\"91.259539\" y=\"145.8\" style=\"stroke: #000000; stroke-width: 0.8\"/>\n      </g>\n     </g>\n     <g id=\"text_1\">\n      <!-- 50 -->\n      <g transform=\"translate(84.897039 160.398438) scale(0.1 -0.1)\">\n       <defs>\n        <path id=\"DejaVuSans-35\" d=\"M 691 4666 \nL 3169 4666 \nL 3169 4134 \nL 1269 4134 \nL 1269 2991 \nQ 1406 3038 1543 3061 \nQ 1681 3084 1819 3084 \nQ 2600 3084 3056 2656 \nQ 3513 2228 3513 1497 \nQ 3513 744 3044 326 \nQ 2575 -91 1722 -91 \nQ 1428 -91 1123 -41 \nQ 819 9 494 109 \nL 494 744 \nQ 775 591 1075 516 \nQ 1375 441 1709 441 \nQ 2250 441 2565 725 \nQ 2881 1009 2881 1497 \nQ 2881 1984 2565 2268 \nQ 2250 2553 1709 2553 \nQ 1456 2553 1204 2497 \nQ 953 2441 691 2322 \nL 691 4666 \nz\n\" transform=\"scale(0.015625)\"/>\n        <path id=\"DejaVuSans-30\" d=\"M 2034 4250 \nQ 1547 4250 1301 3770 \nQ 1056 3291 1056 2328 \nQ 1056 1369 1301 889 \nQ 1547 409 2034 409 \nQ 2525 409 2770 889 \nQ 3016 1369 3016 2328 \nQ 3016 3291 2770 3770 \nQ 2525 4250 2034 4250 \nz\nM 2034 4750 \nQ 2819 4750 3233 4129 \nQ 3647 3509 3647 2328 \nQ 3647 1150 3233 529 \nQ 2819 -91 2034 -91 \nQ 1250 -91 836 529 \nQ 422 1150 422 2328 \nQ 422 3509 836 4129 \nQ 1250 4750 2034 4750 \nz\n\" transform=\"scale(0.015625)\"/>\n       </defs>\n       <use xlink:href=\"#DejaVuSans-35\"/>\n       <use xlink:href=\"#DejaVuSans-30\" transform=\"translate(63.623047 0)\"/>\n      </g>\n     </g>\n    </g>\n    <g id=\"xtick_2\">\n     <g id=\"line2d_3\">\n      <path d=\"M 142.654276 145.8 \nL 142.654276 7.2 \n\" clip-path=\"url(#p09fa9dcba9)\" style=\"fill: none; stroke: #b0b0b0; stroke-width: 0.8; stroke-linecap: square\"/>\n     </g>\n     <g id=\"line2d_4\">\n      <g>\n       <use xlink:href=\"#m02231f3d51\" x=\"142.654276\" y=\"145.8\" style=\"stroke: #000000; stroke-width: 0.8\"/>\n      </g>\n     </g>\n     <g id=\"text_2\">\n      <!-- 100 -->\n      <g transform=\"translate(133.110526 160.398438) scale(0.1 -0.1)\">\n       <defs>\n        <path id=\"DejaVuSans-31\" d=\"M 794 531 \nL 1825 531 \nL 1825 4091 \nL 703 3866 \nL 703 4441 \nL 1819 4666 \nL 2450 4666 \nL 2450 531 \nL 3481 531 \nL 3481 0 \nL 794 0 \nL 794 531 \nz\n\" transform=\"scale(0.015625)\"/>\n       </defs>\n       <use xlink:href=\"#DejaVuSans-31\"/>\n       <use xlink:href=\"#DejaVuSans-30\" transform=\"translate(63.623047 0)\"/>\n       <use xlink:href=\"#DejaVuSans-30\" transform=\"translate(127.246094 0)\"/>\n      </g>\n     </g>\n    </g>\n    <g id=\"xtick_3\">\n     <g id=\"line2d_5\">\n      <path d=\"M 194.049013 145.8 \nL 194.049013 7.2 \n\" clip-path=\"url(#p09fa9dcba9)\" style=\"fill: none; stroke: #b0b0b0; stroke-width: 0.8; stroke-linecap: square\"/>\n     </g>\n     <g id=\"line2d_6\">\n      <g>\n       <use xlink:href=\"#m02231f3d51\" x=\"194.049013\" y=\"145.8\" style=\"stroke: #000000; stroke-width: 0.8\"/>\n      </g>\n     </g>\n     <g id=\"text_3\">\n      <!-- 150 -->\n      <g transform=\"translate(184.505263 160.398438) scale(0.1 -0.1)\">\n       <use xlink:href=\"#DejaVuSans-31\"/>\n       <use xlink:href=\"#DejaVuSans-35\" transform=\"translate(63.623047 0)\"/>\n       <use xlink:href=\"#DejaVuSans-30\" transform=\"translate(127.246094 0)\"/>\n      </g>\n     </g>\n    </g>\n    <g id=\"xtick_4\">\n     <g id=\"line2d_7\">\n      <path d=\"M 245.44375 145.8 \nL 245.44375 7.2 \n\" clip-path=\"url(#p09fa9dcba9)\" style=\"fill: none; stroke: #b0b0b0; stroke-width: 0.8; stroke-linecap: square\"/>\n     </g>\n     <g id=\"line2d_8\">\n      <g>\n       <use xlink:href=\"#m02231f3d51\" x=\"245.44375\" y=\"145.8\" style=\"stroke: #000000; stroke-width: 0.8\"/>\n      </g>\n     </g>\n     <g id=\"text_4\">\n      <!-- 200 -->\n      <g transform=\"translate(235.9 160.398438) scale(0.1 -0.1)\">\n       <defs>\n        <path id=\"DejaVuSans-32\" d=\"M 1228 531 \nL 3431 531 \nL 3431 0 \nL 469 0 \nL 469 531 \nQ 828 903 1448 1529 \nQ 2069 2156 2228 2338 \nQ 2531 2678 2651 2914 \nQ 2772 3150 2772 3378 \nQ 2772 3750 2511 3984 \nQ 2250 4219 1831 4219 \nQ 1534 4219 1204 4116 \nQ 875 4013 500 3803 \nL 500 4441 \nQ 881 4594 1212 4672 \nQ 1544 4750 1819 4750 \nQ 2544 4750 2975 4387 \nQ 3406 4025 3406 3419 \nQ 3406 3131 3298 2873 \nQ 3191 2616 2906 2266 \nQ 2828 2175 2409 1742 \nQ 1991 1309 1228 531 \nz\n\" transform=\"scale(0.015625)\"/>\n       </defs>\n       <use xlink:href=\"#DejaVuSans-32\"/>\n       <use xlink:href=\"#DejaVuSans-30\" transform=\"translate(63.623047 0)\"/>\n       <use xlink:href=\"#DejaVuSans-30\" transform=\"translate(127.246094 0)\"/>\n      </g>\n     </g>\n    </g>\n    <g id=\"text_5\">\n     <!-- epoch -->\n     <g transform=\"translate(132.565625 174.076563) scale(0.1 -0.1)\">\n      <defs>\n       <path id=\"DejaVuSans-65\" d=\"M 3597 1894 \nL 3597 1613 \nL 953 1613 \nQ 991 1019 1311 708 \nQ 1631 397 2203 397 \nQ 2534 397 2845 478 \nQ 3156 559 3463 722 \nL 3463 178 \nQ 3153 47 2828 -22 \nQ 2503 -91 2169 -91 \nQ 1331 -91 842 396 \nQ 353 884 353 1716 \nQ 353 2575 817 3079 \nQ 1281 3584 2069 3584 \nQ 2775 3584 3186 3129 \nQ 3597 2675 3597 1894 \nz\nM 3022 2063 \nQ 3016 2534 2758 2815 \nQ 2500 3097 2075 3097 \nQ 1594 3097 1305 2825 \nQ 1016 2553 972 2059 \nL 3022 2063 \nz\n\" transform=\"scale(0.015625)\"/>\n       <path id=\"DejaVuSans-70\" d=\"M 1159 525 \nL 1159 -1331 \nL 581 -1331 \nL 581 3500 \nL 1159 3500 \nL 1159 2969 \nQ 1341 3281 1617 3432 \nQ 1894 3584 2278 3584 \nQ 2916 3584 3314 3078 \nQ 3713 2572 3713 1747 \nQ 3713 922 3314 415 \nQ 2916 -91 2278 -91 \nQ 1894 -91 1617 61 \nQ 1341 213 1159 525 \nz\nM 3116 1747 \nQ 3116 2381 2855 2742 \nQ 2594 3103 2138 3103 \nQ 1681 3103 1420 2742 \nQ 1159 2381 1159 1747 \nQ 1159 1113 1420 752 \nQ 1681 391 2138 391 \nQ 2594 391 2855 752 \nQ 3116 1113 3116 1747 \nz\n\" transform=\"scale(0.015625)\"/>\n       <path id=\"DejaVuSans-6f\" d=\"M 1959 3097 \nQ 1497 3097 1228 2736 \nQ 959 2375 959 1747 \nQ 959 1119 1226 758 \nQ 1494 397 1959 397 \nQ 2419 397 2687 759 \nQ 2956 1122 2956 1747 \nQ 2956 2369 2687 2733 \nQ 2419 3097 1959 3097 \nz\nM 1959 3584 \nQ 2709 3584 3137 3096 \nQ 3566 2609 3566 1747 \nQ 3566 888 3137 398 \nQ 2709 -91 1959 -91 \nQ 1206 -91 779 398 \nQ 353 888 353 1747 \nQ 353 2609 779 3096 \nQ 1206 3584 1959 3584 \nz\n\" transform=\"scale(0.015625)\"/>\n       <path id=\"DejaVuSans-63\" d=\"M 3122 3366 \nL 3122 2828 \nQ 2878 2963 2633 3030 \nQ 2388 3097 2138 3097 \nQ 1578 3097 1268 2742 \nQ 959 2388 959 1747 \nQ 959 1106 1268 751 \nQ 1578 397 2138 397 \nQ 2388 397 2633 464 \nQ 2878 531 3122 666 \nL 3122 134 \nQ 2881 22 2623 -34 \nQ 2366 -91 2075 -91 \nQ 1284 -91 818 406 \nQ 353 903 353 1747 \nQ 353 2603 823 3093 \nQ 1294 3584 2113 3584 \nQ 2378 3584 2631 3529 \nQ 2884 3475 3122 3366 \nz\n\" transform=\"scale(0.015625)\"/>\n       <path id=\"DejaVuSans-68\" d=\"M 3513 2113 \nL 3513 0 \nL 2938 0 \nL 2938 2094 \nQ 2938 2591 2744 2837 \nQ 2550 3084 2163 3084 \nQ 1697 3084 1428 2787 \nQ 1159 2491 1159 1978 \nL 1159 0 \nL 581 0 \nL 581 4863 \nL 1159 4863 \nL 1159 2956 \nQ 1366 3272 1645 3428 \nQ 1925 3584 2291 3584 \nQ 2894 3584 3203 3211 \nQ 3513 2838 3513 2113 \nz\n\" transform=\"scale(0.015625)\"/>\n      </defs>\n      <use xlink:href=\"#DejaVuSans-65\"/>\n      <use xlink:href=\"#DejaVuSans-70\" transform=\"translate(61.523438 0)\"/>\n      <use xlink:href=\"#DejaVuSans-6f\" transform=\"translate(125 0)\"/>\n      <use xlink:href=\"#DejaVuSans-63\" transform=\"translate(186.181641 0)\"/>\n      <use xlink:href=\"#DejaVuSans-68\" transform=\"translate(241.162109 0)\"/>\n     </g>\n    </g>\n   </g>\n   <g id=\"matplotlib.axis_2\">\n    <g id=\"ytick_1\">\n     <g id=\"line2d_9\">\n      <path d=\"M 50.14375 123.245809 \nL 245.44375 123.245809 \n\" clip-path=\"url(#p09fa9dcba9)\" style=\"fill: none; stroke: #b0b0b0; stroke-width: 0.8; stroke-linecap: square\"/>\n     </g>\n     <g id=\"line2d_10\">\n      <defs>\n       <path id=\"mfdf5c5ce80\" d=\"M 0 0 \nL -3.5 0 \n\" style=\"stroke: #000000; stroke-width: 0.8\"/>\n      </defs>\n      <g>\n       <use xlink:href=\"#mfdf5c5ce80\" x=\"50.14375\" y=\"123.245809\" style=\"stroke: #000000; stroke-width: 0.8\"/>\n      </g>\n     </g>\n     <g id=\"text_6\">\n      <!-- 0.05 -->\n      <g transform=\"translate(20.878125 127.045027) scale(0.1 -0.1)\">\n       <defs>\n        <path id=\"DejaVuSans-2e\" d=\"M 684 794 \nL 1344 794 \nL 1344 0 \nL 684 0 \nL 684 794 \nz\n\" transform=\"scale(0.015625)\"/>\n       </defs>\n       <use xlink:href=\"#DejaVuSans-30\"/>\n       <use xlink:href=\"#DejaVuSans-2e\" transform=\"translate(63.623047 0)\"/>\n       <use xlink:href=\"#DejaVuSans-30\" transform=\"translate(95.410156 0)\"/>\n       <use xlink:href=\"#DejaVuSans-35\" transform=\"translate(159.033203 0)\"/>\n      </g>\n     </g>\n    </g>\n    <g id=\"ytick_2\">\n     <g id=\"line2d_11\">\n      <path d=\"M 50.14375 80.163161 \nL 245.44375 80.163161 \n\" clip-path=\"url(#p09fa9dcba9)\" style=\"fill: none; stroke: #b0b0b0; stroke-width: 0.8; stroke-linecap: square\"/>\n     </g>\n     <g id=\"line2d_12\">\n      <g>\n       <use xlink:href=\"#mfdf5c5ce80\" x=\"50.14375\" y=\"80.163161\" style=\"stroke: #000000; stroke-width: 0.8\"/>\n      </g>\n     </g>\n     <g id=\"text_7\">\n      <!-- 0.10 -->\n      <g transform=\"translate(20.878125 83.96238) scale(0.1 -0.1)\">\n       <use xlink:href=\"#DejaVuSans-30\"/>\n       <use xlink:href=\"#DejaVuSans-2e\" transform=\"translate(63.623047 0)\"/>\n       <use xlink:href=\"#DejaVuSans-31\" transform=\"translate(95.410156 0)\"/>\n       <use xlink:href=\"#DejaVuSans-30\" transform=\"translate(159.033203 0)\"/>\n      </g>\n     </g>\n    </g>\n    <g id=\"ytick_3\">\n     <g id=\"line2d_13\">\n      <path d=\"M 50.14375 37.080514 \nL 245.44375 37.080514 \n\" clip-path=\"url(#p09fa9dcba9)\" style=\"fill: none; stroke: #b0b0b0; stroke-width: 0.8; stroke-linecap: square\"/>\n     </g>\n     <g id=\"line2d_14\">\n      <g>\n       <use xlink:href=\"#mfdf5c5ce80\" x=\"50.14375\" y=\"37.080514\" style=\"stroke: #000000; stroke-width: 0.8\"/>\n      </g>\n     </g>\n     <g id=\"text_8\">\n      <!-- 0.15 -->\n      <g transform=\"translate(20.878125 40.879733) scale(0.1 -0.1)\">\n       <use xlink:href=\"#DejaVuSans-30\"/>\n       <use xlink:href=\"#DejaVuSans-2e\" transform=\"translate(63.623047 0)\"/>\n       <use xlink:href=\"#DejaVuSans-31\" transform=\"translate(95.410156 0)\"/>\n       <use xlink:href=\"#DejaVuSans-35\" transform=\"translate(159.033203 0)\"/>\n      </g>\n     </g>\n    </g>\n    <g id=\"text_9\">\n     <!-- loss -->\n     <g transform=\"translate(14.798437 86.157813) rotate(-90) scale(0.1 -0.1)\">\n      <defs>\n       <path id=\"DejaVuSans-6c\" d=\"M 603 4863 \nL 1178 4863 \nL 1178 0 \nL 603 0 \nL 603 4863 \nz\n\" transform=\"scale(0.015625)\"/>\n       <path id=\"DejaVuSans-73\" d=\"M 2834 3397 \nL 2834 2853 \nQ 2591 2978 2328 3040 \nQ 2066 3103 1784 3103 \nQ 1356 3103 1142 2972 \nQ 928 2841 928 2578 \nQ 928 2378 1081 2264 \nQ 1234 2150 1697 2047 \nL 1894 2003 \nQ 2506 1872 2764 1633 \nQ 3022 1394 3022 966 \nQ 3022 478 2636 193 \nQ 2250 -91 1575 -91 \nQ 1294 -91 989 -36 \nQ 684 19 347 128 \nL 347 722 \nQ 666 556 975 473 \nQ 1284 391 1588 391 \nQ 1994 391 2212 530 \nQ 2431 669 2431 922 \nQ 2431 1156 2273 1281 \nQ 2116 1406 1581 1522 \nL 1381 1569 \nQ 847 1681 609 1914 \nQ 372 2147 372 2553 \nQ 372 3047 722 3315 \nQ 1072 3584 1716 3584 \nQ 2034 3584 2315 3537 \nQ 2597 3491 2834 3397 \nz\n\" transform=\"scale(0.015625)\"/>\n      </defs>\n      <use xlink:href=\"#DejaVuSans-6c\"/>\n      <use xlink:href=\"#DejaVuSans-6f\" transform=\"translate(27.783203 0)\"/>\n      <use xlink:href=\"#DejaVuSans-73\" transform=\"translate(88.964844 0)\"/>\n      <use xlink:href=\"#DejaVuSans-73\" transform=\"translate(141.064453 0)\"/>\n     </g>\n    </g>\n   </g>\n   <g id=\"line2d_15\">\n    <path d=\"M 50.14375 13.5 \nL 60.422697 59.947153 \nL 70.701645 83.688112 \nL 80.980592 100.83236 \nL 91.259539 111.173048 \nL 101.538487 117.737298 \nL 111.817434 121.50452 \nL 122.096382 126.889866 \nL 132.375329 129.297129 \nL 142.654276 128.478635 \nL 152.933224 133.085618 \nL 163.212171 134.350128 \nL 173.491118 134.638859 \nL 183.770066 134.793625 \nL 194.049013 136.508644 \nL 204.327961 137.18569 \nL 214.606908 137.784448 \nL 224.885855 139.366422 \nL 235.164803 137.403377 \nL 245.44375 139.5 \n\" clip-path=\"url(#p09fa9dcba9)\" style=\"fill: none; stroke: #1f77b4; stroke-width: 1.5; stroke-linecap: square\"/>\n   </g>\n   <g id=\"patch_3\">\n    <path d=\"M 50.14375 145.8 \nL 50.14375 7.2 \n\" style=\"fill: none; stroke: #000000; stroke-width: 0.8; stroke-linejoin: miter; stroke-linecap: square\"/>\n   </g>\n   <g id=\"patch_4\">\n    <path d=\"M 245.44375 145.8 \nL 245.44375 7.2 \n\" style=\"fill: none; stroke: #000000; stroke-width: 0.8; stroke-linejoin: miter; stroke-linecap: square\"/>\n   </g>\n   <g id=\"patch_5\">\n    <path d=\"M 50.14375 145.8 \nL 245.44375 145.8 \n\" style=\"fill: none; stroke: #000000; stroke-width: 0.8; stroke-linejoin: miter; stroke-linecap: square\"/>\n   </g>\n   <g id=\"patch_6\">\n    <path d=\"M 50.14375 7.2 \nL 245.44375 7.2 \n\" style=\"fill: none; stroke: #000000; stroke-width: 0.8; stroke-linejoin: miter; stroke-linecap: square\"/>\n   </g>\n  </g>\n </g>\n <defs>\n  <clipPath id=\"p09fa9dcba9\">\n   <rect x=\"50.14375\" y=\"7.2\" width=\"195.3\" height=\"138.6\"/>\n  </clipPath>\n </defs>\n</svg>\n"
          },
          "metadata": {}
        }
      ],
      "source": [
        "num_hiddens, num_layers, dropout, batch_size, num_steps = 32, 2, 0.1, 64, 10\n",
        "lr, num_epochs, device = 0.005, 200, d2l.try_gpu()\n",
        "ffn_num_input, ffn_num_hiddens, num_heads = 32, 64, 4\n",
        "key_size, query_size, value_size = 32, 32, 32\n",
        "norm_shape = [32]\n",
        "\n",
        "train_iter, src_vocab, tgt_vocab = d2l.load_data_nmt(batch_size, num_steps)\n",
        "\n",
        "encoder = TransformerEncoder(\n",
        "    len(src_vocab), key_size, query_size, value_size, num_hiddens,\n",
        "    norm_shape, ffn_num_input, ffn_num_hiddens, num_heads,\n",
        "    num_layers, dropout)\n",
        "decoder = TransformerDecoder(\n",
        "    len(tgt_vocab), key_size, query_size, value_size, num_hiddens,\n",
        "    norm_shape, ffn_num_input, ffn_num_hiddens, num_heads,\n",
        "    num_layers, dropout)\n",
        "net = EncoderDecoder(encoder, decoder)\n",
        "train_seq2seq(net, train_iter, lr, num_epochs, tgt_vocab, device)"
      ]
    },
    {
      "cell_type": "markdown",
      "source": [
        "## 预测"
      ],
      "metadata": {
        "id": "532prvl77bA7"
      },
      "id": "532prvl77bA7"
    },
    {
      "cell_type": "markdown",
      "source": [
        "### 预测方法"
      ],
      "metadata": {
        "id": "nJ76Ttcl7fcD"
      },
      "id": "nJ76Ttcl7fcD"
    },
    {
      "cell_type": "code",
      "source": [
        "import collections\n",
        "import math\n",
        "def predict_seq2seq(net, src_sentence, src_vocab, tgt_vocab, num_steps,\n",
        "                    device, save_attention_weights=False):\n",
        "    \"\"\"序列到序列模型的预测\"\"\"\n",
        "    # 在预测时将net设置为评估模式\n",
        "    net.eval()\n",
        "    src_tokens = src_vocab[src_sentence.lower().split(' ')] + [\n",
        "        src_vocab['<eos>']]\n",
        "    enc_valid_len = torch.tensor([len(src_tokens)], device=device)\n",
        "    src_tokens = d2l.truncate_pad(src_tokens, num_steps, src_vocab['<pad>'])\n",
        "    # 添加批量轴\n",
        "    enc_X = torch.unsqueeze(\n",
        "        torch.tensor(src_tokens, dtype=torch.long, device=device), dim=0)\n",
        "    enc_outputs = net.encoder(enc_X, enc_valid_len)\n",
        "    dec_state = net.decoder.init_state(enc_outputs, enc_valid_len)\n",
        "    # 添加批量轴\n",
        "    dec_X = torch.unsqueeze(torch.tensor(\n",
        "        [tgt_vocab['<bos>']], dtype=torch.long, device=device), dim=0)\n",
        "    output_seq, attention_weight_seq = [], []\n",
        "    for _ in range(num_steps):\n",
        "        Y, dec_state = net.decoder(dec_X, dec_state)\n",
        "        # 我们使用具有预测最高可能性的词元，作为解码器在下一时间步的输入\n",
        "        dec_X = Y.argmax(dim=2)\n",
        "        pred = dec_X.squeeze(dim=0).type(torch.int32).item()\n",
        "        # 保存注意力权重（稍后讨论）\n",
        "        if save_attention_weights:\n",
        "            attention_weight_seq.append(net.decoder.attention_weights)\n",
        "        # 一旦序列结束词元被预测，输出序列的生成就完成了\n",
        "        if pred == tgt_vocab['<eos>']:\n",
        "            break\n",
        "        output_seq.append(pred)\n",
        "    return ' '.join(tgt_vocab.to_tokens(output_seq)), attention_weight_seq\n",
        "\n",
        "def bleu(pred_seq, label_seq, k):\n",
        "    \"\"\"计算BLEU\"\"\"\n",
        "    pred_tokens, label_tokens = pred_seq.split(' '), label_seq.split(' ')\n",
        "    len_pred, len_label = len(pred_tokens), len(label_tokens)\n",
        "    score = math.exp(min(0, 1 - len_label / len_pred))\n",
        "    for n in range(1, k + 1):\n",
        "        num_matches, label_subs = 0, collections.defaultdict(int)\n",
        "        for i in range(len_label - n + 1):\n",
        "            label_subs[' '.join(label_tokens[i: i + n])] += 1\n",
        "        for i in range(len_pred - n + 1):\n",
        "            if label_subs[' '.join(pred_tokens[i: i + n])] > 0:\n",
        "                num_matches += 1\n",
        "                label_subs[' '.join(pred_tokens[i: i + n])] -= 1\n",
        "        score *= math.pow(num_matches / (len_pred - n + 1), math.pow(0.5, n))\n",
        "    return score"
      ],
      "metadata": {
        "id": "c4Py5Ln87hIF"
      },
      "id": "c4Py5Ln87hIF",
      "execution_count": 3,
      "outputs": []
    },
    {
      "cell_type": "markdown",
      "source": [
        "### 执行预测"
      ],
      "metadata": {
        "id": "zn0309dL7dt4"
      },
      "id": "zn0309dL7dt4"
    },
    {
      "cell_type": "markdown",
      "id": "feb9d093",
      "metadata": {
        "origin_pos": 67,
        "id": "feb9d093"
      },
      "source": [
        "训练结束后，使用Transformer模型[**将一些英语句子翻译成法语**]，并且计算它们的BLEU分数。\n"
      ]
    },
    {
      "cell_type": "code",
      "execution_count": null,
      "id": "a21c8779",
      "metadata": {
        "execution": {
          "iopub.execute_input": "2023-08-18T07:22:31.089687Z",
          "iopub.status.busy": "2023-08-18T07:22:31.089409Z",
          "iopub.status.idle": "2023-08-18T07:22:31.190689Z",
          "shell.execute_reply": "2023-08-18T07:22:31.189851Z"
        },
        "origin_pos": 68,
        "tab": [
          "pytorch"
        ],
        "id": "a21c8779"
      },
      "outputs": [],
      "source": [
        "engs = ['go .', \"i lost .\", 'he\\'s calm .', 'i\\'m home .']\n",
        "fras = ['va !', 'j\\'ai perdu .', 'il est calme .', 'je suis chez moi .']\n",
        "for eng, fra in zip(engs, fras):\n",
        "    translation, dec_attention_weight_seq = predict_seq2seq(\n",
        "        net, eng, src_vocab, tgt_vocab, num_steps, device, True)\n",
        "    print(f'{eng} => {translation}, ',\n",
        "          f'bleu {d2l.bleu(translation, fra, k=2):.3f}')"
      ]
    },
    {
      "cell_type": "markdown",
      "id": "a9d3170e",
      "metadata": {
        "origin_pos": 70,
        "id": "a9d3170e"
      },
      "source": [
        "当进行最后一个英语到法语的句子翻译工作时，让我们[**可视化Transformer的注意力权重**]。编码器自注意力权重的形状为（编码器层数，注意力头数，`num_steps`或查询的数目，`num_steps`或“键－值”对的数目）。\n"
      ]
    },
    {
      "cell_type": "code",
      "execution_count": null,
      "id": "937e4ab4",
      "metadata": {
        "execution": {
          "iopub.execute_input": "2023-08-18T07:22:31.194154Z",
          "iopub.status.busy": "2023-08-18T07:22:31.193869Z",
          "iopub.status.idle": "2023-08-18T07:22:31.200327Z",
          "shell.execute_reply": "2023-08-18T07:22:31.199543Z"
        },
        "origin_pos": 71,
        "tab": [
          "pytorch"
        ],
        "id": "937e4ab4"
      },
      "outputs": [],
      "source": [
        "enc_attention_weights = torch.cat(net.encoder.attention_weights, 0).reshape((num_layers, num_heads,\n",
        "    -1, num_steps))\n",
        "enc_attention_weights.shape"
      ]
    },
    {
      "cell_type": "markdown",
      "id": "ca2a5bf2",
      "metadata": {
        "origin_pos": 72,
        "id": "ca2a5bf2"
      },
      "source": [
        "在编码器的自注意力中，查询和键都来自相同的输入序列。因为填充词元是不携带信息的，因此通过指定输入序列的有效长度可以避免查询与使用填充词元的位置计算注意力。接下来，将逐行呈现两层多头注意力的权重。每个注意力头都根据查询、键和值的不同的表示子空间来表示不同的注意力。\n"
      ]
    },
    {
      "cell_type": "code",
      "execution_count": null,
      "id": "0b408905",
      "metadata": {
        "execution": {
          "iopub.execute_input": "2023-08-18T07:22:31.204505Z",
          "iopub.status.busy": "2023-08-18T07:22:31.203733Z",
          "iopub.status.idle": "2023-08-18T07:22:31.970964Z",
          "shell.execute_reply": "2023-08-18T07:22:31.969901Z"
        },
        "origin_pos": 74,
        "tab": [
          "pytorch"
        ],
        "id": "0b408905"
      },
      "outputs": [],
      "source": [
        "d2l.show_heatmaps(\n",
        "    enc_attention_weights.cpu(), xlabel='Key positions',\n",
        "    ylabel='Query positions', titles=['Head %d' % i for i in range(1, 5)],\n",
        "    figsize=(7, 3.5))"
      ]
    },
    {
      "cell_type": "markdown",
      "id": "5943a056",
      "metadata": {
        "origin_pos": 75,
        "id": "5943a056"
      },
      "source": [
        "[**为了可视化解码器的自注意力权重和“编码器－解码器”的注意力权重，我们需要完成更多的数据操作工作。**]例如用零填充被掩蔽住的注意力权重。值得注意的是，解码器的自注意力权重和“编码器－解码器”的注意力权重都有相同的查询：即以*序列开始词元*（beginning-of-sequence,BOS）打头，再与后续输出的词元共同组成序列。\n"
      ]
    },
    {
      "cell_type": "code",
      "execution_count": null,
      "id": "b4898564",
      "metadata": {
        "execution": {
          "iopub.execute_input": "2023-08-18T07:22:31.975096Z",
          "iopub.status.busy": "2023-08-18T07:22:31.974177Z",
          "iopub.status.idle": "2023-08-18T07:22:31.987757Z",
          "shell.execute_reply": "2023-08-18T07:22:31.986824Z"
        },
        "origin_pos": 77,
        "tab": [
          "pytorch"
        ],
        "id": "b4898564"
      },
      "outputs": [],
      "source": [
        "dec_attention_weights_2d = [head[0].tolist()\n",
        "                            for step in dec_attention_weight_seq\n",
        "                            for attn in step for blk in attn for head in blk]\n",
        "dec_attention_weights_filled = torch.tensor(\n",
        "    pd.DataFrame(dec_attention_weights_2d).fillna(0.0).values)\n",
        "dec_attention_weights = dec_attention_weights_filled.reshape((-1, 2, num_layers, num_heads, num_steps))\n",
        "dec_self_attention_weights, dec_inter_attention_weights = \\\n",
        "    dec_attention_weights.permute(1, 2, 3, 0, 4)\n",
        "dec_self_attention_weights.shape, dec_inter_attention_weights.shape"
      ]
    },
    {
      "cell_type": "markdown",
      "id": "3e4e5d7a",
      "metadata": {
        "origin_pos": 80,
        "id": "3e4e5d7a"
      },
      "source": [
        "由于解码器自注意力的自回归属性，查询不会对当前位置之后的“键－值”对进行注意力计算。\n"
      ]
    },
    {
      "cell_type": "code",
      "execution_count": null,
      "id": "8f162beb",
      "metadata": {
        "execution": {
          "iopub.execute_input": "2023-08-18T07:22:31.991865Z",
          "iopub.status.busy": "2023-08-18T07:22:31.990973Z",
          "iopub.status.idle": "2023-08-18T07:22:32.664530Z",
          "shell.execute_reply": "2023-08-18T07:22:32.663454Z"
        },
        "origin_pos": 81,
        "tab": [
          "pytorch"
        ],
        "id": "8f162beb"
      },
      "outputs": [],
      "source": [
        "# Plusonetoincludethebeginning-of-sequencetoken\n",
        "d2l.show_heatmaps(\n",
        "    dec_self_attention_weights[:, :, :, :len(translation.split()) + 1],\n",
        "    xlabel='Key positions', ylabel='Query positions',\n",
        "    titles=['Head %d' % i for i in range(1, 5)], figsize=(7, 3.5))"
      ]
    },
    {
      "cell_type": "markdown",
      "id": "ddb7c476",
      "metadata": {
        "origin_pos": 82,
        "id": "ddb7c476"
      },
      "source": [
        "与编码器的自注意力的情况类似，通过指定输入序列的有效长度，[**输出序列的查询不会与输入序列中填充位置的词元进行注意力计算**]。\n"
      ]
    },
    {
      "cell_type": "code",
      "execution_count": null,
      "id": "910d950f",
      "metadata": {
        "execution": {
          "iopub.execute_input": "2023-08-18T07:22:32.668822Z",
          "iopub.status.busy": "2023-08-18T07:22:32.667894Z",
          "iopub.status.idle": "2023-08-18T07:22:33.326167Z",
          "shell.execute_reply": "2023-08-18T07:22:33.325372Z"
        },
        "origin_pos": 83,
        "tab": [
          "pytorch"
        ],
        "id": "910d950f"
      },
      "outputs": [],
      "source": [
        "d2l.show_heatmaps(\n",
        "    dec_inter_attention_weights, xlabel='Key positions',\n",
        "    ylabel='Query positions', titles=['Head %d' % i for i in range(1, 5)],\n",
        "    figsize=(7, 3.5))"
      ]
    },
    {
      "cell_type": "markdown",
      "id": "771a0d76",
      "metadata": {
        "origin_pos": 84,
        "id": "771a0d76"
      },
      "source": [
        "尽管Transformer架构是为了*序列到序列*的学习而提出的，但正如本书后面将提及的那样，Transformer编码器或Transformer解码器通常被单独用于不同的深度学习任务中。\n",
        "\n",
        "## 小结\n",
        "\n",
        "* Transformer是编码器－解码器架构的一个实践，尽管在实际情况中编码器或解码器可以单独使用。\n",
        "* 在Transformer中，多头自注意力用于表示输入序列和输出序列，不过解码器必须通过掩蔽机制来保留自回归属性。\n",
        "* Transformer中的残差连接和层规范化是训练非常深度模型的重要工具。\n",
        "* Transformer模型中基于位置的前馈网络使用同一个多层感知机，作用是对所有序列位置的表示进行转换。\n",
        "\n",
        "## 练习\n",
        "\n",
        "1. 在实验中训练更深的Transformer将如何影响训练速度和翻译效果？\n",
        "1. 在Transformer中使用加性注意力取代缩放点积注意力是不是个好办法？为什么？\n",
        "1. 对于语言模型，应该使用Transformer的编码器还是解码器，或者两者都用？如何设计？\n",
        "1. 如果输入序列很长，Transformer会面临什么挑战？为什么？\n",
        "1. 如何提高Transformer的计算速度和内存使用效率？提示：可以参考论文 :cite:`Tay.Dehghani.Bahri.ea.2020`。\n",
        "1. 如果不使用卷积神经网络，如何设计基于Transformer模型的图像分类任务？提示：可以参考Vision Transformer :cite:`Dosovitskiy.Beyer.Kolesnikov.ea.2021`。\n"
      ]
    },
    {
      "cell_type": "markdown",
      "id": "b36a7e4f",
      "metadata": {
        "origin_pos": 86,
        "tab": [
          "pytorch"
        ],
        "id": "b36a7e4f"
      },
      "source": [
        "[Discussions](https://discuss.d2l.ai/t/5756)\n"
      ]
    }
  ],
  "metadata": {
    "kernelspec": {
      "display_name": "Python 3",
      "name": "python3"
    },
    "language_info": {
      "name": "python"
    },
    "required_libs": [],
    "colab": {
      "provenance": [],
      "include_colab_link": true
    }
  },
  "nbformat": 4,
  "nbformat_minor": 5
}