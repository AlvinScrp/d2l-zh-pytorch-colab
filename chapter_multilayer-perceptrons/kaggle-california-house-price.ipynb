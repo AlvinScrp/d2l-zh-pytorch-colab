{
  "cells": [
    {
      "cell_type": "markdown",
      "metadata": {
        "id": "view-in-github",
        "colab_type": "text"
      },
      "source": [
        "<a href=\"https://colab.research.google.com/github/AlvinScrp/d2l-zh-pytorch-colab/blob/main/chapter_multilayer-perceptrons/kaggle-california-house-price.ipynb\" target=\"_parent\"><img src=\"https://colab.research.google.com/assets/colab-badge.svg\" alt=\"Open In Colab\"/></a>"
      ]
    },
    {
      "cell_type": "markdown",
      "id": "27122f4d",
      "metadata": {
        "id": "27122f4d"
      },
      "source": [
        "The following additional libraries are needed to run this\n",
        "notebook. Note that running on Colab is experimental, please report a Github\n",
        "issue if you have any problem."
      ]
    },
    {
      "cell_type": "code",
      "execution_count": 3,
      "id": "48c8600b",
      "metadata": {
        "id": "48c8600b",
        "outputId": "1578cebd-b5cd-48c2-9757-4536d9f33ab9",
        "colab": {
          "base_uri": "https://localhost:8080/"
        }
      },
      "outputs": [
        {
          "output_type": "stream",
          "name": "stdout",
          "text": [
            "Requirement already satisfied: numpy in /usr/local/lib/python3.12/dist-packages (2.0.2)\n",
            "Collecting d2l\n",
            "  Downloading d2l-1.0.3-py3-none-any.whl.metadata (556 bytes)\n",
            "Downloading d2l-1.0.3-py3-none-any.whl (111 kB)\n",
            "\u001b[2K   \u001b[90m━━━━━━━━━━━━━━━━━━━━━━━━━━━━━━━━━━━━━━━━\u001b[0m \u001b[32m111.7/111.7 kB\u001b[0m \u001b[31m2.1 MB/s\u001b[0m eta \u001b[36m0:00:00\u001b[0m\n",
            "\u001b[?25hInstalling collected packages: d2l\n",
            "Successfully installed d2l-1.0.3\n"
          ]
        }
      ],
      "source": [
        "!pip install numpy d2l --no-deps # installing d2l # installing d2l\n"
      ]
    },
    {
      "cell_type": "markdown",
      "id": "937f9e37",
      "metadata": {
        "origin_pos": 0,
        "id": "937f9e37"
      },
      "source": [
        "# 实战Kaggle比赛：California House Prices\n",
        "\n",
        "https://www.kaggle.com/competitions/california-house-prices/data?select=train.csv\n",
        "\n",
        "本节我们将详细介绍数据预处理、模型设计和超参数选择。\n",
        "通过亲身实践，你将获得一手经验，这些经验将有益数据科学家的职业成长。\n",
        "\n",
        "## 数据集"
      ]
    },
    {
      "cell_type": "code",
      "source": [
        "!pip install pandas\n",
        "%matplotlib inline\n",
        "import numpy as np # linear algebra\n",
        "import pandas as pd # data processing, CSV file I/O (e.g. pd.read_csv)\n",
        "import os\n",
        "import torch\n",
        "from torch import nn\n",
        "from d2l import torch as d2l\n",
        "from sklearn.decomposition import PCA\n",
        "from sklearn.preprocessing import StandardScaler\n",
        "from sklearn.model_selection import KFold\n"
      ],
      "metadata": {
        "id": "jSOg63Ga6d5_",
        "outputId": "e32494e4-fc7d-4574-e096-81490e357046",
        "colab": {
          "base_uri": "https://localhost:8080/"
        }
      },
      "id": "jSOg63Ga6d5_",
      "execution_count": 4,
      "outputs": [
        {
          "output_type": "stream",
          "name": "stdout",
          "text": [
            "Requirement already satisfied: pandas in /usr/local/lib/python3.12/dist-packages (2.2.2)\n",
            "Requirement already satisfied: numpy>=1.26.0 in /usr/local/lib/python3.12/dist-packages (from pandas) (2.0.2)\n",
            "Requirement already satisfied: python-dateutil>=2.8.2 in /usr/local/lib/python3.12/dist-packages (from pandas) (2.9.0.post0)\n",
            "Requirement already satisfied: pytz>=2020.1 in /usr/local/lib/python3.12/dist-packages (from pandas) (2025.2)\n",
            "Requirement already satisfied: tzdata>=2022.7 in /usr/local/lib/python3.12/dist-packages (from pandas) (2025.2)\n",
            "Requirement already satisfied: six>=1.5 in /usr/local/lib/python3.12/dist-packages (from python-dateutil>=2.8.2->pandas) (1.17.0)\n"
          ]
        }
      ]
    },
    {
      "cell_type": "code",
      "execution_count": 27,
      "id": "55aee9f2",
      "metadata": {
        "execution": {
          "iopub.execute_input": "2023-08-18T06:58:33.716674Z",
          "iopub.status.busy": "2023-08-18T06:58:33.715846Z",
          "iopub.status.idle": "2023-08-18T06:58:33.722539Z",
          "shell.execute_reply": "2023-08-18T06:58:33.721369Z"
        },
        "origin_pos": 16,
        "tab": [
          "pytorch"
        ],
        "id": "55aee9f2"
      },
      "outputs": [],
      "source": [
        "# 训练数据有47439行样本/41维,\n",
        "# 测试数据有31626行样本/40维, 测试数据少了Sold Price\n",
        "# 提交数据有31626行样本/2维,Id和Sold Price\n",
        "# https://console.cloud.tencent.com/tcb/storage/index?envId=pro-5gu0t2os8cdd45f2&rid=4&tabId=file\n",
        "# https://7072-pro-5gu0t2os8cdd45f2-1251420592.tcb.qcloud.la/t.png\n",
        "# https://7072-pro-5gu0t2os8cdd45f2-1251420592.tcb.qcloud.la/california_train.csv e4eb9574fa6e36050286f70f0068d530\n",
        "# https://7072-pro-5gu0t2os8cdd45f2-1251420592.tcb.qcloud.la/california_test.csv  0b44bb60fbf29e839e62eff79ea02ea6\n",
        "\n",
        "sample_submission = pd.read_csv('sample_data/california_sample_submission.csv')\n",
        "train_data = pd.read_csv('sample_data/california_train.csv')\n",
        "test_data = pd.read_csv('sample_data/california_test.csv')\n",
        "#将train_data 中的Sold Price移动到最后\n",
        "soldPrice = train_data.pop('Sold Price')\n",
        "train_data['Sold Price'] = soldPrice"
      ]
    },
    {
      "cell_type": "code",
      "source": [
        "print(train_data.shape, test_data.shape,sample_submission.shape,)\n",
        "\n",
        "#让我们看看[前四个和最后两个特征，以及相应标签]（房价）。\n",
        "print(train_data.iloc[0:10, [0, 1, -4,-3, -2, -1]])"
      ],
      "metadata": {
        "id": "5qqZsRsDzYOz",
        "outputId": "144f111b-3212-4afa-c13d-a15139e91f50",
        "colab": {
          "base_uri": "https://localhost:8080/"
        }
      },
      "id": "5qqZsRsDzYOz",
      "execution_count": null,
      "outputs": [
        {
          "output_type": "stream",
          "name": "stdout",
          "text": [
            "(47439, 41) (31626, 40) (31626, 2)\n",
            "   Id            Address           City    Zip State  Sold Price\n",
            "0   0        540 Pine Ln      Los Altos  94022    CA   3825000.0\n",
            "1   1     1727 W 67th St    Los Angeles  90047    CA    505000.0\n",
            "2   2     28093 Pine Ave     Strawberry  95375    CA    140000.0\n",
            "3   3  10750 Braddock Dr    Culver City  90230    CA   1775000.0\n",
            "4   4  7415 O Donovan Rd        Creston  93432    CA   1175000.0\n",
            "5   5   922 E Channel St       Stockton  95202    CA    221000.0\n",
            "6   6    1926 Mellon Ave    Los Angeles  90039    CA   1589000.0\n",
            "7   7   9013 N Valley Rd   Taylorsville  95983    CA    480000.0\n",
            "8   8    225 26th Ave #2  San Francisco  94121    CA   1590000.0\n",
            "9   9    612 Valencia Rd          Aptos  95003    CA   1275000.0\n"
          ]
        }
      ]
    },
    {
      "cell_type": "markdown",
      "id": "9e8244c9",
      "metadata": {
        "origin_pos": 19,
        "id": "9e8244c9"
      },
      "source": [
        "我们可以看到，(**在每个样本中，第一个特征是ID，**)\n",
        "这有助于模型识别每个训练样本。\n",
        "虽然这很方便，但它不携带任何用于预测的信息。\n",
        "因此，在将数据提供给模型之前，(**我们将其从数据集中删除**)。\n",
        "\n",
        "数据的标准化处理 参考教程：https://zh-v2.d2l.ai/chapter_multilayer-perceptrons/kaggle-house-price.html#id8\n"
      ]
    },
    {
      "cell_type": "code",
      "source": [
        "import pandas as pd\n",
        "import numpy as np\n",
        "from sklearn.preprocessing import StandardScaler\n",
        "import hashlib\n",
        "\n",
        "def hash_encode(series, n_buckets=20):\n",
        "    \"\"\"将类别值哈希到固定维度\"\"\"\n",
        "    return series.apply(lambda x: int(hashlib.md5(str(x).encode()).hexdigest(), 16) % n_buckets)\n",
        "\n",
        "def preprocess(df, drop_cols=None):\n",
        "    df = df.copy()\n",
        "\n",
        "    # 1. 删除无意义高基数特征\n",
        "    if drop_cols:\n",
        "        df = df.drop(columns=drop_cols, errors=\"ignore\")\n",
        "    keep_cols = [\"Lot\",\"Bedrooms\",\"Total interior livable area\",\n",
        "                 \"Elementary School Score\",\"Elementary School Distance\",\"Middle School Score\",\"Middle School Distance\",\"High School Score\",\"High School Distance\",\n",
        "                 \"Tax assessed value\",\"Annual tax amount\", \"Listed Price\",\"Last Sold Price\"]\n",
        "    df = df[keep_cols]\n",
        "    df[\"Bedrooms\"] = pd.to_numeric(df[\"Bedrooms\"], errors=\"coerce\").fillna(0).astype(int)\n",
        "\n",
        "    cat_cols = df.select_dtypes(include='object').columns\n",
        "    print(f\"object colunms:{cat_cols}\")\n",
        "\n",
        "\n",
        "    print(\"Train feature columns:\", df.columns.tolist())\n",
        "    print(\"Number of columns:\", len(df.columns))\n",
        "\n",
        "    # 2. 数值特征标准化\n",
        "    numeric_features = df.select_dtypes(exclude='object').columns\n",
        "    scaler = StandardScaler()\n",
        "    df[numeric_features] = scaler.fit_transform(df[numeric_features])\n",
        "    df[numeric_features] = df[numeric_features].fillna(0)\n",
        "\n",
        "    # 3. 分类特征处理\n",
        "    cat_cols = df.select_dtypes(include='object').columns\n",
        "\n",
        "    for col in cat_cols:\n",
        "        n_unique = df[col].nunique()\n",
        "\n",
        "        if n_unique <= 50:\n",
        "            # 低基数 → one-hot\n",
        "            df = pd.get_dummies(df, columns=[col], dummy_na=True)\n",
        "\n",
        "        elif 50 < n_unique <= 400:\n",
        "            # 中等基数 → hash 编码\n",
        "            df[col + \"_hash\"] = hash_encode(df[col])\n",
        "            df[col + \"_hash\"] = df[col + \"_hash\"].astype(\"category\")\n",
        "            # 再 one-hot 以避免数值大小误导\n",
        "            df = pd.get_dummies(df, columns=[col + \"_hash\"], dummy_na=True)\n",
        "            df = df.drop(columns=[col])\n",
        "\n",
        "        else:\n",
        "            # 高基数 → 频率编码\n",
        "            freq = df[col].value_counts()\n",
        "            df[col] = df[col].map(freq).fillna(0)\n",
        "\n",
        "    return df\n",
        "\n",
        "\n",
        "# 定义要删除的列\n",
        "drop_cols = [\"Id\", \"Address\", \"Summary\",\"Listed On\",\"Last Sold On\",\"Elementary School\",\"Middle School\",\"High School\"]\n",
        "train_features = preprocess(train_data.iloc[:10000, :-1], drop_cols=drop_cols)\n",
        "test_features = preprocess(test_data, drop_cols=drop_cols)\n",
        "\n",
        "print(f\"1.train_features.shape:{train_features.shape},test_features.shape:{test_features.shape}\")\n",
        "\n",
        "# 对齐列（训练和测试保证同一维度）\n",
        "train_features, test_features = train_features.align(test_features, join='left', axis=1, fill_value=0)\n",
        "\n",
        "train_features = torch.tensor(train_features.astype('float32').values)\n",
        "test_features = torch.tensor(test_features.astype('float32').values)\n",
        "train_labels = torch.tensor(train_data.iloc[:10000]['Sold Price'].values.reshape(-1, 1), dtype=torch.float32)\n",
        "\n",
        "print(f\"2.train_features.shape:{train_features.shape},test_features.shape:{test_features.shape}\")\n",
        "\n",
        "\n",
        "##另外一种标准化\n",
        "# n_train = train_data.shape[0]\n",
        "# all_features = pd.concat((train_data.iloc[:, 1:-1], test_data.iloc[:, 1:]))\n",
        "# # 若无法获得测试数据，则可根据训练数据计算均值和标准差\n",
        "# numeric_features = all_features.dtypes[all_features.dtypes != 'object'].index\n",
        "# all_features[numeric_features] = all_features[numeric_features].apply(\n",
        "#     lambda x: (x - x.mean()) / (x.std()))\n",
        "# # 在标准化数据之后，所有均值消失，因此我们可以将缺失值设置为0\n",
        "# all_features[numeric_features] = all_features[numeric_features].fillna(0)\n",
        "\n",
        "# # “Dummy_na=True”将“na”（缺失值）视为有效的特征值，并为其创建指示符特征\n",
        "# all_features = pd.get_dummies(all_features, dummy_na=True)\n",
        "# all_features.shape\n",
        "\n",
        "# train_features = torch.tensor(all_features[:n_train].astype('float32').values)\n",
        "# test_features = torch.tensor(all_features[n_train:].astype('float32').values)\n",
        "# train_labels = torch.tensor(train_data.SalePrice.values.reshape(-1, 1), dtype=torch.float32)\n"
      ],
      "metadata": {
        "id": "r2pY9e54oA6k",
        "outputId": "666e8d52-fe35-4384-cadf-714945788b23",
        "colab": {
          "base_uri": "https://localhost:8080/"
        }
      },
      "id": "r2pY9e54oA6k",
      "execution_count": 29,
      "outputs": [
        {
          "output_type": "stream",
          "name": "stdout",
          "text": [
            "object colunms:Index([], dtype='object')\n",
            "Train feature columns: ['Lot', 'Bedrooms', 'Total interior livable area', 'Elementary School Score', 'Elementary School Distance', 'Middle School Score', 'Middle School Distance', 'High School Score', 'High School Distance', 'Tax assessed value', 'Annual tax amount', 'Listed Price', 'Last Sold Price']\n",
            "Number of columns: 13\n",
            "object colunms:Index([], dtype='object')\n",
            "Train feature columns: ['Lot', 'Bedrooms', 'Total interior livable area', 'Elementary School Score', 'Elementary School Distance', 'Middle School Score', 'Middle School Distance', 'High School Score', 'High School Distance', 'Tax assessed value', 'Annual tax amount', 'Listed Price', 'Last Sold Price']\n",
            "Number of columns: 13\n",
            "1.train_features.shape:(10000, 13),test_features.shape:(31626, 13)\n",
            "2.train_features.shape:torch.Size([10000, 13]),test_features.shape:torch.Size([31626, 13])\n"
          ]
        }
      ]
    },
    {
      "cell_type": "code",
      "source": [
        "\n",
        "def show_categorical_uniques(df):\n",
        "    cat_cols = df.select_dtypes(include='object').columns\n",
        "    print(f\"共有 {len(cat_cols)} 个分类特征\\n\")\n",
        "    for col in cat_cols:\n",
        "        print(f\"{col}: {df[col].nunique()} 个唯一值\")\n",
        "show_categorical_uniques(train_data)\n",
        "train_features.shape,train_labels.shape,test_features.shape"
      ],
      "metadata": {
        "id": "OExUedZ1Lgox",
        "outputId": "129073db-e78f-4738-8636-f644bdf566e2",
        "colab": {
          "base_uri": "https://localhost:8080/"
        }
      },
      "id": "OExUedZ1Lgox",
      "execution_count": 32,
      "outputs": [
        {
          "output_type": "stream",
          "name": "stdout",
          "text": [
            "共有 21 个分类特征\n",
            "\n",
            "Address: 47325 个唯一值\n",
            "Summary: 46787 个唯一值\n",
            "Type: 158 个唯一值\n",
            "Heating: 1859 个唯一值\n",
            "Cooling: 540 个唯一值\n",
            "Parking: 5112 个唯一值\n",
            "Bedrooms: 264 个唯一值\n",
            "Region: 949 个唯一值\n",
            "Elementary School: 1717 个唯一值\n",
            "Middle School: 488 个唯一值\n",
            "High School: 630 个唯一值\n",
            "Flooring: 1347 个唯一值\n",
            "Heating features: 1121 个唯一值\n",
            "Cooling features: 311 个唯一值\n",
            "Appliances included: 4583 个唯一值\n",
            "Laundry features: 1975 个唯一值\n",
            "Parking features: 4959 个唯一值\n",
            "Listed On: 2467 个唯一值\n",
            "Last Sold On: 6113 个唯一值\n",
            "City: 929 个唯一值\n",
            "State: 2 个唯一值\n"
          ]
        },
        {
          "output_type": "execute_result",
          "data": {
            "text/plain": [
              "(torch.Size([10000, 13]), torch.Size([10000, 1]), torch.Size([31626, 13]))"
            ]
          },
          "metadata": {},
          "execution_count": 32
        }
      ]
    },
    {
      "cell_type": "markdown",
      "id": "2b949329",
      "metadata": {
        "origin_pos": 27,
        "id": "2b949329"
      },
      "source": [
        "## [**训练**]\n"
      ]
    },
    {
      "cell_type": "code",
      "execution_count": 33,
      "id": "4e16c1dc",
      "metadata": {
        "execution": {
          "iopub.execute_input": "2023-08-18T06:58:33.976812Z",
          "iopub.status.busy": "2023-08-18T06:58:33.974995Z",
          "iopub.status.idle": "2023-08-18T06:58:33.984092Z",
          "shell.execute_reply": "2023-08-18T06:58:33.983132Z"
        },
        "origin_pos": 29,
        "tab": [
          "pytorch"
        ],
        "id": "4e16c1dc"
      },
      "outputs": [],
      "source": [
        "# 均方误差损失（MSE, mean squared error）\n",
        "loss = nn.MSELoss()\n",
        "\n",
        "# 对数均方根误差（Log Root Mean Squared Error, log RMSE）。\n",
        "def log_rmse(net, features, labels):\n",
        "    # 为了在取对数时进一步稳定该值，将小于1的值设置为1\n",
        "    clipped_preds = torch.clamp(net(features), 1, float('inf'))\n",
        "    rmse = torch.sqrt(loss(torch.log(clipped_preds),\n",
        "                           torch.log(labels)))\n",
        "    return rmse.item()\n",
        "\n",
        "#EarlyStopping 是一种正则化方法，用来避免模型过拟合。\n",
        "# 训练过程中，监控每个epoch计算出验证集（比如 验证集log RMSE）\n",
        "# 如果发现连续patience次 验证RMSE没有下降，就停止训练。\n",
        "class EarlyStopping:\n",
        "    def __init__(self, patience=30, min_delta=1e-4):\n",
        "        self.patience = patience\n",
        "        self.min_delta = min_delta\n",
        "        self.best_loss = float('inf')\n",
        "        self.counter = 0\n",
        "        self.early_stop = False\n",
        "\n",
        "    def __call__(self, val_loss):\n",
        "        if val_loss < self.best_loss - self.min_delta:\n",
        "            self.best_loss = val_loss\n",
        "            self.counter = 0\n",
        "        else:\n",
        "            self.counter += 1\n",
        "            if self.counter >= self.patience:\n",
        "                self.early_stop = True\n",
        "\n",
        "def train(net, train_features, train_labels, test_features, test_labels,\n",
        "          num_epochs, learning_rate, weight_decay, batch_size):\n",
        "    train_ls, test_ls = [], []\n",
        "    train_iter = d2l.load_array((train_features, train_labels), batch_size)\n",
        "    # 这里使用的是Adam优化算法，对初始学习率不那么敏感\n",
        "    optimizer = torch.optim.Adam(net.parameters(),\n",
        "                                 lr = learning_rate,\n",
        "                                 weight_decay = weight_decay)\n",
        "    early_stopping = EarlyStopping(patience=30)\n",
        "    for epoch in range(num_epochs):\n",
        "        for X, y in train_iter:\n",
        "            optimizer.zero_grad()\n",
        "            l = loss(net(X), y)\n",
        "            l.backward()\n",
        "            optimizer.step()\n",
        "        net.eval()\n",
        "        with torch.no_grad():\n",
        "            train_loss = log_rmse(net, train_features, train_labels)\n",
        "        train_ls.append(train_loss)\n",
        "        if test_labels is not None:\n",
        "            with torch.no_grad():\n",
        "              val_loss = log_rmse(net, test_features, test_labels)\n",
        "              test_ls.append(val_loss)\n",
        "              early_stopping(val_loss)\n",
        "              if early_stopping.early_stop:\n",
        "                print(f\"Early stopping at epoch {epoch+1}\")\n",
        "                break\n",
        "    return train_ls, test_ls\n",
        "\n",
        "#𝐾 折交叉验证 get_k_fold_data\n",
        "def get_k_fold_data(k, i, X, y):\n",
        "    assert k > 1\n",
        "    fold_size = X.shape[0] // k\n",
        "    X_train, y_train = None, None\n",
        "    for j in range(k):\n",
        "        idx = slice(j * fold_size, (j + 1) * fold_size)\n",
        "        X_part, y_part = X[idx, :], y[idx]\n",
        "        if j == i:\n",
        "            X_valid, y_valid = X_part, y_part\n",
        "        elif X_train is None:\n",
        "            X_train, y_train = X_part, y_part\n",
        "        else:\n",
        "            X_train = torch.cat([X_train, X_part], 0)\n",
        "            y_train = torch.cat([y_train, y_part], 0)\n",
        "    return X_train, y_train, X_valid, y_valid\n",
        "#𝐾 折交叉验证\n",
        "def k_fold(get_net,k, X_train, y_train, num_epochs, learning_rate, weight_decay,\n",
        "           batch_size):\n",
        "    train_l_sum, valid_l_sum = 0, 0\n",
        "    for i in range(k):\n",
        "        data = get_k_fold_data(k, i, X_train, y_train)\n",
        "        net = get_net(X_train.shape[1])\n",
        "        train_ls, valid_ls = train(net, *data, num_epochs, learning_rate,\n",
        "                                   weight_decay, batch_size)\n",
        "        train_l_sum += train_ls[-1]\n",
        "        valid_l_sum += valid_ls[-1]\n",
        "        epochs_ran = len(train_ls)\n",
        "        if i == 0:\n",
        "            d2l.plot(list(range(1, epochs_ran + 1)), [train_ls, valid_ls],\n",
        "                     xlabel='epoch', ylabel='rmse', xlim=[1, num_epochs],\n",
        "                     legend=['train', 'valid'], yscale='log')\n",
        "        print(f'折{i + 1}，训练log rmse{float(train_ls[-1]):f}, '\n",
        "              f'验证log rmse{float(valid_ls[-1]):f}')\n",
        "    return train_l_sum / k, valid_l_sum / k\n",
        "\n",
        "# k-fold 验证，包含 PCA\n",
        "def k_fold_pca(get_net_fn, k, features, labels, num_epochs, lr, weight_decay, batch_size, n_components=150):\n",
        "    kf = KFold(n_splits=k, shuffle=True, random_state=42)\n",
        "    i=0\n",
        "    train_l_sum, valid_l_sum = 0, 0\n",
        "    for train_idx, val_idx in kf.split(features):\n",
        "        X_train, X_val = features[train_idx], features[val_idx]\n",
        "        y_train, y_val = labels[train_idx], labels[val_idx]\n",
        "\n",
        "        # 1️⃣ 标准化\n",
        "        scaler = StandardScaler()\n",
        "        X_train_scaled = scaler.fit_transform(X_train)\n",
        "        X_val_scaled = scaler.transform(X_val)  # 验证集投影到训练集 PCA 空间\n",
        "\n",
        "        # 2️⃣ PCA 降维\n",
        "        pca = PCA(n_components=n_components)\n",
        "        X_train_pca = pca.fit_transform(X_train_scaled)\n",
        "        X_val_pca = pca.transform(X_val_scaled)\n",
        "\n",
        "        # 3️⃣ 转为 torch tensor\n",
        "        X_train_tensor = torch.tensor(X_train_pca, dtype=torch.float32)\n",
        "        X_val_tensor = torch.tensor(X_val_pca, dtype=torch.float32)\n",
        "        y_train_tensor = y_train.detach().clone()\n",
        "        y_val_tensor = y_val.detach().clone()\n",
        "\n",
        "        # 4️⃣ 网络输入维度\n",
        "        net = get_net_fn(X_train_tensor.shape[1])\n",
        "\n",
        "        # 5️⃣ 训练\n",
        "        train_ls, valid_ls = train(net, X_train_tensor, y_train_tensor, X_val_tensor, y_val_tensor,\n",
        "                                         num_epochs, lr, weight_decay, batch_size)\n",
        "        train_l_sum += train_ls[-1]\n",
        "        valid_l_sum += valid_ls[-1]\n",
        "\n",
        "        epochs_ran = len(train_ls)\n",
        "        if i == 0:\n",
        "            d2l.plot(list(range(1, epochs_ran + 1)), [train_ls, valid_ls],\n",
        "                     xlabel='epoch', ylabel='rmse', xlim=[1, num_epochs],\n",
        "                     legend=['train', 'valid'], yscale='log')\n",
        "\n",
        "        print(f'折{i + 1}，训练log rmse{float(train_ls[-1]):f}, '\n",
        "              f'验证log rmse{float(valid_ls[-1]):f}')\n",
        "        i+=1\n",
        "\n",
        "    return train_l_sum/k, valid_l_sum/k\n",
        "\n",
        "\n"
      ]
    },
    {
      "cell_type": "markdown",
      "id": "6bd41791",
      "metadata": {
        "origin_pos": 45,
        "id": "6bd41791"
      },
      "source": [
        "## [**模型选择**]\n",
        "\n",
        "首先，我们训练一个带有损失平方的线性模型。 显然线性模型很难让我们在竞赛中获胜，但线性模型提供了一种健全性检查， 以查看数据中是否存在有意义的信息。 如果我们在这里不能做得比随机猜测更好，那么我们很可能存在数据处理错误。 如果一切顺利，线性模型将作为基线（baseline）模型， 让我们直观地知道最好的模型有超出简单的模型多少。\n",
        "\n",
        "在本例中，我们选择了一组未调优的超参数，并将其留给读者来改进模型。\n",
        "找到一组调优的超参数可能需要时间，这取决于一个人优化了多少变量。\n",
        "有了足够大的数据集和合理设置的超参数，$K$折交叉验证往往对多次测试具有相当的稳定性。\n",
        "然而，如果我们尝试了不合理的超参数，我们可能会发现验证效果不再代表真正的误差。"
      ]
    },
    {
      "cell_type": "code",
      "source": [
        "#线性模型\n",
        "def get_net(in_features):\n",
        "    net = nn.Sequential(nn.Linear(in_features,1))\n",
        "    return net\n",
        "k, num_epochs, lr, weight_decay, batch_size = 5, 200, 5, 0.001, 64\n",
        "\n",
        "train_l, valid_l = k_fold(get_net,k, train_features, train_labels, num_epochs, lr,weight_decay, batch_size)\n",
        "print(f'{k}-折验证: 平均训练log rmse: {float(train_l):f}, 'f'平均验证log rmse: {float(valid_l):f}')"
      ],
      "metadata": {
        "id": "tmmKo2KiRBYo",
        "outputId": "8f08f10a-6c54-4892-d7f7-f282cc962c60",
        "colab": {
          "base_uri": "https://localhost:8080/",
          "height": 372
        }
      },
      "id": "tmmKo2KiRBYo",
      "execution_count": 22,
      "outputs": [
        {
          "output_type": "stream",
          "name": "stdout",
          "text": [
            "折1，训练log rmse8.572708, 验证log rmse8.417400\n",
            "折2，训练log rmse8.689154, 验证log rmse8.808765\n",
            "折3，训练log rmse8.619258, 验证log rmse8.596953\n",
            "折4，训练log rmse8.566916, 验证log rmse8.925881\n",
            "折5，训练log rmse8.724122, 验证log rmse8.543437\n",
            "5-折验证: 平均训练log rmse: 8.634431, 平均验证log rmse: 8.658488\n"
          ]
        },
        {
          "output_type": "display_data",
          "data": {
            "text/plain": [
              "<Figure size 350x250 with 1 Axes>"
            ],
            "image/svg+xml": "<?xml version=\"1.0\" encoding=\"utf-8\" standalone=\"no\"?>\n<!DOCTYPE svg PUBLIC \"-//W3C//DTD SVG 1.1//EN\"\n  \"http://www.w3.org/Graphics/SVG/1.1/DTD/svg11.dtd\">\n<svg xmlns:xlink=\"http://www.w3.org/1999/xlink\" width=\"290.421875pt\" height=\"183.35625pt\" viewBox=\"0 0 290.421875 183.35625\" xmlns=\"http://www.w3.org/2000/svg\" version=\"1.1\">\n <metadata>\n  <rdf:RDF xmlns:dc=\"http://purl.org/dc/elements/1.1/\" xmlns:cc=\"http://creativecommons.org/ns#\" xmlns:rdf=\"http://www.w3.org/1999/02/22-rdf-syntax-ns#\">\n   <cc:Work>\n    <dc:type rdf:resource=\"http://purl.org/dc/dcmitype/StillImage\"/>\n    <dc:date>2025-09-04T14:18:52.792647</dc:date>\n    <dc:format>image/svg+xml</dc:format>\n    <dc:creator>\n     <cc:Agent>\n      <dc:title>Matplotlib v3.10.0, https://matplotlib.org/</dc:title>\n     </cc:Agent>\n    </dc:creator>\n   </cc:Work>\n  </rdf:RDF>\n </metadata>\n <defs>\n  <style type=\"text/css\">*{stroke-linejoin: round; stroke-linecap: butt}</style>\n </defs>\n <g id=\"figure_1\">\n  <g id=\"patch_1\">\n   <path d=\"M 0 183.35625 \nL 290.421875 183.35625 \nL 290.421875 0 \nL 0 0 \nz\n\" style=\"fill: #ffffff\"/>\n  </g>\n  <g id=\"axes_1\">\n   <g id=\"patch_2\">\n    <path d=\"M 78.378125 145.8 \nL 273.678125 145.8 \nL 273.678125 7.2 \nL 78.378125 7.2 \nz\n\" style=\"fill: #ffffff\"/>\n   </g>\n   <g id=\"matplotlib.axis_1\">\n    <g id=\"xtick_1\">\n     <g id=\"line2d_1\">\n      <path d=\"M 126.46707 145.8 \nL 126.46707 7.2 \n\" clip-path=\"url(#pf8e242ffaa)\" style=\"fill: none; stroke: #b0b0b0; stroke-width: 0.8; stroke-linecap: square\"/>\n     </g>\n     <g id=\"line2d_2\">\n      <defs>\n       <path id=\"m921aabfc2a\" d=\"M 0 0 \nL 0 3.5 \n\" style=\"stroke: #000000; stroke-width: 0.8\"/>\n      </defs>\n      <g>\n       <use xlink:href=\"#m921aabfc2a\" x=\"126.46707\" y=\"145.8\" style=\"stroke: #000000; stroke-width: 0.8\"/>\n      </g>\n     </g>\n     <g id=\"text_1\">\n      <!-- 50 -->\n      <g transform=\"translate(120.10457 160.398438) scale(0.1 -0.1)\">\n       <defs>\n        <path id=\"DejaVuSans-35\" d=\"M 691 4666 \nL 3169 4666 \nL 3169 4134 \nL 1269 4134 \nL 1269 2991 \nQ 1406 3038 1543 3061 \nQ 1681 3084 1819 3084 \nQ 2600 3084 3056 2656 \nQ 3513 2228 3513 1497 \nQ 3513 744 3044 326 \nQ 2575 -91 1722 -91 \nQ 1428 -91 1123 -41 \nQ 819 9 494 109 \nL 494 744 \nQ 775 591 1075 516 \nQ 1375 441 1709 441 \nQ 2250 441 2565 725 \nQ 2881 1009 2881 1497 \nQ 2881 1984 2565 2268 \nQ 2250 2553 1709 2553 \nQ 1456 2553 1204 2497 \nQ 953 2441 691 2322 \nL 691 4666 \nz\n\" transform=\"scale(0.015625)\"/>\n        <path id=\"DejaVuSans-30\" d=\"M 2034 4250 \nQ 1547 4250 1301 3770 \nQ 1056 3291 1056 2328 \nQ 1056 1369 1301 889 \nQ 1547 409 2034 409 \nQ 2525 409 2770 889 \nQ 3016 1369 3016 2328 \nQ 3016 3291 2770 3770 \nQ 2525 4250 2034 4250 \nz\nM 2034 4750 \nQ 2819 4750 3233 4129 \nQ 3647 3509 3647 2328 \nQ 3647 1150 3233 529 \nQ 2819 -91 2034 -91 \nQ 1250 -91 836 529 \nQ 422 1150 422 2328 \nQ 422 3509 836 4129 \nQ 1250 4750 2034 4750 \nz\n\" transform=\"scale(0.015625)\"/>\n       </defs>\n       <use xlink:href=\"#DejaVuSans-35\"/>\n       <use xlink:href=\"#DejaVuSans-30\" transform=\"translate(63.623047 0)\"/>\n      </g>\n     </g>\n    </g>\n    <g id=\"xtick_2\">\n     <g id=\"line2d_3\">\n      <path d=\"M 175.537421 145.8 \nL 175.537421 7.2 \n\" clip-path=\"url(#pf8e242ffaa)\" style=\"fill: none; stroke: #b0b0b0; stroke-width: 0.8; stroke-linecap: square\"/>\n     </g>\n     <g id=\"line2d_4\">\n      <g>\n       <use xlink:href=\"#m921aabfc2a\" x=\"175.537421\" y=\"145.8\" style=\"stroke: #000000; stroke-width: 0.8\"/>\n      </g>\n     </g>\n     <g id=\"text_2\">\n      <!-- 100 -->\n      <g transform=\"translate(165.993671 160.398438) scale(0.1 -0.1)\">\n       <defs>\n        <path id=\"DejaVuSans-31\" d=\"M 794 531 \nL 1825 531 \nL 1825 4091 \nL 703 3866 \nL 703 4441 \nL 1819 4666 \nL 2450 4666 \nL 2450 531 \nL 3481 531 \nL 3481 0 \nL 794 0 \nL 794 531 \nz\n\" transform=\"scale(0.015625)\"/>\n       </defs>\n       <use xlink:href=\"#DejaVuSans-31\"/>\n       <use xlink:href=\"#DejaVuSans-30\" transform=\"translate(63.623047 0)\"/>\n       <use xlink:href=\"#DejaVuSans-30\" transform=\"translate(127.246094 0)\"/>\n      </g>\n     </g>\n    </g>\n    <g id=\"xtick_3\">\n     <g id=\"line2d_5\">\n      <path d=\"M 224.607773 145.8 \nL 224.607773 7.2 \n\" clip-path=\"url(#pf8e242ffaa)\" style=\"fill: none; stroke: #b0b0b0; stroke-width: 0.8; stroke-linecap: square\"/>\n     </g>\n     <g id=\"line2d_6\">\n      <g>\n       <use xlink:href=\"#m921aabfc2a\" x=\"224.607773\" y=\"145.8\" style=\"stroke: #000000; stroke-width: 0.8\"/>\n      </g>\n     </g>\n     <g id=\"text_3\">\n      <!-- 150 -->\n      <g transform=\"translate(215.064023 160.398438) scale(0.1 -0.1)\">\n       <use xlink:href=\"#DejaVuSans-31\"/>\n       <use xlink:href=\"#DejaVuSans-35\" transform=\"translate(63.623047 0)\"/>\n       <use xlink:href=\"#DejaVuSans-30\" transform=\"translate(127.246094 0)\"/>\n      </g>\n     </g>\n    </g>\n    <g id=\"xtick_4\">\n     <g id=\"line2d_7\">\n      <path d=\"M 273.678125 145.8 \nL 273.678125 7.2 \n\" clip-path=\"url(#pf8e242ffaa)\" style=\"fill: none; stroke: #b0b0b0; stroke-width: 0.8; stroke-linecap: square\"/>\n     </g>\n     <g id=\"line2d_8\">\n      <g>\n       <use xlink:href=\"#m921aabfc2a\" x=\"273.678125\" y=\"145.8\" style=\"stroke: #000000; stroke-width: 0.8\"/>\n      </g>\n     </g>\n     <g id=\"text_4\">\n      <!-- 200 -->\n      <g transform=\"translate(264.134375 160.398438) scale(0.1 -0.1)\">\n       <defs>\n        <path id=\"DejaVuSans-32\" d=\"M 1228 531 \nL 3431 531 \nL 3431 0 \nL 469 0 \nL 469 531 \nQ 828 903 1448 1529 \nQ 2069 2156 2228 2338 \nQ 2531 2678 2651 2914 \nQ 2772 3150 2772 3378 \nQ 2772 3750 2511 3984 \nQ 2250 4219 1831 4219 \nQ 1534 4219 1204 4116 \nQ 875 4013 500 3803 \nL 500 4441 \nQ 881 4594 1212 4672 \nQ 1544 4750 1819 4750 \nQ 2544 4750 2975 4387 \nQ 3406 4025 3406 3419 \nQ 3406 3131 3298 2873 \nQ 3191 2616 2906 2266 \nQ 2828 2175 2409 1742 \nQ 1991 1309 1228 531 \nz\n\" transform=\"scale(0.015625)\"/>\n       </defs>\n       <use xlink:href=\"#DejaVuSans-32\"/>\n       <use xlink:href=\"#DejaVuSans-30\" transform=\"translate(63.623047 0)\"/>\n       <use xlink:href=\"#DejaVuSans-30\" transform=\"translate(127.246094 0)\"/>\n      </g>\n     </g>\n    </g>\n    <g id=\"text_5\">\n     <!-- epoch -->\n     <g transform=\"translate(160.8 174.076563) scale(0.1 -0.1)\">\n      <defs>\n       <path id=\"DejaVuSans-65\" d=\"M 3597 1894 \nL 3597 1613 \nL 953 1613 \nQ 991 1019 1311 708 \nQ 1631 397 2203 397 \nQ 2534 397 2845 478 \nQ 3156 559 3463 722 \nL 3463 178 \nQ 3153 47 2828 -22 \nQ 2503 -91 2169 -91 \nQ 1331 -91 842 396 \nQ 353 884 353 1716 \nQ 353 2575 817 3079 \nQ 1281 3584 2069 3584 \nQ 2775 3584 3186 3129 \nQ 3597 2675 3597 1894 \nz\nM 3022 2063 \nQ 3016 2534 2758 2815 \nQ 2500 3097 2075 3097 \nQ 1594 3097 1305 2825 \nQ 1016 2553 972 2059 \nL 3022 2063 \nz\n\" transform=\"scale(0.015625)\"/>\n       <path id=\"DejaVuSans-70\" d=\"M 1159 525 \nL 1159 -1331 \nL 581 -1331 \nL 581 3500 \nL 1159 3500 \nL 1159 2969 \nQ 1341 3281 1617 3432 \nQ 1894 3584 2278 3584 \nQ 2916 3584 3314 3078 \nQ 3713 2572 3713 1747 \nQ 3713 922 3314 415 \nQ 2916 -91 2278 -91 \nQ 1894 -91 1617 61 \nQ 1341 213 1159 525 \nz\nM 3116 1747 \nQ 3116 2381 2855 2742 \nQ 2594 3103 2138 3103 \nQ 1681 3103 1420 2742 \nQ 1159 2381 1159 1747 \nQ 1159 1113 1420 752 \nQ 1681 391 2138 391 \nQ 2594 391 2855 752 \nQ 3116 1113 3116 1747 \nz\n\" transform=\"scale(0.015625)\"/>\n       <path id=\"DejaVuSans-6f\" d=\"M 1959 3097 \nQ 1497 3097 1228 2736 \nQ 959 2375 959 1747 \nQ 959 1119 1226 758 \nQ 1494 397 1959 397 \nQ 2419 397 2687 759 \nQ 2956 1122 2956 1747 \nQ 2956 2369 2687 2733 \nQ 2419 3097 1959 3097 \nz\nM 1959 3584 \nQ 2709 3584 3137 3096 \nQ 3566 2609 3566 1747 \nQ 3566 888 3137 398 \nQ 2709 -91 1959 -91 \nQ 1206 -91 779 398 \nQ 353 888 353 1747 \nQ 353 2609 779 3096 \nQ 1206 3584 1959 3584 \nz\n\" transform=\"scale(0.015625)\"/>\n       <path id=\"DejaVuSans-63\" d=\"M 3122 3366 \nL 3122 2828 \nQ 2878 2963 2633 3030 \nQ 2388 3097 2138 3097 \nQ 1578 3097 1268 2742 \nQ 959 2388 959 1747 \nQ 959 1106 1268 751 \nQ 1578 397 2138 397 \nQ 2388 397 2633 464 \nQ 2878 531 3122 666 \nL 3122 134 \nQ 2881 22 2623 -34 \nQ 2366 -91 2075 -91 \nQ 1284 -91 818 406 \nQ 353 903 353 1747 \nQ 353 2603 823 3093 \nQ 1294 3584 2113 3584 \nQ 2378 3584 2631 3529 \nQ 2884 3475 3122 3366 \nz\n\" transform=\"scale(0.015625)\"/>\n       <path id=\"DejaVuSans-68\" d=\"M 3513 2113 \nL 3513 0 \nL 2938 0 \nL 2938 2094 \nQ 2938 2591 2744 2837 \nQ 2550 3084 2163 3084 \nQ 1697 3084 1428 2787 \nQ 1159 2491 1159 1978 \nL 1159 0 \nL 581 0 \nL 581 4863 \nL 1159 4863 \nL 1159 2956 \nQ 1366 3272 1645 3428 \nQ 1925 3584 2291 3584 \nQ 2894 3584 3203 3211 \nQ 3513 2838 3513 2113 \nz\n\" transform=\"scale(0.015625)\"/>\n      </defs>\n      <use xlink:href=\"#DejaVuSans-65\"/>\n      <use xlink:href=\"#DejaVuSans-70\" transform=\"translate(61.523438 0)\"/>\n      <use xlink:href=\"#DejaVuSans-6f\" transform=\"translate(125 0)\"/>\n      <use xlink:href=\"#DejaVuSans-63\" transform=\"translate(186.181641 0)\"/>\n      <use xlink:href=\"#DejaVuSans-68\" transform=\"translate(241.162109 0)\"/>\n     </g>\n    </g>\n   </g>\n   <g id=\"matplotlib.axis_2\">\n    <g id=\"ytick_1\">\n     <g id=\"line2d_9\">\n      <path d=\"M 78.378125 41.013014 \nL 273.678125 41.013014 \n\" clip-path=\"url(#pf8e242ffaa)\" style=\"fill: none; stroke: #b0b0b0; stroke-width: 0.8; stroke-linecap: square\"/>\n     </g>\n     <g id=\"line2d_10\">\n      <defs>\n       <path id=\"m38dde31b2b\" d=\"M 0 0 \nL -3.5 0 \n\" style=\"stroke: #000000; stroke-width: 0.8\"/>\n      </defs>\n      <g>\n       <use xlink:href=\"#m38dde31b2b\" x=\"78.378125\" y=\"41.013014\" style=\"stroke: #000000; stroke-width: 0.8\"/>\n      </g>\n     </g>\n     <g id=\"text_6\">\n      <!-- $\\mathdefault{10^{1}}$ -->\n      <g transform=\"translate(53.778125 44.812233) scale(0.1 -0.1)\">\n       <use xlink:href=\"#DejaVuSans-31\" transform=\"translate(0 0.684375)\"/>\n       <use xlink:href=\"#DejaVuSans-30\" transform=\"translate(63.623047 0.684375)\"/>\n       <use xlink:href=\"#DejaVuSans-31\" transform=\"translate(128.203125 38.965625) scale(0.7)\"/>\n      </g>\n     </g>\n    </g>\n    <g id=\"ytick_2\">\n     <g id=\"line2d_11\">\n      <defs>\n       <path id=\"m4c015987da\" d=\"M 0 0 \nL -2 0 \n\" style=\"stroke: #000000; stroke-width: 0.6\"/>\n      </defs>\n      <g>\n       <use xlink:href=\"#m4c015987da\" x=\"78.378125\" y=\"133.917719\" style=\"stroke: #000000; stroke-width: 0.6\"/>\n      </g>\n     </g>\n     <g id=\"text_7\">\n      <!-- $\\mathdefault{8.5\\times10^{0}}$ -->\n      <g transform=\"translate(27.178125 137.716937) scale(0.1 -0.1)\">\n       <defs>\n        <path id=\"DejaVuSans-38\" d=\"M 2034 2216 \nQ 1584 2216 1326 1975 \nQ 1069 1734 1069 1313 \nQ 1069 891 1326 650 \nQ 1584 409 2034 409 \nQ 2484 409 2743 651 \nQ 3003 894 3003 1313 \nQ 3003 1734 2745 1975 \nQ 2488 2216 2034 2216 \nz\nM 1403 2484 \nQ 997 2584 770 2862 \nQ 544 3141 544 3541 \nQ 544 4100 942 4425 \nQ 1341 4750 2034 4750 \nQ 2731 4750 3128 4425 \nQ 3525 4100 3525 3541 \nQ 3525 3141 3298 2862 \nQ 3072 2584 2669 2484 \nQ 3125 2378 3379 2068 \nQ 3634 1759 3634 1313 \nQ 3634 634 3220 271 \nQ 2806 -91 2034 -91 \nQ 1263 -91 848 271 \nQ 434 634 434 1313 \nQ 434 1759 690 2068 \nQ 947 2378 1403 2484 \nz\nM 1172 3481 \nQ 1172 3119 1398 2916 \nQ 1625 2713 2034 2713 \nQ 2441 2713 2670 2916 \nQ 2900 3119 2900 3481 \nQ 2900 3844 2670 4047 \nQ 2441 4250 2034 4250 \nQ 1625 4250 1398 4047 \nQ 1172 3844 1172 3481 \nz\n\" transform=\"scale(0.015625)\"/>\n        <path id=\"DejaVuSans-2e\" d=\"M 684 794 \nL 1344 794 \nL 1344 0 \nL 684 0 \nL 684 794 \nz\n\" transform=\"scale(0.015625)\"/>\n        <path id=\"DejaVuSans-d7\" d=\"M 4488 3438 \nL 3059 2003 \nL 4488 575 \nL 4116 197 \nL 2681 1631 \nL 1247 197 \nL 878 575 \nL 2303 2003 \nL 878 3438 \nL 1247 3816 \nL 2681 2381 \nL 4116 3816 \nL 4488 3438 \nz\n\" transform=\"scale(0.015625)\"/>\n       </defs>\n       <use xlink:href=\"#DejaVuSans-38\" transform=\"translate(0 0.765625)\"/>\n       <use xlink:href=\"#DejaVuSans-2e\" transform=\"translate(63.623047 0.765625)\"/>\n       <use xlink:href=\"#DejaVuSans-35\" transform=\"translate(95.410156 0.765625)\"/>\n       <use xlink:href=\"#DejaVuSans-d7\" transform=\"translate(178.515625 0.765625)\"/>\n       <use xlink:href=\"#DejaVuSans-31\" transform=\"translate(281.787109 0.765625)\"/>\n       <use xlink:href=\"#DejaVuSans-30\" transform=\"translate(345.410156 0.765625)\"/>\n       <use xlink:href=\"#DejaVuSans-30\" transform=\"translate(409.990234 39.046875) scale(0.7)\"/>\n      </g>\n     </g>\n    </g>\n    <g id=\"ytick_3\">\n     <g id=\"line2d_12\">\n      <g>\n       <use xlink:href=\"#m4c015987da\" x=\"78.378125\" y=\"101.242844\" style=\"stroke: #000000; stroke-width: 0.6\"/>\n      </g>\n     </g>\n     <g id=\"text_8\">\n      <!-- $\\mathdefault{9\\times10^{0}}$ -->\n      <g transform=\"translate(36.778125 105.042063) scale(0.1 -0.1)\">\n       <defs>\n        <path id=\"DejaVuSans-39\" d=\"M 703 97 \nL 703 672 \nQ 941 559 1184 500 \nQ 1428 441 1663 441 \nQ 2288 441 2617 861 \nQ 2947 1281 2994 2138 \nQ 2813 1869 2534 1725 \nQ 2256 1581 1919 1581 \nQ 1219 1581 811 2004 \nQ 403 2428 403 3163 \nQ 403 3881 828 4315 \nQ 1253 4750 1959 4750 \nQ 2769 4750 3195 4129 \nQ 3622 3509 3622 2328 \nQ 3622 1225 3098 567 \nQ 2575 -91 1691 -91 \nQ 1453 -91 1209 -44 \nQ 966 3 703 97 \nz\nM 1959 2075 \nQ 2384 2075 2632 2365 \nQ 2881 2656 2881 3163 \nQ 2881 3666 2632 3958 \nQ 2384 4250 1959 4250 \nQ 1534 4250 1286 3958 \nQ 1038 3666 1038 3163 \nQ 1038 2656 1286 2365 \nQ 1534 2075 1959 2075 \nz\n\" transform=\"scale(0.015625)\"/>\n       </defs>\n       <use xlink:href=\"#DejaVuSans-39\" transform=\"translate(0 0.765625)\"/>\n       <use xlink:href=\"#DejaVuSans-d7\" transform=\"translate(83.105469 0.765625)\"/>\n       <use xlink:href=\"#DejaVuSans-31\" transform=\"translate(186.376953 0.765625)\"/>\n       <use xlink:href=\"#DejaVuSans-30\" transform=\"translate(250 0.765625)\"/>\n       <use xlink:href=\"#DejaVuSans-30\" transform=\"translate(314.580078 39.046875) scale(0.7)\"/>\n      </g>\n     </g>\n    </g>\n    <g id=\"ytick_4\">\n     <g id=\"line2d_13\">\n      <g>\n       <use xlink:href=\"#m4c015987da\" x=\"78.378125\" y=\"70.335065\" style=\"stroke: #000000; stroke-width: 0.6\"/>\n      </g>\n     </g>\n     <g id=\"text_9\">\n      <!-- $\\mathdefault{9.5\\times10^{0}}$ -->\n      <g transform=\"translate(27.178125 74.134284) scale(0.1 -0.1)\">\n       <use xlink:href=\"#DejaVuSans-39\" transform=\"translate(0 0.765625)\"/>\n       <use xlink:href=\"#DejaVuSans-2e\" transform=\"translate(63.623047 0.765625)\"/>\n       <use xlink:href=\"#DejaVuSans-35\" transform=\"translate(95.410156 0.765625)\"/>\n       <use xlink:href=\"#DejaVuSans-d7\" transform=\"translate(178.515625 0.765625)\"/>\n       <use xlink:href=\"#DejaVuSans-31\" transform=\"translate(281.787109 0.765625)\"/>\n       <use xlink:href=\"#DejaVuSans-30\" transform=\"translate(345.410156 0.765625)\"/>\n       <use xlink:href=\"#DejaVuSans-30\" transform=\"translate(409.990234 39.046875) scale(0.7)\"/>\n      </g>\n     </g>\n    </g>\n    <g id=\"ytick_5\">\n     <g id=\"line2d_14\">\n      <g>\n       <use xlink:href=\"#m4c015987da\" x=\"78.378125\" y=\"13.121889\" style=\"stroke: #000000; stroke-width: 0.6\"/>\n      </g>\n     </g>\n     <g id=\"text_10\">\n      <!-- $\\mathdefault{1.05\\times10^{1}}$ -->\n      <g transform=\"translate(20.878125 16.921108) scale(0.1 -0.1)\">\n       <use xlink:href=\"#DejaVuSans-31\" transform=\"translate(0 0.684375)\"/>\n       <use xlink:href=\"#DejaVuSans-2e\" transform=\"translate(63.623047 0.684375)\"/>\n       <use xlink:href=\"#DejaVuSans-30\" transform=\"translate(95.410156 0.684375)\"/>\n       <use xlink:href=\"#DejaVuSans-35\" transform=\"translate(159.033203 0.684375)\"/>\n       <use xlink:href=\"#DejaVuSans-d7\" transform=\"translate(242.138672 0.684375)\"/>\n       <use xlink:href=\"#DejaVuSans-31\" transform=\"translate(345.410156 0.684375)\"/>\n       <use xlink:href=\"#DejaVuSans-30\" transform=\"translate(409.033203 0.684375)\"/>\n       <use xlink:href=\"#DejaVuSans-31\" transform=\"translate(473.613281 38.965625) scale(0.7)\"/>\n      </g>\n     </g>\n    </g>\n    <g id=\"text_11\">\n     <!-- rmse -->\n     <g transform=\"translate(14.798437 89.019531) rotate(-90) scale(0.1 -0.1)\">\n      <defs>\n       <path id=\"DejaVuSans-72\" d=\"M 2631 2963 \nQ 2534 3019 2420 3045 \nQ 2306 3072 2169 3072 \nQ 1681 3072 1420 2755 \nQ 1159 2438 1159 1844 \nL 1159 0 \nL 581 0 \nL 581 3500 \nL 1159 3500 \nL 1159 2956 \nQ 1341 3275 1631 3429 \nQ 1922 3584 2338 3584 \nQ 2397 3584 2469 3576 \nQ 2541 3569 2628 3553 \nL 2631 2963 \nz\n\" transform=\"scale(0.015625)\"/>\n       <path id=\"DejaVuSans-6d\" d=\"M 3328 2828 \nQ 3544 3216 3844 3400 \nQ 4144 3584 4550 3584 \nQ 5097 3584 5394 3201 \nQ 5691 2819 5691 2113 \nL 5691 0 \nL 5113 0 \nL 5113 2094 \nQ 5113 2597 4934 2840 \nQ 4756 3084 4391 3084 \nQ 3944 3084 3684 2787 \nQ 3425 2491 3425 1978 \nL 3425 0 \nL 2847 0 \nL 2847 2094 \nQ 2847 2600 2669 2842 \nQ 2491 3084 2119 3084 \nQ 1678 3084 1418 2786 \nQ 1159 2488 1159 1978 \nL 1159 0 \nL 581 0 \nL 581 3500 \nL 1159 3500 \nL 1159 2956 \nQ 1356 3278 1631 3431 \nQ 1906 3584 2284 3584 \nQ 2666 3584 2933 3390 \nQ 3200 3197 3328 2828 \nz\n\" transform=\"scale(0.015625)\"/>\n       <path id=\"DejaVuSans-73\" d=\"M 2834 3397 \nL 2834 2853 \nQ 2591 2978 2328 3040 \nQ 2066 3103 1784 3103 \nQ 1356 3103 1142 2972 \nQ 928 2841 928 2578 \nQ 928 2378 1081 2264 \nQ 1234 2150 1697 2047 \nL 1894 2003 \nQ 2506 1872 2764 1633 \nQ 3022 1394 3022 966 \nQ 3022 478 2636 193 \nQ 2250 -91 1575 -91 \nQ 1294 -91 989 -36 \nQ 684 19 347 128 \nL 347 722 \nQ 666 556 975 473 \nQ 1284 391 1588 391 \nQ 1994 391 2212 530 \nQ 2431 669 2431 922 \nQ 2431 1156 2273 1281 \nQ 2116 1406 1581 1522 \nL 1381 1569 \nQ 847 1681 609 1914 \nQ 372 2147 372 2553 \nQ 372 3047 722 3315 \nQ 1072 3584 1716 3584 \nQ 2034 3584 2315 3537 \nQ 2597 3491 2834 3397 \nz\n\" transform=\"scale(0.015625)\"/>\n      </defs>\n      <use xlink:href=\"#DejaVuSans-72\"/>\n      <use xlink:href=\"#DejaVuSans-6d\" transform=\"translate(39.363281 0)\"/>\n      <use xlink:href=\"#DejaVuSans-73\" transform=\"translate(136.775391 0)\"/>\n      <use xlink:href=\"#DejaVuSans-65\" transform=\"translate(188.875 0)\"/>\n     </g>\n    </g>\n   </g>\n   <g id=\"line2d_15\">\n    <path d=\"M 78.378125 13.5 \nL 79.359532 30.852427 \nL 80.340939 40.326128 \nL 81.322346 47.110735 \nL 82.303753 52.677808 \nL 83.28516 57.578928 \nL 84.266567 61.463379 \nL 88.192195 71.478315 \nL 89.173602 73.261799 \nL 90.155009 75.913137 \nL 91.136416 77.002287 \nL 92.117823 78.928294 \nL 93.099231 80.553665 \nL 94.080638 81.632912 \nL 95.062045 83.142395 \nL 96.043452 84.409966 \nL 97.024859 85.308397 \nL 98.006266 86.659551 \nL 98.987673 87.395893 \nL 102.913301 91.04584 \nL 103.894708 91.676094 \nL 104.876115 92.698087 \nL 105.857522 93.186206 \nL 107.820336 94.620975 \nL 108.801743 95.018757 \nL 109.78315 95.843234 \nL 110.764557 96.333867 \nL 111.745964 97.077734 \nL 112.727371 97.517189 \nL 113.708778 98.394401 \nL 114.690185 98.628853 \nL 116.652999 99.786426 \nL 123.522849 102.931919 \nL 125.485663 103.699088 \nL 128.429884 104.995868 \nL 130.392698 105.688216 \nL 133.336919 106.768742 \nL 136.28114 107.672958 \nL 137.262547 108.061968 \nL 138.243954 108.105616 \nL 141.188175 109.168122 \nL 142.169582 109.300866 \nL 143.150989 109.562146 \nL 144.132396 110.037635 \nL 146.09521 110.376861 \nL 147.076617 110.785886 \nL 148.058024 110.791923 \nL 149.039432 111.024676 \nL 150.020839 111.45914 \nL 151.002246 111.536352 \nL 151.983653 111.808714 \nL 152.96506 112.203761 \nL 153.946467 112.439808 \nL 154.927874 112.525926 \nL 167.686165 115.348979 \nL 168.667572 115.541608 \nL 169.648979 115.594403 \nL 171.611793 116.076803 \nL 173.574607 116.491173 \nL 178.481643 117.692134 \nL 179.46305 117.958588 \nL 180.444457 117.975678 \nL 181.425864 118.155468 \nL 182.407271 118.461841 \nL 184.370085 118.672758 \nL 185.351492 118.978096 \nL 186.332899 119.132138 \nL 187.314306 119.162014 \nL 189.27712 119.599832 \nL 193.202748 120.166954 \nL 194.184155 120.313864 \nL 195.165562 120.334783 \nL 196.146969 120.604853 \nL 202.035411 121.375169 \nL 203.998226 121.681137 \nL 206.942447 122.044621 \nL 211.849482 122.6387 \nL 220.682145 123.614499 \nL 221.663552 123.63598 \nL 225.58918 124.167083 \nL 228.533401 124.269743 \nL 230.496215 124.63576 \nL 231.477622 124.589506 \nL 241.291693 125.658469 \nL 249.142949 126.639568 \nL 259.938427 127.713327 \nL 260.919834 128.021629 \nL 273.678125 129.048638 \nL 273.678125 129.048638 \n\" clip-path=\"url(#pf8e242ffaa)\" style=\"fill: none; stroke: #1f77b4; stroke-width: 1.5; stroke-linecap: square\"/>\n   </g>\n   <g id=\"line2d_16\">\n    <path d=\"M 78.378125 16.446863 \nL 79.359532 34.988443 \nL 80.340939 44.605735 \nL 81.322346 50.835443 \nL 83.28516 60.909694 \nL 84.266567 65.154111 \nL 86.229381 70.795491 \nL 88.192195 76.153503 \nL 89.173602 78.073681 \nL 90.155009 81.654745 \nL 91.136416 82.464847 \nL 93.099231 86.44908 \nL 94.080638 87.219668 \nL 96.043452 90.12576 \nL 97.024859 91.132246 \nL 98.006266 92.557448 \nL 98.987673 93.38089 \nL 101.931894 96.337711 \nL 104.876115 98.944361 \nL 111.745964 103.802092 \nL 112.727371 104.336756 \nL 113.708778 105.058979 \nL 114.690185 105.502479 \nL 116.652999 106.701711 \nL 119.59722 108.257001 \nL 121.560035 109.07084 \nL 122.541442 109.633877 \nL 126.46707 111.285512 \nL 127.448477 111.82556 \nL 131.374105 113.245832 \nL 132.355512 113.397038 \nL 133.336919 113.875791 \nL 134.318326 113.943358 \nL 135.299733 114.548355 \nL 136.28114 114.620963 \nL 137.262547 115.36568 \nL 138.243954 115.232513 \nL 142.169582 116.509588 \nL 147.076617 117.987779 \nL 151.983653 119.309166 \nL 154.927874 120.073042 \nL 163.760537 122.134083 \nL 168.667572 123.175486 \nL 169.648979 123.658722 \nL 170.630386 123.561651 \nL 171.611793 124.079067 \nL 172.5932 124.345804 \nL 173.574607 124.908754 \nL 178.481643 126.147733 \nL 179.46305 126.392711 \nL 181.425864 127.234577 \nL 182.407271 126.986132 \nL 183.388678 127.723352 \nL 188.295713 128.740736 \nL 192.221341 129.464249 \nL 193.202748 130.303133 \nL 200.072597 131.573608 \nL 206.942447 132.663979 \nL 216.756517 134.017333 \nL 218.719331 134.26911 \nL 223.626366 134.847898 \nL 225.58918 135.113216 \nL 226.570587 135.155059 \nL 227.551994 135.326704 \nL 228.533401 135.229625 \nL 230.496215 135.658376 \nL 231.477622 135.427465 \nL 232.45903 135.531331 \nL 233.440437 135.452288 \nL 248.161542 137.084497 \nL 260.919834 138.349402 \nL 273.678125 139.5 \nL 273.678125 139.5 \n\" clip-path=\"url(#pf8e242ffaa)\" style=\"fill: none; stroke-dasharray: 5.55,2.4; stroke-dashoffset: 0; stroke: #bf00bf; stroke-width: 1.5\"/>\n   </g>\n   <g id=\"patch_3\">\n    <path d=\"M 78.378125 145.8 \nL 78.378125 7.2 \n\" style=\"fill: none; stroke: #000000; stroke-width: 0.8; stroke-linejoin: miter; stroke-linecap: square\"/>\n   </g>\n   <g id=\"patch_4\">\n    <path d=\"M 273.678125 145.8 \nL 273.678125 7.2 \n\" style=\"fill: none; stroke: #000000; stroke-width: 0.8; stroke-linejoin: miter; stroke-linecap: square\"/>\n   </g>\n   <g id=\"patch_5\">\n    <path d=\"M 78.378125 145.8 \nL 273.678125 145.8 \n\" style=\"fill: none; stroke: #000000; stroke-width: 0.8; stroke-linejoin: miter; stroke-linecap: square\"/>\n   </g>\n   <g id=\"patch_6\">\n    <path d=\"M 78.378125 7.2 \nL 273.678125 7.2 \n\" style=\"fill: none; stroke: #000000; stroke-width: 0.8; stroke-linejoin: miter; stroke-linecap: square\"/>\n   </g>\n   <g id=\"legend_1\">\n    <g id=\"patch_7\">\n     <path d=\"M 210.726562 44.55625 \nL 266.678125 44.55625 \nQ 268.678125 44.55625 268.678125 42.55625 \nL 268.678125 14.2 \nQ 268.678125 12.2 266.678125 12.2 \nL 210.726562 12.2 \nQ 208.726562 12.2 208.726562 14.2 \nL 208.726562 42.55625 \nQ 208.726562 44.55625 210.726562 44.55625 \nz\n\" style=\"fill: #ffffff; opacity: 0.8; stroke: #cccccc; stroke-linejoin: miter\"/>\n    </g>\n    <g id=\"line2d_17\">\n     <path d=\"M 212.726562 20.298438 \nL 222.726562 20.298438 \nL 232.726562 20.298438 \n\" style=\"fill: none; stroke: #1f77b4; stroke-width: 1.5; stroke-linecap: square\"/>\n    </g>\n    <g id=\"text_12\">\n     <!-- train -->\n     <g transform=\"translate(240.726562 23.798438) scale(0.1 -0.1)\">\n      <defs>\n       <path id=\"DejaVuSans-74\" d=\"M 1172 4494 \nL 1172 3500 \nL 2356 3500 \nL 2356 3053 \nL 1172 3053 \nL 1172 1153 \nQ 1172 725 1289 603 \nQ 1406 481 1766 481 \nL 2356 481 \nL 2356 0 \nL 1766 0 \nQ 1100 0 847 248 \nQ 594 497 594 1153 \nL 594 3053 \nL 172 3053 \nL 172 3500 \nL 594 3500 \nL 594 4494 \nL 1172 4494 \nz\n\" transform=\"scale(0.015625)\"/>\n       <path id=\"DejaVuSans-61\" d=\"M 2194 1759 \nQ 1497 1759 1228 1600 \nQ 959 1441 959 1056 \nQ 959 750 1161 570 \nQ 1363 391 1709 391 \nQ 2188 391 2477 730 \nQ 2766 1069 2766 1631 \nL 2766 1759 \nL 2194 1759 \nz\nM 3341 1997 \nL 3341 0 \nL 2766 0 \nL 2766 531 \nQ 2569 213 2275 61 \nQ 1981 -91 1556 -91 \nQ 1019 -91 701 211 \nQ 384 513 384 1019 \nQ 384 1609 779 1909 \nQ 1175 2209 1959 2209 \nL 2766 2209 \nL 2766 2266 \nQ 2766 2663 2505 2880 \nQ 2244 3097 1772 3097 \nQ 1472 3097 1187 3025 \nQ 903 2953 641 2809 \nL 641 3341 \nQ 956 3463 1253 3523 \nQ 1550 3584 1831 3584 \nQ 2591 3584 2966 3190 \nQ 3341 2797 3341 1997 \nz\n\" transform=\"scale(0.015625)\"/>\n       <path id=\"DejaVuSans-69\" d=\"M 603 3500 \nL 1178 3500 \nL 1178 0 \nL 603 0 \nL 603 3500 \nz\nM 603 4863 \nL 1178 4863 \nL 1178 4134 \nL 603 4134 \nL 603 4863 \nz\n\" transform=\"scale(0.015625)\"/>\n       <path id=\"DejaVuSans-6e\" d=\"M 3513 2113 \nL 3513 0 \nL 2938 0 \nL 2938 2094 \nQ 2938 2591 2744 2837 \nQ 2550 3084 2163 3084 \nQ 1697 3084 1428 2787 \nQ 1159 2491 1159 1978 \nL 1159 0 \nL 581 0 \nL 581 3500 \nL 1159 3500 \nL 1159 2956 \nQ 1366 3272 1645 3428 \nQ 1925 3584 2291 3584 \nQ 2894 3584 3203 3211 \nQ 3513 2838 3513 2113 \nz\n\" transform=\"scale(0.015625)\"/>\n      </defs>\n      <use xlink:href=\"#DejaVuSans-74\"/>\n      <use xlink:href=\"#DejaVuSans-72\" transform=\"translate(39.208984 0)\"/>\n      <use xlink:href=\"#DejaVuSans-61\" transform=\"translate(80.322266 0)\"/>\n      <use xlink:href=\"#DejaVuSans-69\" transform=\"translate(141.601562 0)\"/>\n      <use xlink:href=\"#DejaVuSans-6e\" transform=\"translate(169.384766 0)\"/>\n     </g>\n    </g>\n    <g id=\"line2d_18\">\n     <path d=\"M 212.726562 34.976563 \nL 222.726562 34.976563 \nL 232.726562 34.976563 \n\" style=\"fill: none; stroke-dasharray: 5.55,2.4; stroke-dashoffset: 0; stroke: #bf00bf; stroke-width: 1.5\"/>\n    </g>\n    <g id=\"text_13\">\n     <!-- valid -->\n     <g transform=\"translate(240.726562 38.476563) scale(0.1 -0.1)\">\n      <defs>\n       <path id=\"DejaVuSans-76\" d=\"M 191 3500 \nL 800 3500 \nL 1894 563 \nL 2988 3500 \nL 3597 3500 \nL 2284 0 \nL 1503 0 \nL 191 3500 \nz\n\" transform=\"scale(0.015625)\"/>\n       <path id=\"DejaVuSans-6c\" d=\"M 603 4863 \nL 1178 4863 \nL 1178 0 \nL 603 0 \nL 603 4863 \nz\n\" transform=\"scale(0.015625)\"/>\n       <path id=\"DejaVuSans-64\" d=\"M 2906 2969 \nL 2906 4863 \nL 3481 4863 \nL 3481 0 \nL 2906 0 \nL 2906 525 \nQ 2725 213 2448 61 \nQ 2172 -91 1784 -91 \nQ 1150 -91 751 415 \nQ 353 922 353 1747 \nQ 353 2572 751 3078 \nQ 1150 3584 1784 3584 \nQ 2172 3584 2448 3432 \nQ 2725 3281 2906 2969 \nz\nM 947 1747 \nQ 947 1113 1208 752 \nQ 1469 391 1925 391 \nQ 2381 391 2643 752 \nQ 2906 1113 2906 1747 \nQ 2906 2381 2643 2742 \nQ 2381 3103 1925 3103 \nQ 1469 3103 1208 2742 \nQ 947 2381 947 1747 \nz\n\" transform=\"scale(0.015625)\"/>\n      </defs>\n      <use xlink:href=\"#DejaVuSans-76\"/>\n      <use xlink:href=\"#DejaVuSans-61\" transform=\"translate(59.179688 0)\"/>\n      <use xlink:href=\"#DejaVuSans-6c\" transform=\"translate(120.458984 0)\"/>\n      <use xlink:href=\"#DejaVuSans-69\" transform=\"translate(148.242188 0)\"/>\n      <use xlink:href=\"#DejaVuSans-64\" transform=\"translate(176.025391 0)\"/>\n     </g>\n    </g>\n   </g>\n  </g>\n </g>\n <defs>\n  <clipPath id=\"pf8e242ffaa\">\n   <rect x=\"78.378125\" y=\"7.2\" width=\"195.3\" height=\"138.6\"/>\n  </clipPath>\n </defs>\n</svg>\n"
          },
          "metadata": {}
        }
      ]
    },
    {
      "cell_type": "code",
      "execution_count": 34,
      "id": "0ceb952f",
      "metadata": {
        "execution": {
          "iopub.execute_input": "2023-08-18T06:58:34.062374Z",
          "iopub.status.busy": "2023-08-18T06:58:34.060507Z",
          "iopub.status.idle": "2023-08-18T06:58:48.772917Z",
          "shell.execute_reply": "2023-08-18T06:58:48.771939Z"
        },
        "origin_pos": 46,
        "tab": [
          "pytorch"
        ],
        "id": "0ceb952f"
      },
      "outputs": [],
      "source": [
        "#非线性\n",
        "def get_net(in_features):\n",
        "    net = nn.Sequential(nn.Flatten(),\n",
        "    nn.Linear(in_features, 256),\n",
        "    nn.ReLU(),\n",
        "    nn.Dropout(0.2),\n",
        "    # nn.Linear(256, 128),\n",
        "    # nn.ReLU(),\n",
        "    # nn.Dropout(0.3),\n",
        "    nn.Linear(256, 64),\n",
        "    nn.ReLU(),\n",
        "    nn.Dropout(0.3),\n",
        "    nn.Linear(64, 1))\n",
        "    # ----------------------\n",
        "    return net\n",
        "k, num_epochs, lr, weight_decay, batch_size = 5, 200, 0.001, 0.001, 64\n",
        "\n",
        "# train_l, valid_l = k_fold(get_net,k, train_features, train_labels, num_epochs, lr,weight_decay, batch_size)\n",
        "# print(f'{k}-折验证: 平均训练log rmse: {float(train_l):f}, 'f'平均验证log rmse: {float(valid_l):f}')"
      ]
    },
    {
      "cell_type": "markdown",
      "id": "4e418fd3",
      "metadata": {
        "origin_pos": 47,
        "id": "4e418fd3"
      },
      "source": [
        "请注意，有时一组超参数的训练误差可能非常低，但$K$折交叉验证的误差要高得多，\n",
        "这表明模型过拟合了。\n",
        "在整个训练过程中，我们希望监控训练误差和验证误差这两个数字。\n",
        "较少的过拟合可能表明现有数据可以支撑一个更强大的模型，\n",
        "较大的过拟合可能意味着我们可以通过正则化技术来获益。\n",
        "\n",
        "##  [**提交Kaggle预测**]\n",
        "\n",
        "既然我们知道应该选择什么样的超参数，\n",
        "我们不妨使用所有数据对其进行训练\n",
        "（而不是仅使用交叉验证中使用的$1-1/K$的数据）。\n",
        "然后，我们通过这种方式获得的模型可以应用于测试集。\n",
        "将预测保存在CSV文件中可以简化将结果上传到Kaggle的过程。\n",
        "\n",
        "如果测试集上的预测与 𝐾 倍交叉验证过程中的预测相似， 那就是时候把它们上传到Kaggle了。 下面的代码将生成一个名为submission.csv的文件。\n"
      ]
    },
    {
      "cell_type": "code",
      "execution_count": 35,
      "id": "568e9ca5",
      "metadata": {
        "execution": {
          "iopub.execute_input": "2023-08-18T06:58:48.777939Z",
          "iopub.status.busy": "2023-08-18T06:58:48.777525Z",
          "iopub.status.idle": "2023-08-18T06:58:48.787742Z",
          "shell.execute_reply": "2023-08-18T06:58:48.786661Z"
        },
        "origin_pos": 48,
        "tab": [
          "pytorch"
        ],
        "id": "568e9ca5",
        "colab": {
          "base_uri": "https://localhost:8080/",
          "height": 285
        },
        "outputId": "e15a3ea3-f808-4bd8-998a-ff0b399a5cdc"
      },
      "outputs": [
        {
          "output_type": "stream",
          "name": "stdout",
          "text": [
            "训练log rmse：0.333229\n"
          ]
        },
        {
          "output_type": "display_data",
          "data": {
            "text/plain": [
              "<Figure size 350x250 with 1 Axes>"
            ],
            "image/svg+xml": "<?xml version=\"1.0\" encoding=\"utf-8\" standalone=\"no\"?>\n<!DOCTYPE svg PUBLIC \"-//W3C//DTD SVG 1.1//EN\"\n  \"http://www.w3.org/Graphics/SVG/1.1/DTD/svg11.dtd\">\n<svg xmlns:xlink=\"http://www.w3.org/1999/xlink\" width=\"257.521875pt\" height=\"184.701652pt\" viewBox=\"0 0 257.521875 184.701652\" xmlns=\"http://www.w3.org/2000/svg\" version=\"1.1\">\n <metadata>\n  <rdf:RDF xmlns:dc=\"http://purl.org/dc/elements/1.1/\" xmlns:cc=\"http://creativecommons.org/ns#\" xmlns:rdf=\"http://www.w3.org/1999/02/22-rdf-syntax-ns#\">\n   <cc:Work>\n    <dc:type rdf:resource=\"http://purl.org/dc/dcmitype/StillImage\"/>\n    <dc:date>2025-09-04T14:26:13.540423</dc:date>\n    <dc:format>image/svg+xml</dc:format>\n    <dc:creator>\n     <cc:Agent>\n      <dc:title>Matplotlib v3.10.0, https://matplotlib.org/</dc:title>\n     </cc:Agent>\n    </dc:creator>\n   </cc:Work>\n  </rdf:RDF>\n </metadata>\n <defs>\n  <style type=\"text/css\">*{stroke-linejoin: round; stroke-linecap: butt}</style>\n </defs>\n <g id=\"figure_1\">\n  <g id=\"patch_1\">\n   <path d=\"M 0 184.701652 \nL 257.521875 184.701652 \nL 257.521875 0 \nL 0 0 \nz\n\" style=\"fill: #ffffff\"/>\n  </g>\n  <g id=\"axes_1\">\n   <g id=\"patch_2\">\n    <path d=\"M 45.478125 147.145402 \nL 240.778125 147.145402 \nL 240.778125 8.545402 \nL 45.478125 8.545402 \nz\n\" style=\"fill: #ffffff\"/>\n   </g>\n   <g id=\"matplotlib.axis_1\">\n    <g id=\"xtick_1\">\n     <g id=\"line2d_1\">\n      <path d=\"M 93.56707 147.145402 \nL 93.56707 8.545402 \n\" clip-path=\"url(#p156b9fe3f5)\" style=\"fill: none; stroke: #b0b0b0; stroke-width: 0.8; stroke-linecap: square\"/>\n     </g>\n     <g id=\"line2d_2\">\n      <defs>\n       <path id=\"m83f138b4a4\" d=\"M 0 0 \nL 0 3.5 \n\" style=\"stroke: #000000; stroke-width: 0.8\"/>\n      </defs>\n      <g>\n       <use xlink:href=\"#m83f138b4a4\" x=\"93.56707\" y=\"147.145402\" style=\"stroke: #000000; stroke-width: 0.8\"/>\n      </g>\n     </g>\n     <g id=\"text_1\">\n      <!-- 50 -->\n      <g transform=\"translate(87.20457 161.743839) scale(0.1 -0.1)\">\n       <defs>\n        <path id=\"DejaVuSans-35\" d=\"M 691 4666 \nL 3169 4666 \nL 3169 4134 \nL 1269 4134 \nL 1269 2991 \nQ 1406 3038 1543 3061 \nQ 1681 3084 1819 3084 \nQ 2600 3084 3056 2656 \nQ 3513 2228 3513 1497 \nQ 3513 744 3044 326 \nQ 2575 -91 1722 -91 \nQ 1428 -91 1123 -41 \nQ 819 9 494 109 \nL 494 744 \nQ 775 591 1075 516 \nQ 1375 441 1709 441 \nQ 2250 441 2565 725 \nQ 2881 1009 2881 1497 \nQ 2881 1984 2565 2268 \nQ 2250 2553 1709 2553 \nQ 1456 2553 1204 2497 \nQ 953 2441 691 2322 \nL 691 4666 \nz\n\" transform=\"scale(0.015625)\"/>\n        <path id=\"DejaVuSans-30\" d=\"M 2034 4250 \nQ 1547 4250 1301 3770 \nQ 1056 3291 1056 2328 \nQ 1056 1369 1301 889 \nQ 1547 409 2034 409 \nQ 2525 409 2770 889 \nQ 3016 1369 3016 2328 \nQ 3016 3291 2770 3770 \nQ 2525 4250 2034 4250 \nz\nM 2034 4750 \nQ 2819 4750 3233 4129 \nQ 3647 3509 3647 2328 \nQ 3647 1150 3233 529 \nQ 2819 -91 2034 -91 \nQ 1250 -91 836 529 \nQ 422 1150 422 2328 \nQ 422 3509 836 4129 \nQ 1250 4750 2034 4750 \nz\n\" transform=\"scale(0.015625)\"/>\n       </defs>\n       <use xlink:href=\"#DejaVuSans-35\"/>\n       <use xlink:href=\"#DejaVuSans-30\" transform=\"translate(63.623047 0)\"/>\n      </g>\n     </g>\n    </g>\n    <g id=\"xtick_2\">\n     <g id=\"line2d_3\">\n      <path d=\"M 142.637421 147.145402 \nL 142.637421 8.545402 \n\" clip-path=\"url(#p156b9fe3f5)\" style=\"fill: none; stroke: #b0b0b0; stroke-width: 0.8; stroke-linecap: square\"/>\n     </g>\n     <g id=\"line2d_4\">\n      <g>\n       <use xlink:href=\"#m83f138b4a4\" x=\"142.637421\" y=\"147.145402\" style=\"stroke: #000000; stroke-width: 0.8\"/>\n      </g>\n     </g>\n     <g id=\"text_2\">\n      <!-- 100 -->\n      <g transform=\"translate(133.093671 161.743839) scale(0.1 -0.1)\">\n       <defs>\n        <path id=\"DejaVuSans-31\" d=\"M 794 531 \nL 1825 531 \nL 1825 4091 \nL 703 3866 \nL 703 4441 \nL 1819 4666 \nL 2450 4666 \nL 2450 531 \nL 3481 531 \nL 3481 0 \nL 794 0 \nL 794 531 \nz\n\" transform=\"scale(0.015625)\"/>\n       </defs>\n       <use xlink:href=\"#DejaVuSans-31\"/>\n       <use xlink:href=\"#DejaVuSans-30\" transform=\"translate(63.623047 0)\"/>\n       <use xlink:href=\"#DejaVuSans-30\" transform=\"translate(127.246094 0)\"/>\n      </g>\n     </g>\n    </g>\n    <g id=\"xtick_3\">\n     <g id=\"line2d_5\">\n      <path d=\"M 191.707773 147.145402 \nL 191.707773 8.545402 \n\" clip-path=\"url(#p156b9fe3f5)\" style=\"fill: none; stroke: #b0b0b0; stroke-width: 0.8; stroke-linecap: square\"/>\n     </g>\n     <g id=\"line2d_6\">\n      <g>\n       <use xlink:href=\"#m83f138b4a4\" x=\"191.707773\" y=\"147.145402\" style=\"stroke: #000000; stroke-width: 0.8\"/>\n      </g>\n     </g>\n     <g id=\"text_3\">\n      <!-- 150 -->\n      <g transform=\"translate(182.164023 161.743839) scale(0.1 -0.1)\">\n       <use xlink:href=\"#DejaVuSans-31\"/>\n       <use xlink:href=\"#DejaVuSans-35\" transform=\"translate(63.623047 0)\"/>\n       <use xlink:href=\"#DejaVuSans-30\" transform=\"translate(127.246094 0)\"/>\n      </g>\n     </g>\n    </g>\n    <g id=\"xtick_4\">\n     <g id=\"line2d_7\">\n      <path d=\"M 240.778125 147.145402 \nL 240.778125 8.545402 \n\" clip-path=\"url(#p156b9fe3f5)\" style=\"fill: none; stroke: #b0b0b0; stroke-width: 0.8; stroke-linecap: square\"/>\n     </g>\n     <g id=\"line2d_8\">\n      <g>\n       <use xlink:href=\"#m83f138b4a4\" x=\"240.778125\" y=\"147.145402\" style=\"stroke: #000000; stroke-width: 0.8\"/>\n      </g>\n     </g>\n     <g id=\"text_4\">\n      <!-- 200 -->\n      <g transform=\"translate(231.234375 161.743839) scale(0.1 -0.1)\">\n       <defs>\n        <path id=\"DejaVuSans-32\" d=\"M 1228 531 \nL 3431 531 \nL 3431 0 \nL 469 0 \nL 469 531 \nQ 828 903 1448 1529 \nQ 2069 2156 2228 2338 \nQ 2531 2678 2651 2914 \nQ 2772 3150 2772 3378 \nQ 2772 3750 2511 3984 \nQ 2250 4219 1831 4219 \nQ 1534 4219 1204 4116 \nQ 875 4013 500 3803 \nL 500 4441 \nQ 881 4594 1212 4672 \nQ 1544 4750 1819 4750 \nQ 2544 4750 2975 4387 \nQ 3406 4025 3406 3419 \nQ 3406 3131 3298 2873 \nQ 3191 2616 2906 2266 \nQ 2828 2175 2409 1742 \nQ 1991 1309 1228 531 \nz\n\" transform=\"scale(0.015625)\"/>\n       </defs>\n       <use xlink:href=\"#DejaVuSans-32\"/>\n       <use xlink:href=\"#DejaVuSans-30\" transform=\"translate(63.623047 0)\"/>\n       <use xlink:href=\"#DejaVuSans-30\" transform=\"translate(127.246094 0)\"/>\n      </g>\n     </g>\n    </g>\n    <g id=\"text_5\">\n     <!-- epoch -->\n     <g transform=\"translate(127.9 175.421964) scale(0.1 -0.1)\">\n      <defs>\n       <path id=\"DejaVuSans-65\" d=\"M 3597 1894 \nL 3597 1613 \nL 953 1613 \nQ 991 1019 1311 708 \nQ 1631 397 2203 397 \nQ 2534 397 2845 478 \nQ 3156 559 3463 722 \nL 3463 178 \nQ 3153 47 2828 -22 \nQ 2503 -91 2169 -91 \nQ 1331 -91 842 396 \nQ 353 884 353 1716 \nQ 353 2575 817 3079 \nQ 1281 3584 2069 3584 \nQ 2775 3584 3186 3129 \nQ 3597 2675 3597 1894 \nz\nM 3022 2063 \nQ 3016 2534 2758 2815 \nQ 2500 3097 2075 3097 \nQ 1594 3097 1305 2825 \nQ 1016 2553 972 2059 \nL 3022 2063 \nz\n\" transform=\"scale(0.015625)\"/>\n       <path id=\"DejaVuSans-70\" d=\"M 1159 525 \nL 1159 -1331 \nL 581 -1331 \nL 581 3500 \nL 1159 3500 \nL 1159 2969 \nQ 1341 3281 1617 3432 \nQ 1894 3584 2278 3584 \nQ 2916 3584 3314 3078 \nQ 3713 2572 3713 1747 \nQ 3713 922 3314 415 \nQ 2916 -91 2278 -91 \nQ 1894 -91 1617 61 \nQ 1341 213 1159 525 \nz\nM 3116 1747 \nQ 3116 2381 2855 2742 \nQ 2594 3103 2138 3103 \nQ 1681 3103 1420 2742 \nQ 1159 2381 1159 1747 \nQ 1159 1113 1420 752 \nQ 1681 391 2138 391 \nQ 2594 391 2855 752 \nQ 3116 1113 3116 1747 \nz\n\" transform=\"scale(0.015625)\"/>\n       <path id=\"DejaVuSans-6f\" d=\"M 1959 3097 \nQ 1497 3097 1228 2736 \nQ 959 2375 959 1747 \nQ 959 1119 1226 758 \nQ 1494 397 1959 397 \nQ 2419 397 2687 759 \nQ 2956 1122 2956 1747 \nQ 2956 2369 2687 2733 \nQ 2419 3097 1959 3097 \nz\nM 1959 3584 \nQ 2709 3584 3137 3096 \nQ 3566 2609 3566 1747 \nQ 3566 888 3137 398 \nQ 2709 -91 1959 -91 \nQ 1206 -91 779 398 \nQ 353 888 353 1747 \nQ 353 2609 779 3096 \nQ 1206 3584 1959 3584 \nz\n\" transform=\"scale(0.015625)\"/>\n       <path id=\"DejaVuSans-63\" d=\"M 3122 3366 \nL 3122 2828 \nQ 2878 2963 2633 3030 \nQ 2388 3097 2138 3097 \nQ 1578 3097 1268 2742 \nQ 959 2388 959 1747 \nQ 959 1106 1268 751 \nQ 1578 397 2138 397 \nQ 2388 397 2633 464 \nQ 2878 531 3122 666 \nL 3122 134 \nQ 2881 22 2623 -34 \nQ 2366 -91 2075 -91 \nQ 1284 -91 818 406 \nQ 353 903 353 1747 \nQ 353 2603 823 3093 \nQ 1294 3584 2113 3584 \nQ 2378 3584 2631 3529 \nQ 2884 3475 3122 3366 \nz\n\" transform=\"scale(0.015625)\"/>\n       <path id=\"DejaVuSans-68\" d=\"M 3513 2113 \nL 3513 0 \nL 2938 0 \nL 2938 2094 \nQ 2938 2591 2744 2837 \nQ 2550 3084 2163 3084 \nQ 1697 3084 1428 2787 \nQ 1159 2491 1159 1978 \nL 1159 0 \nL 581 0 \nL 581 4863 \nL 1159 4863 \nL 1159 2956 \nQ 1366 3272 1645 3428 \nQ 1925 3584 2291 3584 \nQ 2894 3584 3203 3211 \nQ 3513 2838 3513 2113 \nz\n\" transform=\"scale(0.015625)\"/>\n      </defs>\n      <use xlink:href=\"#DejaVuSans-65\"/>\n      <use xlink:href=\"#DejaVuSans-70\" transform=\"translate(61.523438 0)\"/>\n      <use xlink:href=\"#DejaVuSans-6f\" transform=\"translate(125 0)\"/>\n      <use xlink:href=\"#DejaVuSans-63\" transform=\"translate(186.181641 0)\"/>\n      <use xlink:href=\"#DejaVuSans-68\" transform=\"translate(241.162109 0)\"/>\n     </g>\n    </g>\n   </g>\n   <g id=\"matplotlib.axis_2\">\n    <g id=\"ytick_1\">\n     <g id=\"line2d_9\">\n      <path d=\"M 45.478125 98.896002 \nL 240.778125 98.896002 \n\" clip-path=\"url(#p156b9fe3f5)\" style=\"fill: none; stroke: #b0b0b0; stroke-width: 0.8; stroke-linecap: square\"/>\n     </g>\n     <g id=\"line2d_10\">\n      <defs>\n       <path id=\"m3ffd29e9a4\" d=\"M 0 0 \nL -3.5 0 \n\" style=\"stroke: #000000; stroke-width: 0.8\"/>\n      </defs>\n      <g>\n       <use xlink:href=\"#m3ffd29e9a4\" x=\"45.478125\" y=\"98.896002\" style=\"stroke: #000000; stroke-width: 0.8\"/>\n      </g>\n     </g>\n     <g id=\"text_6\">\n      <!-- $\\mathdefault{10^{0}}$ -->\n      <g transform=\"translate(20.878125 102.695221) scale(0.1 -0.1)\">\n       <use xlink:href=\"#DejaVuSans-31\" transform=\"translate(0 0.765625)\"/>\n       <use xlink:href=\"#DejaVuSans-30\" transform=\"translate(63.623047 0.765625)\"/>\n       <use xlink:href=\"#DejaVuSans-30\" transform=\"translate(128.203125 39.046875) scale(0.7)\"/>\n      </g>\n     </g>\n    </g>\n    <g id=\"ytick_2\">\n     <g id=\"line2d_11\">\n      <path d=\"M 45.478125 10.999219 \nL 240.778125 10.999219 \n\" clip-path=\"url(#p156b9fe3f5)\" style=\"fill: none; stroke: #b0b0b0; stroke-width: 0.8; stroke-linecap: square\"/>\n     </g>\n     <g id=\"line2d_12\">\n      <g>\n       <use xlink:href=\"#m3ffd29e9a4\" x=\"45.478125\" y=\"10.999219\" style=\"stroke: #000000; stroke-width: 0.8\"/>\n      </g>\n     </g>\n     <g id=\"text_7\">\n      <!-- $\\mathdefault{10^{1}}$ -->\n      <g transform=\"translate(20.878125 14.798438) scale(0.1 -0.1)\">\n       <use xlink:href=\"#DejaVuSans-31\" transform=\"translate(0 0.684375)\"/>\n       <use xlink:href=\"#DejaVuSans-30\" transform=\"translate(63.623047 0.684375)\"/>\n       <use xlink:href=\"#DejaVuSans-31\" transform=\"translate(128.203125 38.965625) scale(0.7)\"/>\n      </g>\n     </g>\n    </g>\n    <g id=\"ytick_3\">\n     <g id=\"line2d_13\">\n      <defs>\n       <path id=\"md7a87197ab\" d=\"M 0 0 \nL -2 0 \n\" style=\"stroke: #000000; stroke-width: 0.6\"/>\n      </defs>\n      <g>\n       <use xlink:href=\"#md7a87197ab\" x=\"45.478125\" y=\"144.855361\" style=\"stroke: #000000; stroke-width: 0.6\"/>\n      </g>\n     </g>\n    </g>\n    <g id=\"ytick_4\">\n     <g id=\"line2d_14\">\n      <g>\n       <use xlink:href=\"#md7a87197ab\" x=\"45.478125\" y=\"133.873648\" style=\"stroke: #000000; stroke-width: 0.6\"/>\n      </g>\n     </g>\n    </g>\n    <g id=\"ytick_5\">\n     <g id=\"line2d_15\">\n      <g>\n       <use xlink:href=\"#md7a87197ab\" x=\"45.478125\" y=\"125.35557\" style=\"stroke: #000000; stroke-width: 0.6\"/>\n      </g>\n     </g>\n    </g>\n    <g id=\"ytick_6\">\n     <g id=\"line2d_16\">\n      <g>\n       <use xlink:href=\"#md7a87197ab\" x=\"45.478125\" y=\"118.395793\" style=\"stroke: #000000; stroke-width: 0.6\"/>\n      </g>\n     </g>\n    </g>\n    <g id=\"ytick_7\">\n     <g id=\"line2d_17\">\n      <g>\n       <use xlink:href=\"#md7a87197ab\" x=\"45.478125\" y=\"112.511386\" style=\"stroke: #000000; stroke-width: 0.6\"/>\n      </g>\n     </g>\n    </g>\n    <g id=\"ytick_8\">\n     <g id=\"line2d_18\">\n      <g>\n       <use xlink:href=\"#md7a87197ab\" x=\"45.478125\" y=\"107.41408\" style=\"stroke: #000000; stroke-width: 0.6\"/>\n      </g>\n     </g>\n    </g>\n    <g id=\"ytick_9\">\n     <g id=\"line2d_19\">\n      <g>\n       <use xlink:href=\"#md7a87197ab\" x=\"45.478125\" y=\"102.917938\" style=\"stroke: #000000; stroke-width: 0.6\"/>\n      </g>\n     </g>\n    </g>\n    <g id=\"ytick_10\">\n     <g id=\"line2d_20\">\n      <g>\n       <use xlink:href=\"#md7a87197ab\" x=\"45.478125\" y=\"72.436434\" style=\"stroke: #000000; stroke-width: 0.6\"/>\n      </g>\n     </g>\n    </g>\n    <g id=\"ytick_11\">\n     <g id=\"line2d_21\">\n      <g>\n       <use xlink:href=\"#md7a87197ab\" x=\"45.478125\" y=\"56.958578\" style=\"stroke: #000000; stroke-width: 0.6\"/>\n      </g>\n     </g>\n    </g>\n    <g id=\"ytick_12\">\n     <g id=\"line2d_22\">\n      <g>\n       <use xlink:href=\"#md7a87197ab\" x=\"45.478125\" y=\"45.976865\" style=\"stroke: #000000; stroke-width: 0.6\"/>\n      </g>\n     </g>\n    </g>\n    <g id=\"ytick_13\">\n     <g id=\"line2d_23\">\n      <g>\n       <use xlink:href=\"#md7a87197ab\" x=\"45.478125\" y=\"37.458787\" style=\"stroke: #000000; stroke-width: 0.6\"/>\n      </g>\n     </g>\n    </g>\n    <g id=\"ytick_14\">\n     <g id=\"line2d_24\">\n      <g>\n       <use xlink:href=\"#md7a87197ab\" x=\"45.478125\" y=\"30.49901\" style=\"stroke: #000000; stroke-width: 0.6\"/>\n      </g>\n     </g>\n    </g>\n    <g id=\"ytick_15\">\n     <g id=\"line2d_25\">\n      <g>\n       <use xlink:href=\"#md7a87197ab\" x=\"45.478125\" y=\"24.614603\" style=\"stroke: #000000; stroke-width: 0.6\"/>\n      </g>\n     </g>\n    </g>\n    <g id=\"ytick_16\">\n     <g id=\"line2d_26\">\n      <g>\n       <use xlink:href=\"#md7a87197ab\" x=\"45.478125\" y=\"19.517297\" style=\"stroke: #000000; stroke-width: 0.6\"/>\n      </g>\n     </g>\n    </g>\n    <g id=\"ytick_17\">\n     <g id=\"line2d_27\">\n      <g>\n       <use xlink:href=\"#md7a87197ab\" x=\"45.478125\" y=\"15.021155\" style=\"stroke: #000000; stroke-width: 0.6\"/>\n      </g>\n     </g>\n    </g>\n    <g id=\"text_8\">\n     <!-- log rmse -->\n     <g transform=\"translate(14.798438 99.576652) rotate(-90) scale(0.1 -0.1)\">\n      <defs>\n       <path id=\"DejaVuSans-6c\" d=\"M 603 4863 \nL 1178 4863 \nL 1178 0 \nL 603 0 \nL 603 4863 \nz\n\" transform=\"scale(0.015625)\"/>\n       <path id=\"DejaVuSans-67\" d=\"M 2906 1791 \nQ 2906 2416 2648 2759 \nQ 2391 3103 1925 3103 \nQ 1463 3103 1205 2759 \nQ 947 2416 947 1791 \nQ 947 1169 1205 825 \nQ 1463 481 1925 481 \nQ 2391 481 2648 825 \nQ 2906 1169 2906 1791 \nz\nM 3481 434 \nQ 3481 -459 3084 -895 \nQ 2688 -1331 1869 -1331 \nQ 1566 -1331 1297 -1286 \nQ 1028 -1241 775 -1147 \nL 775 -588 \nQ 1028 -725 1275 -790 \nQ 1522 -856 1778 -856 \nQ 2344 -856 2625 -561 \nQ 2906 -266 2906 331 \nL 2906 616 \nQ 2728 306 2450 153 \nQ 2172 0 1784 0 \nQ 1141 0 747 490 \nQ 353 981 353 1791 \nQ 353 2603 747 3093 \nQ 1141 3584 1784 3584 \nQ 2172 3584 2450 3431 \nQ 2728 3278 2906 2969 \nL 2906 3500 \nL 3481 3500 \nL 3481 434 \nz\n\" transform=\"scale(0.015625)\"/>\n       <path id=\"DejaVuSans-20\" transform=\"scale(0.015625)\"/>\n       <path id=\"DejaVuSans-72\" d=\"M 2631 2963 \nQ 2534 3019 2420 3045 \nQ 2306 3072 2169 3072 \nQ 1681 3072 1420 2755 \nQ 1159 2438 1159 1844 \nL 1159 0 \nL 581 0 \nL 581 3500 \nL 1159 3500 \nL 1159 2956 \nQ 1341 3275 1631 3429 \nQ 1922 3584 2338 3584 \nQ 2397 3584 2469 3576 \nQ 2541 3569 2628 3553 \nL 2631 2963 \nz\n\" transform=\"scale(0.015625)\"/>\n       <path id=\"DejaVuSans-6d\" d=\"M 3328 2828 \nQ 3544 3216 3844 3400 \nQ 4144 3584 4550 3584 \nQ 5097 3584 5394 3201 \nQ 5691 2819 5691 2113 \nL 5691 0 \nL 5113 0 \nL 5113 2094 \nQ 5113 2597 4934 2840 \nQ 4756 3084 4391 3084 \nQ 3944 3084 3684 2787 \nQ 3425 2491 3425 1978 \nL 3425 0 \nL 2847 0 \nL 2847 2094 \nQ 2847 2600 2669 2842 \nQ 2491 3084 2119 3084 \nQ 1678 3084 1418 2786 \nQ 1159 2488 1159 1978 \nL 1159 0 \nL 581 0 \nL 581 3500 \nL 1159 3500 \nL 1159 2956 \nQ 1356 3278 1631 3431 \nQ 1906 3584 2284 3584 \nQ 2666 3584 2933 3390 \nQ 3200 3197 3328 2828 \nz\n\" transform=\"scale(0.015625)\"/>\n       <path id=\"DejaVuSans-73\" d=\"M 2834 3397 \nL 2834 2853 \nQ 2591 2978 2328 3040 \nQ 2066 3103 1784 3103 \nQ 1356 3103 1142 2972 \nQ 928 2841 928 2578 \nQ 928 2378 1081 2264 \nQ 1234 2150 1697 2047 \nL 1894 2003 \nQ 2506 1872 2764 1633 \nQ 3022 1394 3022 966 \nQ 3022 478 2636 193 \nQ 2250 -91 1575 -91 \nQ 1294 -91 989 -36 \nQ 684 19 347 128 \nL 347 722 \nQ 666 556 975 473 \nQ 1284 391 1588 391 \nQ 1994 391 2212 530 \nQ 2431 669 2431 922 \nQ 2431 1156 2273 1281 \nQ 2116 1406 1581 1522 \nL 1381 1569 \nQ 847 1681 609 1914 \nQ 372 2147 372 2553 \nQ 372 3047 722 3315 \nQ 1072 3584 1716 3584 \nQ 2034 3584 2315 3537 \nQ 2597 3491 2834 3397 \nz\n\" transform=\"scale(0.015625)\"/>\n      </defs>\n      <use xlink:href=\"#DejaVuSans-6c\"/>\n      <use xlink:href=\"#DejaVuSans-6f\" transform=\"translate(27.783203 0)\"/>\n      <use xlink:href=\"#DejaVuSans-67\" transform=\"translate(88.964844 0)\"/>\n      <use xlink:href=\"#DejaVuSans-20\" transform=\"translate(152.441406 0)\"/>\n      <use xlink:href=\"#DejaVuSans-72\" transform=\"translate(184.228516 0)\"/>\n      <use xlink:href=\"#DejaVuSans-6d\" transform=\"translate(223.591797 0)\"/>\n      <use xlink:href=\"#DejaVuSans-73\" transform=\"translate(321.003906 0)\"/>\n      <use xlink:href=\"#DejaVuSans-65\" transform=\"translate(373.103516 0)\"/>\n     </g>\n    </g>\n   </g>\n   <g id=\"line2d_28\">\n    <path d=\"M 45.478125 14.845402 \nL 46.459532 24.851514 \nL 47.440939 31.95077 \nL 48.422346 37.110932 \nL 49.403753 41.334672 \nL 51.366567 48.475865 \nL 53.329381 54.65846 \nL 55.292195 59.940878 \nL 57.255009 64.49735 \nL 59.217823 68.414934 \nL 61.180638 71.71375 \nL 63.143452 74.550966 \nL 65.106266 77.011752 \nL 68.050487 80.273202 \nL 74.920336 86.912516 \nL 76.88315 88.971568 \nL 78.845964 91.333866 \nL 81.790185 95.296959 \nL 83.752999 98.457951 \nL 84.734406 100.238843 \nL 87.678628 107.075354 \nL 90.622849 113.760162 \nL 92.585663 117.586505 \nL 93.56707 119.215718 \nL 95.529884 121.892367 \nL 97.492698 124.14184 \nL 99.455512 125.957875 \nL 101.418326 127.428163 \nL 103.38114 128.600723 \nL 105.343954 129.528178 \nL 108.288175 130.5051 \nL 111.232396 131.18479 \nL 114.176617 131.677058 \nL 119.083653 132.304518 \nL 123.990688 132.893094 \nL 145.581643 134.947461 \nL 150.488678 135.391878 \nL 154.414306 135.663993 \nL 187.782145 137.947508 \nL 189.744959 138.082462 \nL 192.68918 138.234168 \nL 194.651994 138.348128 \nL 197.596215 138.552111 \nL 200.540437 138.693086 \nL 203.484658 138.906404 \nL 207.410286 139.128094 \nL 213.298728 139.467786 \nL 216.242949 139.616312 \nL 218.205763 139.700552 \nL 222.131391 139.935562 \nL 240.778125 140.845402 \nL 240.778125 140.845402 \n\" clip-path=\"url(#p156b9fe3f5)\" style=\"fill: none; stroke: #1f77b4; stroke-width: 1.5; stroke-linecap: square\"/>\n   </g>\n   <g id=\"patch_3\">\n    <path d=\"M 45.478125 147.145402 \nL 45.478125 8.545402 \n\" style=\"fill: none; stroke: #000000; stroke-width: 0.8; stroke-linejoin: miter; stroke-linecap: square\"/>\n   </g>\n   <g id=\"patch_4\">\n    <path d=\"M 240.778125 147.145402 \nL 240.778125 8.545402 \n\" style=\"fill: none; stroke: #000000; stroke-width: 0.8; stroke-linejoin: miter; stroke-linecap: square\"/>\n   </g>\n   <g id=\"patch_5\">\n    <path d=\"M 45.478125 147.145402 \nL 240.778125 147.145402 \n\" style=\"fill: none; stroke: #000000; stroke-width: 0.8; stroke-linejoin: miter; stroke-linecap: square\"/>\n   </g>\n   <g id=\"patch_6\">\n    <path d=\"M 45.478125 8.545402 \nL 240.778125 8.545402 \n\" style=\"fill: none; stroke: #000000; stroke-width: 0.8; stroke-linejoin: miter; stroke-linecap: square\"/>\n   </g>\n  </g>\n </g>\n <defs>\n  <clipPath id=\"p156b9fe3f5\">\n   <rect x=\"45.478125\" y=\"8.545402\" width=\"195.3\" height=\"138.6\"/>\n  </clipPath>\n </defs>\n</svg>\n"
          },
          "metadata": {}
        }
      ],
      "source": [
        "def train_and_pred(net,train_features, test_features, train_labels, test_data,num_epochs, lr, weight_decay, batch_size):\n",
        "\n",
        "    train_ls, _ = train(net, train_features, train_labels, None, None,\n",
        "                        num_epochs, lr, weight_decay, batch_size)\n",
        "    d2l.plot(np.arange(1, num_epochs + 1), [train_ls], xlabel='epoch',\n",
        "             ylabel='log rmse', xlim=[1, num_epochs], yscale='log')\n",
        "    print(f'训练log rmse：{float(train_ls[-1]):f}')\n",
        "\n",
        "    # 将网络应用于测试集。\n",
        "    preds = net(test_features).detach().numpy()\n",
        "    # 将其重新格式化以导出到Kaggle\n",
        "    test_data['Sold Price'] = pd.Series(preds.reshape(1, -1)[0])\n",
        "    submission = pd.concat([test_data['Id'], test_data['Sold Price']], axis=1)\n",
        "    submission.to_csv('california_submission_submit.csv', index=False)\n",
        "\n",
        "net = get_net(train_features.shape[1])\n",
        "train_and_pred(net,train_features, test_features, train_labels, test_data,\n",
        "               num_epochs, lr, weight_decay, batch_size)"
      ]
    },
    {
      "cell_type": "markdown",
      "id": "5efcf208",
      "metadata": {
        "origin_pos": 51,
        "id": "5efcf208"
      },
      "source": [
        "接下来，如 :numref:`fig_kaggle_submit2`中所示，\n",
        "我们可以提交预测到Kaggle上，并查看在测试集上的预测与实际房价（标签）的比较情况。\n",
        "步骤非常简单。\n",
        "\n",
        "* 登录Kaggle网站，访问房价预测竞赛页面。\n",
        "* 点击“Submit Predictions”或“Late Submission”按钮（在撰写本文时，该按钮位于右侧）。\n",
        "* 点击页面底部虚线框中的“Upload Submission File”按钮，选择要上传的预测文件。\n",
        "* 点击页面底部的“Make Submission”按钮，即可查看结果。\n",
        "\n",
        "![向Kaggle提交数据](https://github.com/AlvinScrp/d2l-zh-pytorch-colab/blob/master/img/kaggle-submit2.png?raw=1)\n",
        ":width:`400px`\n",
        ":label:`fig_kaggle_submit2`\n",
        "\n",
        "## 小结\n",
        "\n",
        "* 真实数据通常混合了不同的数据类型，需要进行预处理。\n",
        "* 常用的预处理方法：将实值数据重新缩放为零均值和单位方法；用均值替换缺失值。\n",
        "* 将类别特征转化为指标特征，可以使我们把这个特征当作一个独热向量来对待。\n",
        "* 我们可以使用$K$折交叉验证来选择模型并调整超参数。\n",
        "* 对数对于相对误差很有用。\n",
        "\n",
        "## 练习\n",
        "\n",
        "1. 把预测提交给Kaggle，它有多好？\n",
        "1. 能通过直接最小化价格的对数来改进模型吗？如果试图预测价格的对数而不是价格，会发生什么？\n",
        "1. 用平均值替换缺失值总是好主意吗？提示：能构造一个不随机丢失值的情况吗？\n",
        "1. 通过$K$折交叉验证调整超参数，从而提高Kaggle的得分。\n",
        "1. 通过改进模型（例如，层、权重衰减和dropout）来提高分数。\n",
        "1. 如果我们没有像本节所做的那样标准化连续的数值特征，会发生什么？\n"
      ]
    },
    {
      "cell_type": "markdown",
      "id": "5198d6f0",
      "metadata": {
        "origin_pos": 53,
        "tab": [
          "pytorch"
        ],
        "id": "5198d6f0"
      },
      "source": [
        "[Discussions](https://discuss.d2l.ai/t/1824)\n"
      ]
    }
  ],
  "metadata": {
    "kernelspec": {
      "display_name": "Python 3",
      "name": "python3"
    },
    "language_info": {
      "name": "python"
    },
    "required_libs": [],
    "colab": {
      "provenance": [],
      "include_colab_link": true
    }
  },
  "nbformat": 4,
  "nbformat_minor": 5
}