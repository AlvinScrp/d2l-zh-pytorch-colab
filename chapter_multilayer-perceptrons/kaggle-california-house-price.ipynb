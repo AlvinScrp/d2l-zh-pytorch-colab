{
  "cells": [
    {
      "cell_type": "markdown",
      "metadata": {
        "id": "view-in-github",
        "colab_type": "text"
      },
      "source": [
        "<a href=\"https://colab.research.google.com/github/AlvinScrp/d2l-zh-pytorch-colab/blob/main/chapter_multilayer-perceptrons/kaggle-california-house-price.ipynb\" target=\"_parent\"><img src=\"https://colab.research.google.com/assets/colab-badge.svg\" alt=\"Open In Colab\"/></a>"
      ]
    },
    {
      "cell_type": "markdown",
      "id": "27122f4d",
      "metadata": {
        "id": "27122f4d"
      },
      "source": [
        "The following additional libraries are needed to run this\n",
        "notebook. Note that running on Colab is experimental, please report a Github\n",
        "issue if you have any problem."
      ]
    },
    {
      "cell_type": "code",
      "execution_count": 1,
      "id": "48c8600b",
      "metadata": {
        "id": "48c8600b",
        "outputId": "a63f1cf1-dccd-4cb9-b8d6-e6fefbca2f0b",
        "colab": {
          "base_uri": "https://localhost:8080/"
        }
      },
      "outputs": [
        {
          "output_type": "stream",
          "name": "stdout",
          "text": [
            "Requirement already satisfied: numpy in /usr/local/lib/python3.12/dist-packages (2.0.2)\n",
            "Collecting d2l\n",
            "  Downloading d2l-1.0.3-py3-none-any.whl.metadata (556 bytes)\n",
            "Downloading d2l-1.0.3-py3-none-any.whl (111 kB)\n",
            "\u001b[2K   \u001b[90m━━━━━━━━━━━━━━━━━━━━━━━━━━━━━━━━━━━━━━━━\u001b[0m \u001b[32m111.7/111.7 kB\u001b[0m \u001b[31m2.1 MB/s\u001b[0m eta \u001b[36m0:00:00\u001b[0m\n",
            "\u001b[?25hInstalling collected packages: d2l\n",
            "Successfully installed d2l-1.0.3\n",
            "Requirement already satisfied: pandas in /usr/local/lib/python3.12/dist-packages (2.2.2)\n",
            "Requirement already satisfied: numpy>=1.26.0 in /usr/local/lib/python3.12/dist-packages (from pandas) (2.0.2)\n",
            "Requirement already satisfied: python-dateutil>=2.8.2 in /usr/local/lib/python3.12/dist-packages (from pandas) (2.9.0.post0)\n",
            "Requirement already satisfied: pytz>=2020.1 in /usr/local/lib/python3.12/dist-packages (from pandas) (2025.2)\n",
            "Requirement already satisfied: tzdata>=2022.7 in /usr/local/lib/python3.12/dist-packages (from pandas) (2025.2)\n",
            "Requirement already satisfied: six>=1.5 in /usr/local/lib/python3.12/dist-packages (from python-dateutil>=2.8.2->pandas) (1.17.0)\n"
          ]
        }
      ],
      "source": [
        "!pip install numpy d2l --no-deps # installing d2l # installing d2l\n",
        "\n",
        "!pip install pandas\n",
        "%matplotlib inline\n",
        "import numpy as np # linear algebra\n",
        "import pandas as pd # data processing, CSV file I/O (e.g. pd.read_csv)\n",
        "import os\n",
        "import torch\n",
        "from torch import nn\n",
        "from d2l import torch as d2l\n",
        "from sklearn.decomposition import PCA\n",
        "from sklearn.preprocessing import StandardScaler\n",
        "from sklearn.model_selection import KFold\n"
      ]
    },
    {
      "cell_type": "code",
      "source": [
        "#数据下载\n",
        "import hashlib\n",
        "import os\n",
        "import tarfile\n",
        "import zipfile\n",
        "import requests\n",
        "\n",
        "DATA_HUB = dict()\n",
        "\n",
        "#下面的download函数用来下载数据集， 将数据集缓存在本地目录（默认情况下为../data）中， 并返回下载文件的名称。\n",
        "#如果缓存目录中已经存在此数据集文件，并且其sha-1与存储在DATA_HUB中的相匹配， 我们将使用缓存的文件，以避免重复的下载。\n",
        "def download(name, cache_dir=os.path.join('..', 'content',\"sample_data\")):\n",
        "    \"\"\"下载一个DATA_HUB中的文件，返回本地文件名\"\"\"\n",
        "    assert name in DATA_HUB, f\"{name} 不存在于 {DATA_HUB}\"\n",
        "    url, sha1_hash = DATA_HUB[name]\n",
        "    os.makedirs(cache_dir, exist_ok=True)\n",
        "    fname = os.path.join(cache_dir, url.split('/')[-1])\n",
        "    if os.path.exists(fname):\n",
        "        sha1 = hashlib.sha1()\n",
        "        with open(fname, 'rb') as f:\n",
        "            while True:\n",
        "                data = f.read(1048576)\n",
        "                if not data:\n",
        "                    break\n",
        "                sha1.update(data)\n",
        "        if sha1.hexdigest() == sha1_hash:\n",
        "            return fname  # 命中缓存\n",
        "    print(f'正在从{url}下载{fname}...')\n",
        "    r = requests.get(url, stream=True, verify=True)\n",
        "    with open(fname, 'wb') as f:\n",
        "        f.write(r.content)\n",
        "    return fname\n",
        "\n",
        "#我们还需实现两个实用函数： 一个将下载并解压缩一个zip或tar文件， 另一个是将本书中使用的所有数据集从DATA_HUB下载到缓存目录中。\n",
        "def download_extract(name, folder=None):\n",
        "    \"\"\"下载并解压zip/tar文件\"\"\"\n",
        "    fname = download(name)\n",
        "    base_dir = os.path.dirname(fname)\n",
        "    data_dir, ext = os.path.splitext(fname)\n",
        "    if ext == '.zip':\n",
        "        fp = zipfile.ZipFile(fname, 'r')\n",
        "    elif ext in ('.tar', '.gz'):\n",
        "        fp = tarfile.open(fname, 'r')\n",
        "    else:\n",
        "        assert False, '只有zip/tar文件可以被解压缩'\n",
        "    fp.extractall(base_dir)\n",
        "    return os.path.join(base_dir, folder) if folder else data_dir\n",
        "\n",
        "def download_all():\n",
        "    \"\"\"下载DATA_HUB中的所有文件\"\"\"\n",
        "    for name in DATA_HUB:\n",
        "        download(name)\n",
        "\n",
        "#数据加载\n",
        "#为方便起见，我们可以使用上面定义的脚本下载并缓存Kaggle房屋数据集。\n",
        "# 腾讯云存储地址：https://console.cloud.tencent.com/tcb/storage/index?envId=pro-5gu0t2os8cdd45f2&rid=4&tabId=file\n",
        "DATA_URL = 'https://7072-pro-5gu0t2os8cdd45f2-1251420592.tcb.qcloud.la/'\n",
        "DATA_HUB['train'] = (DATA_URL + 'california_train.csv','e4eb9574fa6e36050286f70f0068d530')\n",
        "DATA_HUB['test'] = (DATA_URL + 'california_test.csv','0b44bb60fbf29e839e62eff79ea02ea6')\n",
        "DATA_HUB['sample_submission'] = (DATA_URL + 'california_sample_submission.csv','f764195f68ae034b0429248e854df530')\n",
        "\n",
        "\n",
        "download('sample_submission')\n",
        "download('train')\n",
        "download('test')"
      ],
      "metadata": {
        "colab": {
          "base_uri": "https://localhost:8080/",
          "height": 107
        },
        "id": "5PqWo3VX3sPz",
        "outputId": "27e43fb7-e1f5-42c2-ac13-aaacb9d2f78a"
      },
      "id": "5PqWo3VX3sPz",
      "execution_count": 2,
      "outputs": [
        {
          "output_type": "stream",
          "name": "stdout",
          "text": [
            "正在从https://7072-pro-5gu0t2os8cdd45f2-1251420592.tcb.qcloud.la/california_sample_submission.csv下载../content/sample_data/california_sample_submission.csv...\n",
            "正在从https://7072-pro-5gu0t2os8cdd45f2-1251420592.tcb.qcloud.la/california_train.csv下载../content/sample_data/california_train.csv...\n",
            "正在从https://7072-pro-5gu0t2os8cdd45f2-1251420592.tcb.qcloud.la/california_test.csv下载../content/sample_data/california_test.csv...\n"
          ]
        },
        {
          "output_type": "execute_result",
          "data": {
            "text/plain": [
              "'../content/sample_data/california_test.csv'"
            ],
            "application/vnd.google.colaboratory.intrinsic+json": {
              "type": "string"
            }
          },
          "metadata": {},
          "execution_count": 2
        }
      ]
    },
    {
      "cell_type": "markdown",
      "id": "937f9e37",
      "metadata": {
        "origin_pos": 0,
        "id": "937f9e37"
      },
      "source": [
        "# 实战Kaggle比赛：California House Prices\n",
        "\n",
        "https://www.kaggle.com/competitions/california-house-prices/data?select=train.csv\n",
        "\n",
        "本节我们将详细介绍数据预处理、模型设计和超参数选择。\n",
        "通过亲身实践，你将获得一手经验，这些经验将有益数据科学家的职业成长。\n",
        "\n",
        "## 数据集"
      ]
    },
    {
      "cell_type": "code",
      "execution_count": 3,
      "id": "55aee9f2",
      "metadata": {
        "execution": {
          "iopub.execute_input": "2023-08-18T06:58:33.716674Z",
          "iopub.status.busy": "2023-08-18T06:58:33.715846Z",
          "iopub.status.idle": "2023-08-18T06:58:33.722539Z",
          "shell.execute_reply": "2023-08-18T06:58:33.721369Z"
        },
        "origin_pos": 16,
        "tab": [
          "pytorch"
        ],
        "id": "55aee9f2",
        "colab": {
          "base_uri": "https://localhost:8080/"
        },
        "outputId": "efc1eaab-8e90-45d8-f058-5e01b71eecc2"
      },
      "outputs": [
        {
          "output_type": "stream",
          "name": "stdout",
          "text": [
            "(47439, 41) (31626, 40) (31626, 2)\n",
            "   Id            Address           City    Zip State  Sold Price\n",
            "0   0        540 Pine Ln      Los Altos  94022    CA   3825000.0\n",
            "1   1     1727 W 67th St    Los Angeles  90047    CA    505000.0\n",
            "2   2     28093 Pine Ave     Strawberry  95375    CA    140000.0\n",
            "3   3  10750 Braddock Dr    Culver City  90230    CA   1775000.0\n",
            "4   4  7415 O Donovan Rd        Creston  93432    CA   1175000.0\n",
            "5   5   922 E Channel St       Stockton  95202    CA    221000.0\n",
            "6   6    1926 Mellon Ave    Los Angeles  90039    CA   1589000.0\n",
            "7   7   9013 N Valley Rd   Taylorsville  95983    CA    480000.0\n",
            "8   8    225 26th Ave #2  San Francisco  94121    CA   1590000.0\n",
            "9   9    612 Valencia Rd          Aptos  95003    CA   1275000.0\n"
          ]
        }
      ],
      "source": [
        "# 训练数据有47439行样本/41维,\n",
        "# 测试数据有31626行样本/40维, 测试数据少了Sold Price\n",
        "# 提交数据有31626行样本/2维,Id和Sold Price\n",
        "\n",
        "sample_submission = pd.read_csv('sample_data/california_sample_submission.csv')\n",
        "train_data = pd.read_csv('sample_data/california_train.csv')\n",
        "test_data = pd.read_csv('sample_data/california_test.csv')\n",
        "#将train_data 中的Sold Price移动到最后\n",
        "soldPrice = train_data.pop('Sold Price')\n",
        "train_data['Sold Price'] = soldPrice\n",
        "\n",
        "print(train_data.shape, test_data.shape,sample_submission.shape,)\n",
        "#让我们看看[前四个和最后两个特征，以及相应标签]（房价）。\n",
        "print(train_data.iloc[0:10, [0, 1, -4,-3, -2, -1]])"
      ]
    },
    {
      "cell_type": "markdown",
      "id": "9e8244c9",
      "metadata": {
        "origin_pos": 19,
        "id": "9e8244c9"
      },
      "source": [
        "我们可以看到，(**在每个样本中，第一个特征是ID，**)\n",
        "这有助于模型识别每个训练样本。\n",
        "虽然这很方便，但它不携带任何用于预测的信息。\n",
        "因此，在将数据提供给模型之前，(**我们将其从数据集中删除**)。\n",
        "\n",
        "数据的标准化处理 参考教程：https://zh-v2.d2l.ai/chapter_multilayer-perceptrons/kaggle-house-price.html#id8\n"
      ]
    },
    {
      "cell_type": "code",
      "source": [
        "import hashlib\n",
        "\n",
        "def hash_encode(series, n_buckets=20):\n",
        "    \"\"\"将类别值哈希到固定维度\"\"\"\n",
        "    return series.apply(lambda x: int(hashlib.md5(str(x).encode()).hexdigest(), 16) % n_buckets)\n",
        "\n",
        "def preprocess(df):\n",
        "    df = df.copy()\n",
        "\n",
        "    # 1. 删除无意义高基数特征\n",
        "    drop_cols = [\"Id\", \"Address\", \"Summary\",\"Listed On\",\"Last Sold On\",\"Elementary School\",\"Middle School\",\"High School\"]\n",
        "    if drop_cols:\n",
        "        df = df.drop(columns=drop_cols, errors=\"ignore\")\n",
        "    keep_cols = [\"Lot\",\"Bedrooms\",\"Total interior livable area\",\n",
        "                 \"Elementary School Score\",\"Elementary School Distance\",\n",
        "                 \"Middle School Score\",\"Middle School Distance\",\"High School Score\",\"High School Distance\",\n",
        "                 \"Tax assessed value\",\"Annual tax amount\", \"Listed Price\",\"Last Sold Price\"]\n",
        "    df = df[keep_cols]\n",
        "    df[\"Bedrooms\"] = pd.to_numeric(df[\"Bedrooms\"], errors=\"coerce\")\n",
        "\n",
        "\n",
        "\n",
        "    large_vel_cols = ['Lot', 'Total interior livable area', 'Tax assessed value', 'Annual tax amount', 'Listed Price']\n",
        "    df[large_vel_cols] = df[large_vel_cols].fillna(0)\n",
        "    for c in large_vel_cols:\n",
        "      df[c] = np.log(df[c]+1)\n",
        "\n",
        "    # 2. 数值特征标准化\n",
        "    numeric_features = df.select_dtypes(exclude='object').columns\n",
        "    #数值特征变换为 均值为 0，方差为 1 的分布：\n",
        "    #这样可以让模型更快收敛，不会因为不同特征的量纲差异（比如面积几千，房龄几十年）而训练不稳定。\n",
        "    scaler = StandardScaler()\n",
        "    df[numeric_features] = scaler.fit_transform(df[numeric_features])\n",
        "    #将缺失值设置为0\n",
        "    df[numeric_features] = df[numeric_features].fillna(0)\n",
        "\n",
        "    # 3. 分类特征处理\n",
        "    cat_cols = df.select_dtypes(include='object').columns\n",
        "\n",
        "    for col in cat_cols:\n",
        "        n_unique = df[col].nunique()\n",
        "\n",
        "        if n_unique <= 50:\n",
        "            # 低基数 → one-hot\n",
        "            df = pd.get_dummies(df, columns=[col], dummy_na=True)\n",
        "\n",
        "        elif 50 < n_unique <= 400:\n",
        "            # 中等基数 → hash 编码\n",
        "            df[col + \"_hash\"] = hash_encode(df[col])\n",
        "            df[col + \"_hash\"] = df[col + \"_hash\"].astype(\"category\")\n",
        "            # 再 one-hot 以避免数值大小误导\n",
        "            df = pd.get_dummies(df, columns=[col + \"_hash\"], dummy_na=True)\n",
        "            df = df.drop(columns=[col])\n",
        "\n",
        "        else:\n",
        "            # 高基数 → 频率编码\n",
        "            freq = df[col].value_counts()\n",
        "            df[col] = df[col].map(freq).fillna(0)\n",
        "\n",
        "    return df\n",
        "\n",
        "#total 47439\n",
        "n_train = train_data.shape[0]\n",
        "n_test = test_data.shape[0]\n",
        "# n_train = 10000\n",
        "# n_test  = 10000\n",
        "# 定义要删除的列\n",
        "\n",
        "all_data = pd.concat((train_data.iloc[:n_train, 1:-1], test_data.iloc[:n_test, 1:]))\n",
        "all_features = preprocess(all_data)\n",
        "train_features = torch.tensor(all_features[:n_train].astype('float32').values)\n",
        "test_features = torch.tensor(all_features[n_train:].astype('float32').values)\n",
        "train_labels = torch.tensor(train_data.iloc[:n_train]['Sold Price'].values.reshape(-1, 1), dtype=torch.float32)\n",
        "\n",
        "print(f\"数值特征标准化后：train_features.shape:{train_features.shape},test_features.shape:{test_features.shape}\")"
      ],
      "metadata": {
        "id": "r2pY9e54oA6k",
        "outputId": "14eb59e3-509c-467f-df2b-59c0871466a1",
        "colab": {
          "base_uri": "https://localhost:8080/"
        }
      },
      "id": "r2pY9e54oA6k",
      "execution_count": 4,
      "outputs": [
        {
          "output_type": "stream",
          "name": "stdout",
          "text": [
            "数值特征标准化后：train_features.shape:torch.Size([47439, 13]),test_features.shape:torch.Size([31626, 13])\n"
          ]
        }
      ]
    },
    {
      "cell_type": "markdown",
      "id": "2b949329",
      "metadata": {
        "origin_pos": 27,
        "id": "2b949329"
      },
      "source": [
        "## [**训练**]\n"
      ]
    },
    {
      "cell_type": "code",
      "execution_count": 5,
      "id": "4e16c1dc",
      "metadata": {
        "execution": {
          "iopub.execute_input": "2023-08-18T06:58:33.976812Z",
          "iopub.status.busy": "2023-08-18T06:58:33.974995Z",
          "iopub.status.idle": "2023-08-18T06:58:33.984092Z",
          "shell.execute_reply": "2023-08-18T06:58:33.983132Z"
        },
        "origin_pos": 29,
        "tab": [
          "pytorch"
        ],
        "id": "4e16c1dc"
      },
      "outputs": [],
      "source": [
        "# 均方误差损失（MSE, mean squared error）\n",
        "loss = nn.MSELoss()\n",
        "\n",
        "# 对数均方根误差（Log Root Mean Squared Error, log RMSE）。\n",
        "def log_rmse(net, features, labels):\n",
        "    # 为了在取对数时进一步稳定该值，将小于1的值设置为1\n",
        "    clipped_preds = torch.clamp(net(features), 1, float('inf'))\n",
        "    rmse = torch.sqrt(loss(torch.log(clipped_preds), torch.log(labels)))\n",
        "    return rmse.item()\n",
        "\n",
        "def train(net, train_features, train_labels, test_features, test_labels,\n",
        "          num_epochs, learning_rate, weight_decay, batch_size):\n",
        "    train_ls, test_ls = [], []\n",
        "    train_iter = d2l.load_array((train_features, train_labels), batch_size)\n",
        "    # 这里使用的是Adam优化算法，对初始学习率不那么敏感\n",
        "    optimizer = torch.optim.Adam(net.parameters(), lr = learning_rate,weight_decay = weight_decay)\n",
        "    for epoch in range(num_epochs):\n",
        "        for X, y in train_iter:\n",
        "            optimizer.zero_grad()\n",
        "            l = loss(net(X), y)\n",
        "            l.backward()\n",
        "            optimizer.step()\n",
        "        net.eval()\n",
        "        with torch.no_grad():\n",
        "            train_loss = log_rmse(net, train_features, train_labels)\n",
        "            train_ls.append(train_loss)\n",
        "            if test_labels is not None:\n",
        "              val_loss = log_rmse(net, test_features, test_labels)\n",
        "              test_ls.append(val_loss)\n",
        "        if(epoch%10==0):\n",
        "          if test_labels is not None:\n",
        "            print(f'epoch:{epoch}，训练log rmse{float(train_ls[-1]):f}, 'f'验证log rmse{float(test_ls[-1]):f}')\n",
        "          else:\n",
        "            print(f'epoch:{epoch}，训练log rmse{float(train_ls[-1]):f}')\n",
        "    return train_ls, test_ls\n",
        "\n",
        "# k-fold 验证\n",
        "def k_fold(get_net_fn, k, features, labels, num_epochs, lr, weight_decay, batch_size):\n",
        "    kf = KFold(n_splits=k, shuffle=True, random_state=42)\n",
        "    i=0\n",
        "    train_l_sum, valid_l_sum = 0, 0\n",
        "    for train_idx, val_idx in kf.split(features):\n",
        "        X_train, X_val = features[train_idx], features[val_idx]\n",
        "        y_train, y_val = labels[train_idx], labels[val_idx]\n",
        "\n",
        "        net = get_net_fn(X_train.shape[1])\n",
        "        train_ls, valid_ls = train(net, X_train, y_train, X_val, y_val, num_epochs, lr, weight_decay, batch_size)\n",
        "        train_l_sum += train_ls[-1]\n",
        "        valid_l_sum += valid_ls[-1]\n",
        "\n",
        "        epochs_ran = len(train_ls)\n",
        "        if i == 0:\n",
        "            d2l.plot(list(range(1, epochs_ran + 1)), [train_ls, valid_ls],\n",
        "                     xlabel='epoch', ylabel='rmse', xlim=[1, num_epochs],\n",
        "                     legend=['train', 'valid'], yscale='log')\n",
        "\n",
        "        print(f'折{i + 1}，训练log rmse{float(train_ls[-1]):f}, '\n",
        "              f'验证log rmse{float(valid_ls[-1]):f}')\n",
        "        i+=1\n",
        "\n",
        "    return train_l_sum/k, valid_l_sum/k\n",
        "\n",
        "\n"
      ]
    },
    {
      "cell_type": "markdown",
      "id": "6bd41791",
      "metadata": {
        "origin_pos": 45,
        "id": "6bd41791"
      },
      "source": [
        "## [**模型选择**]\n",
        "\n",
        "首先，我们训练一个带有损失平方的线性模型。 显然线性模型很难让我们在竞赛中获胜，但线性模型提供了一种健全性检查， 以查看数据中是否存在有意义的信息。 如果我们在这里不能做得比随机猜测更好，那么我们很可能存在数据处理错误。 如果一切顺利，线性模型将作为基线（baseline）模型， 让我们直观地知道最好的模型有超出简单的模型多少。\n",
        "\n",
        "在本例中，我们选择了一组未调优的超参数，并将其留给读者来改进模型。\n",
        "找到一组调优的超参数可能需要时间，这取决于一个人优化了多少变量。\n",
        "有了足够大的数据集和合理设置的超参数，$K$折交叉验证往往对多次测试具有相当的稳定性。\n",
        "然而，如果我们尝试了不合理的超参数，我们可能会发现验证效果不再代表真正的误差。"
      ]
    },
    {
      "cell_type": "code",
      "source": [
        "# #线性模型\n",
        "# def get_net(in_features):\n",
        "#     net = nn.Sequential(nn.Linear(in_features,1))\n",
        "#     return net\n",
        "# k, num_epochs, lr, weight_decay, batch_size = 5, 200, 5, 0.001, 64\n",
        "\n",
        "# train_l, valid_l = k_fold(get_net,k, train_features, train_labels, num_epochs, lr,weight_decay, batch_size)\n",
        "# print(f'{k}-折验证: 平均训练log rmse: {float(train_l):f}, 'f'平均验证log rmse: {float(valid_l):f}')"
      ],
      "metadata": {
        "id": "tmmKo2KiRBYo"
      },
      "id": "tmmKo2KiRBYo",
      "execution_count": 6,
      "outputs": []
    },
    {
      "cell_type": "code",
      "execution_count": 7,
      "id": "0ceb952f",
      "metadata": {
        "execution": {
          "iopub.execute_input": "2023-08-18T06:58:34.062374Z",
          "iopub.status.busy": "2023-08-18T06:58:34.060507Z",
          "iopub.status.idle": "2023-08-18T06:58:48.772917Z",
          "shell.execute_reply": "2023-08-18T06:58:48.771939Z"
        },
        "origin_pos": 46,
        "tab": [
          "pytorch"
        ],
        "id": "0ceb952f"
      },
      "outputs": [],
      "source": [
        "#非线性\n",
        "def get_net(in_features):\n",
        "    net = nn.Sequential(nn.Flatten(),\n",
        "    nn.Linear(in_features, 256),\n",
        "    nn.ReLU(),\n",
        "    nn.Dropout(0.2),\n",
        "    # nn.Linear(256, 128),\n",
        "    # nn.ReLU(),\n",
        "    # nn.Dropout(0.3),\n",
        "    nn.Linear(256, 64),\n",
        "    nn.ReLU(),\n",
        "    nn.Dropout(0.3),\n",
        "    nn.Linear(64, 1))\n",
        "    # ----------------------\n",
        "    return net\n",
        "k, num_epochs, lr, weight_decay, batch_size = 5, 400, 0.001, 0.001, 64\n",
        "\n",
        "# train_l, valid_l = k_fold(get_net,k, train_features, train_labels, num_epochs, lr,weight_decay, batch_size)\n",
        "# print(f'{k}-折验证: 平均训练log rmse: {float(train_l):f}, 'f'平均验证log rmse: {float(valid_l):f}')"
      ]
    },
    {
      "cell_type": "markdown",
      "id": "4e418fd3",
      "metadata": {
        "origin_pos": 47,
        "id": "4e418fd3"
      },
      "source": [
        "请注意，有时一组超参数的训练误差可能非常低，但$K$折交叉验证的误差要高得多，\n",
        "这表明模型过拟合了。\n",
        "在整个训练过程中，我们希望监控训练误差和验证误差这两个数字。\n",
        "较少的过拟合可能表明现有数据可以支撑一个更强大的模型，\n",
        "较大的过拟合可能意味着我们可以通过正则化技术来获益。\n",
        "\n",
        "##  [**提交Kaggle预测**]\n",
        "\n",
        "既然我们知道应该选择什么样的超参数，\n",
        "我们不妨使用所有数据对其进行训练\n",
        "（而不是仅使用交叉验证中使用的$1-1/K$的数据）。\n",
        "然后，我们通过这种方式获得的模型可以应用于测试集。\n",
        "将预测保存在CSV文件中可以简化将结果上传到Kaggle的过程。\n",
        "\n",
        "如果测试集上的预测与 𝐾 倍交叉验证过程中的预测相似， 那就是时候把它们上传到Kaggle了。 下面的代码将生成一个名为submission.csv的文件。\n"
      ]
    },
    {
      "cell_type": "code",
      "execution_count": 8,
      "id": "568e9ca5",
      "metadata": {
        "execution": {
          "iopub.execute_input": "2023-08-18T06:58:48.777939Z",
          "iopub.status.busy": "2023-08-18T06:58:48.777525Z",
          "iopub.status.idle": "2023-08-18T06:58:48.787742Z",
          "shell.execute_reply": "2023-08-18T06:58:48.786661Z"
        },
        "origin_pos": 48,
        "tab": [
          "pytorch"
        ],
        "id": "568e9ca5",
        "colab": {
          "base_uri": "https://localhost:8080/",
          "height": 978
        },
        "outputId": "c6814ea4-953a-4740-a03c-d380c9437ebf"
      },
      "outputs": [
        {
          "output_type": "stream",
          "name": "stdout",
          "text": [
            "epoch:0，训练log rmse4.176109\n",
            "epoch:10，训练log rmse1.043899\n",
            "epoch:20，训练log rmse1.048012\n",
            "epoch:30，训练log rmse0.973167\n",
            "epoch:40，训练log rmse0.807707\n",
            "epoch:50，训练log rmse0.631358\n",
            "epoch:60，训练log rmse0.502006\n",
            "epoch:70，训练log rmse0.415072\n",
            "epoch:80，训练log rmse0.351758\n",
            "epoch:90，训练log rmse0.312450\n",
            "epoch:100，训练log rmse0.290625\n",
            "epoch:110，训练log rmse0.276687\n",
            "epoch:120，训练log rmse0.267660\n",
            "epoch:130，训练log rmse0.261713\n",
            "epoch:140，训练log rmse0.257689\n",
            "epoch:150，训练log rmse0.253867\n",
            "epoch:160，训练log rmse0.251872\n",
            "epoch:170，训练log rmse0.249254\n",
            "epoch:180，训练log rmse0.247822\n",
            "epoch:190，训练log rmse0.245782\n",
            "epoch:200，训练log rmse0.245025\n",
            "epoch:210，训练log rmse0.242649\n",
            "epoch:220，训练log rmse0.242406\n",
            "epoch:230，训练log rmse0.241115\n",
            "epoch:240，训练log rmse0.240095\n",
            "epoch:250，训练log rmse0.238553\n",
            "epoch:260，训练log rmse0.237574\n",
            "epoch:270，训练log rmse0.237697\n",
            "epoch:280，训练log rmse0.237857\n",
            "epoch:290，训练log rmse0.237489\n",
            "epoch:300，训练log rmse0.236701\n",
            "epoch:310，训练log rmse0.235564\n",
            "epoch:320，训练log rmse0.236078\n",
            "epoch:330，训练log rmse0.235314\n",
            "epoch:340，训练log rmse0.234292\n",
            "epoch:350，训练log rmse0.233640\n",
            "epoch:360，训练log rmse0.233811\n",
            "epoch:370，训练log rmse0.233917\n",
            "epoch:380，训练log rmse0.234218\n",
            "epoch:390，训练log rmse0.233408\n",
            "训练log rmse：0.232556\n"
          ]
        },
        {
          "output_type": "display_data",
          "data": {
            "text/plain": [
              "<Figure size 350x250 with 1 Axes>"
            ],
            "image/svg+xml": "<?xml version=\"1.0\" encoding=\"utf-8\" standalone=\"no\"?>\n<!DOCTYPE svg PUBLIC \"-//W3C//DTD SVG 1.1//EN\"\n  \"http://www.w3.org/Graphics/SVG/1.1/DTD/svg11.dtd\">\n<svg xmlns:xlink=\"http://www.w3.org/1999/xlink\" width=\"257.521875pt\" height=\"183.35625pt\" viewBox=\"0 0 257.521875 183.35625\" xmlns=\"http://www.w3.org/2000/svg\" version=\"1.1\">\n <metadata>\n  <rdf:RDF xmlns:dc=\"http://purl.org/dc/elements/1.1/\" xmlns:cc=\"http://creativecommons.org/ns#\" xmlns:rdf=\"http://www.w3.org/1999/02/22-rdf-syntax-ns#\">\n   <cc:Work>\n    <dc:type rdf:resource=\"http://purl.org/dc/dcmitype/StillImage\"/>\n    <dc:date>2025-09-05T14:56:12.322334</dc:date>\n    <dc:format>image/svg+xml</dc:format>\n    <dc:creator>\n     <cc:Agent>\n      <dc:title>Matplotlib v3.10.0, https://matplotlib.org/</dc:title>\n     </cc:Agent>\n    </dc:creator>\n   </cc:Work>\n  </rdf:RDF>\n </metadata>\n <defs>\n  <style type=\"text/css\">*{stroke-linejoin: round; stroke-linecap: butt}</style>\n </defs>\n <g id=\"figure_1\">\n  <g id=\"patch_1\">\n   <path d=\"M 0 183.35625 \nL 257.521875 183.35625 \nL 257.521875 0 \nL 0 0 \nz\n\" style=\"fill: #ffffff\"/>\n  </g>\n  <g id=\"axes_1\">\n   <g id=\"patch_2\">\n    <path d=\"M 45.478125 145.8 \nL 240.778125 145.8 \nL 240.778125 7.2 \nL 45.478125 7.2 \nz\n\" style=\"fill: #ffffff\"/>\n   </g>\n   <g id=\"matplotlib.axis_1\">\n    <g id=\"xtick_1\">\n     <g id=\"line2d_1\">\n      <path d=\"M 93.93602 145.8 \nL 93.93602 7.2 \n\" clip-path=\"url(#pdc37b61619)\" style=\"fill: none; stroke: #b0b0b0; stroke-width: 0.8; stroke-linecap: square\"/>\n     </g>\n     <g id=\"line2d_2\">\n      <defs>\n       <path id=\"mee2260db84\" d=\"M 0 0 \nL 0 3.5 \n\" style=\"stroke: #000000; stroke-width: 0.8\"/>\n      </defs>\n      <g>\n       <use xlink:href=\"#mee2260db84\" x=\"93.93602\" y=\"145.8\" style=\"stroke: #000000; stroke-width: 0.8\"/>\n      </g>\n     </g>\n     <g id=\"text_1\">\n      <!-- 100 -->\n      <g transform=\"translate(84.39227 160.398438) scale(0.1 -0.1)\">\n       <defs>\n        <path id=\"DejaVuSans-31\" d=\"M 794 531 \nL 1825 531 \nL 1825 4091 \nL 703 3866 \nL 703 4441 \nL 1819 4666 \nL 2450 4666 \nL 2450 531 \nL 3481 531 \nL 3481 0 \nL 794 0 \nL 794 531 \nz\n\" transform=\"scale(0.015625)\"/>\n        <path id=\"DejaVuSans-30\" d=\"M 2034 4250 \nQ 1547 4250 1301 3770 \nQ 1056 3291 1056 2328 \nQ 1056 1369 1301 889 \nQ 1547 409 2034 409 \nQ 2525 409 2770 889 \nQ 3016 1369 3016 2328 \nQ 3016 3291 2770 3770 \nQ 2525 4250 2034 4250 \nz\nM 2034 4750 \nQ 2819 4750 3233 4129 \nQ 3647 3509 3647 2328 \nQ 3647 1150 3233 529 \nQ 2819 -91 2034 -91 \nQ 1250 -91 836 529 \nQ 422 1150 422 2328 \nQ 422 3509 836 4129 \nQ 1250 4750 2034 4750 \nz\n\" transform=\"scale(0.015625)\"/>\n       </defs>\n       <use xlink:href=\"#DejaVuSans-31\"/>\n       <use xlink:href=\"#DejaVuSans-30\" transform=\"translate(63.623047 0)\"/>\n       <use xlink:href=\"#DejaVuSans-30\" transform=\"translate(127.246094 0)\"/>\n      </g>\n     </g>\n    </g>\n    <g id=\"xtick_2\">\n     <g id=\"line2d_3\">\n      <path d=\"M 142.883388 145.8 \nL 142.883388 7.2 \n\" clip-path=\"url(#pdc37b61619)\" style=\"fill: none; stroke: #b0b0b0; stroke-width: 0.8; stroke-linecap: square\"/>\n     </g>\n     <g id=\"line2d_4\">\n      <g>\n       <use xlink:href=\"#mee2260db84\" x=\"142.883388\" y=\"145.8\" style=\"stroke: #000000; stroke-width: 0.8\"/>\n      </g>\n     </g>\n     <g id=\"text_2\">\n      <!-- 200 -->\n      <g transform=\"translate(133.339638 160.398438) scale(0.1 -0.1)\">\n       <defs>\n        <path id=\"DejaVuSans-32\" d=\"M 1228 531 \nL 3431 531 \nL 3431 0 \nL 469 0 \nL 469 531 \nQ 828 903 1448 1529 \nQ 2069 2156 2228 2338 \nQ 2531 2678 2651 2914 \nQ 2772 3150 2772 3378 \nQ 2772 3750 2511 3984 \nQ 2250 4219 1831 4219 \nQ 1534 4219 1204 4116 \nQ 875 4013 500 3803 \nL 500 4441 \nQ 881 4594 1212 4672 \nQ 1544 4750 1819 4750 \nQ 2544 4750 2975 4387 \nQ 3406 4025 3406 3419 \nQ 3406 3131 3298 2873 \nQ 3191 2616 2906 2266 \nQ 2828 2175 2409 1742 \nQ 1991 1309 1228 531 \nz\n\" transform=\"scale(0.015625)\"/>\n       </defs>\n       <use xlink:href=\"#DejaVuSans-32\"/>\n       <use xlink:href=\"#DejaVuSans-30\" transform=\"translate(63.623047 0)\"/>\n       <use xlink:href=\"#DejaVuSans-30\" transform=\"translate(127.246094 0)\"/>\n      </g>\n     </g>\n    </g>\n    <g id=\"xtick_3\">\n     <g id=\"line2d_5\">\n      <path d=\"M 191.830757 145.8 \nL 191.830757 7.2 \n\" clip-path=\"url(#pdc37b61619)\" style=\"fill: none; stroke: #b0b0b0; stroke-width: 0.8; stroke-linecap: square\"/>\n     </g>\n     <g id=\"line2d_6\">\n      <g>\n       <use xlink:href=\"#mee2260db84\" x=\"191.830757\" y=\"145.8\" style=\"stroke: #000000; stroke-width: 0.8\"/>\n      </g>\n     </g>\n     <g id=\"text_3\">\n      <!-- 300 -->\n      <g transform=\"translate(182.287007 160.398438) scale(0.1 -0.1)\">\n       <defs>\n        <path id=\"DejaVuSans-33\" d=\"M 2597 2516 \nQ 3050 2419 3304 2112 \nQ 3559 1806 3559 1356 \nQ 3559 666 3084 287 \nQ 2609 -91 1734 -91 \nQ 1441 -91 1130 -33 \nQ 819 25 488 141 \nL 488 750 \nQ 750 597 1062 519 \nQ 1375 441 1716 441 \nQ 2309 441 2620 675 \nQ 2931 909 2931 1356 \nQ 2931 1769 2642 2001 \nQ 2353 2234 1838 2234 \nL 1294 2234 \nL 1294 2753 \nL 1863 2753 \nQ 2328 2753 2575 2939 \nQ 2822 3125 2822 3475 \nQ 2822 3834 2567 4026 \nQ 2313 4219 1838 4219 \nQ 1578 4219 1281 4162 \nQ 984 4106 628 3988 \nL 628 4550 \nQ 988 4650 1302 4700 \nQ 1616 4750 1894 4750 \nQ 2613 4750 3031 4423 \nQ 3450 4097 3450 3541 \nQ 3450 3153 3228 2886 \nQ 3006 2619 2597 2516 \nz\n\" transform=\"scale(0.015625)\"/>\n       </defs>\n       <use xlink:href=\"#DejaVuSans-33\"/>\n       <use xlink:href=\"#DejaVuSans-30\" transform=\"translate(63.623047 0)\"/>\n       <use xlink:href=\"#DejaVuSans-30\" transform=\"translate(127.246094 0)\"/>\n      </g>\n     </g>\n    </g>\n    <g id=\"xtick_4\">\n     <g id=\"line2d_7\">\n      <path d=\"M 240.778125 145.8 \nL 240.778125 7.2 \n\" clip-path=\"url(#pdc37b61619)\" style=\"fill: none; stroke: #b0b0b0; stroke-width: 0.8; stroke-linecap: square\"/>\n     </g>\n     <g id=\"line2d_8\">\n      <g>\n       <use xlink:href=\"#mee2260db84\" x=\"240.778125\" y=\"145.8\" style=\"stroke: #000000; stroke-width: 0.8\"/>\n      </g>\n     </g>\n     <g id=\"text_4\">\n      <!-- 400 -->\n      <g transform=\"translate(231.234375 160.398438) scale(0.1 -0.1)\">\n       <defs>\n        <path id=\"DejaVuSans-34\" d=\"M 2419 4116 \nL 825 1625 \nL 2419 1625 \nL 2419 4116 \nz\nM 2253 4666 \nL 3047 4666 \nL 3047 1625 \nL 3713 1625 \nL 3713 1100 \nL 3047 1100 \nL 3047 0 \nL 2419 0 \nL 2419 1100 \nL 313 1100 \nL 313 1709 \nL 2253 4666 \nz\n\" transform=\"scale(0.015625)\"/>\n       </defs>\n       <use xlink:href=\"#DejaVuSans-34\"/>\n       <use xlink:href=\"#DejaVuSans-30\" transform=\"translate(63.623047 0)\"/>\n       <use xlink:href=\"#DejaVuSans-30\" transform=\"translate(127.246094 0)\"/>\n      </g>\n     </g>\n    </g>\n    <g id=\"text_5\">\n     <!-- epoch -->\n     <g transform=\"translate(127.9 174.076563) scale(0.1 -0.1)\">\n      <defs>\n       <path id=\"DejaVuSans-65\" d=\"M 3597 1894 \nL 3597 1613 \nL 953 1613 \nQ 991 1019 1311 708 \nQ 1631 397 2203 397 \nQ 2534 397 2845 478 \nQ 3156 559 3463 722 \nL 3463 178 \nQ 3153 47 2828 -22 \nQ 2503 -91 2169 -91 \nQ 1331 -91 842 396 \nQ 353 884 353 1716 \nQ 353 2575 817 3079 \nQ 1281 3584 2069 3584 \nQ 2775 3584 3186 3129 \nQ 3597 2675 3597 1894 \nz\nM 3022 2063 \nQ 3016 2534 2758 2815 \nQ 2500 3097 2075 3097 \nQ 1594 3097 1305 2825 \nQ 1016 2553 972 2059 \nL 3022 2063 \nz\n\" transform=\"scale(0.015625)\"/>\n       <path id=\"DejaVuSans-70\" d=\"M 1159 525 \nL 1159 -1331 \nL 581 -1331 \nL 581 3500 \nL 1159 3500 \nL 1159 2969 \nQ 1341 3281 1617 3432 \nQ 1894 3584 2278 3584 \nQ 2916 3584 3314 3078 \nQ 3713 2572 3713 1747 \nQ 3713 922 3314 415 \nQ 2916 -91 2278 -91 \nQ 1894 -91 1617 61 \nQ 1341 213 1159 525 \nz\nM 3116 1747 \nQ 3116 2381 2855 2742 \nQ 2594 3103 2138 3103 \nQ 1681 3103 1420 2742 \nQ 1159 2381 1159 1747 \nQ 1159 1113 1420 752 \nQ 1681 391 2138 391 \nQ 2594 391 2855 752 \nQ 3116 1113 3116 1747 \nz\n\" transform=\"scale(0.015625)\"/>\n       <path id=\"DejaVuSans-6f\" d=\"M 1959 3097 \nQ 1497 3097 1228 2736 \nQ 959 2375 959 1747 \nQ 959 1119 1226 758 \nQ 1494 397 1959 397 \nQ 2419 397 2687 759 \nQ 2956 1122 2956 1747 \nQ 2956 2369 2687 2733 \nQ 2419 3097 1959 3097 \nz\nM 1959 3584 \nQ 2709 3584 3137 3096 \nQ 3566 2609 3566 1747 \nQ 3566 888 3137 398 \nQ 2709 -91 1959 -91 \nQ 1206 -91 779 398 \nQ 353 888 353 1747 \nQ 353 2609 779 3096 \nQ 1206 3584 1959 3584 \nz\n\" transform=\"scale(0.015625)\"/>\n       <path id=\"DejaVuSans-63\" d=\"M 3122 3366 \nL 3122 2828 \nQ 2878 2963 2633 3030 \nQ 2388 3097 2138 3097 \nQ 1578 3097 1268 2742 \nQ 959 2388 959 1747 \nQ 959 1106 1268 751 \nQ 1578 397 2138 397 \nQ 2388 397 2633 464 \nQ 2878 531 3122 666 \nL 3122 134 \nQ 2881 22 2623 -34 \nQ 2366 -91 2075 -91 \nQ 1284 -91 818 406 \nQ 353 903 353 1747 \nQ 353 2603 823 3093 \nQ 1294 3584 2113 3584 \nQ 2378 3584 2631 3529 \nQ 2884 3475 3122 3366 \nz\n\" transform=\"scale(0.015625)\"/>\n       <path id=\"DejaVuSans-68\" d=\"M 3513 2113 \nL 3513 0 \nL 2938 0 \nL 2938 2094 \nQ 2938 2591 2744 2837 \nQ 2550 3084 2163 3084 \nQ 1697 3084 1428 2787 \nQ 1159 2491 1159 1978 \nL 1159 0 \nL 581 0 \nL 581 4863 \nL 1159 4863 \nL 1159 2956 \nQ 1366 3272 1645 3428 \nQ 1925 3584 2291 3584 \nQ 2894 3584 3203 3211 \nQ 3513 2838 3513 2113 \nz\n\" transform=\"scale(0.015625)\"/>\n      </defs>\n      <use xlink:href=\"#DejaVuSans-65\"/>\n      <use xlink:href=\"#DejaVuSans-70\" transform=\"translate(61.523438 0)\"/>\n      <use xlink:href=\"#DejaVuSans-6f\" transform=\"translate(125 0)\"/>\n      <use xlink:href=\"#DejaVuSans-63\" transform=\"translate(186.181641 0)\"/>\n      <use xlink:href=\"#DejaVuSans-68\" transform=\"translate(241.162109 0)\"/>\n     </g>\n    </g>\n   </g>\n   <g id=\"matplotlib.axis_2\">\n    <g id=\"ytick_1\">\n     <g id=\"line2d_9\">\n      <path d=\"M 45.478125 75.860505 \nL 240.778125 75.860505 \n\" clip-path=\"url(#pdc37b61619)\" style=\"fill: none; stroke: #b0b0b0; stroke-width: 0.8; stroke-linecap: square\"/>\n     </g>\n     <g id=\"line2d_10\">\n      <defs>\n       <path id=\"m9f0f049895\" d=\"M 0 0 \nL -3.5 0 \n\" style=\"stroke: #000000; stroke-width: 0.8\"/>\n      </defs>\n      <g>\n       <use xlink:href=\"#m9f0f049895\" x=\"45.478125\" y=\"75.860505\" style=\"stroke: #000000; stroke-width: 0.8\"/>\n      </g>\n     </g>\n     <g id=\"text_6\">\n      <!-- $\\mathdefault{10^{0}}$ -->\n      <g transform=\"translate(20.878125 79.659724) scale(0.1 -0.1)\">\n       <use xlink:href=\"#DejaVuSans-31\" transform=\"translate(0 0.765625)\"/>\n       <use xlink:href=\"#DejaVuSans-30\" transform=\"translate(63.623047 0.765625)\"/>\n       <use xlink:href=\"#DejaVuSans-30\" transform=\"translate(128.203125 39.046875) scale(0.7)\"/>\n      </g>\n     </g>\n    </g>\n    <g id=\"ytick_2\">\n     <g id=\"line2d_11\">\n      <defs>\n       <path id=\"m820bb34b34\" d=\"M 0 0 \nL -2 0 \n\" style=\"stroke: #000000; stroke-width: 0.6\"/>\n      </defs>\n      <g>\n       <use xlink:href=\"#m820bb34b34\" x=\"45.478125\" y=\"128.387021\" style=\"stroke: #000000; stroke-width: 0.6\"/>\n      </g>\n     </g>\n    </g>\n    <g id=\"ytick_3\">\n     <g id=\"line2d_12\">\n      <g>\n       <use xlink:href=\"#m820bb34b34\" x=\"45.478125\" y=\"115.836125\" style=\"stroke: #000000; stroke-width: 0.6\"/>\n      </g>\n     </g>\n    </g>\n    <g id=\"ytick_4\">\n     <g id=\"line2d_13\">\n      <g>\n       <use xlink:href=\"#m820bb34b34\" x=\"45.478125\" y=\"106.100894\" style=\"stroke: #000000; stroke-width: 0.6\"/>\n      </g>\n     </g>\n    </g>\n    <g id=\"ytick_5\">\n     <g id=\"line2d_14\">\n      <g>\n       <use xlink:href=\"#m820bb34b34\" x=\"45.478125\" y=\"98.146632\" style=\"stroke: #000000; stroke-width: 0.6\"/>\n      </g>\n     </g>\n    </g>\n    <g id=\"ytick_6\">\n     <g id=\"line2d_15\">\n      <g>\n       <use xlink:href=\"#m820bb34b34\" x=\"45.478125\" y=\"91.421398\" style=\"stroke: #000000; stroke-width: 0.6\"/>\n      </g>\n     </g>\n    </g>\n    <g id=\"ytick_7\">\n     <g id=\"line2d_16\">\n      <g>\n       <use xlink:href=\"#m820bb34b34\" x=\"45.478125\" y=\"85.595736\" style=\"stroke: #000000; stroke-width: 0.6\"/>\n      </g>\n     </g>\n    </g>\n    <g id=\"ytick_8\">\n     <g id=\"line2d_17\">\n      <g>\n       <use xlink:href=\"#m820bb34b34\" x=\"45.478125\" y=\"80.457138\" style=\"stroke: #000000; stroke-width: 0.6\"/>\n      </g>\n     </g>\n    </g>\n    <g id=\"ytick_9\">\n     <g id=\"line2d_18\">\n      <g>\n       <use xlink:href=\"#m820bb34b34\" x=\"45.478125\" y=\"45.620116\" style=\"stroke: #000000; stroke-width: 0.6\"/>\n      </g>\n     </g>\n    </g>\n    <g id=\"ytick_10\">\n     <g id=\"line2d_19\">\n      <g>\n       <use xlink:href=\"#m820bb34b34\" x=\"45.478125\" y=\"27.930622\" style=\"stroke: #000000; stroke-width: 0.6\"/>\n      </g>\n     </g>\n    </g>\n    <g id=\"ytick_11\">\n     <g id=\"line2d_20\">\n      <g>\n       <use xlink:href=\"#m820bb34b34\" x=\"45.478125\" y=\"15.379727\" style=\"stroke: #000000; stroke-width: 0.6\"/>\n      </g>\n     </g>\n    </g>\n    <g id=\"text_7\">\n     <!-- log rmse -->\n     <g transform=\"translate(14.798438 98.23125) rotate(-90) scale(0.1 -0.1)\">\n      <defs>\n       <path id=\"DejaVuSans-6c\" d=\"M 603 4863 \nL 1178 4863 \nL 1178 0 \nL 603 0 \nL 603 4863 \nz\n\" transform=\"scale(0.015625)\"/>\n       <path id=\"DejaVuSans-67\" d=\"M 2906 1791 \nQ 2906 2416 2648 2759 \nQ 2391 3103 1925 3103 \nQ 1463 3103 1205 2759 \nQ 947 2416 947 1791 \nQ 947 1169 1205 825 \nQ 1463 481 1925 481 \nQ 2391 481 2648 825 \nQ 2906 1169 2906 1791 \nz\nM 3481 434 \nQ 3481 -459 3084 -895 \nQ 2688 -1331 1869 -1331 \nQ 1566 -1331 1297 -1286 \nQ 1028 -1241 775 -1147 \nL 775 -588 \nQ 1028 -725 1275 -790 \nQ 1522 -856 1778 -856 \nQ 2344 -856 2625 -561 \nQ 2906 -266 2906 331 \nL 2906 616 \nQ 2728 306 2450 153 \nQ 2172 0 1784 0 \nQ 1141 0 747 490 \nQ 353 981 353 1791 \nQ 353 2603 747 3093 \nQ 1141 3584 1784 3584 \nQ 2172 3584 2450 3431 \nQ 2728 3278 2906 2969 \nL 2906 3500 \nL 3481 3500 \nL 3481 434 \nz\n\" transform=\"scale(0.015625)\"/>\n       <path id=\"DejaVuSans-20\" transform=\"scale(0.015625)\"/>\n       <path id=\"DejaVuSans-72\" d=\"M 2631 2963 \nQ 2534 3019 2420 3045 \nQ 2306 3072 2169 3072 \nQ 1681 3072 1420 2755 \nQ 1159 2438 1159 1844 \nL 1159 0 \nL 581 0 \nL 581 3500 \nL 1159 3500 \nL 1159 2956 \nQ 1341 3275 1631 3429 \nQ 1922 3584 2338 3584 \nQ 2397 3584 2469 3576 \nQ 2541 3569 2628 3553 \nL 2631 2963 \nz\n\" transform=\"scale(0.015625)\"/>\n       <path id=\"DejaVuSans-6d\" d=\"M 3328 2828 \nQ 3544 3216 3844 3400 \nQ 4144 3584 4550 3584 \nQ 5097 3584 5394 3201 \nQ 5691 2819 5691 2113 \nL 5691 0 \nL 5113 0 \nL 5113 2094 \nQ 5113 2597 4934 2840 \nQ 4756 3084 4391 3084 \nQ 3944 3084 3684 2787 \nQ 3425 2491 3425 1978 \nL 3425 0 \nL 2847 0 \nL 2847 2094 \nQ 2847 2600 2669 2842 \nQ 2491 3084 2119 3084 \nQ 1678 3084 1418 2786 \nQ 1159 2488 1159 1978 \nL 1159 0 \nL 581 0 \nL 581 3500 \nL 1159 3500 \nL 1159 2956 \nQ 1356 3278 1631 3431 \nQ 1906 3584 2284 3584 \nQ 2666 3584 2933 3390 \nQ 3200 3197 3328 2828 \nz\n\" transform=\"scale(0.015625)\"/>\n       <path id=\"DejaVuSans-73\" d=\"M 2834 3397 \nL 2834 2853 \nQ 2591 2978 2328 3040 \nQ 2066 3103 1784 3103 \nQ 1356 3103 1142 2972 \nQ 928 2841 928 2578 \nQ 928 2378 1081 2264 \nQ 1234 2150 1697 2047 \nL 1894 2003 \nQ 2506 1872 2764 1633 \nQ 3022 1394 3022 966 \nQ 3022 478 2636 193 \nQ 2250 -91 1575 -91 \nQ 1294 -91 989 -36 \nQ 684 19 347 128 \nL 347 722 \nQ 666 556 975 473 \nQ 1284 391 1588 391 \nQ 1994 391 2212 530 \nQ 2431 669 2431 922 \nQ 2431 1156 2273 1281 \nQ 2116 1406 1581 1522 \nL 1381 1569 \nQ 847 1681 609 1914 \nQ 372 2147 372 2553 \nQ 372 3047 722 3315 \nQ 1072 3584 1716 3584 \nQ 2034 3584 2315 3537 \nQ 2597 3491 2834 3397 \nz\n\" transform=\"scale(0.015625)\"/>\n      </defs>\n      <use xlink:href=\"#DejaVuSans-6c\"/>\n      <use xlink:href=\"#DejaVuSans-6f\" transform=\"translate(27.783203 0)\"/>\n      <use xlink:href=\"#DejaVuSans-67\" transform=\"translate(88.964844 0)\"/>\n      <use xlink:href=\"#DejaVuSans-20\" transform=\"translate(152.441406 0)\"/>\n      <use xlink:href=\"#DejaVuSans-72\" transform=\"translate(184.228516 0)\"/>\n      <use xlink:href=\"#DejaVuSans-6d\" transform=\"translate(223.591797 0)\"/>\n      <use xlink:href=\"#DejaVuSans-73\" transform=\"translate(321.003906 0)\"/>\n      <use xlink:href=\"#DejaVuSans-65\" transform=\"translate(373.103516 0)\"/>\n     </g>\n    </g>\n   </g>\n   <g id=\"line2d_21\">\n    <path d=\"M 45.478125 13.5 \nL 45.967599 28.118955 \nL 46.457072 36.493669 \nL 47.43602 48.185314 \nL 49.393914 68.357081 \nL 49.883388 71.913055 \nL 50.372862 73.986134 \nL 50.862336 74.9554 \nL 51.351809 75.257978 \nL 51.841283 75.382998 \nL 54.288651 74.028931 \nL 55.267599 73.814604 \nL 55.757072 73.915863 \nL 56.246546 73.880188 \nL 57.714967 74.669488 \nL 60.651809 77.742381 \nL 61.630757 79.147665 \nL 62.12023 79.817031 \nL 62.609704 80.814983 \nL 63.588651 82.428636 \nL 67.993914 91.326031 \nL 68.972862 93.684151 \nL 72.399178 101.117274 \nL 75.33602 106.828522 \nL 77.293914 110.493582 \nL 81.699178 117.163782 \nL 84.63602 121.443215 \nL 86.104441 123.011071 \nL 87.083388 124.158559 \nL 88.062336 125.256824 \nL 90.02023 127.027942 \nL 92.957072 129.034443 \nL 96.383388 130.86455 \nL 96.872862 131.010075 \nL 97.362336 131.310812 \nL 98.341283 131.617397 \nL 98.830757 131.840067 \nL 99.32023 131.916343 \nL 100.788651 132.440494 \nL 102.257072 132.868927 \nL 102.746546 133.090163 \nL 104.214967 133.363327 \nL 104.704441 133.530439 \nL 105.193914 133.566407 \nL 106.172862 133.790648 \nL 111.557072 134.732413 \nL 113.025493 134.943882 \nL 113.514967 135.04825 \nL 114.004441 135.019763 \nL 114.493914 135.136084 \nL 114.983388 135.13492 \nL 115.962336 135.27967 \nL 116.941283 135.459204 \nL 117.92023 135.505436 \nL 120.857072 135.838166 \nL 122.325493 135.978345 \nL 124.772862 136.166611 \nL 125.262336 136.071774 \nL 125.751809 136.22687 \nL 126.241283 136.204923 \nL 127.709704 136.487972 \nL 128.199178 136.416938 \nL 130.157072 136.570442 \nL 130.646546 136.504225 \nL 133.093914 136.723101 \nL 134.072862 136.707553 \nL 134.562336 136.879992 \nL 136.52023 136.971968 \nL 139.946546 137.175341 \nL 140.43602 137.129546 \nL 141.414967 137.228491 \nL 141.904441 137.074075 \nL 142.883388 137.343211 \nL 143.372862 137.218164 \nL 144.351809 137.428413 \nL 144.841283 137.36532 \nL 145.330757 137.473786 \nL 145.82023 137.352508 \nL 146.799178 137.420323 \nL 147.288651 137.396286 \nL 148.267599 137.643421 \nL 148.757072 137.493144 \nL 149.246546 137.584013 \nL 149.73602 137.449728 \nL 150.714967 137.636903 \nL 151.204441 137.570771 \nL 151.693914 137.706889 \nL 153.162336 137.687015 \nL 155.609704 137.908172 \nL 156.099178 137.796492 \nL 156.588651 137.808022 \nL 157.078125 137.998648 \nL 157.567599 137.808743 \nL 158.546546 137.923129 \nL 159.03602 137.865359 \nL 159.525493 138.041866 \nL 161.972862 137.959522 \nL 162.951809 138.105066 \nL 164.909704 138.043177 \nL 165.399178 138.209179 \nL 166.867599 138.19423 \nL 167.846546 138.38611 \nL 168.825493 138.285158 \nL 169.314967 138.35174 \nL 169.804441 138.295445 \nL 170.293914 138.42152 \nL 170.783388 138.210499 \nL 171.762336 138.42041 \nL 172.741283 138.565431 \nL 173.230757 138.280898 \nL 173.72023 138.160655 \nL 174.209704 138.451938 \nL 175.678125 138.304793 \nL 177.63602 138.542867 \nL 178.125493 138.41453 \nL 180.083388 138.567171 \nL 180.572862 138.409551 \nL 181.062336 138.562673 \nL 182.041283 138.521801 \nL 182.530757 138.513563 \nL 183.02023 138.700156 \nL 183.509704 138.764854 \nL 183.999178 138.636984 \nL 184.488651 138.735796 \nL 185.467599 138.515312 \nL 185.957072 138.793865 \nL 187.425493 138.581089 \nL 188.404441 138.76865 \nL 189.383388 138.776577 \nL 189.872862 138.729019 \nL 190.362336 138.898683 \nL 190.851809 138.800434 \nL 191.341283 138.58416 \nL 191.830757 138.826006 \nL 192.32023 138.726157 \nL 192.809704 138.902221 \nL 194.278125 138.887451 \nL 195.257072 138.941772 \nL 195.746546 138.619755 \nL 196.23602 138.898189 \nL 196.725493 139.021872 \nL 197.704441 138.869304 \nL 198.193914 139.056805 \nL 199.172862 138.90187 \nL 199.662336 139.06608 \nL 200.151809 138.902474 \nL 201.62023 138.981823 \nL 202.109704 138.841006 \nL 202.599178 139.088302 \nL 203.578125 139.171599 \nL 204.067599 138.890806 \nL 204.557072 138.760041 \nL 205.046546 138.820457 \nL 205.53602 139.095209 \nL 206.514967 138.914844 \nL 207.983388 139.026294 \nL 209.941283 139.163206 \nL 210.430757 138.894459 \nL 211.409704 139.23139 \nL 211.899178 139.172404 \nL 212.388651 139.28331 \nL 213.857072 139.225812 \nL 214.346546 138.901432 \nL 214.83602 139.204755 \nL 216.304441 139.106112 \nL 216.793914 139.293938 \nL 217.283388 139.239277 \nL 217.772862 138.937306 \nL 218.751809 139.245947 \nL 219.241283 139.128221 \nL 219.730757 139.201101 \nL 220.709704 139.044669 \nL 221.199178 139.244218 \nL 222.178125 139.278495 \nL 222.667599 139.049619 \nL 223.157072 139.272938 \nL 223.646546 139.373358 \nL 224.13602 139.213592 \nL 226.093914 139.36738 \nL 226.583388 139.242286 \nL 227.072862 139.304944 \nL 227.562336 139.070592 \nL 229.030757 139.366856 \nL 229.52023 139.07181 \nL 230.009704 139.287021 \nL 230.499178 139.135939 \nL 230.988651 139.279146 \nL 231.967599 139.205275 \nL 232.457072 139.231415 \nL 232.946546 139.08908 \nL 233.43602 139.340489 \nL 236.372862 139.337297 \nL 236.862336 139.175681 \nL 237.351809 139.324896 \nL 237.841283 139.33616 \nL 238.330757 139.5 \nL 238.82023 139.139959 \nL 239.799178 139.481812 \nL 240.288651 139.125081 \nL 240.778125 139.496782 \nL 240.778125 139.496782 \n\" clip-path=\"url(#pdc37b61619)\" style=\"fill: none; stroke: #1f77b4; stroke-width: 1.5; stroke-linecap: square\"/>\n   </g>\n   <g id=\"patch_3\">\n    <path d=\"M 45.478125 145.8 \nL 45.478125 7.2 \n\" style=\"fill: none; stroke: #000000; stroke-width: 0.8; stroke-linejoin: miter; stroke-linecap: square\"/>\n   </g>\n   <g id=\"patch_4\">\n    <path d=\"M 240.778125 145.8 \nL 240.778125 7.2 \n\" style=\"fill: none; stroke: #000000; stroke-width: 0.8; stroke-linejoin: miter; stroke-linecap: square\"/>\n   </g>\n   <g id=\"patch_5\">\n    <path d=\"M 45.478125 145.8 \nL 240.778125 145.8 \n\" style=\"fill: none; stroke: #000000; stroke-width: 0.8; stroke-linejoin: miter; stroke-linecap: square\"/>\n   </g>\n   <g id=\"patch_6\">\n    <path d=\"M 45.478125 7.2 \nL 240.778125 7.2 \n\" style=\"fill: none; stroke: #000000; stroke-width: 0.8; stroke-linejoin: miter; stroke-linecap: square\"/>\n   </g>\n  </g>\n </g>\n <defs>\n  <clipPath id=\"pdc37b61619\">\n   <rect x=\"45.478125\" y=\"7.2\" width=\"195.3\" height=\"138.6\"/>\n  </clipPath>\n </defs>\n</svg>\n"
          },
          "metadata": {}
        }
      ],
      "source": [
        "def train_and_pred(net,train_features, test_features, train_labels, test_data,num_epochs, lr, weight_decay, batch_size):\n",
        "\n",
        "    train_ls, _ = train(net, train_features, train_labels, None, None,\n",
        "                        num_epochs, lr, weight_decay, batch_size)\n",
        "    d2l.plot(np.arange(1, num_epochs + 1), [train_ls], xlabel='epoch',\n",
        "             ylabel='log rmse', xlim=[1, num_epochs], yscale='log')\n",
        "    print(f'训练log rmse：{float(train_ls[-1]):f}')\n",
        "\n",
        "    # 将网络应用于测试集。\n",
        "    preds = net(test_features).detach().numpy()\n",
        "    # 将其重新格式化以导出到Kaggle\n",
        "    test_data['Sold Price'] = pd.Series(preds.reshape(1, -1)[0])\n",
        "    submission = pd.concat([test_data['Id'], test_data['Sold Price']], axis=1)\n",
        "    submission.to_csv('california_submission_submit.csv', index=False)\n",
        "\n",
        "net = get_net(train_features.shape[1])\n",
        "train_and_pred(net,train_features, test_features, train_labels, test_data,\n",
        "               num_epochs, lr, weight_decay, batch_size)"
      ]
    },
    {
      "cell_type": "markdown",
      "id": "5efcf208",
      "metadata": {
        "origin_pos": 51,
        "id": "5efcf208"
      },
      "source": [
        "接下来，如 :numref:`fig_kaggle_submit2`中所示，\n",
        "我们可以提交预测到Kaggle上，并查看在测试集上的预测与实际房价（标签）的比较情况。\n",
        "步骤非常简单。\n",
        "\n",
        "* 登录Kaggle网站，访问房价预测竞赛页面。\n",
        "* 点击“Submit Predictions”或“Late Submission”按钮（在撰写本文时，该按钮位于右侧）。\n",
        "* 点击页面底部虚线框中的“Upload Submission File”按钮，选择要上传的预测文件。\n",
        "* 点击页面底部的“Make Submission”按钮，即可查看结果。\n",
        "\n",
        "![向Kaggle提交数据](https://github.com/AlvinScrp/d2l-zh-pytorch-colab/blob/master/img/kaggle-submit2.png?raw=1)\n",
        ":width:`400px`\n",
        ":label:`fig_kaggle_submit2`\n",
        "\n",
        "## 小结\n",
        "\n",
        "* 真实数据通常混合了不同的数据类型，需要进行预处理。\n",
        "* 常用的预处理方法：将实值数据重新缩放为零均值和单位方法；用均值替换缺失值。\n",
        "* 将类别特征转化为指标特征，可以使我们把这个特征当作一个独热向量来对待。\n",
        "* 我们可以使用$K$折交叉验证来选择模型并调整超参数。\n",
        "* 对数对于相对误差很有用。\n",
        "\n",
        "## 练习\n",
        "\n",
        "1. 把预测提交给Kaggle，它有多好？\n",
        "1. 能通过直接最小化价格的对数来改进模型吗？如果试图预测价格的对数而不是价格，会发生什么？\n",
        "1. 用平均值替换缺失值总是好主意吗？提示：能构造一个不随机丢失值的情况吗？\n",
        "1. 通过$K$折交叉验证调整超参数，从而提高Kaggle的得分。\n",
        "1. 通过改进模型（例如，层、权重衰减和dropout）来提高分数。\n",
        "1. 如果我们没有像本节所做的那样标准化连续的数值特征，会发生什么？\n"
      ]
    },
    {
      "cell_type": "markdown",
      "id": "5198d6f0",
      "metadata": {
        "origin_pos": 53,
        "tab": [
          "pytorch"
        ],
        "id": "5198d6f0"
      },
      "source": [
        "[Discussions](https://discuss.d2l.ai/t/1824)\n"
      ]
    }
  ],
  "metadata": {
    "kernelspec": {
      "display_name": "Python 3",
      "name": "python3"
    },
    "language_info": {
      "name": "python"
    },
    "required_libs": [],
    "colab": {
      "provenance": [],
      "gpuType": "T4",
      "include_colab_link": true
    },
    "accelerator": "GPU"
  },
  "nbformat": 4,
  "nbformat_minor": 5
}