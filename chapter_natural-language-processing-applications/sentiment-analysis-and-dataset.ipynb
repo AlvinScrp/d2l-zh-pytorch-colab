{
  "cells": [
    {
      "cell_type": "markdown",
      "metadata": {
        "id": "view-in-github",
        "colab_type": "text"
      },
      "source": [
        "<a href=\"https://colab.research.google.com/github/AlvinScrp/d2l-zh-pytorch-colab/blob/main/chapter_natural-language-processing-applications/sentiment-analysis-and-dataset.ipynb\" target=\"_parent\"><img src=\"https://colab.research.google.com/assets/colab-badge.svg\" alt=\"Open In Colab\"/></a>"
      ]
    },
    {
      "cell_type": "markdown",
      "id": "c01bbaff",
      "metadata": {
        "id": "c01bbaff"
      },
      "source": [
        "The following additional libraries are needed to run this\n",
        "notebook. Note that running on Colab is experimental, please report a Github\n",
        "issue if you have any problem."
      ]
    },
    {
      "cell_type": "code",
      "execution_count": 1,
      "id": "8312f05d",
      "metadata": {
        "id": "8312f05d",
        "outputId": "e016eb91-f98b-4c22-a531-19f0929a08ca",
        "colab": {
          "base_uri": "https://localhost:8080/"
        }
      },
      "outputs": [
        {
          "output_type": "stream",
          "name": "stdout",
          "text": [
            "Requirement already satisfied: numpy in /usr/local/lib/python3.12/dist-packages (2.0.2)\n",
            "Collecting d2l\n",
            "  Downloading d2l-1.0.3-py3-none-any.whl.metadata (556 bytes)\n",
            "Downloading d2l-1.0.3-py3-none-any.whl (111 kB)\n",
            "\u001b[2K   \u001b[90m━━━━━━━━━━━━━━━━━━━━━━━━━━━━━━━━━━━━━━━━\u001b[0m \u001b[32m111.7/111.7 kB\u001b[0m \u001b[31m5.2 MB/s\u001b[0m eta \u001b[36m0:00:00\u001b[0m\n",
            "\u001b[?25hInstalling collected packages: d2l\n",
            "Successfully installed d2l-1.0.3\n"
          ]
        }
      ],
      "source": [
        "!pip install numpy d2l --no-deps # installing d2l # installing d2l\n"
      ]
    },
    {
      "cell_type": "markdown",
      "id": "bba5a16c",
      "metadata": {
        "origin_pos": 0,
        "id": "bba5a16c"
      },
      "source": [
        "# 情感分析及数据集\n",
        ":label:`sec_sentiment`\n",
        "\n",
        "随着在线社交媒体和评论平台的快速发展，大量评论的数据被记录下来。这些数据具有支持决策过程的巨大潜力。\n",
        "*情感分析*（sentiment analysis）研究人们在文本中\n",
        "（如产品评论、博客评论和论坛讨论等）“隐藏”的情绪。\n",
        "它在广泛应用于政治（如公众对政策的情绪分析）、\n",
        "金融（如市场情绪分析）和营销（如产品研究和品牌管理）等领域。\n",
        "\n",
        "由于情感可以被分类为离散的极性或尺度（例如，积极的和消极的），我们可以将情感分析看作一项文本分类任务，它将可变长度的文本序列转换为固定长度的文本类别。在本章中，我们将使用斯坦福大学的[大型电影评论数据集（large movie review dataset）](https://ai.stanford.edu/~amaas/data/sentiment/)进行情感分析。它由一个训练集和一个测试集组成，其中包含从IMDb下载的25000个电影评论。在这两个数据集中，“积极”和“消极”标签的数量相同，表示不同的情感极性。\n"
      ]
    },
    {
      "cell_type": "code",
      "execution_count": 3,
      "id": "7822039c",
      "metadata": {
        "execution": {
          "iopub.execute_input": "2023-08-18T07:04:17.696417Z",
          "iopub.status.busy": "2023-08-18T07:04:17.695782Z",
          "iopub.status.idle": "2023-08-18T07:04:19.693903Z",
          "shell.execute_reply": "2023-08-18T07:04:19.692968Z"
        },
        "origin_pos": 2,
        "tab": [
          "pytorch"
        ],
        "id": "7822039c"
      },
      "outputs": [],
      "source": [
        "import os\n",
        "import torch\n",
        "from torch import nn\n",
        "from d2l import torch as d2l"
      ]
    },
    {
      "cell_type": "markdown",
      "id": "76c1daa2",
      "metadata": {
        "origin_pos": 4,
        "id": "76c1daa2"
      },
      "source": [
        "##  读取数据集\n",
        "\n",
        "首先，下载并提取路径`../data/aclImdb`中的IMDb评论数据集。\n"
      ]
    },
    {
      "cell_type": "code",
      "execution_count": 4,
      "id": "831081fb",
      "metadata": {
        "execution": {
          "iopub.execute_input": "2023-08-18T07:04:19.698054Z",
          "iopub.status.busy": "2023-08-18T07:04:19.697364Z",
          "iopub.status.idle": "2023-08-18T07:04:42.609194Z",
          "shell.execute_reply": "2023-08-18T07:04:42.607873Z"
        },
        "origin_pos": 5,
        "tab": [
          "pytorch"
        ],
        "id": "831081fb",
        "outputId": "2636e3ef-2b4a-45ba-f11d-3891739dfe11",
        "colab": {
          "base_uri": "https://localhost:8080/"
        }
      },
      "outputs": [
        {
          "output_type": "stream",
          "name": "stdout",
          "text": [
            "Downloading ../data/aclImdb_v1.tar.gz from https://huggingface.co/datasets/NolanChai/aclImdb_v1/resolve/main/aclImdb_v1.tar.gz...\n"
          ]
        }
      ],
      "source": [
        "d2l.DATA_HUB['aclImdb'] = (\n",
        "    'https://huggingface.co/datasets/NolanChai/aclImdb_v1/resolve/main/aclImdb_v1.tar.gz',\n",
        "    '01ada507287d82875905620988597833ad4e0903')\n",
        "\n",
        "data_dir = d2l.download_extract('aclImdb', 'aclImdb')"
      ]
    },
    {
      "cell_type": "markdown",
      "id": "a376611c",
      "metadata": {
        "origin_pos": 6,
        "id": "a376611c"
      },
      "source": [
        "接下来，读取训练和测试数据集。每个样本都是一个评论及其标签：1表示“积极”，0表示“消极”。\n"
      ]
    },
    {
      "cell_type": "code",
      "execution_count": 5,
      "id": "4d08a828",
      "metadata": {
        "execution": {
          "iopub.execute_input": "2023-08-18T07:04:42.614109Z",
          "iopub.status.busy": "2023-08-18T07:04:42.613148Z",
          "iopub.status.idle": "2023-08-18T07:04:43.353563Z",
          "shell.execute_reply": "2023-08-18T07:04:43.352484Z"
        },
        "origin_pos": 7,
        "tab": [
          "pytorch"
        ],
        "id": "4d08a828",
        "outputId": "fee8c597-2f6e-49f6-f646-797990518f77",
        "colab": {
          "base_uri": "https://localhost:8080/"
        }
      },
      "outputs": [
        {
          "output_type": "stream",
          "name": "stdout",
          "text": [
            "训练集数目： 25000\n",
            "标签： 1 review: I remember this movie from the 50s when I was in college. It\n",
            "标签： 1 review: This film contains the one ingredient that all revenge movie\n",
            "标签： 1 review: Of all the breakdancing / hip-hop films released between 198\n"
          ]
        }
      ],
      "source": [
        "def read_imdb(data_dir, is_train):\n",
        "    \"\"\"读取IMDb评论数据集文本序列和标签\"\"\"\n",
        "    data, labels = [], []\n",
        "    for label in ('pos', 'neg'):\n",
        "        folder_name = os.path.join(data_dir, 'train' if is_train else 'test',\n",
        "                                   label)\n",
        "        for file in os.listdir(folder_name):\n",
        "            with open(os.path.join(folder_name, file), 'rb') as f:\n",
        "                review = f.read().decode('utf-8').replace('\\n', '')\n",
        "                data.append(review)\n",
        "                labels.append(1 if label == 'pos' else 0)\n",
        "    return data, labels\n",
        "\n",
        "train_data = read_imdb(data_dir, is_train=True)\n",
        "print('训练集数目：', len(train_data[0]))\n",
        "for x, y in zip(train_data[0][:3], train_data[1][:3]):\n",
        "    print('标签：', y, 'review:', x[0:60])"
      ]
    },
    {
      "cell_type": "code",
      "source": [
        "for review in train_data[0][:5]:\n",
        "  print(review)"
      ],
      "metadata": {
        "id": "V3UWIlyuwevV",
        "outputId": "2c303316-0818-4013-8a73-4e6d4c726d3d",
        "colab": {
          "base_uri": "https://localhost:8080/"
        }
      },
      "id": "V3UWIlyuwevV",
      "execution_count": 6,
      "outputs": [
        {
          "output_type": "stream",
          "name": "stdout",
          "text": [
            "I actually quite enjoyed this show. Even as a youngster I was interested in all sports and that included horse racing. It was always going to be difficult to make a series based on racing corruption and at the same time get permission from the race tracks to record filming about this controversial subject. One episode I particularly remember centred around a horse expected to win a big race that looked a bit off colour. A syringe was found on the stable floor and everyone thought it had been drugged but nothing showed up in the blood tests. All too late they realised the horse hadnt been doped but had had its knee cartilage removed. Like running a car with no oil and the engine seizing up, the horse broke down with tragic consequences.\n",
            "So I'm at home, flipping channels one night, and I come across this man wearing heels and makeup, standing in front of a colored background on HBO. Naturally, I did a double-take and decided I'd watch for a little while. I didn't change the channel until he was finished, it was so incredibly hilarious. The next time it was on, I made sure to tape it so I could watch it over and over again, and it has remained one of my favorite things to watch. During the first couple of minutes, you can tell that the audience isn't quite sure what to think, but he quickly wins them over with his incredible humor and wit. While many stand-up comedians mesh together in my brain, Eddie Izzard stands out as one of the best. His style is incredibly refreshing, and it is nice to hear jokes about things like history and puberty when most comedians stick to current events. His show stayed with me afterwards. I went to Italy over the summer, and all I could think about while I was there was how \"Italians are always on scooters going 'CIAO...'\" 10 out of 10. See it. You won't regret it.\n",
            "A meteor crashes into Crater Lake, the heat from the impact causing a prehistoric egg to hatch.<br /><br />Alright, so the plot is just trash. But despite its obvious low budget, this comes across as one of the most gripping and entertaining monster-on-the-loose films in existence. There are also some good moments of humor. In an age filled so-called 'monsters' which are no more than laughable men-in-rubber-suit creations or lizards dressed up in frills and forced to rip each other to pieces (cheap exploitation-style), it's refreshing to discover that the Plesiosaur in this little gem is an excellent Harryhausen-style stop-motion creature.<br /><br />Quite a hard film to find, but it's worth finding.\n",
            "Exquisite comedy starring Marian Davies (with the affable William Haines). Young Peggy arrives in Hollywood seeking stardom. Cameo performances showcase \"all the stars in MGM's heaven\" in the famous commissary scene, plus lots of vintage film making detail for the scholar. Pic also captures for posterity Davies' famous, wickedly sarcastic impersonations of the top stars of the day (her Swanson is a beaut!).<br /><br />\"Peggy,\" even catches herself as she encounters the famous star Marian Davies at tennis, turns up her nose and comments, \"Ohh, I don't like her!\"<br /><br />My print was perfect. Story, direction, acting an authentic charm and a must for all silent afficinados.\n",
            "This is what I call a \"pre Sci Fi; Sci Fi\" movie. It gets no better than Lugosi/Karloff in this incredibly good \"mood\" type motion picture. These two genuine artists are at their very best, as is the story line.<br /><br />Karloff does an amazing job as a scientist that sees himself caught in a vise of vanity, pride, and scientific competition. I was caught up in the idea of watching a man as he drowns himself in the three previously mentioned concepts. I was saddened and at the same time fascinated with the two stars as they do themselves in. <br /><br />This is the sort of motion picture that begs for a remake. This time put Harrison Ford in the Karloff part and maybe Kieffer Sutherland as the Bela Lagosi role. It might be possible to do it almost as good.<br /><br />This is one of the very best that Hollywood EVER produced. As I said..it gets no better. No way.\n"
          ]
        }
      ]
    },
    {
      "cell_type": "markdown",
      "id": "35e114e6",
      "metadata": {
        "origin_pos": 8,
        "id": "35e114e6"
      },
      "source": [
        "## 预处理数据集\n",
        "\n",
        "将每个单词作为一个词元，过滤掉出现不到5次的单词，我们从训练数据集中创建一个词表。\n"
      ]
    },
    {
      "cell_type": "code",
      "execution_count": 7,
      "id": "b833b646",
      "metadata": {
        "execution": {
          "iopub.execute_input": "2023-08-18T07:04:43.358797Z",
          "iopub.status.busy": "2023-08-18T07:04:43.358266Z",
          "iopub.status.idle": "2023-08-18T07:04:46.339449Z",
          "shell.execute_reply": "2023-08-18T07:04:46.338553Z"
        },
        "origin_pos": 9,
        "tab": [
          "pytorch"
        ],
        "id": "b833b646",
        "outputId": "16cbc322-ac6f-4229-a0ad-ce34dace630b",
        "colab": {
          "base_uri": "https://localhost:8080/"
        }
      },
      "outputs": [
        {
          "output_type": "stream",
          "name": "stdout",
          "text": [
            "['I', 'actually', 'quite', 'enjoyed', 'this', 'show.', 'Even', 'as', 'a', 'youngster', 'I', 'was', 'interested', 'in', 'all', 'sports', 'and', 'that', 'included', 'horse', 'racing.', 'It', 'was', 'always', 'going', 'to', 'be', 'difficult', 'to', 'make', 'a', 'series', 'based', 'on', 'racing', 'corruption', 'and', 'at', 'the', 'same', 'time', 'get', 'permission', 'from', 'the', 'race', 'tracks', 'to', 'record', 'filming', 'about', 'this', 'controversial', 'subject.', 'One', 'episode', 'I', 'particularly', 'remember', 'centred', 'around', 'a', 'horse', 'expected', 'to', 'win', 'a', 'big', 'race', 'that', 'looked', 'a', 'bit', 'off', 'colour.', 'A', 'syringe', 'was', 'found', 'on', 'the', 'stable', 'floor', 'and', 'everyone', 'thought', 'it', 'had', 'been', 'drugged', 'but', 'nothing', 'showed', 'up', 'in', 'the', 'blood', 'tests.', 'All', 'too', 'late', 'they', 'realised', 'the', 'horse', 'hadnt', 'been', 'doped', 'but', 'had', 'had', 'its', 'knee', 'cartilage', 'removed.', 'Like', 'running', 'a', 'car', 'with', 'no', 'oil', 'and', 'the', 'engine', 'seizing', 'up,', 'the', 'horse', 'broke', 'down', 'with', 'tragic', 'consequences.']\n",
            "9590\n",
            "[('the', 287032), ('a', 155096), ('and', 152664), ('of', 142972), ('to', 132568), ('is', 103229), ('in', 85580), ('I', 65973), ('that', 64560), ('this', 57199)]\n"
          ]
        }
      ],
      "source": [
        "train_tokens = d2l.tokenize(train_data[0], token='word')\n",
        "print(train_tokens[0])\n",
        "vocab = d2l.Vocab(train_tokens, min_freq=5, reserved_tokens=['<pad>'])\n",
        "print(vocab['I'])\n",
        "print(vocab.token_freqs[:10])"
      ]
    },
    {
      "cell_type": "code",
      "source": [
        "freqs = [freq for token, freq in vocab.token_freqs]\n",
        "d2l.plot(freqs, xlabel='token: x', ylabel='frequency: n(x)',\n",
        "         xscale='log', yscale='log')"
      ],
      "metadata": {
        "id": "Tq9NTsgtyeK9",
        "outputId": "d44a2f86-e07f-4a59-f620-b4a1898c564c",
        "colab": {
          "base_uri": "https://localhost:8080/",
          "height": 266
        }
      },
      "id": "Tq9NTsgtyeK9",
      "execution_count": 8,
      "outputs": [
        {
          "output_type": "display_data",
          "data": {
            "text/plain": [
              "<Figure size 350x250 with 1 Axes>"
            ],
            "image/svg+xml": "<?xml version=\"1.0\" encoding=\"utf-8\" standalone=\"no\"?>\n<!DOCTYPE svg PUBLIC \"-//W3C//DTD SVG 1.1//EN\"\n  \"http://www.w3.org/Graphics/SVG/1.1/DTD/svg11.dtd\">\n<svg xmlns:xlink=\"http://www.w3.org/1999/xlink\" width=\"247.978125pt\" height=\"183.35625pt\" viewBox=\"0 0 247.978125 183.35625\" xmlns=\"http://www.w3.org/2000/svg\" version=\"1.1\">\n <metadata>\n  <rdf:RDF xmlns:dc=\"http://purl.org/dc/elements/1.1/\" xmlns:cc=\"http://creativecommons.org/ns#\" xmlns:rdf=\"http://www.w3.org/1999/02/22-rdf-syntax-ns#\">\n   <cc:Work>\n    <dc:type rdf:resource=\"http://purl.org/dc/dcmitype/StillImage\"/>\n    <dc:date>2025-10-03T12:56:28.953294</dc:date>\n    <dc:format>image/svg+xml</dc:format>\n    <dc:creator>\n     <cc:Agent>\n      <dc:title>Matplotlib v3.10.0, https://matplotlib.org/</dc:title>\n     </cc:Agent>\n    </dc:creator>\n   </cc:Work>\n  </rdf:RDF>\n </metadata>\n <defs>\n  <style type=\"text/css\">*{stroke-linejoin: round; stroke-linecap: butt}</style>\n </defs>\n <g id=\"figure_1\">\n  <g id=\"patch_1\">\n   <path d=\"M 0 183.35625 \nL 247.978125 183.35625 \nL 247.978125 0 \nL 0 0 \nz\n\" style=\"fill: #ffffff\"/>\n  </g>\n  <g id=\"axes_1\">\n   <g id=\"patch_2\">\n    <path d=\"M 45.478125 145.8 \nL 240.778125 145.8 \nL 240.778125 7.2 \nL 45.478125 7.2 \nz\n\" style=\"fill: #ffffff\"/>\n   </g>\n   <g id=\"matplotlib.axis_1\">\n    <g id=\"xtick_1\">\n     <g id=\"line2d_1\">\n      <path d=\"M 54.355398 145.8 \nL 54.355398 7.2 \n\" clip-path=\"url(#pc219bd52ca)\" style=\"fill: none; stroke: #b0b0b0; stroke-width: 0.8; stroke-linecap: square\"/>\n     </g>\n     <g id=\"line2d_2\">\n      <defs>\n       <path id=\"m598da6d3ad\" d=\"M 0 0 \nL 0 3.5 \n\" style=\"stroke: #000000; stroke-width: 0.8\"/>\n      </defs>\n      <g>\n       <use xlink:href=\"#m598da6d3ad\" x=\"54.355398\" y=\"145.8\" style=\"stroke: #000000; stroke-width: 0.8\"/>\n      </g>\n     </g>\n     <g id=\"text_1\">\n      <!-- $\\mathdefault{10^{0}}$ -->\n      <g transform=\"translate(45.555398 160.398438) scale(0.1 -0.1)\">\n       <defs>\n        <path id=\"DejaVuSans-31\" d=\"M 794 531 \nL 1825 531 \nL 1825 4091 \nL 703 3866 \nL 703 4441 \nL 1819 4666 \nL 2450 4666 \nL 2450 531 \nL 3481 531 \nL 3481 0 \nL 794 0 \nL 794 531 \nz\n\" transform=\"scale(0.015625)\"/>\n        <path id=\"DejaVuSans-30\" d=\"M 2034 4250 \nQ 1547 4250 1301 3770 \nQ 1056 3291 1056 2328 \nQ 1056 1369 1301 889 \nQ 1547 409 2034 409 \nQ 2525 409 2770 889 \nQ 3016 1369 3016 2328 \nQ 3016 3291 2770 3770 \nQ 2525 4250 2034 4250 \nz\nM 2034 4750 \nQ 2819 4750 3233 4129 \nQ 3647 3509 3647 2328 \nQ 3647 1150 3233 529 \nQ 2819 -91 2034 -91 \nQ 1250 -91 836 529 \nQ 422 1150 422 2328 \nQ 422 3509 836 4129 \nQ 1250 4750 2034 4750 \nz\n\" transform=\"scale(0.015625)\"/>\n       </defs>\n       <use xlink:href=\"#DejaVuSans-31\" transform=\"translate(0 0.765625)\"/>\n       <use xlink:href=\"#DejaVuSans-30\" transform=\"translate(63.623047 0.765625)\"/>\n       <use xlink:href=\"#DejaVuSans-30\" transform=\"translate(128.203125 39.046875) scale(0.7)\"/>\n      </g>\n     </g>\n    </g>\n    <g id=\"xtick_2\">\n     <g id=\"line2d_3\">\n      <path d=\"M 86.943832 145.8 \nL 86.943832 7.2 \n\" clip-path=\"url(#pc219bd52ca)\" style=\"fill: none; stroke: #b0b0b0; stroke-width: 0.8; stroke-linecap: square\"/>\n     </g>\n     <g id=\"line2d_4\">\n      <g>\n       <use xlink:href=\"#m598da6d3ad\" x=\"86.943832\" y=\"145.8\" style=\"stroke: #000000; stroke-width: 0.8\"/>\n      </g>\n     </g>\n     <g id=\"text_2\">\n      <!-- $\\mathdefault{10^{1}}$ -->\n      <g transform=\"translate(78.143832 160.398438) scale(0.1 -0.1)\">\n       <use xlink:href=\"#DejaVuSans-31\" transform=\"translate(0 0.684375)\"/>\n       <use xlink:href=\"#DejaVuSans-30\" transform=\"translate(63.623047 0.684375)\"/>\n       <use xlink:href=\"#DejaVuSans-31\" transform=\"translate(128.203125 38.965625) scale(0.7)\"/>\n      </g>\n     </g>\n    </g>\n    <g id=\"xtick_3\">\n     <g id=\"line2d_5\">\n      <path d=\"M 119.532267 145.8 \nL 119.532267 7.2 \n\" clip-path=\"url(#pc219bd52ca)\" style=\"fill: none; stroke: #b0b0b0; stroke-width: 0.8; stroke-linecap: square\"/>\n     </g>\n     <g id=\"line2d_6\">\n      <g>\n       <use xlink:href=\"#m598da6d3ad\" x=\"119.532267\" y=\"145.8\" style=\"stroke: #000000; stroke-width: 0.8\"/>\n      </g>\n     </g>\n     <g id=\"text_3\">\n      <!-- $\\mathdefault{10^{2}}$ -->\n      <g transform=\"translate(110.732267 160.398438) scale(0.1 -0.1)\">\n       <defs>\n        <path id=\"DejaVuSans-32\" d=\"M 1228 531 \nL 3431 531 \nL 3431 0 \nL 469 0 \nL 469 531 \nQ 828 903 1448 1529 \nQ 2069 2156 2228 2338 \nQ 2531 2678 2651 2914 \nQ 2772 3150 2772 3378 \nQ 2772 3750 2511 3984 \nQ 2250 4219 1831 4219 \nQ 1534 4219 1204 4116 \nQ 875 4013 500 3803 \nL 500 4441 \nQ 881 4594 1212 4672 \nQ 1544 4750 1819 4750 \nQ 2544 4750 2975 4387 \nQ 3406 4025 3406 3419 \nQ 3406 3131 3298 2873 \nQ 3191 2616 2906 2266 \nQ 2828 2175 2409 1742 \nQ 1991 1309 1228 531 \nz\n\" transform=\"scale(0.015625)\"/>\n       </defs>\n       <use xlink:href=\"#DejaVuSans-31\" transform=\"translate(0 0.765625)\"/>\n       <use xlink:href=\"#DejaVuSans-30\" transform=\"translate(63.623047 0.765625)\"/>\n       <use xlink:href=\"#DejaVuSans-32\" transform=\"translate(128.203125 39.046875) scale(0.7)\"/>\n      </g>\n     </g>\n    </g>\n    <g id=\"xtick_4\">\n     <g id=\"line2d_7\">\n      <path d=\"M 152.120701 145.8 \nL 152.120701 7.2 \n\" clip-path=\"url(#pc219bd52ca)\" style=\"fill: none; stroke: #b0b0b0; stroke-width: 0.8; stroke-linecap: square\"/>\n     </g>\n     <g id=\"line2d_8\">\n      <g>\n       <use xlink:href=\"#m598da6d3ad\" x=\"152.120701\" y=\"145.8\" style=\"stroke: #000000; stroke-width: 0.8\"/>\n      </g>\n     </g>\n     <g id=\"text_4\">\n      <!-- $\\mathdefault{10^{3}}$ -->\n      <g transform=\"translate(143.320701 160.398438) scale(0.1 -0.1)\">\n       <defs>\n        <path id=\"DejaVuSans-33\" d=\"M 2597 2516 \nQ 3050 2419 3304 2112 \nQ 3559 1806 3559 1356 \nQ 3559 666 3084 287 \nQ 2609 -91 1734 -91 \nQ 1441 -91 1130 -33 \nQ 819 25 488 141 \nL 488 750 \nQ 750 597 1062 519 \nQ 1375 441 1716 441 \nQ 2309 441 2620 675 \nQ 2931 909 2931 1356 \nQ 2931 1769 2642 2001 \nQ 2353 2234 1838 2234 \nL 1294 2234 \nL 1294 2753 \nL 1863 2753 \nQ 2328 2753 2575 2939 \nQ 2822 3125 2822 3475 \nQ 2822 3834 2567 4026 \nQ 2313 4219 1838 4219 \nQ 1578 4219 1281 4162 \nQ 984 4106 628 3988 \nL 628 4550 \nQ 988 4650 1302 4700 \nQ 1616 4750 1894 4750 \nQ 2613 4750 3031 4423 \nQ 3450 4097 3450 3541 \nQ 3450 3153 3228 2886 \nQ 3006 2619 2597 2516 \nz\n\" transform=\"scale(0.015625)\"/>\n       </defs>\n       <use xlink:href=\"#DejaVuSans-31\" transform=\"translate(0 0.765625)\"/>\n       <use xlink:href=\"#DejaVuSans-30\" transform=\"translate(63.623047 0.765625)\"/>\n       <use xlink:href=\"#DejaVuSans-33\" transform=\"translate(128.203125 39.046875) scale(0.7)\"/>\n      </g>\n     </g>\n    </g>\n    <g id=\"xtick_5\">\n     <g id=\"line2d_9\">\n      <path d=\"M 184.709135 145.8 \nL 184.709135 7.2 \n\" clip-path=\"url(#pc219bd52ca)\" style=\"fill: none; stroke: #b0b0b0; stroke-width: 0.8; stroke-linecap: square\"/>\n     </g>\n     <g id=\"line2d_10\">\n      <g>\n       <use xlink:href=\"#m598da6d3ad\" x=\"184.709135\" y=\"145.8\" style=\"stroke: #000000; stroke-width: 0.8\"/>\n      </g>\n     </g>\n     <g id=\"text_5\">\n      <!-- $\\mathdefault{10^{4}}$ -->\n      <g transform=\"translate(175.909135 160.398438) scale(0.1 -0.1)\">\n       <defs>\n        <path id=\"DejaVuSans-34\" d=\"M 2419 4116 \nL 825 1625 \nL 2419 1625 \nL 2419 4116 \nz\nM 2253 4666 \nL 3047 4666 \nL 3047 1625 \nL 3713 1625 \nL 3713 1100 \nL 3047 1100 \nL 3047 0 \nL 2419 0 \nL 2419 1100 \nL 313 1100 \nL 313 1709 \nL 2253 4666 \nz\n\" transform=\"scale(0.015625)\"/>\n       </defs>\n       <use xlink:href=\"#DejaVuSans-31\" transform=\"translate(0 0.684375)\"/>\n       <use xlink:href=\"#DejaVuSans-30\" transform=\"translate(63.623047 0.684375)\"/>\n       <use xlink:href=\"#DejaVuSans-34\" transform=\"translate(128.203125 38.965625) scale(0.7)\"/>\n      </g>\n     </g>\n    </g>\n    <g id=\"xtick_6\">\n     <g id=\"line2d_11\">\n      <path d=\"M 217.29757 145.8 \nL 217.29757 7.2 \n\" clip-path=\"url(#pc219bd52ca)\" style=\"fill: none; stroke: #b0b0b0; stroke-width: 0.8; stroke-linecap: square\"/>\n     </g>\n     <g id=\"line2d_12\">\n      <g>\n       <use xlink:href=\"#m598da6d3ad\" x=\"217.29757\" y=\"145.8\" style=\"stroke: #000000; stroke-width: 0.8\"/>\n      </g>\n     </g>\n     <g id=\"text_6\">\n      <!-- $\\mathdefault{10^{5}}$ -->\n      <g transform=\"translate(208.49757 160.398438) scale(0.1 -0.1)\">\n       <defs>\n        <path id=\"DejaVuSans-35\" d=\"M 691 4666 \nL 3169 4666 \nL 3169 4134 \nL 1269 4134 \nL 1269 2991 \nQ 1406 3038 1543 3061 \nQ 1681 3084 1819 3084 \nQ 2600 3084 3056 2656 \nQ 3513 2228 3513 1497 \nQ 3513 744 3044 326 \nQ 2575 -91 1722 -91 \nQ 1428 -91 1123 -41 \nQ 819 9 494 109 \nL 494 744 \nQ 775 591 1075 516 \nQ 1375 441 1709 441 \nQ 2250 441 2565 725 \nQ 2881 1009 2881 1497 \nQ 2881 1984 2565 2268 \nQ 2250 2553 1709 2553 \nQ 1456 2553 1204 2497 \nQ 953 2441 691 2322 \nL 691 4666 \nz\n\" transform=\"scale(0.015625)\"/>\n       </defs>\n       <use xlink:href=\"#DejaVuSans-31\" transform=\"translate(0 0.684375)\"/>\n       <use xlink:href=\"#DejaVuSans-30\" transform=\"translate(63.623047 0.684375)\"/>\n       <use xlink:href=\"#DejaVuSans-35\" transform=\"translate(128.203125 38.965625) scale(0.7)\"/>\n      </g>\n     </g>\n    </g>\n    <g id=\"xtick_7\">\n     <g id=\"line2d_13\">\n      <defs>\n       <path id=\"m13b7e85d70\" d=\"M 0 0 \nL 0 2 \n\" style=\"stroke: #000000; stroke-width: 0.6\"/>\n      </defs>\n      <g>\n       <use xlink:href=\"#m13b7e85d70\" x=\"47.125694\" y=\"145.8\" style=\"stroke: #000000; stroke-width: 0.6\"/>\n      </g>\n     </g>\n    </g>\n    <g id=\"xtick_8\">\n     <g id=\"line2d_14\">\n      <g>\n       <use xlink:href=\"#m13b7e85d70\" x=\"49.307385\" y=\"145.8\" style=\"stroke: #000000; stroke-width: 0.6\"/>\n      </g>\n     </g>\n    </g>\n    <g id=\"xtick_9\">\n     <g id=\"line2d_15\">\n      <g>\n       <use xlink:href=\"#m13b7e85d70\" x=\"51.197252\" y=\"145.8\" style=\"stroke: #000000; stroke-width: 0.6\"/>\n      </g>\n     </g>\n    </g>\n    <g id=\"xtick_10\">\n     <g id=\"line2d_16\">\n      <g>\n       <use xlink:href=\"#m13b7e85d70\" x=\"52.864233\" y=\"145.8\" style=\"stroke: #000000; stroke-width: 0.6\"/>\n      </g>\n     </g>\n    </g>\n    <g id=\"xtick_11\">\n     <g id=\"line2d_17\">\n      <g>\n       <use xlink:href=\"#m13b7e85d70\" x=\"64.165494\" y=\"145.8\" style=\"stroke: #000000; stroke-width: 0.6\"/>\n      </g>\n     </g>\n    </g>\n    <g id=\"xtick_12\">\n     <g id=\"line2d_18\">\n      <g>\n       <use xlink:href=\"#m13b7e85d70\" x=\"69.904032\" y=\"145.8\" style=\"stroke: #000000; stroke-width: 0.6\"/>\n      </g>\n     </g>\n    </g>\n    <g id=\"xtick_13\">\n     <g id=\"line2d_19\">\n      <g>\n       <use xlink:href=\"#m13b7e85d70\" x=\"73.97559\" y=\"145.8\" style=\"stroke: #000000; stroke-width: 0.6\"/>\n      </g>\n     </g>\n    </g>\n    <g id=\"xtick_14\">\n     <g id=\"line2d_20\">\n      <g>\n       <use xlink:href=\"#m13b7e85d70\" x=\"77.133736\" y=\"145.8\" style=\"stroke: #000000; stroke-width: 0.6\"/>\n      </g>\n     </g>\n    </g>\n    <g id=\"xtick_15\">\n     <g id=\"line2d_21\">\n      <g>\n       <use xlink:href=\"#m13b7e85d70\" x=\"79.714129\" y=\"145.8\" style=\"stroke: #000000; stroke-width: 0.6\"/>\n      </g>\n     </g>\n    </g>\n    <g id=\"xtick_16\">\n     <g id=\"line2d_22\">\n      <g>\n       <use xlink:href=\"#m13b7e85d70\" x=\"81.89582\" y=\"145.8\" style=\"stroke: #000000; stroke-width: 0.6\"/>\n      </g>\n     </g>\n    </g>\n    <g id=\"xtick_17\">\n     <g id=\"line2d_23\">\n      <g>\n       <use xlink:href=\"#m13b7e85d70\" x=\"83.785687\" y=\"145.8\" style=\"stroke: #000000; stroke-width: 0.6\"/>\n      </g>\n     </g>\n    </g>\n    <g id=\"xtick_18\">\n     <g id=\"line2d_24\">\n      <g>\n       <use xlink:href=\"#m13b7e85d70\" x=\"85.452667\" y=\"145.8\" style=\"stroke: #000000; stroke-width: 0.6\"/>\n      </g>\n     </g>\n    </g>\n    <g id=\"xtick_19\">\n     <g id=\"line2d_25\">\n      <g>\n       <use xlink:href=\"#m13b7e85d70\" x=\"96.753928\" y=\"145.8\" style=\"stroke: #000000; stroke-width: 0.6\"/>\n      </g>\n     </g>\n    </g>\n    <g id=\"xtick_20\">\n     <g id=\"line2d_26\">\n      <g>\n       <use xlink:href=\"#m13b7e85d70\" x=\"102.492467\" y=\"145.8\" style=\"stroke: #000000; stroke-width: 0.6\"/>\n      </g>\n     </g>\n    </g>\n    <g id=\"xtick_21\">\n     <g id=\"line2d_27\">\n      <g>\n       <use xlink:href=\"#m13b7e85d70\" x=\"106.564025\" y=\"145.8\" style=\"stroke: #000000; stroke-width: 0.6\"/>\n      </g>\n     </g>\n    </g>\n    <g id=\"xtick_22\">\n     <g id=\"line2d_28\">\n      <g>\n       <use xlink:href=\"#m13b7e85d70\" x=\"109.72217\" y=\"145.8\" style=\"stroke: #000000; stroke-width: 0.6\"/>\n      </g>\n     </g>\n    </g>\n    <g id=\"xtick_23\">\n     <g id=\"line2d_29\">\n      <g>\n       <use xlink:href=\"#m13b7e85d70\" x=\"112.302563\" y=\"145.8\" style=\"stroke: #000000; stroke-width: 0.6\"/>\n      </g>\n     </g>\n    </g>\n    <g id=\"xtick_24\">\n     <g id=\"line2d_30\">\n      <g>\n       <use xlink:href=\"#m13b7e85d70\" x=\"114.484254\" y=\"145.8\" style=\"stroke: #000000; stroke-width: 0.6\"/>\n      </g>\n     </g>\n    </g>\n    <g id=\"xtick_25\">\n     <g id=\"line2d_31\">\n      <g>\n       <use xlink:href=\"#m13b7e85d70\" x=\"116.374121\" y=\"145.8\" style=\"stroke: #000000; stroke-width: 0.6\"/>\n      </g>\n     </g>\n    </g>\n    <g id=\"xtick_26\">\n     <g id=\"line2d_32\">\n      <g>\n       <use xlink:href=\"#m13b7e85d70\" x=\"118.041102\" y=\"145.8\" style=\"stroke: #000000; stroke-width: 0.6\"/>\n      </g>\n     </g>\n    </g>\n    <g id=\"xtick_27\">\n     <g id=\"line2d_33\">\n      <g>\n       <use xlink:href=\"#m13b7e85d70\" x=\"129.342363\" y=\"145.8\" style=\"stroke: #000000; stroke-width: 0.6\"/>\n      </g>\n     </g>\n    </g>\n    <g id=\"xtick_28\">\n     <g id=\"line2d_34\">\n      <g>\n       <use xlink:href=\"#m13b7e85d70\" x=\"135.080901\" y=\"145.8\" style=\"stroke: #000000; stroke-width: 0.6\"/>\n      </g>\n     </g>\n    </g>\n    <g id=\"xtick_29\">\n     <g id=\"line2d_35\">\n      <g>\n       <use xlink:href=\"#m13b7e85d70\" x=\"139.152459\" y=\"145.8\" style=\"stroke: #000000; stroke-width: 0.6\"/>\n      </g>\n     </g>\n    </g>\n    <g id=\"xtick_30\">\n     <g id=\"line2d_36\">\n      <g>\n       <use xlink:href=\"#m13b7e85d70\" x=\"142.310605\" y=\"145.8\" style=\"stroke: #000000; stroke-width: 0.6\"/>\n      </g>\n     </g>\n    </g>\n    <g id=\"xtick_31\">\n     <g id=\"line2d_37\">\n      <g>\n       <use xlink:href=\"#m13b7e85d70\" x=\"144.890998\" y=\"145.8\" style=\"stroke: #000000; stroke-width: 0.6\"/>\n      </g>\n     </g>\n    </g>\n    <g id=\"xtick_32\">\n     <g id=\"line2d_38\">\n      <g>\n       <use xlink:href=\"#m13b7e85d70\" x=\"147.072689\" y=\"145.8\" style=\"stroke: #000000; stroke-width: 0.6\"/>\n      </g>\n     </g>\n    </g>\n    <g id=\"xtick_33\">\n     <g id=\"line2d_39\">\n      <g>\n       <use xlink:href=\"#m13b7e85d70\" x=\"148.962555\" y=\"145.8\" style=\"stroke: #000000; stroke-width: 0.6\"/>\n      </g>\n     </g>\n    </g>\n    <g id=\"xtick_34\">\n     <g id=\"line2d_40\">\n      <g>\n       <use xlink:href=\"#m13b7e85d70\" x=\"150.629536\" y=\"145.8\" style=\"stroke: #000000; stroke-width: 0.6\"/>\n      </g>\n     </g>\n    </g>\n    <g id=\"xtick_35\">\n     <g id=\"line2d_41\">\n      <g>\n       <use xlink:href=\"#m13b7e85d70\" x=\"161.930797\" y=\"145.8\" style=\"stroke: #000000; stroke-width: 0.6\"/>\n      </g>\n     </g>\n    </g>\n    <g id=\"xtick_36\">\n     <g id=\"line2d_42\">\n      <g>\n       <use xlink:href=\"#m13b7e85d70\" x=\"167.669336\" y=\"145.8\" style=\"stroke: #000000; stroke-width: 0.6\"/>\n      </g>\n     </g>\n    </g>\n    <g id=\"xtick_37\">\n     <g id=\"line2d_43\">\n      <g>\n       <use xlink:href=\"#m13b7e85d70\" x=\"171.740893\" y=\"145.8\" style=\"stroke: #000000; stroke-width: 0.6\"/>\n      </g>\n     </g>\n    </g>\n    <g id=\"xtick_38\">\n     <g id=\"line2d_44\">\n      <g>\n       <use xlink:href=\"#m13b7e85d70\" x=\"174.899039\" y=\"145.8\" style=\"stroke: #000000; stroke-width: 0.6\"/>\n      </g>\n     </g>\n    </g>\n    <g id=\"xtick_39\">\n     <g id=\"line2d_45\">\n      <g>\n       <use xlink:href=\"#m13b7e85d70\" x=\"177.479432\" y=\"145.8\" style=\"stroke: #000000; stroke-width: 0.6\"/>\n      </g>\n     </g>\n    </g>\n    <g id=\"xtick_40\">\n     <g id=\"line2d_46\">\n      <g>\n       <use xlink:href=\"#m13b7e85d70\" x=\"179.661123\" y=\"145.8\" style=\"stroke: #000000; stroke-width: 0.6\"/>\n      </g>\n     </g>\n    </g>\n    <g id=\"xtick_41\">\n     <g id=\"line2d_47\">\n      <g>\n       <use xlink:href=\"#m13b7e85d70\" x=\"181.55099\" y=\"145.8\" style=\"stroke: #000000; stroke-width: 0.6\"/>\n      </g>\n     </g>\n    </g>\n    <g id=\"xtick_42\">\n     <g id=\"line2d_48\">\n      <g>\n       <use xlink:href=\"#m13b7e85d70\" x=\"183.21797\" y=\"145.8\" style=\"stroke: #000000; stroke-width: 0.6\"/>\n      </g>\n     </g>\n    </g>\n    <g id=\"xtick_43\">\n     <g id=\"line2d_49\">\n      <g>\n       <use xlink:href=\"#m13b7e85d70\" x=\"194.519232\" y=\"145.8\" style=\"stroke: #000000; stroke-width: 0.6\"/>\n      </g>\n     </g>\n    </g>\n    <g id=\"xtick_44\">\n     <g id=\"line2d_50\">\n      <g>\n       <use xlink:href=\"#m13b7e85d70\" x=\"200.25777\" y=\"145.8\" style=\"stroke: #000000; stroke-width: 0.6\"/>\n      </g>\n     </g>\n    </g>\n    <g id=\"xtick_45\">\n     <g id=\"line2d_51\">\n      <g>\n       <use xlink:href=\"#m13b7e85d70\" x=\"204.329328\" y=\"145.8\" style=\"stroke: #000000; stroke-width: 0.6\"/>\n      </g>\n     </g>\n    </g>\n    <g id=\"xtick_46\">\n     <g id=\"line2d_52\">\n      <g>\n       <use xlink:href=\"#m13b7e85d70\" x=\"207.487473\" y=\"145.8\" style=\"stroke: #000000; stroke-width: 0.6\"/>\n      </g>\n     </g>\n    </g>\n    <g id=\"xtick_47\">\n     <g id=\"line2d_53\">\n      <g>\n       <use xlink:href=\"#m13b7e85d70\" x=\"210.067866\" y=\"145.8\" style=\"stroke: #000000; stroke-width: 0.6\"/>\n      </g>\n     </g>\n    </g>\n    <g id=\"xtick_48\">\n     <g id=\"line2d_54\">\n      <g>\n       <use xlink:href=\"#m13b7e85d70\" x=\"212.249557\" y=\"145.8\" style=\"stroke: #000000; stroke-width: 0.6\"/>\n      </g>\n     </g>\n    </g>\n    <g id=\"xtick_49\">\n     <g id=\"line2d_55\">\n      <g>\n       <use xlink:href=\"#m13b7e85d70\" x=\"214.139424\" y=\"145.8\" style=\"stroke: #000000; stroke-width: 0.6\"/>\n      </g>\n     </g>\n    </g>\n    <g id=\"xtick_50\">\n     <g id=\"line2d_56\">\n      <g>\n       <use xlink:href=\"#m13b7e85d70\" x=\"215.806405\" y=\"145.8\" style=\"stroke: #000000; stroke-width: 0.6\"/>\n      </g>\n     </g>\n    </g>\n    <g id=\"xtick_51\">\n     <g id=\"line2d_57\">\n      <g>\n       <use xlink:href=\"#m13b7e85d70\" x=\"227.107666\" y=\"145.8\" style=\"stroke: #000000; stroke-width: 0.6\"/>\n      </g>\n     </g>\n    </g>\n    <g id=\"xtick_52\">\n     <g id=\"line2d_58\">\n      <g>\n       <use xlink:href=\"#m13b7e85d70\" x=\"232.846204\" y=\"145.8\" style=\"stroke: #000000; stroke-width: 0.6\"/>\n      </g>\n     </g>\n    </g>\n    <g id=\"xtick_53\">\n     <g id=\"line2d_59\">\n      <g>\n       <use xlink:href=\"#m13b7e85d70\" x=\"236.917762\" y=\"145.8\" style=\"stroke: #000000; stroke-width: 0.6\"/>\n      </g>\n     </g>\n    </g>\n    <g id=\"xtick_54\">\n     <g id=\"line2d_60\">\n      <g>\n       <use xlink:href=\"#m13b7e85d70\" x=\"240.075908\" y=\"145.8\" style=\"stroke: #000000; stroke-width: 0.6\"/>\n      </g>\n     </g>\n    </g>\n    <g id=\"text_7\">\n     <!-- token: x -->\n     <g transform=\"translate(122.916406 174.076563) scale(0.1 -0.1)\">\n      <defs>\n       <path id=\"DejaVuSans-74\" d=\"M 1172 4494 \nL 1172 3500 \nL 2356 3500 \nL 2356 3053 \nL 1172 3053 \nL 1172 1153 \nQ 1172 725 1289 603 \nQ 1406 481 1766 481 \nL 2356 481 \nL 2356 0 \nL 1766 0 \nQ 1100 0 847 248 \nQ 594 497 594 1153 \nL 594 3053 \nL 172 3053 \nL 172 3500 \nL 594 3500 \nL 594 4494 \nL 1172 4494 \nz\n\" transform=\"scale(0.015625)\"/>\n       <path id=\"DejaVuSans-6f\" d=\"M 1959 3097 \nQ 1497 3097 1228 2736 \nQ 959 2375 959 1747 \nQ 959 1119 1226 758 \nQ 1494 397 1959 397 \nQ 2419 397 2687 759 \nQ 2956 1122 2956 1747 \nQ 2956 2369 2687 2733 \nQ 2419 3097 1959 3097 \nz\nM 1959 3584 \nQ 2709 3584 3137 3096 \nQ 3566 2609 3566 1747 \nQ 3566 888 3137 398 \nQ 2709 -91 1959 -91 \nQ 1206 -91 779 398 \nQ 353 888 353 1747 \nQ 353 2609 779 3096 \nQ 1206 3584 1959 3584 \nz\n\" transform=\"scale(0.015625)\"/>\n       <path id=\"DejaVuSans-6b\" d=\"M 581 4863 \nL 1159 4863 \nL 1159 1991 \nL 2875 3500 \nL 3609 3500 \nL 1753 1863 \nL 3688 0 \nL 2938 0 \nL 1159 1709 \nL 1159 0 \nL 581 0 \nL 581 4863 \nz\n\" transform=\"scale(0.015625)\"/>\n       <path id=\"DejaVuSans-65\" d=\"M 3597 1894 \nL 3597 1613 \nL 953 1613 \nQ 991 1019 1311 708 \nQ 1631 397 2203 397 \nQ 2534 397 2845 478 \nQ 3156 559 3463 722 \nL 3463 178 \nQ 3153 47 2828 -22 \nQ 2503 -91 2169 -91 \nQ 1331 -91 842 396 \nQ 353 884 353 1716 \nQ 353 2575 817 3079 \nQ 1281 3584 2069 3584 \nQ 2775 3584 3186 3129 \nQ 3597 2675 3597 1894 \nz\nM 3022 2063 \nQ 3016 2534 2758 2815 \nQ 2500 3097 2075 3097 \nQ 1594 3097 1305 2825 \nQ 1016 2553 972 2059 \nL 3022 2063 \nz\n\" transform=\"scale(0.015625)\"/>\n       <path id=\"DejaVuSans-6e\" d=\"M 3513 2113 \nL 3513 0 \nL 2938 0 \nL 2938 2094 \nQ 2938 2591 2744 2837 \nQ 2550 3084 2163 3084 \nQ 1697 3084 1428 2787 \nQ 1159 2491 1159 1978 \nL 1159 0 \nL 581 0 \nL 581 3500 \nL 1159 3500 \nL 1159 2956 \nQ 1366 3272 1645 3428 \nQ 1925 3584 2291 3584 \nQ 2894 3584 3203 3211 \nQ 3513 2838 3513 2113 \nz\n\" transform=\"scale(0.015625)\"/>\n       <path id=\"DejaVuSans-3a\" d=\"M 750 794 \nL 1409 794 \nL 1409 0 \nL 750 0 \nL 750 794 \nz\nM 750 3309 \nL 1409 3309 \nL 1409 2516 \nL 750 2516 \nL 750 3309 \nz\n\" transform=\"scale(0.015625)\"/>\n       <path id=\"DejaVuSans-20\" transform=\"scale(0.015625)\"/>\n       <path id=\"DejaVuSans-78\" d=\"M 3513 3500 \nL 2247 1797 \nL 3578 0 \nL 2900 0 \nL 1881 1375 \nL 863 0 \nL 184 0 \nL 1544 1831 \nL 300 3500 \nL 978 3500 \nL 1906 2253 \nL 2834 3500 \nL 3513 3500 \nz\n\" transform=\"scale(0.015625)\"/>\n      </defs>\n      <use xlink:href=\"#DejaVuSans-74\"/>\n      <use xlink:href=\"#DejaVuSans-6f\" transform=\"translate(39.208984 0)\"/>\n      <use xlink:href=\"#DejaVuSans-6b\" transform=\"translate(100.390625 0)\"/>\n      <use xlink:href=\"#DejaVuSans-65\" transform=\"translate(154.675781 0)\"/>\n      <use xlink:href=\"#DejaVuSans-6e\" transform=\"translate(216.199219 0)\"/>\n      <use xlink:href=\"#DejaVuSans-3a\" transform=\"translate(279.578125 0)\"/>\n      <use xlink:href=\"#DejaVuSans-20\" transform=\"translate(313.269531 0)\"/>\n      <use xlink:href=\"#DejaVuSans-78\" transform=\"translate(345.056641 0)\"/>\n     </g>\n    </g>\n   </g>\n   <g id=\"matplotlib.axis_2\">\n    <g id=\"ytick_1\">\n     <g id=\"line2d_61\">\n      <path d=\"M 45.478125 139.5 \nL 240.778125 139.5 \n\" clip-path=\"url(#pc219bd52ca)\" style=\"fill: none; stroke: #b0b0b0; stroke-width: 0.8; stroke-linecap: square\"/>\n     </g>\n     <g id=\"line2d_62\">\n      <defs>\n       <path id=\"m6754c203fa\" d=\"M 0 0 \nL -3.5 0 \n\" style=\"stroke: #000000; stroke-width: 0.8\"/>\n      </defs>\n      <g>\n       <use xlink:href=\"#m6754c203fa\" x=\"45.478125\" y=\"139.5\" style=\"stroke: #000000; stroke-width: 0.8\"/>\n      </g>\n     </g>\n     <g id=\"text_8\">\n      <!-- $\\mathdefault{10^{0}}$ -->\n      <g transform=\"translate(20.878125 143.299219) scale(0.1 -0.1)\">\n       <use xlink:href=\"#DejaVuSans-31\" transform=\"translate(0 0.765625)\"/>\n       <use xlink:href=\"#DejaVuSans-30\" transform=\"translate(63.623047 0.765625)\"/>\n       <use xlink:href=\"#DejaVuSans-30\" transform=\"translate(128.203125 39.046875) scale(0.7)\"/>\n      </g>\n     </g>\n    </g>\n    <g id=\"ytick_2\">\n     <g id=\"line2d_63\">\n      <path d=\"M 45.478125 116.414326 \nL 240.778125 116.414326 \n\" clip-path=\"url(#pc219bd52ca)\" style=\"fill: none; stroke: #b0b0b0; stroke-width: 0.8; stroke-linecap: square\"/>\n     </g>\n     <g id=\"line2d_64\">\n      <g>\n       <use xlink:href=\"#m6754c203fa\" x=\"45.478125\" y=\"116.414326\" style=\"stroke: #000000; stroke-width: 0.8\"/>\n      </g>\n     </g>\n     <g id=\"text_9\">\n      <!-- $\\mathdefault{10^{1}}$ -->\n      <g transform=\"translate(20.878125 120.213545) scale(0.1 -0.1)\">\n       <use xlink:href=\"#DejaVuSans-31\" transform=\"translate(0 0.684375)\"/>\n       <use xlink:href=\"#DejaVuSans-30\" transform=\"translate(63.623047 0.684375)\"/>\n       <use xlink:href=\"#DejaVuSans-31\" transform=\"translate(128.203125 38.965625) scale(0.7)\"/>\n      </g>\n     </g>\n    </g>\n    <g id=\"ytick_3\">\n     <g id=\"line2d_65\">\n      <path d=\"M 45.478125 93.328652 \nL 240.778125 93.328652 \n\" clip-path=\"url(#pc219bd52ca)\" style=\"fill: none; stroke: #b0b0b0; stroke-width: 0.8; stroke-linecap: square\"/>\n     </g>\n     <g id=\"line2d_66\">\n      <g>\n       <use xlink:href=\"#m6754c203fa\" x=\"45.478125\" y=\"93.328652\" style=\"stroke: #000000; stroke-width: 0.8\"/>\n      </g>\n     </g>\n     <g id=\"text_10\">\n      <!-- $\\mathdefault{10^{2}}$ -->\n      <g transform=\"translate(20.878125 97.127871) scale(0.1 -0.1)\">\n       <use xlink:href=\"#DejaVuSans-31\" transform=\"translate(0 0.765625)\"/>\n       <use xlink:href=\"#DejaVuSans-30\" transform=\"translate(63.623047 0.765625)\"/>\n       <use xlink:href=\"#DejaVuSans-32\" transform=\"translate(128.203125 39.046875) scale(0.7)\"/>\n      </g>\n     </g>\n    </g>\n    <g id=\"ytick_4\">\n     <g id=\"line2d_67\">\n      <path d=\"M 45.478125 70.242978 \nL 240.778125 70.242978 \n\" clip-path=\"url(#pc219bd52ca)\" style=\"fill: none; stroke: #b0b0b0; stroke-width: 0.8; stroke-linecap: square\"/>\n     </g>\n     <g id=\"line2d_68\">\n      <g>\n       <use xlink:href=\"#m6754c203fa\" x=\"45.478125\" y=\"70.242978\" style=\"stroke: #000000; stroke-width: 0.8\"/>\n      </g>\n     </g>\n     <g id=\"text_11\">\n      <!-- $\\mathdefault{10^{3}}$ -->\n      <g transform=\"translate(20.878125 74.042197) scale(0.1 -0.1)\">\n       <use xlink:href=\"#DejaVuSans-31\" transform=\"translate(0 0.765625)\"/>\n       <use xlink:href=\"#DejaVuSans-30\" transform=\"translate(63.623047 0.765625)\"/>\n       <use xlink:href=\"#DejaVuSans-33\" transform=\"translate(128.203125 39.046875) scale(0.7)\"/>\n      </g>\n     </g>\n    </g>\n    <g id=\"ytick_5\">\n     <g id=\"line2d_69\">\n      <path d=\"M 45.478125 47.157304 \nL 240.778125 47.157304 \n\" clip-path=\"url(#pc219bd52ca)\" style=\"fill: none; stroke: #b0b0b0; stroke-width: 0.8; stroke-linecap: square\"/>\n     </g>\n     <g id=\"line2d_70\">\n      <g>\n       <use xlink:href=\"#m6754c203fa\" x=\"45.478125\" y=\"47.157304\" style=\"stroke: #000000; stroke-width: 0.8\"/>\n      </g>\n     </g>\n     <g id=\"text_12\">\n      <!-- $\\mathdefault{10^{4}}$ -->\n      <g transform=\"translate(20.878125 50.956523) scale(0.1 -0.1)\">\n       <use xlink:href=\"#DejaVuSans-31\" transform=\"translate(0 0.684375)\"/>\n       <use xlink:href=\"#DejaVuSans-30\" transform=\"translate(63.623047 0.684375)\"/>\n       <use xlink:href=\"#DejaVuSans-34\" transform=\"translate(128.203125 38.965625) scale(0.7)\"/>\n      </g>\n     </g>\n    </g>\n    <g id=\"ytick_6\">\n     <g id=\"line2d_71\">\n      <path d=\"M 45.478125 24.07163 \nL 240.778125 24.07163 \n\" clip-path=\"url(#pc219bd52ca)\" style=\"fill: none; stroke: #b0b0b0; stroke-width: 0.8; stroke-linecap: square\"/>\n     </g>\n     <g id=\"line2d_72\">\n      <g>\n       <use xlink:href=\"#m6754c203fa\" x=\"45.478125\" y=\"24.07163\" style=\"stroke: #000000; stroke-width: 0.8\"/>\n      </g>\n     </g>\n     <g id=\"text_13\">\n      <!-- $\\mathdefault{10^{5}}$ -->\n      <g transform=\"translate(20.878125 27.870849) scale(0.1 -0.1)\">\n       <use xlink:href=\"#DejaVuSans-31\" transform=\"translate(0 0.684375)\"/>\n       <use xlink:href=\"#DejaVuSans-30\" transform=\"translate(63.623047 0.684375)\"/>\n       <use xlink:href=\"#DejaVuSans-35\" transform=\"translate(128.203125 38.965625) scale(0.7)\"/>\n      </g>\n     </g>\n    </g>\n    <g id=\"ytick_7\">\n     <g id=\"line2d_73\">\n      <defs>\n       <path id=\"m3d4b1e90f5\" d=\"M 0 0 \nL -2 0 \n\" style=\"stroke: #000000; stroke-width: 0.6\"/>\n      </defs>\n      <g>\n       <use xlink:href=\"#m3d4b1e90f5\" x=\"45.478125\" y=\"144.621528\" style=\"stroke: #000000; stroke-width: 0.6\"/>\n      </g>\n     </g>\n    </g>\n    <g id=\"ytick_8\">\n     <g id=\"line2d_74\">\n      <g>\n       <use xlink:href=\"#m3d4b1e90f5\" x=\"45.478125\" y=\"143.076016\" style=\"stroke: #000000; stroke-width: 0.6\"/>\n      </g>\n     </g>\n    </g>\n    <g id=\"ytick_9\">\n     <g id=\"line2d_75\">\n      <g>\n       <use xlink:href=\"#m3d4b1e90f5\" x=\"45.478125\" y=\"141.737233\" style=\"stroke: #000000; stroke-width: 0.6\"/>\n      </g>\n     </g>\n    </g>\n    <g id=\"ytick_10\">\n     <g id=\"line2d_76\">\n      <g>\n       <use xlink:href=\"#m3d4b1e90f5\" x=\"45.478125\" y=\"140.556343\" style=\"stroke: #000000; stroke-width: 0.6\"/>\n      </g>\n     </g>\n    </g>\n    <g id=\"ytick_11\">\n     <g id=\"line2d_77\">\n      <g>\n       <use xlink:href=\"#m3d4b1e90f5\" x=\"45.478125\" y=\"132.55052\" style=\"stroke: #000000; stroke-width: 0.6\"/>\n      </g>\n     </g>\n    </g>\n    <g id=\"ytick_12\">\n     <g id=\"line2d_78\">\n      <g>\n       <use xlink:href=\"#m3d4b1e90f5\" x=\"45.478125\" y=\"128.485334\" style=\"stroke: #000000; stroke-width: 0.6\"/>\n      </g>\n     </g>\n    </g>\n    <g id=\"ytick_13\">\n     <g id=\"line2d_79\">\n      <g>\n       <use xlink:href=\"#m3d4b1e90f5\" x=\"45.478125\" y=\"125.601039\" style=\"stroke: #000000; stroke-width: 0.6\"/>\n      </g>\n     </g>\n    </g>\n    <g id=\"ytick_14\">\n     <g id=\"line2d_80\">\n      <g>\n       <use xlink:href=\"#m3d4b1e90f5\" x=\"45.478125\" y=\"123.363806\" style=\"stroke: #000000; stroke-width: 0.6\"/>\n      </g>\n     </g>\n    </g>\n    <g id=\"ytick_15\">\n     <g id=\"line2d_81\">\n      <g>\n       <use xlink:href=\"#m3d4b1e90f5\" x=\"45.478125\" y=\"121.535854\" style=\"stroke: #000000; stroke-width: 0.6\"/>\n      </g>\n     </g>\n    </g>\n    <g id=\"ytick_16\">\n     <g id=\"line2d_82\">\n      <g>\n       <use xlink:href=\"#m3d4b1e90f5\" x=\"45.478125\" y=\"119.990342\" style=\"stroke: #000000; stroke-width: 0.6\"/>\n      </g>\n     </g>\n    </g>\n    <g id=\"ytick_17\">\n     <g id=\"line2d_83\">\n      <g>\n       <use xlink:href=\"#m3d4b1e90f5\" x=\"45.478125\" y=\"118.651559\" style=\"stroke: #000000; stroke-width: 0.6\"/>\n      </g>\n     </g>\n    </g>\n    <g id=\"ytick_18\">\n     <g id=\"line2d_84\">\n      <g>\n       <use xlink:href=\"#m3d4b1e90f5\" x=\"45.478125\" y=\"117.470669\" style=\"stroke: #000000; stroke-width: 0.6\"/>\n      </g>\n     </g>\n    </g>\n    <g id=\"ytick_19\">\n     <g id=\"line2d_85\">\n      <g>\n       <use xlink:href=\"#m3d4b1e90f5\" x=\"45.478125\" y=\"109.464846\" style=\"stroke: #000000; stroke-width: 0.6\"/>\n      </g>\n     </g>\n    </g>\n    <g id=\"ytick_20\">\n     <g id=\"line2d_86\">\n      <g>\n       <use xlink:href=\"#m3d4b1e90f5\" x=\"45.478125\" y=\"105.39966\" style=\"stroke: #000000; stroke-width: 0.6\"/>\n      </g>\n     </g>\n    </g>\n    <g id=\"ytick_21\">\n     <g id=\"line2d_87\">\n      <g>\n       <use xlink:href=\"#m3d4b1e90f5\" x=\"45.478125\" y=\"102.515365\" style=\"stroke: #000000; stroke-width: 0.6\"/>\n      </g>\n     </g>\n    </g>\n    <g id=\"ytick_22\">\n     <g id=\"line2d_88\">\n      <g>\n       <use xlink:href=\"#m3d4b1e90f5\" x=\"45.478125\" y=\"100.278132\" style=\"stroke: #000000; stroke-width: 0.6\"/>\n      </g>\n     </g>\n    </g>\n    <g id=\"ytick_23\">\n     <g id=\"line2d_89\">\n      <g>\n       <use xlink:href=\"#m3d4b1e90f5\" x=\"45.478125\" y=\"98.45018\" style=\"stroke: #000000; stroke-width: 0.6\"/>\n      </g>\n     </g>\n    </g>\n    <g id=\"ytick_24\">\n     <g id=\"line2d_90\">\n      <g>\n       <use xlink:href=\"#m3d4b1e90f5\" x=\"45.478125\" y=\"96.904668\" style=\"stroke: #000000; stroke-width: 0.6\"/>\n      </g>\n     </g>\n    </g>\n    <g id=\"ytick_25\">\n     <g id=\"line2d_91\">\n      <g>\n       <use xlink:href=\"#m3d4b1e90f5\" x=\"45.478125\" y=\"95.565885\" style=\"stroke: #000000; stroke-width: 0.6\"/>\n      </g>\n     </g>\n    </g>\n    <g id=\"ytick_26\">\n     <g id=\"line2d_92\">\n      <g>\n       <use xlink:href=\"#m3d4b1e90f5\" x=\"45.478125\" y=\"94.384995\" style=\"stroke: #000000; stroke-width: 0.6\"/>\n      </g>\n     </g>\n    </g>\n    <g id=\"ytick_27\">\n     <g id=\"line2d_93\">\n      <g>\n       <use xlink:href=\"#m3d4b1e90f5\" x=\"45.478125\" y=\"86.379172\" style=\"stroke: #000000; stroke-width: 0.6\"/>\n      </g>\n     </g>\n    </g>\n    <g id=\"ytick_28\">\n     <g id=\"line2d_94\">\n      <g>\n       <use xlink:href=\"#m3d4b1e90f5\" x=\"45.478125\" y=\"82.313986\" style=\"stroke: #000000; stroke-width: 0.6\"/>\n      </g>\n     </g>\n    </g>\n    <g id=\"ytick_29\">\n     <g id=\"line2d_95\">\n      <g>\n       <use xlink:href=\"#m3d4b1e90f5\" x=\"45.478125\" y=\"79.429691\" style=\"stroke: #000000; stroke-width: 0.6\"/>\n      </g>\n     </g>\n    </g>\n    <g id=\"ytick_30\">\n     <g id=\"line2d_96\">\n      <g>\n       <use xlink:href=\"#m3d4b1e90f5\" x=\"45.478125\" y=\"77.192458\" style=\"stroke: #000000; stroke-width: 0.6\"/>\n      </g>\n     </g>\n    </g>\n    <g id=\"ytick_31\">\n     <g id=\"line2d_97\">\n      <g>\n       <use xlink:href=\"#m3d4b1e90f5\" x=\"45.478125\" y=\"75.364506\" style=\"stroke: #000000; stroke-width: 0.6\"/>\n      </g>\n     </g>\n    </g>\n    <g id=\"ytick_32\">\n     <g id=\"line2d_98\">\n      <g>\n       <use xlink:href=\"#m3d4b1e90f5\" x=\"45.478125\" y=\"73.818994\" style=\"stroke: #000000; stroke-width: 0.6\"/>\n      </g>\n     </g>\n    </g>\n    <g id=\"ytick_33\">\n     <g id=\"line2d_99\">\n      <g>\n       <use xlink:href=\"#m3d4b1e90f5\" x=\"45.478125\" y=\"72.480211\" style=\"stroke: #000000; stroke-width: 0.6\"/>\n      </g>\n     </g>\n    </g>\n    <g id=\"ytick_34\">\n     <g id=\"line2d_100\">\n      <g>\n       <use xlink:href=\"#m3d4b1e90f5\" x=\"45.478125\" y=\"71.299321\" style=\"stroke: #000000; stroke-width: 0.6\"/>\n      </g>\n     </g>\n    </g>\n    <g id=\"ytick_35\">\n     <g id=\"line2d_101\">\n      <g>\n       <use xlink:href=\"#m3d4b1e90f5\" x=\"45.478125\" y=\"63.293498\" style=\"stroke: #000000; stroke-width: 0.6\"/>\n      </g>\n     </g>\n    </g>\n    <g id=\"ytick_36\">\n     <g id=\"line2d_102\">\n      <g>\n       <use xlink:href=\"#m3d4b1e90f5\" x=\"45.478125\" y=\"59.228312\" style=\"stroke: #000000; stroke-width: 0.6\"/>\n      </g>\n     </g>\n    </g>\n    <g id=\"ytick_37\">\n     <g id=\"line2d_103\">\n      <g>\n       <use xlink:href=\"#m3d4b1e90f5\" x=\"45.478125\" y=\"56.344017\" style=\"stroke: #000000; stroke-width: 0.6\"/>\n      </g>\n     </g>\n    </g>\n    <g id=\"ytick_38\">\n     <g id=\"line2d_104\">\n      <g>\n       <use xlink:href=\"#m3d4b1e90f5\" x=\"45.478125\" y=\"54.106784\" style=\"stroke: #000000; stroke-width: 0.6\"/>\n      </g>\n     </g>\n    </g>\n    <g id=\"ytick_39\">\n     <g id=\"line2d_105\">\n      <g>\n       <use xlink:href=\"#m3d4b1e90f5\" x=\"45.478125\" y=\"52.278832\" style=\"stroke: #000000; stroke-width: 0.6\"/>\n      </g>\n     </g>\n    </g>\n    <g id=\"ytick_40\">\n     <g id=\"line2d_106\">\n      <g>\n       <use xlink:href=\"#m3d4b1e90f5\" x=\"45.478125\" y=\"50.73332\" style=\"stroke: #000000; stroke-width: 0.6\"/>\n      </g>\n     </g>\n    </g>\n    <g id=\"ytick_41\">\n     <g id=\"line2d_107\">\n      <g>\n       <use xlink:href=\"#m3d4b1e90f5\" x=\"45.478125\" y=\"49.394537\" style=\"stroke: #000000; stroke-width: 0.6\"/>\n      </g>\n     </g>\n    </g>\n    <g id=\"ytick_42\">\n     <g id=\"line2d_108\">\n      <g>\n       <use xlink:href=\"#m3d4b1e90f5\" x=\"45.478125\" y=\"48.213647\" style=\"stroke: #000000; stroke-width: 0.6\"/>\n      </g>\n     </g>\n    </g>\n    <g id=\"ytick_43\">\n     <g id=\"line2d_109\">\n      <g>\n       <use xlink:href=\"#m3d4b1e90f5\" x=\"45.478125\" y=\"40.207824\" style=\"stroke: #000000; stroke-width: 0.6\"/>\n      </g>\n     </g>\n    </g>\n    <g id=\"ytick_44\">\n     <g id=\"line2d_110\">\n      <g>\n       <use xlink:href=\"#m3d4b1e90f5\" x=\"45.478125\" y=\"36.142638\" style=\"stroke: #000000; stroke-width: 0.6\"/>\n      </g>\n     </g>\n    </g>\n    <g id=\"ytick_45\">\n     <g id=\"line2d_111\">\n      <g>\n       <use xlink:href=\"#m3d4b1e90f5\" x=\"45.478125\" y=\"33.258343\" style=\"stroke: #000000; stroke-width: 0.6\"/>\n      </g>\n     </g>\n    </g>\n    <g id=\"ytick_46\">\n     <g id=\"line2d_112\">\n      <g>\n       <use xlink:href=\"#m3d4b1e90f5\" x=\"45.478125\" y=\"31.02111\" style=\"stroke: #000000; stroke-width: 0.6\"/>\n      </g>\n     </g>\n    </g>\n    <g id=\"ytick_47\">\n     <g id=\"line2d_113\">\n      <g>\n       <use xlink:href=\"#m3d4b1e90f5\" x=\"45.478125\" y=\"29.193158\" style=\"stroke: #000000; stroke-width: 0.6\"/>\n      </g>\n     </g>\n    </g>\n    <g id=\"ytick_48\">\n     <g id=\"line2d_114\">\n      <g>\n       <use xlink:href=\"#m3d4b1e90f5\" x=\"45.478125\" y=\"27.647646\" style=\"stroke: #000000; stroke-width: 0.6\"/>\n      </g>\n     </g>\n    </g>\n    <g id=\"ytick_49\">\n     <g id=\"line2d_115\">\n      <g>\n       <use xlink:href=\"#m3d4b1e90f5\" x=\"45.478125\" y=\"26.308863\" style=\"stroke: #000000; stroke-width: 0.6\"/>\n      </g>\n     </g>\n    </g>\n    <g id=\"ytick_50\">\n     <g id=\"line2d_116\">\n      <g>\n       <use xlink:href=\"#m3d4b1e90f5\" x=\"45.478125\" y=\"25.127973\" style=\"stroke: #000000; stroke-width: 0.6\"/>\n      </g>\n     </g>\n    </g>\n    <g id=\"ytick_51\">\n     <g id=\"line2d_117\">\n      <g>\n       <use xlink:href=\"#m3d4b1e90f5\" x=\"45.478125\" y=\"17.12215\" style=\"stroke: #000000; stroke-width: 0.6\"/>\n      </g>\n     </g>\n    </g>\n    <g id=\"ytick_52\">\n     <g id=\"line2d_118\">\n      <g>\n       <use xlink:href=\"#m3d4b1e90f5\" x=\"45.478125\" y=\"13.056964\" style=\"stroke: #000000; stroke-width: 0.6\"/>\n      </g>\n     </g>\n    </g>\n    <g id=\"ytick_53\">\n     <g id=\"line2d_119\">\n      <g>\n       <use xlink:href=\"#m3d4b1e90f5\" x=\"45.478125\" y=\"10.172669\" style=\"stroke: #000000; stroke-width: 0.6\"/>\n      </g>\n     </g>\n    </g>\n    <g id=\"ytick_54\">\n     <g id=\"line2d_120\">\n      <g>\n       <use xlink:href=\"#m3d4b1e90f5\" x=\"45.478125\" y=\"7.935436\" style=\"stroke: #000000; stroke-width: 0.6\"/>\n      </g>\n     </g>\n    </g>\n    <g id=\"text_14\">\n     <!-- frequency: n(x) -->\n     <g transform=\"translate(14.798438 114.517188) rotate(-90) scale(0.1 -0.1)\">\n      <defs>\n       <path id=\"DejaVuSans-66\" d=\"M 2375 4863 \nL 2375 4384 \nL 1825 4384 \nQ 1516 4384 1395 4259 \nQ 1275 4134 1275 3809 \nL 1275 3500 \nL 2222 3500 \nL 2222 3053 \nL 1275 3053 \nL 1275 0 \nL 697 0 \nL 697 3053 \nL 147 3053 \nL 147 3500 \nL 697 3500 \nL 697 3744 \nQ 697 4328 969 4595 \nQ 1241 4863 1831 4863 \nL 2375 4863 \nz\n\" transform=\"scale(0.015625)\"/>\n       <path id=\"DejaVuSans-72\" d=\"M 2631 2963 \nQ 2534 3019 2420 3045 \nQ 2306 3072 2169 3072 \nQ 1681 3072 1420 2755 \nQ 1159 2438 1159 1844 \nL 1159 0 \nL 581 0 \nL 581 3500 \nL 1159 3500 \nL 1159 2956 \nQ 1341 3275 1631 3429 \nQ 1922 3584 2338 3584 \nQ 2397 3584 2469 3576 \nQ 2541 3569 2628 3553 \nL 2631 2963 \nz\n\" transform=\"scale(0.015625)\"/>\n       <path id=\"DejaVuSans-71\" d=\"M 947 1747 \nQ 947 1113 1208 752 \nQ 1469 391 1925 391 \nQ 2381 391 2643 752 \nQ 2906 1113 2906 1747 \nQ 2906 2381 2643 2742 \nQ 2381 3103 1925 3103 \nQ 1469 3103 1208 2742 \nQ 947 2381 947 1747 \nz\nM 2906 525 \nQ 2725 213 2448 61 \nQ 2172 -91 1784 -91 \nQ 1150 -91 751 415 \nQ 353 922 353 1747 \nQ 353 2572 751 3078 \nQ 1150 3584 1784 3584 \nQ 2172 3584 2448 3432 \nQ 2725 3281 2906 2969 \nL 2906 3500 \nL 3481 3500 \nL 3481 -1331 \nL 2906 -1331 \nL 2906 525 \nz\n\" transform=\"scale(0.015625)\"/>\n       <path id=\"DejaVuSans-75\" d=\"M 544 1381 \nL 544 3500 \nL 1119 3500 \nL 1119 1403 \nQ 1119 906 1312 657 \nQ 1506 409 1894 409 \nQ 2359 409 2629 706 \nQ 2900 1003 2900 1516 \nL 2900 3500 \nL 3475 3500 \nL 3475 0 \nL 2900 0 \nL 2900 538 \nQ 2691 219 2414 64 \nQ 2138 -91 1772 -91 \nQ 1169 -91 856 284 \nQ 544 659 544 1381 \nz\nM 1991 3584 \nL 1991 3584 \nz\n\" transform=\"scale(0.015625)\"/>\n       <path id=\"DejaVuSans-63\" d=\"M 3122 3366 \nL 3122 2828 \nQ 2878 2963 2633 3030 \nQ 2388 3097 2138 3097 \nQ 1578 3097 1268 2742 \nQ 959 2388 959 1747 \nQ 959 1106 1268 751 \nQ 1578 397 2138 397 \nQ 2388 397 2633 464 \nQ 2878 531 3122 666 \nL 3122 134 \nQ 2881 22 2623 -34 \nQ 2366 -91 2075 -91 \nQ 1284 -91 818 406 \nQ 353 903 353 1747 \nQ 353 2603 823 3093 \nQ 1294 3584 2113 3584 \nQ 2378 3584 2631 3529 \nQ 2884 3475 3122 3366 \nz\n\" transform=\"scale(0.015625)\"/>\n       <path id=\"DejaVuSans-79\" d=\"M 2059 -325 \nQ 1816 -950 1584 -1140 \nQ 1353 -1331 966 -1331 \nL 506 -1331 \nL 506 -850 \nL 844 -850 \nQ 1081 -850 1212 -737 \nQ 1344 -625 1503 -206 \nL 1606 56 \nL 191 3500 \nL 800 3500 \nL 1894 763 \nL 2988 3500 \nL 3597 3500 \nL 2059 -325 \nz\n\" transform=\"scale(0.015625)\"/>\n       <path id=\"DejaVuSans-28\" d=\"M 1984 4856 \nQ 1566 4138 1362 3434 \nQ 1159 2731 1159 2009 \nQ 1159 1288 1364 580 \nQ 1569 -128 1984 -844 \nL 1484 -844 \nQ 1016 -109 783 600 \nQ 550 1309 550 2009 \nQ 550 2706 781 3412 \nQ 1013 4119 1484 4856 \nL 1984 4856 \nz\n\" transform=\"scale(0.015625)\"/>\n       <path id=\"DejaVuSans-29\" d=\"M 513 4856 \nL 1013 4856 \nQ 1481 4119 1714 3412 \nQ 1947 2706 1947 2009 \nQ 1947 1309 1714 600 \nQ 1481 -109 1013 -844 \nL 513 -844 \nQ 928 -128 1133 580 \nQ 1338 1288 1338 2009 \nQ 1338 2731 1133 3434 \nQ 928 4138 513 4856 \nz\n\" transform=\"scale(0.015625)\"/>\n      </defs>\n      <use xlink:href=\"#DejaVuSans-66\"/>\n      <use xlink:href=\"#DejaVuSans-72\" transform=\"translate(35.205078 0)\"/>\n      <use xlink:href=\"#DejaVuSans-65\" transform=\"translate(74.068359 0)\"/>\n      <use xlink:href=\"#DejaVuSans-71\" transform=\"translate(135.591797 0)\"/>\n      <use xlink:href=\"#DejaVuSans-75\" transform=\"translate(199.068359 0)\"/>\n      <use xlink:href=\"#DejaVuSans-65\" transform=\"translate(262.447266 0)\"/>\n      <use xlink:href=\"#DejaVuSans-6e\" transform=\"translate(323.970703 0)\"/>\n      <use xlink:href=\"#DejaVuSans-63\" transform=\"translate(387.349609 0)\"/>\n      <use xlink:href=\"#DejaVuSans-79\" transform=\"translate(442.330078 0)\"/>\n      <use xlink:href=\"#DejaVuSans-3a\" transform=\"translate(494.259766 0)\"/>\n      <use xlink:href=\"#DejaVuSans-20\" transform=\"translate(527.951172 0)\"/>\n      <use xlink:href=\"#DejaVuSans-6e\" transform=\"translate(559.738281 0)\"/>\n      <use xlink:href=\"#DejaVuSans-28\" transform=\"translate(623.117188 0)\"/>\n      <use xlink:href=\"#DejaVuSans-78\" transform=\"translate(662.130859 0)\"/>\n      <use xlink:href=\"#DejaVuSans-29\" transform=\"translate(721.310547 0)\"/>\n     </g>\n    </g>\n   </g>\n   <g id=\"line2d_121\">\n    <path d=\"M -1 19.661004 \nL 54.355398 19.671487 \nL 64.165494 19.829946 \nL 69.904032 20.487556 \nL 73.97559 21.24505 \nL 77.133736 23.753008 \nL 79.714129 25.632861 \nL 81.89582 28.241682 \nL 83.785687 28.45875 \nL 85.452667 29.672481 \nL 86.943832 30.168322 \nL 88.292755 30.835356 \nL 89.524225 31.706102 \nL 90.657068 32.648163 \nL 92.682371 32.993673 \nL 93.595783 34.949872 \nL 94.453802 34.958184 \nL 95.262763 35.889529 \nL 96.027976 35.974944 \nL 96.753928 36.657256 \nL 97.444454 36.947067 \nL 98.731976 37.152302 \nL 99.912074 37.767333 \nL 100.467164 37.921384 \nL 101.001302 39.400999 \nL 102.012659 39.578793 \nL 102.492467 39.866791 \nL 102.95654 39.898822 \nL 103.405879 40.59676 \nL 103.84139 40.80794 \nL 104.263898 41.190358 \nL 105.07286 41.353684 \nL 105.460637 42.153569 \nL 106.205702 42.242831 \nL 106.913499 42.305666 \nL 107.254551 42.552153 \nL 107.587577 43.523704 \nL 107.912947 43.636684 \nL 108.231005 44.463803 \nL 108.542072 44.565481 \nL 108.846449 45.098916 \nL 109.436242 45.59605 \nL 110.546849 46.194437 \nL 112.993089 46.706402 \nL 113.215975 46.992239 \nL 113.651486 47.095335 \nL 114.073994 47.388543 \nL 114.484254 48.158101 \nL 114.882956 48.269502 \nL 115.460709 48.754919 \nL 115.648168 48.778462 \nL 115.833177 48.956823 \nL 116.015799 49.4991 \nL 116.549937 49.693462 \nL 116.895148 50.061671 \nL 118.505175 50.46342 \nL 119.532267 52.175762 \nL 119.812533 52.322372 \nL 120.222793 52.570443 \nL 120.751938 52.726479 \nL 121.26201 53.275937 \nL 121.510314 53.331462 \nL 121.754337 53.515017 \nL 122.112659 53.579493 \nL 122.346598 53.684679 \nL 122.576733 53.752194 \nL 122.690412 53.85335 \nL 122.915067 54.159055 \nL 123.245502 54.38533 \nL 123.353954 54.397708 \nL 123.674413 54.64218 \nL 124.495105 55.236922 \nL 124.594425 55.239166 \nL 124.888269 55.475403 \nL 125.080829 55.593317 \nL 125.364845 55.762179 \nL 125.551071 56.09645 \nL 125.734879 56.254187 \nL 125.91633 56.376655 \nL 126.619728 56.800405 \nL 127.37139 57.657053 \nL 127.613327 57.786459 \nL 128.085137 57.949866 \nL 128.76461 58.675687 \nL 128.838132 58.682015 \nL 128.98404 58.893096 \nL 129.056434 58.909269 \nL 129.27142 59.145109 \nL 129.48319 59.281927 \nL 129.760708 59.506171 \nL 130.167041 59.721493 \nL 130.365915 59.88429 \nL 130.562034 59.981091 \nL 131.009343 60.362939 \nL 131.196803 60.468279 \nL 131.503821 60.873463 \nL 132.329645 61.655317 \nL 132.613282 61.770929 \nL 132.946308 61.993012 \nL 133.217967 62.206622 \nL 133.537221 62.452504 \nL 133.849431 62.662114 \nL 134.20518 62.804328 \nL 134.404521 63.075317 \nL 134.453921 63.080224 \nL 134.601093 63.333682 \nL 135.361167 64.102273 \nL 135.544975 64.416904 \nL 135.861003 64.799818 \nL 136.810645 65.399996 \nL 137.222097 65.797429 \nL 137.383387 65.894424 \nL 137.542858 66.025228 \nL 137.93385 66.19117 \nL 138.426506 66.621946 \nL 139.397994 67.226711 \nL 139.707549 67.36119 \nL 139.91022 67.520396 \nL 140.501382 68.045929 \nL 140.756397 68.323539 \nL 141.099706 68.609056 \nL 141.191908 68.711799 \nL 141.584652 68.9205 \nL 141.966791 69.205703 \nL 143.426018 70.44553 \nL 143.582118 70.548361 \nL 144.772562 71.366384 \nL 145.536522 71.837066 \nL 145.715676 71.943412 \nL 145.958367 72.050899 \nL 147.253496 72.889492 \nL 147.569335 73.127273 \nL 149.103382 74.288131 \nL 149.242821 74.408928 \nL 149.398066 74.515832 \nL 149.619344 74.686162 \nL 149.936651 74.843559 \nL 150.117155 74.939197 \nL 150.785924 75.448406 \nL 150.955978 75.550021 \nL 151.335031 75.808659 \nL 151.454214 75.896376 \nL 151.675014 76.146147 \nL 152.021282 76.402299 \nL 152.106541 76.495391 \nL 152.607584 76.974278 \nL 152.784243 77.072863 \nL 153.117898 77.37457 \nL 153.236114 77.477191 \nL 153.53381 77.749028 \nL 153.699343 77.855575 \nL 153.950289 78.072127 \nL 154.03708 78.160075 \nL 154.184636 78.29346 \nL 154.366944 78.405986 \nL 154.546933 78.496926 \nL 154.771682 78.704606 \nL 154.911812 78.798307 \nL 155.142322 79.036465 \nL 155.290164 79.10903 \nL 155.447671 79.329929 \nL 155.625559 79.429691 \nL 155.855693 79.683527 \nL 156.007064 79.786889 \nL 156.146187 79.838972 \nL 156.336588 79.943957 \nL 156.545184 80.184272 \nL 156.638059 80.292955 \nL 156.821999 80.486034 \nL 156.892891 80.569934 \nL 157.043616 80.682904 \nL 157.182859 80.768475 \nL 157.369667 80.971026 \nL 157.515425 81.059103 \nL 157.688376 81.237612 \nL 157.849801 81.328072 \nL 157.990721 81.419357 \nL 158.157994 81.51148 \nL 158.305039 81.635642 \nL 158.504764 81.729783 \nL 158.639342 81.824817 \nL 158.737225 81.92076 \nL 158.88718 82.050129 \nL 159.026877 82.148264 \nL 159.165209 82.247368 \nL 159.28515 82.347462 \nL 159.42944 82.482494 \nL 159.555544 82.584975 \nL 159.697117 82.723267 \nL 159.894603 82.828252 \nL 160.04093 82.969964 \nL 160.217745 83.077579 \nL 160.352876 83.186361 \nL 160.564881 83.296336 \nL 160.704473 83.444872 \nL 160.789106 83.519973 \nL 160.918916 83.633691 \nL 161.009835 83.710225 \nL 161.145127 83.826134 \nL 161.234609 83.904157 \nL 161.367779 84.022343 \nL 161.477806 84.101915 \nL 161.608718 84.222469 \nL 161.774252 84.303652 \nL 161.909552 84.468016 \nL 162.057604 84.551219 \nL 162.183285 84.635119 \nL 162.321634 84.719727 \nL 162.445002 84.805055 \nL 162.513078 84.891116 \nL 162.641527 85.021607 \nL 162.742118 85.109555 \nL 162.875135 85.287799 \nL 163.065817 85.378124 \nL 163.195841 85.515156 \nL 163.356708 85.607562 \nL 163.477756 85.700827 \nL 163.604067 85.794969 \nL 163.723026 85.890002 \nL 163.884209 85.985946 \nL 164.013069 86.131604 \nL 164.201171 86.229899 \nL 164.321214 86.329167 \nL 164.493488 86.429427 \nL 164.616941 86.530701 \nL 164.779889 86.633008 \nL 164.906615 86.788452 \nL 165.060609 86.893437 \nL 165.179233 86.999533 \nL 165.308025 87.106764 \nL 165.43013 87.215154 \nL 165.633142 87.324729 \nL 165.752485 87.435514 \nL 165.918961 87.491369 \nL 166.041222 87.604022 \nL 166.099324 87.660827 \nL 166.220043 87.77541 \nL 166.318997 87.833197 \nL 166.437866 87.94978 \nL 166.550639 88.008583 \nL 166.667585 88.127235 \nL 166.788595 88.187092 \nL 166.908578 88.307889 \nL 167.012736 88.368837 \nL 167.130842 88.491857 \nL 167.204161 88.553937 \nL 167.320687 88.679264 \nL 167.383407 88.742519 \nL 167.503247 88.87024 \nL 167.636273 88.934716 \nL 167.754 89.064926 \nL 167.912552 89.13067 \nL 168.032611 89.263467 \nL 168.137974 89.33053 \nL 168.256143 89.466019 \nL 168.391278 89.534456 \nL 168.50736 89.672747 \nL 168.591591 89.742615 \nL 168.710432 89.883828 \nL 168.863014 89.955188 \nL 168.979607 90.099449 \nL 169.086713 90.172366 \nL 169.205718 90.319809 \nL 169.369824 90.394352 \nL 169.482332 90.469453 \nL 169.569224 90.545122 \nL 169.688347 90.698193 \nL 169.842937 90.775614 \nL 169.959788 90.932273 \nL 170.127328 91.01153 \nL 170.245797 91.171949 \nL 170.437188 91.253132 \nL 170.553102 91.417496 \nL 170.732812 91.5007 \nL 170.850108 91.669207 \nL 171.03727 91.754535 \nL 171.155767 91.927401 \nL 171.331674 92.014965 \nL 171.447742 92.192421 \nL 171.65572 92.28234 \nL 171.769171 92.373074 \nL 171.920203 92.464636 \nL 172.035028 92.650308 \nL 172.272148 92.744449 \nL 172.387545 92.935426 \nL 172.605571 93.032296 \nL 172.718292 93.130111 \nL 172.853036 93.22889 \nL 172.967055 93.328652 \nL 173.189181 93.429416 \nL 173.303703 93.634035 \nL 173.548701 93.737933 \nL 173.660362 93.842918 \nL 173.810943 93.949014 \nL 173.923595 94.056244 \nL 174.071416 94.164634 \nL 174.187976 94.384995 \nL 174.306536 94.384995 \nL 174.418255 94.497018 \nL 174.424111 94.497018 \nL 174.537813 94.610307 \nL 174.589985 94.610307 \nL 174.702368 94.724891 \nL 174.731041 94.724891 \nL 174.842314 94.840799 \nL 174.890545 94.840799 \nL 175.003386 94.958064 \nL 175.028651 94.958064 \nL 175.1404 95.076716 \nL 175.162645 95.076716 \nL 175.276102 95.196789 \nL 175.317384 95.196789 \nL 175.429612 95.318317 \nL 175.48132 95.318317 \nL 175.594956 95.441337 \nL 175.638007 95.441337 \nL 175.750396 95.565885 \nL 175.785003 95.565885 \nL 175.896236 95.692 \nL 175.948898 95.692 \nL 176.061463 95.819721 \nL 176.126499 95.819721 \nL 176.237665 95.94909 \nL 176.247962 95.94909 \nL 176.360735 96.080151 \nL 176.419329 96.080151 \nL 176.530751 96.212947 \nL 176.581108 96.212947 \nL 176.693762 96.347526 \nL 176.760926 96.347526 \nL 176.872163 96.483936 \nL 176.913959 96.483936 \nL 177.02644 96.622227 \nL 177.048343 96.622227 \nL 177.159766 96.762453 \nL 177.19591 96.762453 \nL 177.308569 96.904668 \nL 177.332424 96.904668 \nL 177.444005 97.048929 \nL 177.512417 97.048929 \nL 177.624929 97.195297 \nL 177.687826 97.195297 \nL 177.801263 97.343832 \nL 177.872563 97.343832 \nL 177.984535 97.494602 \nL 178.061713 97.494602 \nL 178.17445 97.647673 \nL 178.243899 97.647673 \nL 178.3552 97.803118 \nL 178.450224 97.803118 \nL 178.562106 97.961011 \nL 178.651413 97.961011 \nL 178.763876 98.12143 \nL 178.828355 98.12143 \nL 178.941554 98.284457 \nL 179.026391 98.284457 \nL 179.138023 98.45018 \nL 179.230035 98.45018 \nL 179.342146 98.618688 \nL 179.412282 98.618688 \nL 179.525006 98.790076 \nL 179.612515 98.790076 \nL 179.723662 98.964446 \nL 179.823953 98.964446 \nL 179.935441 99.141901 \nL 180.018485 99.141901 \nL 180.130413 99.322554 \nL 180.249224 99.322554 \nL 180.361274 99.506522 \nL 180.462894 99.506522 \nL 180.575167 99.693929 \nL 180.669621 99.693929 \nL 180.782141 99.884906 \nL 180.914143 99.884906 \nL 181.026579 100.079592 \nL 181.14177 100.079592 \nL 181.254226 100.278132 \nL 181.385498 100.278132 \nL 181.497816 100.480684 \nL 181.621578 100.480684 \nL 181.733793 100.687413 \nL 181.893558 100.687413 \nL 182.005358 100.898494 \nL 182.177345 100.898494 \nL 182.288614 101.114115 \nL 182.460531 101.114115 \nL 182.572897 101.334475 \nL 182.700697 101.334475 \nL 182.812797 101.559787 \nL 182.975301 101.559787 \nL 183.086843 101.79028 \nL 183.222687 101.79028 \nL 183.333863 102.026196 \nL 183.488983 102.026196 \nL 183.601157 102.267798 \nL 183.768523 102.267798 \nL 183.880012 102.515365 \nL 184.067847 102.515365 \nL 184.17995 102.769201 \nL 184.362421 102.769201 \nL 184.473663 103.029631 \nL 184.670871 103.029631 \nL 184.78254 103.297006 \nL 184.95467 103.297006 \nL 185.066892 103.571708 \nL 185.29549 103.571708 \nL 185.407747 103.854148 \nL 185.608388 103.854148 \nL 185.719516 104.144777 \nL 185.941785 104.144777 \nL 186.052911 104.444082 \nL 186.296637 104.444082 \nL 186.408787 104.752598 \nL 186.681028 104.752598 \nL 186.792629 105.07091 \nL 187.051657 105.07091 \nL 187.163955 105.39966 \nL 187.360117 105.39966 \nL 187.472331 105.739557 \nL 187.751319 105.739557 \nL 187.862751 106.091381 \nL 188.159752 106.091381 \nL 188.271328 106.456003 \nL 188.567509 106.456003 \nL 188.679136 106.834387 \nL 188.986879 106.834387 \nL 189.098374 107.227613 \nL 189.417538 107.227613 \nL 189.528725 107.636893 \nL 189.858122 107.636893 \nL 189.969818 108.063595 \nL 190.365348 108.063595 \nL 190.476893 108.509268 \nL 190.842181 108.509268 \nL 190.953688 108.975676 \nL 191.376116 108.975676 \nL 191.487893 109.464846 \nL 191.939122 109.464846 \nL 192.05077 109.979111 \nL 192.502635 109.979111 \nL 192.61399 110.521188 \nL 193.111167 110.521188 \nL 193.222508 111.094257 \nL 193.745525 111.094257 \nL 193.857195 111.702079 \nL 194.391278 111.702079 \nL 194.502946 112.349141 \nL 195.118481 112.349141 \nL 195.229962 113.040862 \nL 195.877801 113.040862 \nL 195.989222 113.783867 \nL 196.691619 113.783867 \nL 196.80286 114.586374 \nL 197.588786 114.586374 \nL 197.700004 115.458748 \nL 198.596273 115.458748 \nL 198.707774 116.414326 \nL 199.648039 116.414326 \nL 199.759405 117.470669 \nL 200.791978 117.470669 \nL 200.903295 118.651559 \nL 202.087358 118.651559 \nL 202.198849 119.990342 \nL 203.533181 119.990342 \nL 203.644656 121.535854 \nL 205.244841 121.535854 \nL 205.356172 123.363806 \nL 207.300558 123.363806 \nL 207.411694 125.601039 \nL 209.839108 125.601039 \nL 209.950382 128.485334 \nL 213.263891 128.485334 \nL 213.375057 132.55052 \nL 218.607067 132.55052 \nL 218.718233 139.5 \nL 231.900852 139.5 \nL 231.900852 139.5 \n\" clip-path=\"url(#pc219bd52ca)\" style=\"fill: none; stroke: #1f77b4; stroke-width: 1.5; stroke-linecap: square\"/>\n   </g>\n   <g id=\"patch_3\">\n    <path d=\"M 45.478125 145.8 \nL 45.478125 7.2 \n\" style=\"fill: none; stroke: #000000; stroke-width: 0.8; stroke-linejoin: miter; stroke-linecap: square\"/>\n   </g>\n   <g id=\"patch_4\">\n    <path d=\"M 240.778125 145.8 \nL 240.778125 7.2 \n\" style=\"fill: none; stroke: #000000; stroke-width: 0.8; stroke-linejoin: miter; stroke-linecap: square\"/>\n   </g>\n   <g id=\"patch_5\">\n    <path d=\"M 45.478125 145.8 \nL 240.778125 145.8 \n\" style=\"fill: none; stroke: #000000; stroke-width: 0.8; stroke-linejoin: miter; stroke-linecap: square\"/>\n   </g>\n   <g id=\"patch_6\">\n    <path d=\"M 45.478125 7.2 \nL 240.778125 7.2 \n\" style=\"fill: none; stroke: #000000; stroke-width: 0.8; stroke-linejoin: miter; stroke-linecap: square\"/>\n   </g>\n  </g>\n </g>\n <defs>\n  <clipPath id=\"pc219bd52ca\">\n   <rect x=\"45.478125\" y=\"7.2\" width=\"195.3\" height=\"138.6\"/>\n  </clipPath>\n </defs>\n</svg>\n"
          },
          "metadata": {}
        }
      ]
    },
    {
      "cell_type": "code",
      "source": [
        "len(vocab.token_freqs)"
      ],
      "metadata": {
        "id": "D6jynFYvy7rc",
        "outputId": "831b461d-bcab-4196-c40c-8f56e871e8fd",
        "colab": {
          "base_uri": "https://localhost:8080/"
        }
      },
      "id": "D6jynFYvy7rc",
      "execution_count": 9,
      "outputs": [
        {
          "output_type": "execute_result",
          "data": {
            "text/plain": [
              "280617"
            ]
          },
          "metadata": {},
          "execution_count": 9
        }
      ]
    },
    {
      "cell_type": "markdown",
      "id": "6592cc46",
      "metadata": {
        "origin_pos": 10,
        "id": "6592cc46"
      },
      "source": [
        "在词元化之后，让我们绘制评论词元长度的直方图。\n"
      ]
    },
    {
      "cell_type": "code",
      "execution_count": 10,
      "id": "ca2ed7c7",
      "metadata": {
        "execution": {
          "iopub.execute_input": "2023-08-18T07:04:46.343348Z",
          "iopub.status.busy": "2023-08-18T07:04:46.343069Z",
          "iopub.status.idle": "2023-08-18T07:04:46.663216Z",
          "shell.execute_reply": "2023-08-18T07:04:46.662099Z"
        },
        "origin_pos": 11,
        "tab": [
          "pytorch"
        ],
        "id": "ca2ed7c7",
        "outputId": "8aa6bd7c-ed1c-4525-a3b6-9bbbac229dcc",
        "colab": {
          "base_uri": "https://localhost:8080/",
          "height": 266
        }
      },
      "outputs": [
        {
          "output_type": "display_data",
          "data": {
            "text/plain": [
              "<Figure size 350x250 with 1 Axes>"
            ],
            "image/svg+xml": "<?xml version=\"1.0\" encoding=\"utf-8\" standalone=\"no\"?>\n<!DOCTYPE svg PUBLIC \"-//W3C//DTD SVG 1.1//EN\"\n  \"http://www.w3.org/Graphics/SVG/1.1/DTD/svg11.dtd\">\n<svg xmlns:xlink=\"http://www.w3.org/1999/xlink\" width=\"255.828125pt\" height=\"183.35625pt\" viewBox=\"0 0 255.828125 183.35625\" xmlns=\"http://www.w3.org/2000/svg\" version=\"1.1\">\n <metadata>\n  <rdf:RDF xmlns:dc=\"http://purl.org/dc/elements/1.1/\" xmlns:cc=\"http://creativecommons.org/ns#\" xmlns:rdf=\"http://www.w3.org/1999/02/22-rdf-syntax-ns#\">\n   <cc:Work>\n    <dc:type rdf:resource=\"http://purl.org/dc/dcmitype/StillImage\"/>\n    <dc:date>2025-10-03T12:56:29.240512</dc:date>\n    <dc:format>image/svg+xml</dc:format>\n    <dc:creator>\n     <cc:Agent>\n      <dc:title>Matplotlib v3.10.0, https://matplotlib.org/</dc:title>\n     </cc:Agent>\n    </dc:creator>\n   </cc:Work>\n  </rdf:RDF>\n </metadata>\n <defs>\n  <style type=\"text/css\">*{stroke-linejoin: round; stroke-linecap: butt}</style>\n </defs>\n <g id=\"figure_1\">\n  <g id=\"patch_1\">\n   <path d=\"M 0 183.35625 \nL 255.828125 183.35625 \nL 255.828125 0 \nL 0 0 \nz\n\" style=\"fill: #ffffff\"/>\n  </g>\n  <g id=\"axes_1\">\n   <g id=\"patch_2\">\n    <path d=\"M 53.328125 145.8 \nL 248.628125 145.8 \nL 248.628125 7.2 \nL 53.328125 7.2 \nz\n\" style=\"fill: #ffffff\"/>\n   </g>\n   <g id=\"patch_3\">\n    <path d=\"M 62.205398 145.8 \nL 71.549895 145.8 \nL 71.549895 135.096774 \nL 62.205398 135.096774 \nz\n\" clip-path=\"url(#p1414d04147)\" style=\"fill: #1f77b4\"/>\n   </g>\n   <g id=\"patch_4\">\n    <path d=\"M 71.549895 145.8 \nL 80.894393 145.8 \nL 80.894393 99.870968 \nL 71.549895 99.870968 \nz\n\" clip-path=\"url(#p1414d04147)\" style=\"fill: #1f77b4\"/>\n   </g>\n   <g id=\"patch_5\">\n    <path d=\"M 80.894393 145.8 \nL 90.238891 145.8 \nL 90.238891 13.8 \nL 80.894393 13.8 \nz\n\" clip-path=\"url(#p1414d04147)\" style=\"fill: #1f77b4\"/>\n   </g>\n   <g id=\"patch_6\">\n    <path d=\"M 90.238891 145.8 \nL 99.583388 145.8 \nL 99.583388 52.23871 \nL 90.238891 52.23871 \nz\n\" clip-path=\"url(#p1414d04147)\" style=\"fill: #1f77b4\"/>\n   </g>\n   <g id=\"patch_7\">\n    <path d=\"M 99.583388 145.8 \nL 108.927886 145.8 \nL 108.927886 91.277419 \nL 99.583388 91.277419 \nz\n\" clip-path=\"url(#p1414d04147)\" style=\"fill: #1f77b4\"/>\n   </g>\n   <g id=\"patch_8\">\n    <path d=\"M 108.927886 145.8 \nL 118.272383 145.8 \nL 118.272383 110.032258 \nL 108.927886 110.032258 \nz\n\" clip-path=\"url(#p1414d04147)\" style=\"fill: #1f77b4\"/>\n   </g>\n   <g id=\"patch_9\">\n    <path d=\"M 118.272383 145.8 \nL 127.616881 145.8 \nL 127.616881 119.090323 \nL 118.272383 119.090323 \nz\n\" clip-path=\"url(#p1414d04147)\" style=\"fill: #1f77b4\"/>\n   </g>\n   <g id=\"patch_10\">\n    <path d=\"M 127.616881 145.8 \nL 136.961379 145.8 \nL 136.961379 126.348387 \nL 127.616881 126.348387 \nz\n\" clip-path=\"url(#p1414d04147)\" style=\"fill: #1f77b4\"/>\n   </g>\n   <g id=\"patch_11\">\n    <path d=\"M 136.961379 145.8 \nL 146.305876 145.8 \nL 146.305876 131.109677 \nL 136.961379 131.109677 \nz\n\" clip-path=\"url(#p1414d04147)\" style=\"fill: #1f77b4\"/>\n   </g>\n   <g id=\"patch_12\">\n    <path d=\"M 146.305876 145.8 \nL 155.650374 145.8 \nL 155.650374 134.554839 \nL 146.305876 134.554839 \nz\n\" clip-path=\"url(#p1414d04147)\" style=\"fill: #1f77b4\"/>\n   </g>\n   <g id=\"patch_13\">\n    <path d=\"M 155.650374 145.8 \nL 164.994871 145.8 \nL 164.994871 137.341935 \nL 155.650374 137.341935 \nz\n\" clip-path=\"url(#p1414d04147)\" style=\"fill: #1f77b4\"/>\n   </g>\n   <g id=\"patch_14\">\n    <path d=\"M 164.994871 145.8 \nL 174.339369 145.8 \nL 174.339369 139.045161 \nL 164.994871 139.045161 \nz\n\" clip-path=\"url(#p1414d04147)\" style=\"fill: #1f77b4\"/>\n   </g>\n   <g id=\"patch_15\">\n    <path d=\"M 174.339369 145.8 \nL 183.683867 145.8 \nL 183.683867 140.825806 \nL 174.339369 140.825806 \nz\n\" clip-path=\"url(#p1414d04147)\" style=\"fill: #1f77b4\"/>\n   </g>\n   <g id=\"patch_16\">\n    <path d=\"M 183.683867 145.8 \nL 193.028364 145.8 \nL 193.028364 141.793548 \nL 183.683867 141.793548 \nz\n\" clip-path=\"url(#p1414d04147)\" style=\"fill: #1f77b4\"/>\n   </g>\n   <g id=\"patch_17\">\n    <path d=\"M 193.028364 145.8 \nL 202.372862 145.8 \nL 202.372862 142.432258 \nL 193.028364 142.432258 \nz\n\" clip-path=\"url(#p1414d04147)\" style=\"fill: #1f77b4\"/>\n   </g>\n   <g id=\"patch_18\">\n    <path d=\"M 202.372862 145.8 \nL 211.717359 145.8 \nL 211.717359 143.225806 \nL 202.372862 143.225806 \nz\n\" clip-path=\"url(#p1414d04147)\" style=\"fill: #1f77b4\"/>\n   </g>\n   <g id=\"patch_19\">\n    <path d=\"M 211.717359 145.8 \nL 221.061857 145.8 \nL 221.061857 143.554839 \nL 211.717359 143.554839 \nz\n\" clip-path=\"url(#p1414d04147)\" style=\"fill: #1f77b4\"/>\n   </g>\n   <g id=\"patch_20\">\n    <path d=\"M 221.061857 145.8 \nL 230.406355 145.8 \nL 230.406355 144.154839 \nL 221.061857 144.154839 \nz\n\" clip-path=\"url(#p1414d04147)\" style=\"fill: #1f77b4\"/>\n   </g>\n   <g id=\"patch_21\">\n    <path d=\"M 230.406355 145.8 \nL 239.750852 145.8 \nL 239.750852 144.348387 \nL 230.406355 144.348387 \nz\n\" clip-path=\"url(#p1414d04147)\" style=\"fill: #1f77b4\"/>\n   </g>\n   <g id=\"matplotlib.axis_1\">\n    <g id=\"xtick_1\">\n     <g id=\"line2d_1\">\n      <defs>\n       <path id=\"m9f0386325b\" d=\"M 0 0 \nL 0 3.5 \n\" style=\"stroke: #000000; stroke-width: 0.8\"/>\n      </defs>\n      <g>\n       <use xlink:href=\"#m9f0386325b\" x=\"62.205398\" y=\"145.8\" style=\"stroke: #000000; stroke-width: 0.8\"/>\n      </g>\n     </g>\n     <g id=\"text_1\">\n      <!-- 0 -->\n      <g transform=\"translate(59.024148 160.398438) scale(0.1 -0.1)\">\n       <defs>\n        <path id=\"DejaVuSans-30\" d=\"M 2034 4250 \nQ 1547 4250 1301 3770 \nQ 1056 3291 1056 2328 \nQ 1056 1369 1301 889 \nQ 1547 409 2034 409 \nQ 2525 409 2770 889 \nQ 3016 1369 3016 2328 \nQ 3016 3291 2770 3770 \nQ 2525 4250 2034 4250 \nz\nM 2034 4750 \nQ 2819 4750 3233 4129 \nQ 3647 3509 3647 2328 \nQ 3647 1150 3233 529 \nQ 2819 -91 2034 -91 \nQ 1250 -91 836 529 \nQ 422 1150 422 2328 \nQ 422 3509 836 4129 \nQ 1250 4750 2034 4750 \nz\n\" transform=\"scale(0.015625)\"/>\n       </defs>\n       <use xlink:href=\"#DejaVuSans-30\"/>\n      </g>\n     </g>\n    </g>\n    <g id=\"xtick_2\">\n     <g id=\"line2d_2\">\n      <g>\n       <use xlink:href=\"#m9f0386325b\" x=\"99.583388\" y=\"145.8\" style=\"stroke: #000000; stroke-width: 0.8\"/>\n      </g>\n     </g>\n     <g id=\"text_2\">\n      <!-- 200 -->\n      <g transform=\"translate(90.039638 160.398438) scale(0.1 -0.1)\">\n       <defs>\n        <path id=\"DejaVuSans-32\" d=\"M 1228 531 \nL 3431 531 \nL 3431 0 \nL 469 0 \nL 469 531 \nQ 828 903 1448 1529 \nQ 2069 2156 2228 2338 \nQ 2531 2678 2651 2914 \nQ 2772 3150 2772 3378 \nQ 2772 3750 2511 3984 \nQ 2250 4219 1831 4219 \nQ 1534 4219 1204 4116 \nQ 875 4013 500 3803 \nL 500 4441 \nQ 881 4594 1212 4672 \nQ 1544 4750 1819 4750 \nQ 2544 4750 2975 4387 \nQ 3406 4025 3406 3419 \nQ 3406 3131 3298 2873 \nQ 3191 2616 2906 2266 \nQ 2828 2175 2409 1742 \nQ 1991 1309 1228 531 \nz\n\" transform=\"scale(0.015625)\"/>\n       </defs>\n       <use xlink:href=\"#DejaVuSans-32\"/>\n       <use xlink:href=\"#DejaVuSans-30\" transform=\"translate(63.623047 0)\"/>\n       <use xlink:href=\"#DejaVuSans-30\" transform=\"translate(127.246094 0)\"/>\n      </g>\n     </g>\n    </g>\n    <g id=\"xtick_3\">\n     <g id=\"line2d_3\">\n      <g>\n       <use xlink:href=\"#m9f0386325b\" x=\"136.961379\" y=\"145.8\" style=\"stroke: #000000; stroke-width: 0.8\"/>\n      </g>\n     </g>\n     <g id=\"text_3\">\n      <!-- 400 -->\n      <g transform=\"translate(127.417629 160.398438) scale(0.1 -0.1)\">\n       <defs>\n        <path id=\"DejaVuSans-34\" d=\"M 2419 4116 \nL 825 1625 \nL 2419 1625 \nL 2419 4116 \nz\nM 2253 4666 \nL 3047 4666 \nL 3047 1625 \nL 3713 1625 \nL 3713 1100 \nL 3047 1100 \nL 3047 0 \nL 2419 0 \nL 2419 1100 \nL 313 1100 \nL 313 1709 \nL 2253 4666 \nz\n\" transform=\"scale(0.015625)\"/>\n       </defs>\n       <use xlink:href=\"#DejaVuSans-34\"/>\n       <use xlink:href=\"#DejaVuSans-30\" transform=\"translate(63.623047 0)\"/>\n       <use xlink:href=\"#DejaVuSans-30\" transform=\"translate(127.246094 0)\"/>\n      </g>\n     </g>\n    </g>\n    <g id=\"xtick_4\">\n     <g id=\"line2d_4\">\n      <g>\n       <use xlink:href=\"#m9f0386325b\" x=\"174.339369\" y=\"145.8\" style=\"stroke: #000000; stroke-width: 0.8\"/>\n      </g>\n     </g>\n     <g id=\"text_4\">\n      <!-- 600 -->\n      <g transform=\"translate(164.795619 160.398438) scale(0.1 -0.1)\">\n       <defs>\n        <path id=\"DejaVuSans-36\" d=\"M 2113 2584 \nQ 1688 2584 1439 2293 \nQ 1191 2003 1191 1497 \nQ 1191 994 1439 701 \nQ 1688 409 2113 409 \nQ 2538 409 2786 701 \nQ 3034 994 3034 1497 \nQ 3034 2003 2786 2293 \nQ 2538 2584 2113 2584 \nz\nM 3366 4563 \nL 3366 3988 \nQ 3128 4100 2886 4159 \nQ 2644 4219 2406 4219 \nQ 1781 4219 1451 3797 \nQ 1122 3375 1075 2522 \nQ 1259 2794 1537 2939 \nQ 1816 3084 2150 3084 \nQ 2853 3084 3261 2657 \nQ 3669 2231 3669 1497 \nQ 3669 778 3244 343 \nQ 2819 -91 2113 -91 \nQ 1303 -91 875 529 \nQ 447 1150 447 2328 \nQ 447 3434 972 4092 \nQ 1497 4750 2381 4750 \nQ 2619 4750 2861 4703 \nQ 3103 4656 3366 4563 \nz\n\" transform=\"scale(0.015625)\"/>\n       </defs>\n       <use xlink:href=\"#DejaVuSans-36\"/>\n       <use xlink:href=\"#DejaVuSans-30\" transform=\"translate(63.623047 0)\"/>\n       <use xlink:href=\"#DejaVuSans-30\" transform=\"translate(127.246094 0)\"/>\n      </g>\n     </g>\n    </g>\n    <g id=\"xtick_5\">\n     <g id=\"line2d_5\">\n      <g>\n       <use xlink:href=\"#m9f0386325b\" x=\"211.717359\" y=\"145.8\" style=\"stroke: #000000; stroke-width: 0.8\"/>\n      </g>\n     </g>\n     <g id=\"text_5\">\n      <!-- 800 -->\n      <g transform=\"translate(202.173609 160.398438) scale(0.1 -0.1)\">\n       <defs>\n        <path id=\"DejaVuSans-38\" d=\"M 2034 2216 \nQ 1584 2216 1326 1975 \nQ 1069 1734 1069 1313 \nQ 1069 891 1326 650 \nQ 1584 409 2034 409 \nQ 2484 409 2743 651 \nQ 3003 894 3003 1313 \nQ 3003 1734 2745 1975 \nQ 2488 2216 2034 2216 \nz\nM 1403 2484 \nQ 997 2584 770 2862 \nQ 544 3141 544 3541 \nQ 544 4100 942 4425 \nQ 1341 4750 2034 4750 \nQ 2731 4750 3128 4425 \nQ 3525 4100 3525 3541 \nQ 3525 3141 3298 2862 \nQ 3072 2584 2669 2484 \nQ 3125 2378 3379 2068 \nQ 3634 1759 3634 1313 \nQ 3634 634 3220 271 \nQ 2806 -91 2034 -91 \nQ 1263 -91 848 271 \nQ 434 634 434 1313 \nQ 434 1759 690 2068 \nQ 947 2378 1403 2484 \nz\nM 1172 3481 \nQ 1172 3119 1398 2916 \nQ 1625 2713 2034 2713 \nQ 2441 2713 2670 2916 \nQ 2900 3119 2900 3481 \nQ 2900 3844 2670 4047 \nQ 2441 4250 2034 4250 \nQ 1625 4250 1398 4047 \nQ 1172 3844 1172 3481 \nz\n\" transform=\"scale(0.015625)\"/>\n       </defs>\n       <use xlink:href=\"#DejaVuSans-38\"/>\n       <use xlink:href=\"#DejaVuSans-30\" transform=\"translate(63.623047 0)\"/>\n       <use xlink:href=\"#DejaVuSans-30\" transform=\"translate(127.246094 0)\"/>\n      </g>\n     </g>\n    </g>\n    <g id=\"text_6\">\n     <!-- # tokens per review -->\n     <g transform=\"translate(100.597656 174.076563) scale(0.1 -0.1)\">\n      <defs>\n       <path id=\"DejaVuSans-23\" d=\"M 3272 2816 \nL 2363 2816 \nL 2100 1772 \nL 3016 1772 \nL 3272 2816 \nz\nM 2803 4594 \nL 2478 3297 \nL 3391 3297 \nL 3719 4594 \nL 4219 4594 \nL 3897 3297 \nL 4872 3297 \nL 4872 2816 \nL 3775 2816 \nL 3519 1772 \nL 4513 1772 \nL 4513 1294 \nL 3397 1294 \nL 3072 0 \nL 2572 0 \nL 2894 1294 \nL 1978 1294 \nL 1656 0 \nL 1153 0 \nL 1478 1294 \nL 494 1294 \nL 494 1772 \nL 1594 1772 \nL 1856 2816 \nL 850 2816 \nL 850 3297 \nL 1978 3297 \nL 2297 4594 \nL 2803 4594 \nz\n\" transform=\"scale(0.015625)\"/>\n       <path id=\"DejaVuSans-20\" transform=\"scale(0.015625)\"/>\n       <path id=\"DejaVuSans-74\" d=\"M 1172 4494 \nL 1172 3500 \nL 2356 3500 \nL 2356 3053 \nL 1172 3053 \nL 1172 1153 \nQ 1172 725 1289 603 \nQ 1406 481 1766 481 \nL 2356 481 \nL 2356 0 \nL 1766 0 \nQ 1100 0 847 248 \nQ 594 497 594 1153 \nL 594 3053 \nL 172 3053 \nL 172 3500 \nL 594 3500 \nL 594 4494 \nL 1172 4494 \nz\n\" transform=\"scale(0.015625)\"/>\n       <path id=\"DejaVuSans-6f\" d=\"M 1959 3097 \nQ 1497 3097 1228 2736 \nQ 959 2375 959 1747 \nQ 959 1119 1226 758 \nQ 1494 397 1959 397 \nQ 2419 397 2687 759 \nQ 2956 1122 2956 1747 \nQ 2956 2369 2687 2733 \nQ 2419 3097 1959 3097 \nz\nM 1959 3584 \nQ 2709 3584 3137 3096 \nQ 3566 2609 3566 1747 \nQ 3566 888 3137 398 \nQ 2709 -91 1959 -91 \nQ 1206 -91 779 398 \nQ 353 888 353 1747 \nQ 353 2609 779 3096 \nQ 1206 3584 1959 3584 \nz\n\" transform=\"scale(0.015625)\"/>\n       <path id=\"DejaVuSans-6b\" d=\"M 581 4863 \nL 1159 4863 \nL 1159 1991 \nL 2875 3500 \nL 3609 3500 \nL 1753 1863 \nL 3688 0 \nL 2938 0 \nL 1159 1709 \nL 1159 0 \nL 581 0 \nL 581 4863 \nz\n\" transform=\"scale(0.015625)\"/>\n       <path id=\"DejaVuSans-65\" d=\"M 3597 1894 \nL 3597 1613 \nL 953 1613 \nQ 991 1019 1311 708 \nQ 1631 397 2203 397 \nQ 2534 397 2845 478 \nQ 3156 559 3463 722 \nL 3463 178 \nQ 3153 47 2828 -22 \nQ 2503 -91 2169 -91 \nQ 1331 -91 842 396 \nQ 353 884 353 1716 \nQ 353 2575 817 3079 \nQ 1281 3584 2069 3584 \nQ 2775 3584 3186 3129 \nQ 3597 2675 3597 1894 \nz\nM 3022 2063 \nQ 3016 2534 2758 2815 \nQ 2500 3097 2075 3097 \nQ 1594 3097 1305 2825 \nQ 1016 2553 972 2059 \nL 3022 2063 \nz\n\" transform=\"scale(0.015625)\"/>\n       <path id=\"DejaVuSans-6e\" d=\"M 3513 2113 \nL 3513 0 \nL 2938 0 \nL 2938 2094 \nQ 2938 2591 2744 2837 \nQ 2550 3084 2163 3084 \nQ 1697 3084 1428 2787 \nQ 1159 2491 1159 1978 \nL 1159 0 \nL 581 0 \nL 581 3500 \nL 1159 3500 \nL 1159 2956 \nQ 1366 3272 1645 3428 \nQ 1925 3584 2291 3584 \nQ 2894 3584 3203 3211 \nQ 3513 2838 3513 2113 \nz\n\" transform=\"scale(0.015625)\"/>\n       <path id=\"DejaVuSans-73\" d=\"M 2834 3397 \nL 2834 2853 \nQ 2591 2978 2328 3040 \nQ 2066 3103 1784 3103 \nQ 1356 3103 1142 2972 \nQ 928 2841 928 2578 \nQ 928 2378 1081 2264 \nQ 1234 2150 1697 2047 \nL 1894 2003 \nQ 2506 1872 2764 1633 \nQ 3022 1394 3022 966 \nQ 3022 478 2636 193 \nQ 2250 -91 1575 -91 \nQ 1294 -91 989 -36 \nQ 684 19 347 128 \nL 347 722 \nQ 666 556 975 473 \nQ 1284 391 1588 391 \nQ 1994 391 2212 530 \nQ 2431 669 2431 922 \nQ 2431 1156 2273 1281 \nQ 2116 1406 1581 1522 \nL 1381 1569 \nQ 847 1681 609 1914 \nQ 372 2147 372 2553 \nQ 372 3047 722 3315 \nQ 1072 3584 1716 3584 \nQ 2034 3584 2315 3537 \nQ 2597 3491 2834 3397 \nz\n\" transform=\"scale(0.015625)\"/>\n       <path id=\"DejaVuSans-70\" d=\"M 1159 525 \nL 1159 -1331 \nL 581 -1331 \nL 581 3500 \nL 1159 3500 \nL 1159 2969 \nQ 1341 3281 1617 3432 \nQ 1894 3584 2278 3584 \nQ 2916 3584 3314 3078 \nQ 3713 2572 3713 1747 \nQ 3713 922 3314 415 \nQ 2916 -91 2278 -91 \nQ 1894 -91 1617 61 \nQ 1341 213 1159 525 \nz\nM 3116 1747 \nQ 3116 2381 2855 2742 \nQ 2594 3103 2138 3103 \nQ 1681 3103 1420 2742 \nQ 1159 2381 1159 1747 \nQ 1159 1113 1420 752 \nQ 1681 391 2138 391 \nQ 2594 391 2855 752 \nQ 3116 1113 3116 1747 \nz\n\" transform=\"scale(0.015625)\"/>\n       <path id=\"DejaVuSans-72\" d=\"M 2631 2963 \nQ 2534 3019 2420 3045 \nQ 2306 3072 2169 3072 \nQ 1681 3072 1420 2755 \nQ 1159 2438 1159 1844 \nL 1159 0 \nL 581 0 \nL 581 3500 \nL 1159 3500 \nL 1159 2956 \nQ 1341 3275 1631 3429 \nQ 1922 3584 2338 3584 \nQ 2397 3584 2469 3576 \nQ 2541 3569 2628 3553 \nL 2631 2963 \nz\n\" transform=\"scale(0.015625)\"/>\n       <path id=\"DejaVuSans-76\" d=\"M 191 3500 \nL 800 3500 \nL 1894 563 \nL 2988 3500 \nL 3597 3500 \nL 2284 0 \nL 1503 0 \nL 191 3500 \nz\n\" transform=\"scale(0.015625)\"/>\n       <path id=\"DejaVuSans-69\" d=\"M 603 3500 \nL 1178 3500 \nL 1178 0 \nL 603 0 \nL 603 3500 \nz\nM 603 4863 \nL 1178 4863 \nL 1178 4134 \nL 603 4134 \nL 603 4863 \nz\n\" transform=\"scale(0.015625)\"/>\n       <path id=\"DejaVuSans-77\" d=\"M 269 3500 \nL 844 3500 \nL 1563 769 \nL 2278 3500 \nL 2956 3500 \nL 3675 769 \nL 4391 3500 \nL 4966 3500 \nL 4050 0 \nL 3372 0 \nL 2619 2869 \nL 1863 0 \nL 1184 0 \nL 269 3500 \nz\n\" transform=\"scale(0.015625)\"/>\n      </defs>\n      <use xlink:href=\"#DejaVuSans-23\"/>\n      <use xlink:href=\"#DejaVuSans-20\" transform=\"translate(83.789062 0)\"/>\n      <use xlink:href=\"#DejaVuSans-74\" transform=\"translate(115.576172 0)\"/>\n      <use xlink:href=\"#DejaVuSans-6f\" transform=\"translate(154.785156 0)\"/>\n      <use xlink:href=\"#DejaVuSans-6b\" transform=\"translate(215.966797 0)\"/>\n      <use xlink:href=\"#DejaVuSans-65\" transform=\"translate(270.251953 0)\"/>\n      <use xlink:href=\"#DejaVuSans-6e\" transform=\"translate(331.775391 0)\"/>\n      <use xlink:href=\"#DejaVuSans-73\" transform=\"translate(395.154297 0)\"/>\n      <use xlink:href=\"#DejaVuSans-20\" transform=\"translate(447.253906 0)\"/>\n      <use xlink:href=\"#DejaVuSans-70\" transform=\"translate(479.041016 0)\"/>\n      <use xlink:href=\"#DejaVuSans-65\" transform=\"translate(542.517578 0)\"/>\n      <use xlink:href=\"#DejaVuSans-72\" transform=\"translate(604.041016 0)\"/>\n      <use xlink:href=\"#DejaVuSans-20\" transform=\"translate(645.154297 0)\"/>\n      <use xlink:href=\"#DejaVuSans-72\" transform=\"translate(676.941406 0)\"/>\n      <use xlink:href=\"#DejaVuSans-65\" transform=\"translate(715.804688 0)\"/>\n      <use xlink:href=\"#DejaVuSans-76\" transform=\"translate(777.328125 0)\"/>\n      <use xlink:href=\"#DejaVuSans-69\" transform=\"translate(836.507812 0)\"/>\n      <use xlink:href=\"#DejaVuSans-65\" transform=\"translate(864.291016 0)\"/>\n      <use xlink:href=\"#DejaVuSans-77\" transform=\"translate(925.814453 0)\"/>\n     </g>\n    </g>\n   </g>\n   <g id=\"matplotlib.axis_2\">\n    <g id=\"ytick_1\">\n     <g id=\"line2d_6\">\n      <defs>\n       <path id=\"m597a07892d\" d=\"M 0 0 \nL -3.5 0 \n\" style=\"stroke: #000000; stroke-width: 0.8\"/>\n      </defs>\n      <g>\n       <use xlink:href=\"#m597a07892d\" x=\"53.328125\" y=\"145.8\" style=\"stroke: #000000; stroke-width: 0.8\"/>\n      </g>\n     </g>\n     <g id=\"text_7\">\n      <!-- 0 -->\n      <g transform=\"translate(39.965625 149.599219) scale(0.1 -0.1)\">\n       <use xlink:href=\"#DejaVuSans-30\"/>\n      </g>\n     </g>\n    </g>\n    <g id=\"ytick_2\">\n     <g id=\"line2d_7\">\n      <g>\n       <use xlink:href=\"#m597a07892d\" x=\"53.328125\" y=\"107.090323\" style=\"stroke: #000000; stroke-width: 0.8\"/>\n      </g>\n     </g>\n     <g id=\"text_8\">\n      <!-- 2000 -->\n      <g transform=\"translate(20.878125 110.889541) scale(0.1 -0.1)\">\n       <use xlink:href=\"#DejaVuSans-32\"/>\n       <use xlink:href=\"#DejaVuSans-30\" transform=\"translate(63.623047 0)\"/>\n       <use xlink:href=\"#DejaVuSans-30\" transform=\"translate(127.246094 0)\"/>\n       <use xlink:href=\"#DejaVuSans-30\" transform=\"translate(190.869141 0)\"/>\n      </g>\n     </g>\n    </g>\n    <g id=\"ytick_3\">\n     <g id=\"line2d_8\">\n      <g>\n       <use xlink:href=\"#m597a07892d\" x=\"53.328125\" y=\"68.380645\" style=\"stroke: #000000; stroke-width: 0.8\"/>\n      </g>\n     </g>\n     <g id=\"text_9\">\n      <!-- 4000 -->\n      <g transform=\"translate(20.878125 72.179864) scale(0.1 -0.1)\">\n       <use xlink:href=\"#DejaVuSans-34\"/>\n       <use xlink:href=\"#DejaVuSans-30\" transform=\"translate(63.623047 0)\"/>\n       <use xlink:href=\"#DejaVuSans-30\" transform=\"translate(127.246094 0)\"/>\n       <use xlink:href=\"#DejaVuSans-30\" transform=\"translate(190.869141 0)\"/>\n      </g>\n     </g>\n    </g>\n    <g id=\"ytick_4\">\n     <g id=\"line2d_9\">\n      <g>\n       <use xlink:href=\"#m597a07892d\" x=\"53.328125\" y=\"29.670968\" style=\"stroke: #000000; stroke-width: 0.8\"/>\n      </g>\n     </g>\n     <g id=\"text_10\">\n      <!-- 6000 -->\n      <g transform=\"translate(20.878125 33.470186) scale(0.1 -0.1)\">\n       <use xlink:href=\"#DejaVuSans-36\"/>\n       <use xlink:href=\"#DejaVuSans-30\" transform=\"translate(63.623047 0)\"/>\n       <use xlink:href=\"#DejaVuSans-30\" transform=\"translate(127.246094 0)\"/>\n       <use xlink:href=\"#DejaVuSans-30\" transform=\"translate(190.869141 0)\"/>\n      </g>\n     </g>\n    </g>\n    <g id=\"text_11\">\n     <!-- count -->\n     <g transform=\"translate(14.798437 90.60625) rotate(-90) scale(0.1 -0.1)\">\n      <defs>\n       <path id=\"DejaVuSans-63\" d=\"M 3122 3366 \nL 3122 2828 \nQ 2878 2963 2633 3030 \nQ 2388 3097 2138 3097 \nQ 1578 3097 1268 2742 \nQ 959 2388 959 1747 \nQ 959 1106 1268 751 \nQ 1578 397 2138 397 \nQ 2388 397 2633 464 \nQ 2878 531 3122 666 \nL 3122 134 \nQ 2881 22 2623 -34 \nQ 2366 -91 2075 -91 \nQ 1284 -91 818 406 \nQ 353 903 353 1747 \nQ 353 2603 823 3093 \nQ 1294 3584 2113 3584 \nQ 2378 3584 2631 3529 \nQ 2884 3475 3122 3366 \nz\n\" transform=\"scale(0.015625)\"/>\n       <path id=\"DejaVuSans-75\" d=\"M 544 1381 \nL 544 3500 \nL 1119 3500 \nL 1119 1403 \nQ 1119 906 1312 657 \nQ 1506 409 1894 409 \nQ 2359 409 2629 706 \nQ 2900 1003 2900 1516 \nL 2900 3500 \nL 3475 3500 \nL 3475 0 \nL 2900 0 \nL 2900 538 \nQ 2691 219 2414 64 \nQ 2138 -91 1772 -91 \nQ 1169 -91 856 284 \nQ 544 659 544 1381 \nz\nM 1991 3584 \nL 1991 3584 \nz\n\" transform=\"scale(0.015625)\"/>\n      </defs>\n      <use xlink:href=\"#DejaVuSans-63\"/>\n      <use xlink:href=\"#DejaVuSans-6f\" transform=\"translate(54.980469 0)\"/>\n      <use xlink:href=\"#DejaVuSans-75\" transform=\"translate(116.162109 0)\"/>\n      <use xlink:href=\"#DejaVuSans-6e\" transform=\"translate(179.541016 0)\"/>\n      <use xlink:href=\"#DejaVuSans-74\" transform=\"translate(242.919922 0)\"/>\n     </g>\n    </g>\n   </g>\n   <g id=\"patch_22\">\n    <path d=\"M 53.328125 145.8 \nL 53.328125 7.2 \n\" style=\"fill: none; stroke: #000000; stroke-width: 0.8; stroke-linejoin: miter; stroke-linecap: square\"/>\n   </g>\n   <g id=\"patch_23\">\n    <path d=\"M 248.628125 145.8 \nL 248.628125 7.2 \n\" style=\"fill: none; stroke: #000000; stroke-width: 0.8; stroke-linejoin: miter; stroke-linecap: square\"/>\n   </g>\n   <g id=\"patch_24\">\n    <path d=\"M 53.328125 145.8 \nL 248.628125 145.8 \n\" style=\"fill: none; stroke: #000000; stroke-width: 0.8; stroke-linejoin: miter; stroke-linecap: square\"/>\n   </g>\n   <g id=\"patch_25\">\n    <path d=\"M 53.328125 7.2 \nL 248.628125 7.2 \n\" style=\"fill: none; stroke: #000000; stroke-width: 0.8; stroke-linejoin: miter; stroke-linecap: square\"/>\n   </g>\n  </g>\n </g>\n <defs>\n  <clipPath id=\"p1414d04147\">\n   <rect x=\"53.328125\" y=\"7.2\" width=\"195.3\" height=\"138.6\"/>\n  </clipPath>\n </defs>\n</svg>\n"
          },
          "metadata": {}
        }
      ],
      "source": [
        "d2l.set_figsize()\n",
        "d2l.plt.xlabel('# tokens per review')\n",
        "d2l.plt.ylabel('count')\n",
        "d2l.plt.hist([len(line) for line in train_tokens], bins=range(0, 1000, 50));"
      ]
    },
    {
      "cell_type": "markdown",
      "id": "4b5faa2c",
      "metadata": {
        "origin_pos": 12,
        "id": "4b5faa2c"
      },
      "source": [
        "正如我们所料，评论的长度各不相同。为了每次处理一小批量这样的评论，我们通过截断和填充将每个评论的长度设置为500。这类似于 :numref:`sec_machine_translation`中对机器翻译数据集的预处理步骤。\n"
      ]
    },
    {
      "cell_type": "code",
      "execution_count": 11,
      "id": "2d5d1601",
      "metadata": {
        "execution": {
          "iopub.execute_input": "2023-08-18T07:04:46.667504Z",
          "iopub.status.busy": "2023-08-18T07:04:46.666759Z",
          "iopub.status.idle": "2023-08-18T07:04:53.619587Z",
          "shell.execute_reply": "2023-08-18T07:04:53.618556Z"
        },
        "origin_pos": 13,
        "tab": [
          "pytorch"
        ],
        "id": "2d5d1601",
        "outputId": "9c38e49b-2a9b-4463-a2eb-c9f854aa993f",
        "colab": {
          "base_uri": "https://localhost:8080/"
        }
      },
      "outputs": [
        {
          "output_type": "stream",
          "name": "stdout",
          "text": [
            "torch.Size([25000, 500])\n"
          ]
        }
      ],
      "source": [
        "num_steps = 500  # 序列长度\n",
        "train_features = torch.tensor([d2l.truncate_pad(\n",
        "    vocab[line], num_steps, vocab['<pad>']) for line in train_tokens])\n",
        "print(train_features.shape)"
      ]
    },
    {
      "cell_type": "markdown",
      "id": "dca33759",
      "metadata": {
        "origin_pos": 14,
        "id": "dca33759"
      },
      "source": [
        "## 创建数据迭代器\n",
        "\n",
        "现在我们可以创建数据迭代器了。在每次迭代中，都会返回一小批量样本。\n"
      ]
    },
    {
      "cell_type": "code",
      "execution_count": 12,
      "id": "454154e6",
      "metadata": {
        "execution": {
          "iopub.execute_input": "2023-08-18T07:04:53.625971Z",
          "iopub.status.busy": "2023-08-18T07:04:53.624962Z",
          "iopub.status.idle": "2023-08-18T07:04:53.662071Z",
          "shell.execute_reply": "2023-08-18T07:04:53.660909Z"
        },
        "origin_pos": 16,
        "tab": [
          "pytorch"
        ],
        "id": "454154e6",
        "outputId": "034a0bc6-fb78-4def-d1ab-3801ccc55c40",
        "colab": {
          "base_uri": "https://localhost:8080/"
        }
      },
      "outputs": [
        {
          "output_type": "stream",
          "name": "stdout",
          "text": [
            "X: torch.Size([64, 500]) , y: torch.Size([64])\n",
            "小批量数目： 391\n"
          ]
        }
      ],
      "source": [
        "train_iter = d2l.load_array((train_features,torch.tensor(train_data[1])), 64)\n",
        "\n",
        "for X, y in train_iter:\n",
        "    print('X:', X.shape, ', y:', y.shape)\n",
        "    break\n",
        "print('小批量数目：', len(train_iter))"
      ]
    },
    {
      "cell_type": "markdown",
      "id": "42b492d4",
      "metadata": {
        "origin_pos": 18,
        "id": "42b492d4"
      },
      "source": [
        "## 整合代码\n",
        "\n",
        "最后，我们将上述步骤封装到`load_data_imdb`函数中。它返回训练和测试数据迭代器以及IMDb评论数据集的词表。\n"
      ]
    },
    {
      "cell_type": "code",
      "execution_count": 13,
      "id": "8dd551a9",
      "metadata": {
        "execution": {
          "iopub.execute_input": "2023-08-18T07:04:53.666983Z",
          "iopub.status.busy": "2023-08-18T07:04:53.666388Z",
          "iopub.status.idle": "2023-08-18T07:04:53.677743Z",
          "shell.execute_reply": "2023-08-18T07:04:53.676460Z"
        },
        "origin_pos": 20,
        "tab": [
          "pytorch"
        ],
        "id": "8dd551a9"
      },
      "outputs": [],
      "source": [
        "def load_data_imdb(batch_size, num_steps=500):\n",
        "    \"\"\"返回数据迭代器和IMDb评论数据集的词表\"\"\"\n",
        "    data_dir = d2l.download_extract('aclImdb', 'aclImdb')\n",
        "    train_data = read_imdb(data_dir, True)\n",
        "    test_data = read_imdb(data_dir, False)\n",
        "    train_tokens = d2l.tokenize(train_data[0], token='word')\n",
        "    test_tokens = d2l.tokenize(test_data[0], token='word')\n",
        "    vocab = d2l.Vocab(train_tokens, min_freq=5)\n",
        "    train_features = torch.tensor([d2l.truncate_pad(\n",
        "        vocab[line], num_steps, vocab['<pad>']) for line in train_tokens])\n",
        "    test_features = torch.tensor([d2l.truncate_pad(\n",
        "        vocab[line], num_steps, vocab['<pad>']) for line in test_tokens])\n",
        "    train_iter = d2l.load_array((train_features, torch.tensor(train_data[1])), batch_size)\n",
        "    test_iter = d2l.load_array((test_features, torch.tensor(test_data[1])),  batch_size,  is_train=False)\n",
        "    return train_iter, test_iter, vocab"
      ]
    },
    {
      "cell_type": "code",
      "source": [
        "import torch\n",
        "from torch import nn\n",
        "from d2l import torch as d2l\n",
        "\n",
        "batch_size = 64\n",
        "train_iter, test_iter, vocab = d2l.load_data_imdb(batch_size)\n",
        "glove_embedding = d2l.TokenEmbedding('glove.6b.100d')\n",
        "embeds = glove_embedding[vocab.idx_to_token]"
      ],
      "metadata": {
        "id": "__biQUus3_st",
        "outputId": "8c58e8b7-a6d8-4b4c-8bed-829b9ab3f9de",
        "colab": {
          "base_uri": "https://localhost:8080/"
        }
      },
      "id": "__biQUus3_st",
      "execution_count": 14,
      "outputs": [
        {
          "output_type": "stream",
          "name": "stdout",
          "text": [
            "Downloading ../data/glove.6B.100d.zip from http://d2l-data.s3-accelerate.amazonaws.com/glove.6B.100d.zip...\n"
          ]
        }
      ]
    },
    {
      "cell_type": "markdown",
      "source": [
        "在文本分类任务（如情感分析）中，可变长度的文本序列将被转换为固定长度的类别。在下面的BiRNN类中，虽然文本序列的每个词元经由嵌入层（self.embedding）获得其单独的预训练GloVe表示，但是整个序列由双向循环神经网络（self.encoder）编码。更具体地说，双向长短期记忆网络在初始和最终时间步的隐状态（在最后一层）被连结起来作为文本序列的表示。然后，通过一个具有两个输出（“积极”和“消极”）的全连接层（self.decoder），将此单一文本表示转换为输出类别。"
      ],
      "metadata": {
        "id": "BnQNpSPW4YG9"
      },
      "id": "BnQNpSPW4YG9"
    },
    {
      "cell_type": "code",
      "source": [
        "class BiRNN(nn.Module):\n",
        "    def __init__(self, vocab_size, embed_size, num_hiddens,\n",
        "                 num_layers, **kwargs):\n",
        "        super(BiRNN, self).__init__(**kwargs)\n",
        "        self.embedding = nn.Embedding(vocab_size, embed_size)\n",
        "        # 将bidirectional设置为True以获取双向循环神经网络\n",
        "        self.encoder = nn.LSTM(embed_size, num_hiddens, num_layers=num_layers,\n",
        "                                bidirectional=True)\n",
        "        self.decoder = nn.Linear(4 * num_hiddens, 2)\n",
        "\n",
        "    def forward(self, inputs):\n",
        "        # inputs的形状是（批量大小，时间步数）\n",
        "        # 因为长短期记忆网络要求其输入的第一个维度是时间维，\n",
        "        # 所以在获得词元表示之前，输入会被转置。\n",
        "        # 输出形状为（时间步数，批量大小，词向量维度）\n",
        "        embeddings = self.embedding(inputs.T)\n",
        "        self.encoder.flatten_parameters()\n",
        "        # 返回上一个隐藏层在不同时间步的隐状态，\n",
        "        # outputs的形状是（时间步数，批量大小，2*隐藏单元数）\n",
        "        outputs, _ = self.encoder(embeddings)\n",
        "        # 连结初始和最终时间步的隐状态，作为全连接层的输入，\n",
        "        # 其形状为（批量大小，4*隐藏单元数）\n",
        "        encoding = torch.cat((outputs[0], outputs[-1]), dim=1)\n",
        "        outs = self.decoder(encoding)\n",
        "        return outs"
      ],
      "metadata": {
        "id": "2l7uS1x64bJN"
      },
      "id": "2l7uS1x64bJN",
      "execution_count": 15,
      "outputs": []
    },
    {
      "cell_type": "code",
      "source": [
        "def train_batch_ch13(net, X, y, loss, trainer, devices):\n",
        "    \"\"\"用多GPU进行小批量训练\"\"\"\n",
        "    if isinstance(X, list):\n",
        "        # 微调BERT中所需\n",
        "        X = [x.to(devices[0]) for x in X]\n",
        "    else:\n",
        "        X = X.to(devices[0])\n",
        "    y = y.to(devices[0])\n",
        "    net.train()\n",
        "    trainer.zero_grad()\n",
        "    pred = net(X)\n",
        "    l = loss(pred, y)\n",
        "    l.sum().backward()\n",
        "    trainer.step()\n",
        "    train_loss_sum = l.sum()\n",
        "    train_acc_sum = d2l.accuracy(pred, y)\n",
        "    return train_loss_sum, train_acc_sum\n",
        "\n",
        "def train_ch13(net, train_iter, test_iter, loss, trainer, num_epochs,devices=d2l.try_all_gpus()):\n",
        "    \"\"\"用多GPU进行模型训练\"\"\"\n",
        "    timer, num_batches = d2l.Timer(), len(train_iter)\n",
        "    animator = d2l.Animator(xlabel='epoch', xlim=[1, num_epochs], ylim=[0, 1], legend=['train loss', 'train acc', 'test acc'])\n",
        "    net = nn.DataParallel(net, device_ids=devices).to(devices[0])\n",
        "    for epoch in range(num_epochs):\n",
        "        # 4个维度：储存训练损失，训练准确度，实例数，特点数\n",
        "        metric = d2l.Accumulator(4)\n",
        "        for i, (features, labels) in enumerate(train_iter):\n",
        "            timer.start()\n",
        "            l, acc = train_batch_ch13(\n",
        "                net, features, labels, loss, trainer, devices)\n",
        "            metric.add(l, acc, labels.shape[0], labels.numel())\n",
        "            timer.stop()\n",
        "            if (i + 1) % (num_batches // 5) == 0 or i == num_batches - 1:\n",
        "                animator.add(epoch + (i + 1) / num_batches, (metric[0] / metric[2], metric[1] / metric[3], None))\n",
        "        test_acc = d2l.evaluate_accuracy_gpu(net, test_iter)\n",
        "        animator.add(epoch + 1, (None, None, test_acc))\n",
        "    print(f'loss {metric[0] / metric[2]:.3f}, train acc '\n",
        "          f'{metric[1] / metric[3]:.3f}, test acc {test_acc:.3f}')\n",
        "    print(f'{metric[2] * num_epochs / timer.sum():.1f} examples/sec on '\n",
        "          f'{str(devices)}')"
      ],
      "metadata": {
        "id": "R5Oqx4QyKEUX"
      },
      "id": "R5Oqx4QyKEUX",
      "execution_count": 16,
      "outputs": []
    },
    {
      "cell_type": "code",
      "source": [
        "# net = BiRNN(len(vocab), embed_size=100,num_hiddens=100,num_layers=2)\n",
        "# def init_weights(m):\n",
        "#     if type(m) == nn.Linear:\n",
        "#         nn.init.xavier_uniform_(m.weight)\n",
        "#     if type(m) == nn.LSTM:\n",
        "#         for param in m._flat_weights_names:\n",
        "#             if \"weight\" in param:\n",
        "#                 nn.init.xavier_uniform_(m._parameters[param])\n",
        "# net.apply(init_weights);\n",
        "\n",
        "\n",
        "# print(embeds.shape)\n",
        "# #我们使用这些预训练的词向量来表示评论中的词元，并且在训练期间不要更新这些向量。\n",
        "# net.embedding.weight.data.copy_(embeds)\n",
        "# net.embedding.weight.requires_grad = False\n",
        "# lr, num_epochs = 0.01, 10\n",
        "# trainer = torch.optim.Adam(net.parameters(), lr=lr)\n",
        "# loss = nn.CrossEntropyLoss(reduction=\"none\")\n",
        "# devices = d2l.try_all_gpus()\n",
        "# train_ch13(net, train_iter, test_iter, loss, trainer, num_epochs,devices)\n"
      ],
      "metadata": {
        "id": "jWJHu8PbKSBq",
        "outputId": "b3c58416-a98e-4a56-f999-67b861878e66",
        "colab": {
          "base_uri": "https://localhost:8080/",
          "height": 306
        }
      },
      "id": "jWJHu8PbKSBq",
      "execution_count": 17,
      "outputs": [
        {
          "output_type": "stream",
          "name": "stdout",
          "text": [
            "loss 0.211, train acc 0.919, test acc 0.855\n",
            "1267.6 examples/sec on [device(type='cuda', index=0)]\n"
          ]
        },
        {
          "output_type": "display_data",
          "data": {
            "text/plain": [
              "<Figure size 350x250 with 1 Axes>"
            ],
            "image/svg+xml": "<?xml version=\"1.0\" encoding=\"utf-8\" standalone=\"no\"?>\n<!DOCTYPE svg PUBLIC \"-//W3C//DTD SVG 1.1//EN\"\n  \"http://www.w3.org/Graphics/SVG/1.1/DTD/svg11.dtd\">\n<svg xmlns:xlink=\"http://www.w3.org/1999/xlink\" width=\"238.965625pt\" height=\"187.155469pt\" viewBox=\"0 0 238.965625 187.155469\" xmlns=\"http://www.w3.org/2000/svg\" version=\"1.1\">\n <metadata>\n  <rdf:RDF xmlns:dc=\"http://purl.org/dc/elements/1.1/\" xmlns:cc=\"http://creativecommons.org/ns#\" xmlns:rdf=\"http://www.w3.org/1999/02/22-rdf-syntax-ns#\">\n   <cc:Work>\n    <dc:type rdf:resource=\"http://purl.org/dc/dcmitype/StillImage\"/>\n    <dc:date>2025-10-03T13:02:26.872998</dc:date>\n    <dc:format>image/svg+xml</dc:format>\n    <dc:creator>\n     <cc:Agent>\n      <dc:title>Matplotlib v3.10.0, https://matplotlib.org/</dc:title>\n     </cc:Agent>\n    </dc:creator>\n   </cc:Work>\n  </rdf:RDF>\n </metadata>\n <defs>\n  <style type=\"text/css\">*{stroke-linejoin: round; stroke-linecap: butt}</style>\n </defs>\n <g id=\"figure_1\">\n  <g id=\"patch_1\">\n   <path d=\"M 0 187.155469 \nL 238.965625 187.155469 \nL 238.965625 0 \nL 0 0 \nz\n\" style=\"fill: #ffffff\"/>\n  </g>\n  <g id=\"axes_1\">\n   <g id=\"patch_2\">\n    <path d=\"M 30.103125 149.599219 \nL 225.403125 149.599219 \nL 225.403125 10.999219 \nL 30.103125 10.999219 \nz\n\" style=\"fill: #ffffff\"/>\n   </g>\n   <g id=\"matplotlib.axis_1\">\n    <g id=\"xtick_1\">\n     <g id=\"line2d_1\">\n      <path d=\"M 51.803125 149.599219 \nL 51.803125 10.999219 \n\" clip-path=\"url(#pb319265204)\" style=\"fill: none; stroke: #b0b0b0; stroke-width: 0.8; stroke-linecap: square\"/>\n     </g>\n     <g id=\"line2d_2\">\n      <defs>\n       <path id=\"mef9e8a26b8\" d=\"M 0 0 \nL 0 3.5 \n\" style=\"stroke: #000000; stroke-width: 0.8\"/>\n      </defs>\n      <g>\n       <use xlink:href=\"#mef9e8a26b8\" x=\"51.803125\" y=\"149.599219\" style=\"stroke: #000000; stroke-width: 0.8\"/>\n      </g>\n     </g>\n     <g id=\"text_1\">\n      <!-- 2 -->\n      <g transform=\"translate(48.621875 164.197656) scale(0.1 -0.1)\">\n       <defs>\n        <path id=\"DejaVuSans-32\" d=\"M 1228 531 \nL 3431 531 \nL 3431 0 \nL 469 0 \nL 469 531 \nQ 828 903 1448 1529 \nQ 2069 2156 2228 2338 \nQ 2531 2678 2651 2914 \nQ 2772 3150 2772 3378 \nQ 2772 3750 2511 3984 \nQ 2250 4219 1831 4219 \nQ 1534 4219 1204 4116 \nQ 875 4013 500 3803 \nL 500 4441 \nQ 881 4594 1212 4672 \nQ 1544 4750 1819 4750 \nQ 2544 4750 2975 4387 \nQ 3406 4025 3406 3419 \nQ 3406 3131 3298 2873 \nQ 3191 2616 2906 2266 \nQ 2828 2175 2409 1742 \nQ 1991 1309 1228 531 \nz\n\" transform=\"scale(0.015625)\"/>\n       </defs>\n       <use xlink:href=\"#DejaVuSans-32\"/>\n      </g>\n     </g>\n    </g>\n    <g id=\"xtick_2\">\n     <g id=\"line2d_3\">\n      <path d=\"M 95.203125 149.599219 \nL 95.203125 10.999219 \n\" clip-path=\"url(#pb319265204)\" style=\"fill: none; stroke: #b0b0b0; stroke-width: 0.8; stroke-linecap: square\"/>\n     </g>\n     <g id=\"line2d_4\">\n      <g>\n       <use xlink:href=\"#mef9e8a26b8\" x=\"95.203125\" y=\"149.599219\" style=\"stroke: #000000; stroke-width: 0.8\"/>\n      </g>\n     </g>\n     <g id=\"text_2\">\n      <!-- 4 -->\n      <g transform=\"translate(92.021875 164.197656) scale(0.1 -0.1)\">\n       <defs>\n        <path id=\"DejaVuSans-34\" d=\"M 2419 4116 \nL 825 1625 \nL 2419 1625 \nL 2419 4116 \nz\nM 2253 4666 \nL 3047 4666 \nL 3047 1625 \nL 3713 1625 \nL 3713 1100 \nL 3047 1100 \nL 3047 0 \nL 2419 0 \nL 2419 1100 \nL 313 1100 \nL 313 1709 \nL 2253 4666 \nz\n\" transform=\"scale(0.015625)\"/>\n       </defs>\n       <use xlink:href=\"#DejaVuSans-34\"/>\n      </g>\n     </g>\n    </g>\n    <g id=\"xtick_3\">\n     <g id=\"line2d_5\">\n      <path d=\"M 138.603125 149.599219 \nL 138.603125 10.999219 \n\" clip-path=\"url(#pb319265204)\" style=\"fill: none; stroke: #b0b0b0; stroke-width: 0.8; stroke-linecap: square\"/>\n     </g>\n     <g id=\"line2d_6\">\n      <g>\n       <use xlink:href=\"#mef9e8a26b8\" x=\"138.603125\" y=\"149.599219\" style=\"stroke: #000000; stroke-width: 0.8\"/>\n      </g>\n     </g>\n     <g id=\"text_3\">\n      <!-- 6 -->\n      <g transform=\"translate(135.421875 164.197656) scale(0.1 -0.1)\">\n       <defs>\n        <path id=\"DejaVuSans-36\" d=\"M 2113 2584 \nQ 1688 2584 1439 2293 \nQ 1191 2003 1191 1497 \nQ 1191 994 1439 701 \nQ 1688 409 2113 409 \nQ 2538 409 2786 701 \nQ 3034 994 3034 1497 \nQ 3034 2003 2786 2293 \nQ 2538 2584 2113 2584 \nz\nM 3366 4563 \nL 3366 3988 \nQ 3128 4100 2886 4159 \nQ 2644 4219 2406 4219 \nQ 1781 4219 1451 3797 \nQ 1122 3375 1075 2522 \nQ 1259 2794 1537 2939 \nQ 1816 3084 2150 3084 \nQ 2853 3084 3261 2657 \nQ 3669 2231 3669 1497 \nQ 3669 778 3244 343 \nQ 2819 -91 2113 -91 \nQ 1303 -91 875 529 \nQ 447 1150 447 2328 \nQ 447 3434 972 4092 \nQ 1497 4750 2381 4750 \nQ 2619 4750 2861 4703 \nQ 3103 4656 3366 4563 \nz\n\" transform=\"scale(0.015625)\"/>\n       </defs>\n       <use xlink:href=\"#DejaVuSans-36\"/>\n      </g>\n     </g>\n    </g>\n    <g id=\"xtick_4\">\n     <g id=\"line2d_7\">\n      <path d=\"M 182.003125 149.599219 \nL 182.003125 10.999219 \n\" clip-path=\"url(#pb319265204)\" style=\"fill: none; stroke: #b0b0b0; stroke-width: 0.8; stroke-linecap: square\"/>\n     </g>\n     <g id=\"line2d_8\">\n      <g>\n       <use xlink:href=\"#mef9e8a26b8\" x=\"182.003125\" y=\"149.599219\" style=\"stroke: #000000; stroke-width: 0.8\"/>\n      </g>\n     </g>\n     <g id=\"text_4\">\n      <!-- 8 -->\n      <g transform=\"translate(178.821875 164.197656) scale(0.1 -0.1)\">\n       <defs>\n        <path id=\"DejaVuSans-38\" d=\"M 2034 2216 \nQ 1584 2216 1326 1975 \nQ 1069 1734 1069 1313 \nQ 1069 891 1326 650 \nQ 1584 409 2034 409 \nQ 2484 409 2743 651 \nQ 3003 894 3003 1313 \nQ 3003 1734 2745 1975 \nQ 2488 2216 2034 2216 \nz\nM 1403 2484 \nQ 997 2584 770 2862 \nQ 544 3141 544 3541 \nQ 544 4100 942 4425 \nQ 1341 4750 2034 4750 \nQ 2731 4750 3128 4425 \nQ 3525 4100 3525 3541 \nQ 3525 3141 3298 2862 \nQ 3072 2584 2669 2484 \nQ 3125 2378 3379 2068 \nQ 3634 1759 3634 1313 \nQ 3634 634 3220 271 \nQ 2806 -91 2034 -91 \nQ 1263 -91 848 271 \nQ 434 634 434 1313 \nQ 434 1759 690 2068 \nQ 947 2378 1403 2484 \nz\nM 1172 3481 \nQ 1172 3119 1398 2916 \nQ 1625 2713 2034 2713 \nQ 2441 2713 2670 2916 \nQ 2900 3119 2900 3481 \nQ 2900 3844 2670 4047 \nQ 2441 4250 2034 4250 \nQ 1625 4250 1398 4047 \nQ 1172 3844 1172 3481 \nz\n\" transform=\"scale(0.015625)\"/>\n       </defs>\n       <use xlink:href=\"#DejaVuSans-38\"/>\n      </g>\n     </g>\n    </g>\n    <g id=\"xtick_5\">\n     <g id=\"line2d_9\">\n      <path d=\"M 225.403125 149.599219 \nL 225.403125 10.999219 \n\" clip-path=\"url(#pb319265204)\" style=\"fill: none; stroke: #b0b0b0; stroke-width: 0.8; stroke-linecap: square\"/>\n     </g>\n     <g id=\"line2d_10\">\n      <g>\n       <use xlink:href=\"#mef9e8a26b8\" x=\"225.403125\" y=\"149.599219\" style=\"stroke: #000000; stroke-width: 0.8\"/>\n      </g>\n     </g>\n     <g id=\"text_5\">\n      <!-- 10 -->\n      <g transform=\"translate(219.040625 164.197656) scale(0.1 -0.1)\">\n       <defs>\n        <path id=\"DejaVuSans-31\" d=\"M 794 531 \nL 1825 531 \nL 1825 4091 \nL 703 3866 \nL 703 4441 \nL 1819 4666 \nL 2450 4666 \nL 2450 531 \nL 3481 531 \nL 3481 0 \nL 794 0 \nL 794 531 \nz\n\" transform=\"scale(0.015625)\"/>\n        <path id=\"DejaVuSans-30\" d=\"M 2034 4250 \nQ 1547 4250 1301 3770 \nQ 1056 3291 1056 2328 \nQ 1056 1369 1301 889 \nQ 1547 409 2034 409 \nQ 2525 409 2770 889 \nQ 3016 1369 3016 2328 \nQ 3016 3291 2770 3770 \nQ 2525 4250 2034 4250 \nz\nM 2034 4750 \nQ 2819 4750 3233 4129 \nQ 3647 3509 3647 2328 \nQ 3647 1150 3233 529 \nQ 2819 -91 2034 -91 \nQ 1250 -91 836 529 \nQ 422 1150 422 2328 \nQ 422 3509 836 4129 \nQ 1250 4750 2034 4750 \nz\n\" transform=\"scale(0.015625)\"/>\n       </defs>\n       <use xlink:href=\"#DejaVuSans-31\"/>\n       <use xlink:href=\"#DejaVuSans-30\" transform=\"translate(63.623047 0)\"/>\n      </g>\n     </g>\n    </g>\n    <g id=\"text_6\">\n     <!-- epoch -->\n     <g transform=\"translate(112.525 177.875781) scale(0.1 -0.1)\">\n      <defs>\n       <path id=\"DejaVuSans-65\" d=\"M 3597 1894 \nL 3597 1613 \nL 953 1613 \nQ 991 1019 1311 708 \nQ 1631 397 2203 397 \nQ 2534 397 2845 478 \nQ 3156 559 3463 722 \nL 3463 178 \nQ 3153 47 2828 -22 \nQ 2503 -91 2169 -91 \nQ 1331 -91 842 396 \nQ 353 884 353 1716 \nQ 353 2575 817 3079 \nQ 1281 3584 2069 3584 \nQ 2775 3584 3186 3129 \nQ 3597 2675 3597 1894 \nz\nM 3022 2063 \nQ 3016 2534 2758 2815 \nQ 2500 3097 2075 3097 \nQ 1594 3097 1305 2825 \nQ 1016 2553 972 2059 \nL 3022 2063 \nz\n\" transform=\"scale(0.015625)\"/>\n       <path id=\"DejaVuSans-70\" d=\"M 1159 525 \nL 1159 -1331 \nL 581 -1331 \nL 581 3500 \nL 1159 3500 \nL 1159 2969 \nQ 1341 3281 1617 3432 \nQ 1894 3584 2278 3584 \nQ 2916 3584 3314 3078 \nQ 3713 2572 3713 1747 \nQ 3713 922 3314 415 \nQ 2916 -91 2278 -91 \nQ 1894 -91 1617 61 \nQ 1341 213 1159 525 \nz\nM 3116 1747 \nQ 3116 2381 2855 2742 \nQ 2594 3103 2138 3103 \nQ 1681 3103 1420 2742 \nQ 1159 2381 1159 1747 \nQ 1159 1113 1420 752 \nQ 1681 391 2138 391 \nQ 2594 391 2855 752 \nQ 3116 1113 3116 1747 \nz\n\" transform=\"scale(0.015625)\"/>\n       <path id=\"DejaVuSans-6f\" d=\"M 1959 3097 \nQ 1497 3097 1228 2736 \nQ 959 2375 959 1747 \nQ 959 1119 1226 758 \nQ 1494 397 1959 397 \nQ 2419 397 2687 759 \nQ 2956 1122 2956 1747 \nQ 2956 2369 2687 2733 \nQ 2419 3097 1959 3097 \nz\nM 1959 3584 \nQ 2709 3584 3137 3096 \nQ 3566 2609 3566 1747 \nQ 3566 888 3137 398 \nQ 2709 -91 1959 -91 \nQ 1206 -91 779 398 \nQ 353 888 353 1747 \nQ 353 2609 779 3096 \nQ 1206 3584 1959 3584 \nz\n\" transform=\"scale(0.015625)\"/>\n       <path id=\"DejaVuSans-63\" d=\"M 3122 3366 \nL 3122 2828 \nQ 2878 2963 2633 3030 \nQ 2388 3097 2138 3097 \nQ 1578 3097 1268 2742 \nQ 959 2388 959 1747 \nQ 959 1106 1268 751 \nQ 1578 397 2138 397 \nQ 2388 397 2633 464 \nQ 2878 531 3122 666 \nL 3122 134 \nQ 2881 22 2623 -34 \nQ 2366 -91 2075 -91 \nQ 1284 -91 818 406 \nQ 353 903 353 1747 \nQ 353 2603 823 3093 \nQ 1294 3584 2113 3584 \nQ 2378 3584 2631 3529 \nQ 2884 3475 3122 3366 \nz\n\" transform=\"scale(0.015625)\"/>\n       <path id=\"DejaVuSans-68\" d=\"M 3513 2113 \nL 3513 0 \nL 2938 0 \nL 2938 2094 \nQ 2938 2591 2744 2837 \nQ 2550 3084 2163 3084 \nQ 1697 3084 1428 2787 \nQ 1159 2491 1159 1978 \nL 1159 0 \nL 581 0 \nL 581 4863 \nL 1159 4863 \nL 1159 2956 \nQ 1366 3272 1645 3428 \nQ 1925 3584 2291 3584 \nQ 2894 3584 3203 3211 \nQ 3513 2838 3513 2113 \nz\n\" transform=\"scale(0.015625)\"/>\n      </defs>\n      <use xlink:href=\"#DejaVuSans-65\"/>\n      <use xlink:href=\"#DejaVuSans-70\" transform=\"translate(61.523438 0)\"/>\n      <use xlink:href=\"#DejaVuSans-6f\" transform=\"translate(125 0)\"/>\n      <use xlink:href=\"#DejaVuSans-63\" transform=\"translate(186.181641 0)\"/>\n      <use xlink:href=\"#DejaVuSans-68\" transform=\"translate(241.162109 0)\"/>\n     </g>\n    </g>\n   </g>\n   <g id=\"matplotlib.axis_2\">\n    <g id=\"ytick_1\">\n     <g id=\"line2d_11\">\n      <path d=\"M 30.103125 149.599219 \nL 225.403125 149.599219 \n\" clip-path=\"url(#pb319265204)\" style=\"fill: none; stroke: #b0b0b0; stroke-width: 0.8; stroke-linecap: square\"/>\n     </g>\n     <g id=\"line2d_12\">\n      <defs>\n       <path id=\"ma3c27e44ec\" d=\"M 0 0 \nL -3.5 0 \n\" style=\"stroke: #000000; stroke-width: 0.8\"/>\n      </defs>\n      <g>\n       <use xlink:href=\"#ma3c27e44ec\" x=\"30.103125\" y=\"149.599219\" style=\"stroke: #000000; stroke-width: 0.8\"/>\n      </g>\n     </g>\n     <g id=\"text_7\">\n      <!-- 0.0 -->\n      <g transform=\"translate(7.2 153.398438) scale(0.1 -0.1)\">\n       <defs>\n        <path id=\"DejaVuSans-2e\" d=\"M 684 794 \nL 1344 794 \nL 1344 0 \nL 684 0 \nL 684 794 \nz\n\" transform=\"scale(0.015625)\"/>\n       </defs>\n       <use xlink:href=\"#DejaVuSans-30\"/>\n       <use xlink:href=\"#DejaVuSans-2e\" transform=\"translate(63.623047 0)\"/>\n       <use xlink:href=\"#DejaVuSans-30\" transform=\"translate(95.410156 0)\"/>\n      </g>\n     </g>\n    </g>\n    <g id=\"ytick_2\">\n     <g id=\"line2d_13\">\n      <path d=\"M 30.103125 121.879219 \nL 225.403125 121.879219 \n\" clip-path=\"url(#pb319265204)\" style=\"fill: none; stroke: #b0b0b0; stroke-width: 0.8; stroke-linecap: square\"/>\n     </g>\n     <g id=\"line2d_14\">\n      <g>\n       <use xlink:href=\"#ma3c27e44ec\" x=\"30.103125\" y=\"121.879219\" style=\"stroke: #000000; stroke-width: 0.8\"/>\n      </g>\n     </g>\n     <g id=\"text_8\">\n      <!-- 0.2 -->\n      <g transform=\"translate(7.2 125.678438) scale(0.1 -0.1)\">\n       <use xlink:href=\"#DejaVuSans-30\"/>\n       <use xlink:href=\"#DejaVuSans-2e\" transform=\"translate(63.623047 0)\"/>\n       <use xlink:href=\"#DejaVuSans-32\" transform=\"translate(95.410156 0)\"/>\n      </g>\n     </g>\n    </g>\n    <g id=\"ytick_3\">\n     <g id=\"line2d_15\">\n      <path d=\"M 30.103125 94.159219 \nL 225.403125 94.159219 \n\" clip-path=\"url(#pb319265204)\" style=\"fill: none; stroke: #b0b0b0; stroke-width: 0.8; stroke-linecap: square\"/>\n     </g>\n     <g id=\"line2d_16\">\n      <g>\n       <use xlink:href=\"#ma3c27e44ec\" x=\"30.103125\" y=\"94.159219\" style=\"stroke: #000000; stroke-width: 0.8\"/>\n      </g>\n     </g>\n     <g id=\"text_9\">\n      <!-- 0.4 -->\n      <g transform=\"translate(7.2 97.958438) scale(0.1 -0.1)\">\n       <use xlink:href=\"#DejaVuSans-30\"/>\n       <use xlink:href=\"#DejaVuSans-2e\" transform=\"translate(63.623047 0)\"/>\n       <use xlink:href=\"#DejaVuSans-34\" transform=\"translate(95.410156 0)\"/>\n      </g>\n     </g>\n    </g>\n    <g id=\"ytick_4\">\n     <g id=\"line2d_17\">\n      <path d=\"M 30.103125 66.439219 \nL 225.403125 66.439219 \n\" clip-path=\"url(#pb319265204)\" style=\"fill: none; stroke: #b0b0b0; stroke-width: 0.8; stroke-linecap: square\"/>\n     </g>\n     <g id=\"line2d_18\">\n      <g>\n       <use xlink:href=\"#ma3c27e44ec\" x=\"30.103125\" y=\"66.439219\" style=\"stroke: #000000; stroke-width: 0.8\"/>\n      </g>\n     </g>\n     <g id=\"text_10\">\n      <!-- 0.6 -->\n      <g transform=\"translate(7.2 70.238437) scale(0.1 -0.1)\">\n       <use xlink:href=\"#DejaVuSans-30\"/>\n       <use xlink:href=\"#DejaVuSans-2e\" transform=\"translate(63.623047 0)\"/>\n       <use xlink:href=\"#DejaVuSans-36\" transform=\"translate(95.410156 0)\"/>\n      </g>\n     </g>\n    </g>\n    <g id=\"ytick_5\">\n     <g id=\"line2d_19\">\n      <path d=\"M 30.103125 38.719219 \nL 225.403125 38.719219 \n\" clip-path=\"url(#pb319265204)\" style=\"fill: none; stroke: #b0b0b0; stroke-width: 0.8; stroke-linecap: square\"/>\n     </g>\n     <g id=\"line2d_20\">\n      <g>\n       <use xlink:href=\"#ma3c27e44ec\" x=\"30.103125\" y=\"38.719219\" style=\"stroke: #000000; stroke-width: 0.8\"/>\n      </g>\n     </g>\n     <g id=\"text_11\">\n      <!-- 0.8 -->\n      <g transform=\"translate(7.2 42.518438) scale(0.1 -0.1)\">\n       <use xlink:href=\"#DejaVuSans-30\"/>\n       <use xlink:href=\"#DejaVuSans-2e\" transform=\"translate(63.623047 0)\"/>\n       <use xlink:href=\"#DejaVuSans-38\" transform=\"translate(95.410156 0)\"/>\n      </g>\n     </g>\n    </g>\n    <g id=\"ytick_6\">\n     <g id=\"line2d_21\">\n      <path d=\"M 30.103125 10.999219 \nL 225.403125 10.999219 \n\" clip-path=\"url(#pb319265204)\" style=\"fill: none; stroke: #b0b0b0; stroke-width: 0.8; stroke-linecap: square\"/>\n     </g>\n     <g id=\"line2d_22\">\n      <g>\n       <use xlink:href=\"#ma3c27e44ec\" x=\"30.103125\" y=\"10.999219\" style=\"stroke: #000000; stroke-width: 0.8\"/>\n      </g>\n     </g>\n     <g id=\"text_12\">\n      <!-- 1.0 -->\n      <g transform=\"translate(7.2 14.798438) scale(0.1 -0.1)\">\n       <use xlink:href=\"#DejaVuSans-31\"/>\n       <use xlink:href=\"#DejaVuSans-2e\" transform=\"translate(63.623047 0)\"/>\n       <use xlink:href=\"#DejaVuSans-30\" transform=\"translate(95.410156 0)\"/>\n      </g>\n     </g>\n    </g>\n   </g>\n   <g id=\"line2d_23\">\n    <path d=\"M 12.732025 53.626094 \nL 17.060926 59.549901 \nL 21.389826 66.659102 \nL 25.718726 71.336461 \nL 30.047626 74.950006 \nL 30.103125 74.997138 \nL 34.432025 92.077504 \nL 38.760926 93.016126 \nL 43.089826 93.441066 \nL 47.418726 94.001634 \nL 51.747626 89.16839 \nL 51.803125 89.157238 \nL 56.132025 82.801301 \nL 60.460926 86.236392 \nL 64.789826 89.223847 \nL 69.118726 90.782117 \nL 73.447626 91.799681 \nL 73.503125 91.827767 \nL 77.832025 98.500454 \nL 82.160926 98.38084 \nL 86.489826 98.456437 \nL 90.818726 99.097696 \nL 95.147626 99.280447 \nL 95.203125 99.28048 \nL 99.532025 104.904114 \nL 103.860926 105.45636 \nL 108.189826 104.707671 \nL 112.518726 104.562738 \nL 116.847626 104.48273 \nL 116.903125 104.459821 \nL 121.232025 108.039007 \nL 125.560926 108.25119 \nL 129.889826 108.707031 \nL 134.218726 108.41477 \nL 138.547626 108.979776 \nL 138.603125 108.954983 \nL 142.932025 113.704142 \nL 147.260926 112.999409 \nL 151.589826 111.904577 \nL 155.918726 111.289753 \nL 160.247626 111.389088 \nL 160.303125 111.411065 \nL 164.632025 116.392209 \nL 168.960926 116.199829 \nL 173.289826 116.267239 \nL 177.618726 116.142171 \nL 181.947626 115.947596 \nL 182.003125 115.955398 \nL 186.332025 122.778907 \nL 190.660926 121.697192 \nL 194.989826 120.385388 \nL 199.318726 118.794848 \nL 203.647626 118.076839 \nL 203.703125 118.040924 \nL 208.032025 123.915844 \nL 212.360926 122.802595 \nL 216.689826 122.713814 \nL 221.018726 122.189163 \nL 225.347626 120.32667 \nL 225.403125 120.306569 \n\" clip-path=\"url(#pb319265204)\" style=\"fill: none; stroke: #1f77b4; stroke-width: 1.5; stroke-linecap: square\"/>\n   </g>\n   <g id=\"line2d_24\">\n    <path d=\"M 12.732025 72.580709 \nL 17.060926 64.223618 \nL 21.389826 57.282512 \nL 25.718726 52.902674 \nL 30.047626 49.813882 \nL 30.103125 49.779499 \nL 34.432025 36.625781 \nL 38.760926 36.195433 \nL 43.089826 36.014964 \nL 47.418726 35.515204 \nL 51.747626 38.830276 \nL 51.803125 38.819011 \nL 56.132025 40.76268 \nL 60.460926 39.235637 \nL 64.789826 37.6253 \nL 69.118726 36.577194 \nL 73.447626 36.053834 \nL 73.503125 36.047011 \nL 77.832025 32.461118 \nL 82.160926 32.808173 \nL 86.489826 32.8128 \nL 90.818726 32.481941 \nL 95.147626 32.438906 \nL 95.203125 32.443411 \nL 99.532025 30.184435 \nL 103.860926 30.156671 \nL 108.189826 30.314002 \nL 112.518726 30.226082 \nL 116.847626 30.201094 \nL 116.903125 30.214723 \nL 121.232025 28.574099 \nL 125.560926 28.102103 \nL 129.889826 27.944772 \nL 134.218726 28.171514 \nL 138.547626 27.818906 \nL 138.603125 27.836347 \nL 142.932025 25.658834 \nL 147.260926 26.089183 \nL 151.589826 26.334435 \nL 155.918726 26.720823 \nL 160.247626 26.608377 \nL 160.303125 26.605579 \nL 164.632025 24.298377 \nL 168.960926 24.159555 \nL 173.289826 24.141046 \nL 177.618726 24.305319 \nL 181.947626 24.51494 \nL 182.003125 24.509947 \nL 186.332025 21.605228 \nL 190.660926 22.11887 \nL 194.989826 22.771334 \nL 199.318726 23.201683 \nL 203.647626 23.559844 \nL 203.703125 23.573011 \nL 208.032025 20.355829 \nL 212.360926 21.119351 \nL 216.689826 21.309075 \nL 221.018726 21.639934 \nL 225.347626 22.238257 \nL 225.403125 22.242451 \n\" clip-path=\"url(#pb319265204)\" style=\"fill: none; stroke-dasharray: 5.55,2.4; stroke-dashoffset: 0; stroke: #bf00bf; stroke-width: 1.5\"/>\n   </g>\n   <g id=\"line2d_25\">\n    <path d=\"M 30.103125 35.354011 \nL 51.803125 45.726835 \nL 73.503125 35.115619 \nL 95.203125 33.042163 \nL 116.903125 31.290259 \nL 138.603125 30.780211 \nL 160.303125 31.434403 \nL 182.003125 31.062955 \nL 203.703125 30.624979 \nL 225.403125 31.112851 \n\" clip-path=\"url(#pb319265204)\" style=\"fill: none; stroke-dasharray: 9.6,2.4,1.5,2.4; stroke-dashoffset: 0; stroke: #008000; stroke-width: 1.5\"/>\n   </g>\n   <g id=\"patch_3\">\n    <path d=\"M 30.103125 149.599219 \nL 30.103125 10.999219 \n\" style=\"fill: none; stroke: #000000; stroke-width: 0.8; stroke-linejoin: miter; stroke-linecap: square\"/>\n   </g>\n   <g id=\"patch_4\">\n    <path d=\"M 225.403125 149.599219 \nL 225.403125 10.999219 \n\" style=\"fill: none; stroke: #000000; stroke-width: 0.8; stroke-linejoin: miter; stroke-linecap: square\"/>\n   </g>\n   <g id=\"patch_5\">\n    <path d=\"M 30.103125 149.599219 \nL 225.403125 149.599219 \n\" style=\"fill: none; stroke: #000000; stroke-width: 0.8; stroke-linejoin: miter; stroke-linecap: square\"/>\n   </g>\n   <g id=\"patch_6\">\n    <path d=\"M 30.103125 10.999219 \nL 225.403125 10.999219 \n\" style=\"fill: none; stroke: #000000; stroke-width: 0.8; stroke-linejoin: miter; stroke-linecap: square\"/>\n   </g>\n   <g id=\"legend_1\">\n    <g id=\"patch_7\">\n     <path d=\"M 140.634375 103.816406 \nL 218.403125 103.816406 \nQ 220.403125 103.816406 220.403125 101.816406 \nL 220.403125 58.782031 \nQ 220.403125 56.782031 218.403125 56.782031 \nL 140.634375 56.782031 \nQ 138.634375 56.782031 138.634375 58.782031 \nL 138.634375 101.816406 \nQ 138.634375 103.816406 140.634375 103.816406 \nz\n\" style=\"fill: #ffffff; opacity: 0.8; stroke: #cccccc; stroke-linejoin: miter\"/>\n    </g>\n    <g id=\"line2d_26\">\n     <path d=\"M 142.634375 64.880469 \nL 152.634375 64.880469 \nL 162.634375 64.880469 \n\" style=\"fill: none; stroke: #1f77b4; stroke-width: 1.5; stroke-linecap: square\"/>\n    </g>\n    <g id=\"text_13\">\n     <!-- train loss -->\n     <g transform=\"translate(170.634375 68.380469) scale(0.1 -0.1)\">\n      <defs>\n       <path id=\"DejaVuSans-74\" d=\"M 1172 4494 \nL 1172 3500 \nL 2356 3500 \nL 2356 3053 \nL 1172 3053 \nL 1172 1153 \nQ 1172 725 1289 603 \nQ 1406 481 1766 481 \nL 2356 481 \nL 2356 0 \nL 1766 0 \nQ 1100 0 847 248 \nQ 594 497 594 1153 \nL 594 3053 \nL 172 3053 \nL 172 3500 \nL 594 3500 \nL 594 4494 \nL 1172 4494 \nz\n\" transform=\"scale(0.015625)\"/>\n       <path id=\"DejaVuSans-72\" d=\"M 2631 2963 \nQ 2534 3019 2420 3045 \nQ 2306 3072 2169 3072 \nQ 1681 3072 1420 2755 \nQ 1159 2438 1159 1844 \nL 1159 0 \nL 581 0 \nL 581 3500 \nL 1159 3500 \nL 1159 2956 \nQ 1341 3275 1631 3429 \nQ 1922 3584 2338 3584 \nQ 2397 3584 2469 3576 \nQ 2541 3569 2628 3553 \nL 2631 2963 \nz\n\" transform=\"scale(0.015625)\"/>\n       <path id=\"DejaVuSans-61\" d=\"M 2194 1759 \nQ 1497 1759 1228 1600 \nQ 959 1441 959 1056 \nQ 959 750 1161 570 \nQ 1363 391 1709 391 \nQ 2188 391 2477 730 \nQ 2766 1069 2766 1631 \nL 2766 1759 \nL 2194 1759 \nz\nM 3341 1997 \nL 3341 0 \nL 2766 0 \nL 2766 531 \nQ 2569 213 2275 61 \nQ 1981 -91 1556 -91 \nQ 1019 -91 701 211 \nQ 384 513 384 1019 \nQ 384 1609 779 1909 \nQ 1175 2209 1959 2209 \nL 2766 2209 \nL 2766 2266 \nQ 2766 2663 2505 2880 \nQ 2244 3097 1772 3097 \nQ 1472 3097 1187 3025 \nQ 903 2953 641 2809 \nL 641 3341 \nQ 956 3463 1253 3523 \nQ 1550 3584 1831 3584 \nQ 2591 3584 2966 3190 \nQ 3341 2797 3341 1997 \nz\n\" transform=\"scale(0.015625)\"/>\n       <path id=\"DejaVuSans-69\" d=\"M 603 3500 \nL 1178 3500 \nL 1178 0 \nL 603 0 \nL 603 3500 \nz\nM 603 4863 \nL 1178 4863 \nL 1178 4134 \nL 603 4134 \nL 603 4863 \nz\n\" transform=\"scale(0.015625)\"/>\n       <path id=\"DejaVuSans-6e\" d=\"M 3513 2113 \nL 3513 0 \nL 2938 0 \nL 2938 2094 \nQ 2938 2591 2744 2837 \nQ 2550 3084 2163 3084 \nQ 1697 3084 1428 2787 \nQ 1159 2491 1159 1978 \nL 1159 0 \nL 581 0 \nL 581 3500 \nL 1159 3500 \nL 1159 2956 \nQ 1366 3272 1645 3428 \nQ 1925 3584 2291 3584 \nQ 2894 3584 3203 3211 \nQ 3513 2838 3513 2113 \nz\n\" transform=\"scale(0.015625)\"/>\n       <path id=\"DejaVuSans-20\" transform=\"scale(0.015625)\"/>\n       <path id=\"DejaVuSans-6c\" d=\"M 603 4863 \nL 1178 4863 \nL 1178 0 \nL 603 0 \nL 603 4863 \nz\n\" transform=\"scale(0.015625)\"/>\n       <path id=\"DejaVuSans-73\" d=\"M 2834 3397 \nL 2834 2853 \nQ 2591 2978 2328 3040 \nQ 2066 3103 1784 3103 \nQ 1356 3103 1142 2972 \nQ 928 2841 928 2578 \nQ 928 2378 1081 2264 \nQ 1234 2150 1697 2047 \nL 1894 2003 \nQ 2506 1872 2764 1633 \nQ 3022 1394 3022 966 \nQ 3022 478 2636 193 \nQ 2250 -91 1575 -91 \nQ 1294 -91 989 -36 \nQ 684 19 347 128 \nL 347 722 \nQ 666 556 975 473 \nQ 1284 391 1588 391 \nQ 1994 391 2212 530 \nQ 2431 669 2431 922 \nQ 2431 1156 2273 1281 \nQ 2116 1406 1581 1522 \nL 1381 1569 \nQ 847 1681 609 1914 \nQ 372 2147 372 2553 \nQ 372 3047 722 3315 \nQ 1072 3584 1716 3584 \nQ 2034 3584 2315 3537 \nQ 2597 3491 2834 3397 \nz\n\" transform=\"scale(0.015625)\"/>\n      </defs>\n      <use xlink:href=\"#DejaVuSans-74\"/>\n      <use xlink:href=\"#DejaVuSans-72\" transform=\"translate(39.208984 0)\"/>\n      <use xlink:href=\"#DejaVuSans-61\" transform=\"translate(80.322266 0)\"/>\n      <use xlink:href=\"#DejaVuSans-69\" transform=\"translate(141.601562 0)\"/>\n      <use xlink:href=\"#DejaVuSans-6e\" transform=\"translate(169.384766 0)\"/>\n      <use xlink:href=\"#DejaVuSans-20\" transform=\"translate(232.763672 0)\"/>\n      <use xlink:href=\"#DejaVuSans-6c\" transform=\"translate(264.550781 0)\"/>\n      <use xlink:href=\"#DejaVuSans-6f\" transform=\"translate(292.333984 0)\"/>\n      <use xlink:href=\"#DejaVuSans-73\" transform=\"translate(353.515625 0)\"/>\n      <use xlink:href=\"#DejaVuSans-73\" transform=\"translate(405.615234 0)\"/>\n     </g>\n    </g>\n    <g id=\"line2d_27\">\n     <path d=\"M 142.634375 79.558594 \nL 152.634375 79.558594 \nL 162.634375 79.558594 \n\" style=\"fill: none; stroke-dasharray: 5.55,2.4; stroke-dashoffset: 0; stroke: #bf00bf; stroke-width: 1.5\"/>\n    </g>\n    <g id=\"text_14\">\n     <!-- train acc -->\n     <g transform=\"translate(170.634375 83.058594) scale(0.1 -0.1)\">\n      <use xlink:href=\"#DejaVuSans-74\"/>\n      <use xlink:href=\"#DejaVuSans-72\" transform=\"translate(39.208984 0)\"/>\n      <use xlink:href=\"#DejaVuSans-61\" transform=\"translate(80.322266 0)\"/>\n      <use xlink:href=\"#DejaVuSans-69\" transform=\"translate(141.601562 0)\"/>\n      <use xlink:href=\"#DejaVuSans-6e\" transform=\"translate(169.384766 0)\"/>\n      <use xlink:href=\"#DejaVuSans-20\" transform=\"translate(232.763672 0)\"/>\n      <use xlink:href=\"#DejaVuSans-61\" transform=\"translate(264.550781 0)\"/>\n      <use xlink:href=\"#DejaVuSans-63\" transform=\"translate(325.830078 0)\"/>\n      <use xlink:href=\"#DejaVuSans-63\" transform=\"translate(380.810547 0)\"/>\n     </g>\n    </g>\n    <g id=\"line2d_28\">\n     <path d=\"M 142.634375 94.236719 \nL 152.634375 94.236719 \nL 162.634375 94.236719 \n\" style=\"fill: none; stroke-dasharray: 9.6,2.4,1.5,2.4; stroke-dashoffset: 0; stroke: #008000; stroke-width: 1.5\"/>\n    </g>\n    <g id=\"text_15\">\n     <!-- test acc -->\n     <g transform=\"translate(170.634375 97.736719) scale(0.1 -0.1)\">\n      <use xlink:href=\"#DejaVuSans-74\"/>\n      <use xlink:href=\"#DejaVuSans-65\" transform=\"translate(39.208984 0)\"/>\n      <use xlink:href=\"#DejaVuSans-73\" transform=\"translate(100.732422 0)\"/>\n      <use xlink:href=\"#DejaVuSans-74\" transform=\"translate(152.832031 0)\"/>\n      <use xlink:href=\"#DejaVuSans-20\" transform=\"translate(192.041016 0)\"/>\n      <use xlink:href=\"#DejaVuSans-61\" transform=\"translate(223.828125 0)\"/>\n      <use xlink:href=\"#DejaVuSans-63\" transform=\"translate(285.107422 0)\"/>\n      <use xlink:href=\"#DejaVuSans-63\" transform=\"translate(340.087891 0)\"/>\n     </g>\n    </g>\n   </g>\n  </g>\n </g>\n <defs>\n  <clipPath id=\"pb319265204\">\n   <rect x=\"30.103125\" y=\"10.999219\" width=\"195.3\" height=\"138.6\"/>\n  </clipPath>\n </defs>\n</svg>\n"
          },
          "metadata": {}
        }
      ]
    },
    {
      "cell_type": "code",
      "source": [
        "import torch\n",
        "import torch.nn as nn\n",
        "import torch.nn.functional as F\n",
        "\n",
        "class AttentionBiRNN(nn.Module):\n",
        "    def __init__(self, vocab_size, embed_size, num_hiddens, num_layers, **kwargs):\n",
        "        super(AttentionBiRNN, self).__init__(**kwargs)\n",
        "        self.embedding = nn.Embedding(vocab_size, embed_size)\n",
        "        self.encoder = nn.LSTM(embed_size, num_hiddens, num_layers=num_layers,\n",
        "                               bidirectional=True)\n",
        "\n",
        "        # --- 新增: 注意力机制层 ---\n",
        "        # 这是一个简单的“加性注意力”实现\n",
        "        # W_q * h_t + b -> tanh -> v^T * tanh(...)\n",
        "        self.attention = nn.Sequential(\n",
        "            nn.Linear(2 * num_hiddens, 2 * num_hiddens), # W\n",
        "            nn.Tanh(),\n",
        "            nn.Linear(2 * num_hiddens, 1) # v\n",
        "        )\n",
        "\n",
        "        # --- 修改: 解码器（分类器）的输入维度 ---\n",
        "        # 输入不再是拼接后的 4*hiddens，而是加权求和后的 2*hiddens\n",
        "        self.decoder = nn.Linear(2 * num_hiddens, 2)\n",
        "\n",
        "    def forward(self, inputs):\n",
        "        # inputs 形状: (批量大小, 时间步数)\n",
        "        # embeddings 形状: (时间步数, 批量大小, 词向量维度)\n",
        "        embeddings = self.embedding(inputs.T)\n",
        "        self.encoder.flatten_parameters()\n",
        "\n",
        "        # outputs 形状: (时间步数, 批量大小, 2 * 隐藏单元数)\n",
        "        outputs, _ = self.encoder(embeddings)\n",
        "\n",
        "        # --- 核心修改: 使用注意力机制聚合信息 ---\n",
        "\n",
        "        # 1. 调整 outputs 形状以方便计算\n",
        "        # -> (批量大小, 时间步数, 2 * 隐藏单元数)\n",
        "        outputs_permuted = outputs.permute(1, 0, 2)\n",
        "\n",
        "        # 2. 计算每个时间步的注意力分数\n",
        "        # self.attention(outputs_permuted) 的形状: (批量大小, 时间步数, 1)\n",
        "        # .squeeze(2) 后, scores 形状: (批量大小, 时间步数)\n",
        "        scores = self.attention(outputs_permuted).squeeze(2)\n",
        "\n",
        "        # 3. 使用 softmax 将分数转换为概率（权重）\n",
        "        # attention_weights 形状: (批量大小, 时间步数)\n",
        "        attention_weights = F.softmax(scores, dim=1)\n",
        "\n",
        "        # 4. 计算上下文向量（加权求和）\n",
        "        # (批量大小, 1, 时间步数) @ (批量大小, 时间步数, 2*h) -> (批量大小, 1, 2*h)\n",
        "        context_vector = torch.bmm(attention_weights.unsqueeze(1), outputs_permuted)\n",
        "        # .squeeze(1) 后, context_vector 形状: (批量大小, 2 * 隐藏单元数)\n",
        "        context_vector = context_vector.squeeze(1)\n",
        "\n",
        "        # 5. 将上下文向量输入解码器进行分类\n",
        "        outs = self.decoder(context_vector)\n",
        "        return outs\n",
        "\n",
        "net = AttentionBiRNN(len(vocab), embed_size=100,num_hiddens=100,num_layers=2)\n",
        "def init_weights(m):\n",
        "    if type(m) == nn.Linear:\n",
        "        nn.init.xavier_uniform_(m.weight)\n",
        "    if type(m) == nn.LSTM:\n",
        "        for param in m._flat_weights_names:\n",
        "            if \"weight\" in param:\n",
        "                nn.init.xavier_uniform_(m._parameters[param])\n",
        "net.apply(init_weights);\n",
        "\n",
        "\n",
        "print(embeds.shape)\n",
        "#我们使用这些预训练的词向量来表示评论中的词元，并且在训练期间不要更新这些向量。\n",
        "net.embedding.weight.data.copy_(embeds)\n",
        "net.embedding.weight.requires_grad = False\n",
        "\n",
        "lr, num_epochs = 0.01, 10\n",
        "trainer = torch.optim.Adam(net.parameters(), lr=lr)\n",
        "loss = nn.CrossEntropyLoss(reduction=\"none\")\n",
        "devices = d2l.try_all_gpus()\n",
        "train_ch13(net, train_iter, test_iter, loss, trainer, num_epochs,devices)\n"
      ],
      "metadata": {
        "id": "V8e3S_KUOUaF",
        "outputId": "b901f83e-8f7b-4271-f44e-0522d212678f",
        "colab": {
          "base_uri": "https://localhost:8080/",
          "height": 306
        }
      },
      "id": "V8e3S_KUOUaF",
      "execution_count": 19,
      "outputs": [
        {
          "output_type": "stream",
          "name": "stdout",
          "text": [
            "loss 0.242, train acc 0.902, test acc 0.851\n",
            "1114.3 examples/sec on [device(type='cuda', index=0)]\n"
          ]
        },
        {
          "output_type": "display_data",
          "data": {
            "text/plain": [
              "<Figure size 350x250 with 1 Axes>"
            ],
            "image/svg+xml": "<?xml version=\"1.0\" encoding=\"utf-8\" standalone=\"no\"?>\n<!DOCTYPE svg PUBLIC \"-//W3C//DTD SVG 1.1//EN\"\n  \"http://www.w3.org/Graphics/SVG/1.1/DTD/svg11.dtd\">\n<svg xmlns:xlink=\"http://www.w3.org/1999/xlink\" width=\"238.965625pt\" height=\"187.155469pt\" viewBox=\"0 0 238.965625 187.155469\" xmlns=\"http://www.w3.org/2000/svg\" version=\"1.1\">\n <metadata>\n  <rdf:RDF xmlns:dc=\"http://purl.org/dc/elements/1.1/\" xmlns:cc=\"http://creativecommons.org/ns#\" xmlns:rdf=\"http://www.w3.org/1999/02/22-rdf-syntax-ns#\">\n   <cc:Work>\n    <dc:type rdf:resource=\"http://purl.org/dc/dcmitype/StillImage\"/>\n    <dc:date>2025-10-03T13:10:00.128798</dc:date>\n    <dc:format>image/svg+xml</dc:format>\n    <dc:creator>\n     <cc:Agent>\n      <dc:title>Matplotlib v3.10.0, https://matplotlib.org/</dc:title>\n     </cc:Agent>\n    </dc:creator>\n   </cc:Work>\n  </rdf:RDF>\n </metadata>\n <defs>\n  <style type=\"text/css\">*{stroke-linejoin: round; stroke-linecap: butt}</style>\n </defs>\n <g id=\"figure_1\">\n  <g id=\"patch_1\">\n   <path d=\"M 0 187.155469 \nL 238.965625 187.155469 \nL 238.965625 0 \nL 0 0 \nz\n\" style=\"fill: #ffffff\"/>\n  </g>\n  <g id=\"axes_1\">\n   <g id=\"patch_2\">\n    <path d=\"M 30.103125 149.599219 \nL 225.403125 149.599219 \nL 225.403125 10.999219 \nL 30.103125 10.999219 \nz\n\" style=\"fill: #ffffff\"/>\n   </g>\n   <g id=\"matplotlib.axis_1\">\n    <g id=\"xtick_1\">\n     <g id=\"line2d_1\">\n      <path d=\"M 51.803125 149.599219 \nL 51.803125 10.999219 \n\" clip-path=\"url(#pafd8e4697b)\" style=\"fill: none; stroke: #b0b0b0; stroke-width: 0.8; stroke-linecap: square\"/>\n     </g>\n     <g id=\"line2d_2\">\n      <defs>\n       <path id=\"m53ed4851c0\" d=\"M 0 0 \nL 0 3.5 \n\" style=\"stroke: #000000; stroke-width: 0.8\"/>\n      </defs>\n      <g>\n       <use xlink:href=\"#m53ed4851c0\" x=\"51.803125\" y=\"149.599219\" style=\"stroke: #000000; stroke-width: 0.8\"/>\n      </g>\n     </g>\n     <g id=\"text_1\">\n      <!-- 2 -->\n      <g transform=\"translate(48.621875 164.197656) scale(0.1 -0.1)\">\n       <defs>\n        <path id=\"DejaVuSans-32\" d=\"M 1228 531 \nL 3431 531 \nL 3431 0 \nL 469 0 \nL 469 531 \nQ 828 903 1448 1529 \nQ 2069 2156 2228 2338 \nQ 2531 2678 2651 2914 \nQ 2772 3150 2772 3378 \nQ 2772 3750 2511 3984 \nQ 2250 4219 1831 4219 \nQ 1534 4219 1204 4116 \nQ 875 4013 500 3803 \nL 500 4441 \nQ 881 4594 1212 4672 \nQ 1544 4750 1819 4750 \nQ 2544 4750 2975 4387 \nQ 3406 4025 3406 3419 \nQ 3406 3131 3298 2873 \nQ 3191 2616 2906 2266 \nQ 2828 2175 2409 1742 \nQ 1991 1309 1228 531 \nz\n\" transform=\"scale(0.015625)\"/>\n       </defs>\n       <use xlink:href=\"#DejaVuSans-32\"/>\n      </g>\n     </g>\n    </g>\n    <g id=\"xtick_2\">\n     <g id=\"line2d_3\">\n      <path d=\"M 95.203125 149.599219 \nL 95.203125 10.999219 \n\" clip-path=\"url(#pafd8e4697b)\" style=\"fill: none; stroke: #b0b0b0; stroke-width: 0.8; stroke-linecap: square\"/>\n     </g>\n     <g id=\"line2d_4\">\n      <g>\n       <use xlink:href=\"#m53ed4851c0\" x=\"95.203125\" y=\"149.599219\" style=\"stroke: #000000; stroke-width: 0.8\"/>\n      </g>\n     </g>\n     <g id=\"text_2\">\n      <!-- 4 -->\n      <g transform=\"translate(92.021875 164.197656) scale(0.1 -0.1)\">\n       <defs>\n        <path id=\"DejaVuSans-34\" d=\"M 2419 4116 \nL 825 1625 \nL 2419 1625 \nL 2419 4116 \nz\nM 2253 4666 \nL 3047 4666 \nL 3047 1625 \nL 3713 1625 \nL 3713 1100 \nL 3047 1100 \nL 3047 0 \nL 2419 0 \nL 2419 1100 \nL 313 1100 \nL 313 1709 \nL 2253 4666 \nz\n\" transform=\"scale(0.015625)\"/>\n       </defs>\n       <use xlink:href=\"#DejaVuSans-34\"/>\n      </g>\n     </g>\n    </g>\n    <g id=\"xtick_3\">\n     <g id=\"line2d_5\">\n      <path d=\"M 138.603125 149.599219 \nL 138.603125 10.999219 \n\" clip-path=\"url(#pafd8e4697b)\" style=\"fill: none; stroke: #b0b0b0; stroke-width: 0.8; stroke-linecap: square\"/>\n     </g>\n     <g id=\"line2d_6\">\n      <g>\n       <use xlink:href=\"#m53ed4851c0\" x=\"138.603125\" y=\"149.599219\" style=\"stroke: #000000; stroke-width: 0.8\"/>\n      </g>\n     </g>\n     <g id=\"text_3\">\n      <!-- 6 -->\n      <g transform=\"translate(135.421875 164.197656) scale(0.1 -0.1)\">\n       <defs>\n        <path id=\"DejaVuSans-36\" d=\"M 2113 2584 \nQ 1688 2584 1439 2293 \nQ 1191 2003 1191 1497 \nQ 1191 994 1439 701 \nQ 1688 409 2113 409 \nQ 2538 409 2786 701 \nQ 3034 994 3034 1497 \nQ 3034 2003 2786 2293 \nQ 2538 2584 2113 2584 \nz\nM 3366 4563 \nL 3366 3988 \nQ 3128 4100 2886 4159 \nQ 2644 4219 2406 4219 \nQ 1781 4219 1451 3797 \nQ 1122 3375 1075 2522 \nQ 1259 2794 1537 2939 \nQ 1816 3084 2150 3084 \nQ 2853 3084 3261 2657 \nQ 3669 2231 3669 1497 \nQ 3669 778 3244 343 \nQ 2819 -91 2113 -91 \nQ 1303 -91 875 529 \nQ 447 1150 447 2328 \nQ 447 3434 972 4092 \nQ 1497 4750 2381 4750 \nQ 2619 4750 2861 4703 \nQ 3103 4656 3366 4563 \nz\n\" transform=\"scale(0.015625)\"/>\n       </defs>\n       <use xlink:href=\"#DejaVuSans-36\"/>\n      </g>\n     </g>\n    </g>\n    <g id=\"xtick_4\">\n     <g id=\"line2d_7\">\n      <path d=\"M 182.003125 149.599219 \nL 182.003125 10.999219 \n\" clip-path=\"url(#pafd8e4697b)\" style=\"fill: none; stroke: #b0b0b0; stroke-width: 0.8; stroke-linecap: square\"/>\n     </g>\n     <g id=\"line2d_8\">\n      <g>\n       <use xlink:href=\"#m53ed4851c0\" x=\"182.003125\" y=\"149.599219\" style=\"stroke: #000000; stroke-width: 0.8\"/>\n      </g>\n     </g>\n     <g id=\"text_4\">\n      <!-- 8 -->\n      <g transform=\"translate(178.821875 164.197656) scale(0.1 -0.1)\">\n       <defs>\n        <path id=\"DejaVuSans-38\" d=\"M 2034 2216 \nQ 1584 2216 1326 1975 \nQ 1069 1734 1069 1313 \nQ 1069 891 1326 650 \nQ 1584 409 2034 409 \nQ 2484 409 2743 651 \nQ 3003 894 3003 1313 \nQ 3003 1734 2745 1975 \nQ 2488 2216 2034 2216 \nz\nM 1403 2484 \nQ 997 2584 770 2862 \nQ 544 3141 544 3541 \nQ 544 4100 942 4425 \nQ 1341 4750 2034 4750 \nQ 2731 4750 3128 4425 \nQ 3525 4100 3525 3541 \nQ 3525 3141 3298 2862 \nQ 3072 2584 2669 2484 \nQ 3125 2378 3379 2068 \nQ 3634 1759 3634 1313 \nQ 3634 634 3220 271 \nQ 2806 -91 2034 -91 \nQ 1263 -91 848 271 \nQ 434 634 434 1313 \nQ 434 1759 690 2068 \nQ 947 2378 1403 2484 \nz\nM 1172 3481 \nQ 1172 3119 1398 2916 \nQ 1625 2713 2034 2713 \nQ 2441 2713 2670 2916 \nQ 2900 3119 2900 3481 \nQ 2900 3844 2670 4047 \nQ 2441 4250 2034 4250 \nQ 1625 4250 1398 4047 \nQ 1172 3844 1172 3481 \nz\n\" transform=\"scale(0.015625)\"/>\n       </defs>\n       <use xlink:href=\"#DejaVuSans-38\"/>\n      </g>\n     </g>\n    </g>\n    <g id=\"xtick_5\">\n     <g id=\"line2d_9\">\n      <path d=\"M 225.403125 149.599219 \nL 225.403125 10.999219 \n\" clip-path=\"url(#pafd8e4697b)\" style=\"fill: none; stroke: #b0b0b0; stroke-width: 0.8; stroke-linecap: square\"/>\n     </g>\n     <g id=\"line2d_10\">\n      <g>\n       <use xlink:href=\"#m53ed4851c0\" x=\"225.403125\" y=\"149.599219\" style=\"stroke: #000000; stroke-width: 0.8\"/>\n      </g>\n     </g>\n     <g id=\"text_5\">\n      <!-- 10 -->\n      <g transform=\"translate(219.040625 164.197656) scale(0.1 -0.1)\">\n       <defs>\n        <path id=\"DejaVuSans-31\" d=\"M 794 531 \nL 1825 531 \nL 1825 4091 \nL 703 3866 \nL 703 4441 \nL 1819 4666 \nL 2450 4666 \nL 2450 531 \nL 3481 531 \nL 3481 0 \nL 794 0 \nL 794 531 \nz\n\" transform=\"scale(0.015625)\"/>\n        <path id=\"DejaVuSans-30\" d=\"M 2034 4250 \nQ 1547 4250 1301 3770 \nQ 1056 3291 1056 2328 \nQ 1056 1369 1301 889 \nQ 1547 409 2034 409 \nQ 2525 409 2770 889 \nQ 3016 1369 3016 2328 \nQ 3016 3291 2770 3770 \nQ 2525 4250 2034 4250 \nz\nM 2034 4750 \nQ 2819 4750 3233 4129 \nQ 3647 3509 3647 2328 \nQ 3647 1150 3233 529 \nQ 2819 -91 2034 -91 \nQ 1250 -91 836 529 \nQ 422 1150 422 2328 \nQ 422 3509 836 4129 \nQ 1250 4750 2034 4750 \nz\n\" transform=\"scale(0.015625)\"/>\n       </defs>\n       <use xlink:href=\"#DejaVuSans-31\"/>\n       <use xlink:href=\"#DejaVuSans-30\" transform=\"translate(63.623047 0)\"/>\n      </g>\n     </g>\n    </g>\n    <g id=\"text_6\">\n     <!-- epoch -->\n     <g transform=\"translate(112.525 177.875781) scale(0.1 -0.1)\">\n      <defs>\n       <path id=\"DejaVuSans-65\" d=\"M 3597 1894 \nL 3597 1613 \nL 953 1613 \nQ 991 1019 1311 708 \nQ 1631 397 2203 397 \nQ 2534 397 2845 478 \nQ 3156 559 3463 722 \nL 3463 178 \nQ 3153 47 2828 -22 \nQ 2503 -91 2169 -91 \nQ 1331 -91 842 396 \nQ 353 884 353 1716 \nQ 353 2575 817 3079 \nQ 1281 3584 2069 3584 \nQ 2775 3584 3186 3129 \nQ 3597 2675 3597 1894 \nz\nM 3022 2063 \nQ 3016 2534 2758 2815 \nQ 2500 3097 2075 3097 \nQ 1594 3097 1305 2825 \nQ 1016 2553 972 2059 \nL 3022 2063 \nz\n\" transform=\"scale(0.015625)\"/>\n       <path id=\"DejaVuSans-70\" d=\"M 1159 525 \nL 1159 -1331 \nL 581 -1331 \nL 581 3500 \nL 1159 3500 \nL 1159 2969 \nQ 1341 3281 1617 3432 \nQ 1894 3584 2278 3584 \nQ 2916 3584 3314 3078 \nQ 3713 2572 3713 1747 \nQ 3713 922 3314 415 \nQ 2916 -91 2278 -91 \nQ 1894 -91 1617 61 \nQ 1341 213 1159 525 \nz\nM 3116 1747 \nQ 3116 2381 2855 2742 \nQ 2594 3103 2138 3103 \nQ 1681 3103 1420 2742 \nQ 1159 2381 1159 1747 \nQ 1159 1113 1420 752 \nQ 1681 391 2138 391 \nQ 2594 391 2855 752 \nQ 3116 1113 3116 1747 \nz\n\" transform=\"scale(0.015625)\"/>\n       <path id=\"DejaVuSans-6f\" d=\"M 1959 3097 \nQ 1497 3097 1228 2736 \nQ 959 2375 959 1747 \nQ 959 1119 1226 758 \nQ 1494 397 1959 397 \nQ 2419 397 2687 759 \nQ 2956 1122 2956 1747 \nQ 2956 2369 2687 2733 \nQ 2419 3097 1959 3097 \nz\nM 1959 3584 \nQ 2709 3584 3137 3096 \nQ 3566 2609 3566 1747 \nQ 3566 888 3137 398 \nQ 2709 -91 1959 -91 \nQ 1206 -91 779 398 \nQ 353 888 353 1747 \nQ 353 2609 779 3096 \nQ 1206 3584 1959 3584 \nz\n\" transform=\"scale(0.015625)\"/>\n       <path id=\"DejaVuSans-63\" d=\"M 3122 3366 \nL 3122 2828 \nQ 2878 2963 2633 3030 \nQ 2388 3097 2138 3097 \nQ 1578 3097 1268 2742 \nQ 959 2388 959 1747 \nQ 959 1106 1268 751 \nQ 1578 397 2138 397 \nQ 2388 397 2633 464 \nQ 2878 531 3122 666 \nL 3122 134 \nQ 2881 22 2623 -34 \nQ 2366 -91 2075 -91 \nQ 1284 -91 818 406 \nQ 353 903 353 1747 \nQ 353 2603 823 3093 \nQ 1294 3584 2113 3584 \nQ 2378 3584 2631 3529 \nQ 2884 3475 3122 3366 \nz\n\" transform=\"scale(0.015625)\"/>\n       <path id=\"DejaVuSans-68\" d=\"M 3513 2113 \nL 3513 0 \nL 2938 0 \nL 2938 2094 \nQ 2938 2591 2744 2837 \nQ 2550 3084 2163 3084 \nQ 1697 3084 1428 2787 \nQ 1159 2491 1159 1978 \nL 1159 0 \nL 581 0 \nL 581 4863 \nL 1159 4863 \nL 1159 2956 \nQ 1366 3272 1645 3428 \nQ 1925 3584 2291 3584 \nQ 2894 3584 3203 3211 \nQ 3513 2838 3513 2113 \nz\n\" transform=\"scale(0.015625)\"/>\n      </defs>\n      <use xlink:href=\"#DejaVuSans-65\"/>\n      <use xlink:href=\"#DejaVuSans-70\" transform=\"translate(61.523438 0)\"/>\n      <use xlink:href=\"#DejaVuSans-6f\" transform=\"translate(125 0)\"/>\n      <use xlink:href=\"#DejaVuSans-63\" transform=\"translate(186.181641 0)\"/>\n      <use xlink:href=\"#DejaVuSans-68\" transform=\"translate(241.162109 0)\"/>\n     </g>\n    </g>\n   </g>\n   <g id=\"matplotlib.axis_2\">\n    <g id=\"ytick_1\">\n     <g id=\"line2d_11\">\n      <path d=\"M 30.103125 149.599219 \nL 225.403125 149.599219 \n\" clip-path=\"url(#pafd8e4697b)\" style=\"fill: none; stroke: #b0b0b0; stroke-width: 0.8; stroke-linecap: square\"/>\n     </g>\n     <g id=\"line2d_12\">\n      <defs>\n       <path id=\"m171f817959\" d=\"M 0 0 \nL -3.5 0 \n\" style=\"stroke: #000000; stroke-width: 0.8\"/>\n      </defs>\n      <g>\n       <use xlink:href=\"#m171f817959\" x=\"30.103125\" y=\"149.599219\" style=\"stroke: #000000; stroke-width: 0.8\"/>\n      </g>\n     </g>\n     <g id=\"text_7\">\n      <!-- 0.0 -->\n      <g transform=\"translate(7.2 153.398438) scale(0.1 -0.1)\">\n       <defs>\n        <path id=\"DejaVuSans-2e\" d=\"M 684 794 \nL 1344 794 \nL 1344 0 \nL 684 0 \nL 684 794 \nz\n\" transform=\"scale(0.015625)\"/>\n       </defs>\n       <use xlink:href=\"#DejaVuSans-30\"/>\n       <use xlink:href=\"#DejaVuSans-2e\" transform=\"translate(63.623047 0)\"/>\n       <use xlink:href=\"#DejaVuSans-30\" transform=\"translate(95.410156 0)\"/>\n      </g>\n     </g>\n    </g>\n    <g id=\"ytick_2\">\n     <g id=\"line2d_13\">\n      <path d=\"M 30.103125 121.879219 \nL 225.403125 121.879219 \n\" clip-path=\"url(#pafd8e4697b)\" style=\"fill: none; stroke: #b0b0b0; stroke-width: 0.8; stroke-linecap: square\"/>\n     </g>\n     <g id=\"line2d_14\">\n      <g>\n       <use xlink:href=\"#m171f817959\" x=\"30.103125\" y=\"121.879219\" style=\"stroke: #000000; stroke-width: 0.8\"/>\n      </g>\n     </g>\n     <g id=\"text_8\">\n      <!-- 0.2 -->\n      <g transform=\"translate(7.2 125.678438) scale(0.1 -0.1)\">\n       <use xlink:href=\"#DejaVuSans-30\"/>\n       <use xlink:href=\"#DejaVuSans-2e\" transform=\"translate(63.623047 0)\"/>\n       <use xlink:href=\"#DejaVuSans-32\" transform=\"translate(95.410156 0)\"/>\n      </g>\n     </g>\n    </g>\n    <g id=\"ytick_3\">\n     <g id=\"line2d_15\">\n      <path d=\"M 30.103125 94.159219 \nL 225.403125 94.159219 \n\" clip-path=\"url(#pafd8e4697b)\" style=\"fill: none; stroke: #b0b0b0; stroke-width: 0.8; stroke-linecap: square\"/>\n     </g>\n     <g id=\"line2d_16\">\n      <g>\n       <use xlink:href=\"#m171f817959\" x=\"30.103125\" y=\"94.159219\" style=\"stroke: #000000; stroke-width: 0.8\"/>\n      </g>\n     </g>\n     <g id=\"text_9\">\n      <!-- 0.4 -->\n      <g transform=\"translate(7.2 97.958438) scale(0.1 -0.1)\">\n       <use xlink:href=\"#DejaVuSans-30\"/>\n       <use xlink:href=\"#DejaVuSans-2e\" transform=\"translate(63.623047 0)\"/>\n       <use xlink:href=\"#DejaVuSans-34\" transform=\"translate(95.410156 0)\"/>\n      </g>\n     </g>\n    </g>\n    <g id=\"ytick_4\">\n     <g id=\"line2d_17\">\n      <path d=\"M 30.103125 66.439219 \nL 225.403125 66.439219 \n\" clip-path=\"url(#pafd8e4697b)\" style=\"fill: none; stroke: #b0b0b0; stroke-width: 0.8; stroke-linecap: square\"/>\n     </g>\n     <g id=\"line2d_18\">\n      <g>\n       <use xlink:href=\"#m171f817959\" x=\"30.103125\" y=\"66.439219\" style=\"stroke: #000000; stroke-width: 0.8\"/>\n      </g>\n     </g>\n     <g id=\"text_10\">\n      <!-- 0.6 -->\n      <g transform=\"translate(7.2 70.238437) scale(0.1 -0.1)\">\n       <use xlink:href=\"#DejaVuSans-30\"/>\n       <use xlink:href=\"#DejaVuSans-2e\" transform=\"translate(63.623047 0)\"/>\n       <use xlink:href=\"#DejaVuSans-36\" transform=\"translate(95.410156 0)\"/>\n      </g>\n     </g>\n    </g>\n    <g id=\"ytick_5\">\n     <g id=\"line2d_19\">\n      <path d=\"M 30.103125 38.719219 \nL 225.403125 38.719219 \n\" clip-path=\"url(#pafd8e4697b)\" style=\"fill: none; stroke: #b0b0b0; stroke-width: 0.8; stroke-linecap: square\"/>\n     </g>\n     <g id=\"line2d_20\">\n      <g>\n       <use xlink:href=\"#m171f817959\" x=\"30.103125\" y=\"38.719219\" style=\"stroke: #000000; stroke-width: 0.8\"/>\n      </g>\n     </g>\n     <g id=\"text_11\">\n      <!-- 0.8 -->\n      <g transform=\"translate(7.2 42.518438) scale(0.1 -0.1)\">\n       <use xlink:href=\"#DejaVuSans-30\"/>\n       <use xlink:href=\"#DejaVuSans-2e\" transform=\"translate(63.623047 0)\"/>\n       <use xlink:href=\"#DejaVuSans-38\" transform=\"translate(95.410156 0)\"/>\n      </g>\n     </g>\n    </g>\n    <g id=\"ytick_6\">\n     <g id=\"line2d_21\">\n      <path d=\"M 30.103125 10.999219 \nL 225.403125 10.999219 \n\" clip-path=\"url(#pafd8e4697b)\" style=\"fill: none; stroke: #b0b0b0; stroke-width: 0.8; stroke-linecap: square\"/>\n     </g>\n     <g id=\"line2d_22\">\n      <g>\n       <use xlink:href=\"#m171f817959\" x=\"30.103125\" y=\"10.999219\" style=\"stroke: #000000; stroke-width: 0.8\"/>\n      </g>\n     </g>\n     <g id=\"text_12\">\n      <!-- 1.0 -->\n      <g transform=\"translate(7.2 14.798438) scale(0.1 -0.1)\">\n       <use xlink:href=\"#DejaVuSans-31\"/>\n       <use xlink:href=\"#DejaVuSans-2e\" transform=\"translate(63.623047 0)\"/>\n       <use xlink:href=\"#DejaVuSans-30\" transform=\"translate(95.410156 0)\"/>\n      </g>\n     </g>\n    </g>\n   </g>\n   <g id=\"line2d_23\">\n    <path d=\"M 12.732025 52.276581 \nL 17.060926 52.836825 \nL 21.389826 53.398268 \nL 25.718726 56.612464 \nL 30.047626 59.640597 \nL 30.103125 59.672585 \nL 34.432025 80.541363 \nL 38.760926 81.40764 \nL 43.089826 83.056869 \nL 47.418726 85.05045 \nL 51.747626 86.907916 \nL 51.803125 86.93579 \nL 56.132025 96.22347 \nL 60.460926 95.921506 \nL 64.789826 96.162794 \nL 69.118726 96.512331 \nL 73.447626 96.680686 \nL 73.503125 96.664745 \nL 77.832025 99.841471 \nL 82.160926 101.349219 \nL 86.489826 101.634232 \nL 90.818726 101.467794 \nL 95.147626 101.31926 \nL 95.203125 101.32472 \nL 99.532025 105.864278 \nL 103.860926 105.705172 \nL 108.189826 105.556608 \nL 112.518726 105.074556 \nL 116.847626 105.130485 \nL 116.903125 105.124567 \nL 121.232025 110.209772 \nL 125.560926 108.59438 \nL 129.889826 107.861425 \nL 134.218726 107.57148 \nL 138.547626 107.845292 \nL 138.603125 107.8324 \nL 142.932025 114.191624 \nL 147.260926 112.388802 \nL 151.589826 111.322788 \nL 155.918726 110.697994 \nL 160.247626 110.038675 \nL 160.303125 110.036098 \nL 164.632025 113.307817 \nL 168.960926 113.859466 \nL 173.289826 112.645063 \nL 177.618726 111.979502 \nL 181.947626 111.761416 \nL 182.003125 111.75687 \nL 186.332025 117.65066 \nL 190.660926 116.436525 \nL 194.989826 115.9006 \nL 199.318726 115.392621 \nL 203.647626 114.64737 \nL 203.703125 114.65059 \nL 208.032025 119.762853 \nL 212.360926 119.678883 \nL 216.689826 118.304814 \nL 221.018726 117.264156 \nL 225.347626 116.136896 \nL 225.403125 116.105672 \n\" clip-path=\"url(#pafd8e4697b)\" style=\"fill: none; stroke: #1f77b4; stroke-width: 1.5; stroke-linecap: square\"/>\n   </g>\n   <g id=\"line2d_24\">\n    <path d=\"M 12.732025 79.216406 \nL 17.060926 80.24369 \nL 21.389826 78.587079 \nL 25.718726 72.52518 \nL 30.047626 68.216142 \nL 30.103125 68.185579 \nL 34.432025 44.011118 \nL 38.760926 43.441947 \nL 43.089826 42.659916 \nL 47.418726 41.38738 \nL 51.747626 40.262921 \nL 51.803125 40.238275 \nL 56.132025 34.7378 \nL 60.460926 34.585096 \nL 64.789826 34.487921 \nL 69.118726 34.474038 \nL 73.447626 34.399075 \nL 73.503125 34.405987 \nL 77.832025 32.794291 \nL 82.160926 31.808654 \nL 86.489826 31.65595 \nL 90.818726 31.537951 \nL 95.147626 31.767007 \nL 95.203125 31.767043 \nL 99.532025 29.407031 \nL 103.860926 29.157151 \nL 108.189826 29.295974 \nL 112.518726 29.823498 \nL 116.847626 29.806839 \nL 116.903125 29.810011 \nL 121.232025 27.296935 \nL 125.560926 28.379748 \nL 129.889826 28.814724 \nL 134.218726 28.796214 \nL 138.547626 28.712921 \nL 138.603125 28.717843 \nL 142.932025 25.186839 \nL 147.260926 26.408474 \nL 151.589826 26.82494 \nL 155.918726 27.178936 \nL 160.247626 27.619002 \nL 160.303125 27.620131 \nL 164.632025 25.297897 \nL 168.960926 25.422837 \nL 173.289826 25.908714 \nL 177.618726 26.32518 \nL 181.947626 26.45845 \nL 182.003125 26.472523 \nL 186.332025 23.992969 \nL 190.660926 24.395553 \nL 194.989826 24.816647 \nL 199.318726 25.13131 \nL 203.647626 25.447825 \nL 203.703125 25.452427 \nL 208.032025 22.99345 \nL 212.360926 23.132272 \nL 216.689826 23.66905 \nL 221.018726 24.159555 \nL 225.347626 24.537151 \nL 225.403125 24.537667 \n\" clip-path=\"url(#pafd8e4697b)\" style=\"fill: none; stroke-dasharray: 5.55,2.4; stroke-dashoffset: 0; stroke: #bf00bf; stroke-width: 1.5\"/>\n   </g>\n   <g id=\"line2d_25\">\n    <path d=\"M 30.103125 44.784355 \nL 51.803125 36.080275 \nL 73.503125 34.378267 \nL 95.203125 32.282635 \nL 116.903125 32.249371 \nL 138.603125 31.451035 \nL 160.303125 31.900099 \nL 182.003125 30.525187 \nL 203.703125 32.166211 \nL 225.403125 31.589635 \n\" clip-path=\"url(#pafd8e4697b)\" style=\"fill: none; stroke-dasharray: 9.6,2.4,1.5,2.4; stroke-dashoffset: 0; stroke: #008000; stroke-width: 1.5\"/>\n   </g>\n   <g id=\"patch_3\">\n    <path d=\"M 30.103125 149.599219 \nL 30.103125 10.999219 \n\" style=\"fill: none; stroke: #000000; stroke-width: 0.8; stroke-linejoin: miter; stroke-linecap: square\"/>\n   </g>\n   <g id=\"patch_4\">\n    <path d=\"M 225.403125 149.599219 \nL 225.403125 10.999219 \n\" style=\"fill: none; stroke: #000000; stroke-width: 0.8; stroke-linejoin: miter; stroke-linecap: square\"/>\n   </g>\n   <g id=\"patch_5\">\n    <path d=\"M 30.103125 149.599219 \nL 225.403125 149.599219 \n\" style=\"fill: none; stroke: #000000; stroke-width: 0.8; stroke-linejoin: miter; stroke-linecap: square\"/>\n   </g>\n   <g id=\"patch_6\">\n    <path d=\"M 30.103125 10.999219 \nL 225.403125 10.999219 \n\" style=\"fill: none; stroke: #000000; stroke-width: 0.8; stroke-linejoin: miter; stroke-linecap: square\"/>\n   </g>\n   <g id=\"legend_1\">\n    <g id=\"patch_7\">\n     <path d=\"M 140.634375 103.816406 \nL 218.403125 103.816406 \nQ 220.403125 103.816406 220.403125 101.816406 \nL 220.403125 58.782031 \nQ 220.403125 56.782031 218.403125 56.782031 \nL 140.634375 56.782031 \nQ 138.634375 56.782031 138.634375 58.782031 \nL 138.634375 101.816406 \nQ 138.634375 103.816406 140.634375 103.816406 \nz\n\" style=\"fill: #ffffff; opacity: 0.8; stroke: #cccccc; stroke-linejoin: miter\"/>\n    </g>\n    <g id=\"line2d_26\">\n     <path d=\"M 142.634375 64.880469 \nL 152.634375 64.880469 \nL 162.634375 64.880469 \n\" style=\"fill: none; stroke: #1f77b4; stroke-width: 1.5; stroke-linecap: square\"/>\n    </g>\n    <g id=\"text_13\">\n     <!-- train loss -->\n     <g transform=\"translate(170.634375 68.380469) scale(0.1 -0.1)\">\n      <defs>\n       <path id=\"DejaVuSans-74\" d=\"M 1172 4494 \nL 1172 3500 \nL 2356 3500 \nL 2356 3053 \nL 1172 3053 \nL 1172 1153 \nQ 1172 725 1289 603 \nQ 1406 481 1766 481 \nL 2356 481 \nL 2356 0 \nL 1766 0 \nQ 1100 0 847 248 \nQ 594 497 594 1153 \nL 594 3053 \nL 172 3053 \nL 172 3500 \nL 594 3500 \nL 594 4494 \nL 1172 4494 \nz\n\" transform=\"scale(0.015625)\"/>\n       <path id=\"DejaVuSans-72\" d=\"M 2631 2963 \nQ 2534 3019 2420 3045 \nQ 2306 3072 2169 3072 \nQ 1681 3072 1420 2755 \nQ 1159 2438 1159 1844 \nL 1159 0 \nL 581 0 \nL 581 3500 \nL 1159 3500 \nL 1159 2956 \nQ 1341 3275 1631 3429 \nQ 1922 3584 2338 3584 \nQ 2397 3584 2469 3576 \nQ 2541 3569 2628 3553 \nL 2631 2963 \nz\n\" transform=\"scale(0.015625)\"/>\n       <path id=\"DejaVuSans-61\" d=\"M 2194 1759 \nQ 1497 1759 1228 1600 \nQ 959 1441 959 1056 \nQ 959 750 1161 570 \nQ 1363 391 1709 391 \nQ 2188 391 2477 730 \nQ 2766 1069 2766 1631 \nL 2766 1759 \nL 2194 1759 \nz\nM 3341 1997 \nL 3341 0 \nL 2766 0 \nL 2766 531 \nQ 2569 213 2275 61 \nQ 1981 -91 1556 -91 \nQ 1019 -91 701 211 \nQ 384 513 384 1019 \nQ 384 1609 779 1909 \nQ 1175 2209 1959 2209 \nL 2766 2209 \nL 2766 2266 \nQ 2766 2663 2505 2880 \nQ 2244 3097 1772 3097 \nQ 1472 3097 1187 3025 \nQ 903 2953 641 2809 \nL 641 3341 \nQ 956 3463 1253 3523 \nQ 1550 3584 1831 3584 \nQ 2591 3584 2966 3190 \nQ 3341 2797 3341 1997 \nz\n\" transform=\"scale(0.015625)\"/>\n       <path id=\"DejaVuSans-69\" d=\"M 603 3500 \nL 1178 3500 \nL 1178 0 \nL 603 0 \nL 603 3500 \nz\nM 603 4863 \nL 1178 4863 \nL 1178 4134 \nL 603 4134 \nL 603 4863 \nz\n\" transform=\"scale(0.015625)\"/>\n       <path id=\"DejaVuSans-6e\" d=\"M 3513 2113 \nL 3513 0 \nL 2938 0 \nL 2938 2094 \nQ 2938 2591 2744 2837 \nQ 2550 3084 2163 3084 \nQ 1697 3084 1428 2787 \nQ 1159 2491 1159 1978 \nL 1159 0 \nL 581 0 \nL 581 3500 \nL 1159 3500 \nL 1159 2956 \nQ 1366 3272 1645 3428 \nQ 1925 3584 2291 3584 \nQ 2894 3584 3203 3211 \nQ 3513 2838 3513 2113 \nz\n\" transform=\"scale(0.015625)\"/>\n       <path id=\"DejaVuSans-20\" transform=\"scale(0.015625)\"/>\n       <path id=\"DejaVuSans-6c\" d=\"M 603 4863 \nL 1178 4863 \nL 1178 0 \nL 603 0 \nL 603 4863 \nz\n\" transform=\"scale(0.015625)\"/>\n       <path id=\"DejaVuSans-73\" d=\"M 2834 3397 \nL 2834 2853 \nQ 2591 2978 2328 3040 \nQ 2066 3103 1784 3103 \nQ 1356 3103 1142 2972 \nQ 928 2841 928 2578 \nQ 928 2378 1081 2264 \nQ 1234 2150 1697 2047 \nL 1894 2003 \nQ 2506 1872 2764 1633 \nQ 3022 1394 3022 966 \nQ 3022 478 2636 193 \nQ 2250 -91 1575 -91 \nQ 1294 -91 989 -36 \nQ 684 19 347 128 \nL 347 722 \nQ 666 556 975 473 \nQ 1284 391 1588 391 \nQ 1994 391 2212 530 \nQ 2431 669 2431 922 \nQ 2431 1156 2273 1281 \nQ 2116 1406 1581 1522 \nL 1381 1569 \nQ 847 1681 609 1914 \nQ 372 2147 372 2553 \nQ 372 3047 722 3315 \nQ 1072 3584 1716 3584 \nQ 2034 3584 2315 3537 \nQ 2597 3491 2834 3397 \nz\n\" transform=\"scale(0.015625)\"/>\n      </defs>\n      <use xlink:href=\"#DejaVuSans-74\"/>\n      <use xlink:href=\"#DejaVuSans-72\" transform=\"translate(39.208984 0)\"/>\n      <use xlink:href=\"#DejaVuSans-61\" transform=\"translate(80.322266 0)\"/>\n      <use xlink:href=\"#DejaVuSans-69\" transform=\"translate(141.601562 0)\"/>\n      <use xlink:href=\"#DejaVuSans-6e\" transform=\"translate(169.384766 0)\"/>\n      <use xlink:href=\"#DejaVuSans-20\" transform=\"translate(232.763672 0)\"/>\n      <use xlink:href=\"#DejaVuSans-6c\" transform=\"translate(264.550781 0)\"/>\n      <use xlink:href=\"#DejaVuSans-6f\" transform=\"translate(292.333984 0)\"/>\n      <use xlink:href=\"#DejaVuSans-73\" transform=\"translate(353.515625 0)\"/>\n      <use xlink:href=\"#DejaVuSans-73\" transform=\"translate(405.615234 0)\"/>\n     </g>\n    </g>\n    <g id=\"line2d_27\">\n     <path d=\"M 142.634375 79.558594 \nL 152.634375 79.558594 \nL 162.634375 79.558594 \n\" style=\"fill: none; stroke-dasharray: 5.55,2.4; stroke-dashoffset: 0; stroke: #bf00bf; stroke-width: 1.5\"/>\n    </g>\n    <g id=\"text_14\">\n     <!-- train acc -->\n     <g transform=\"translate(170.634375 83.058594) scale(0.1 -0.1)\">\n      <use xlink:href=\"#DejaVuSans-74\"/>\n      <use xlink:href=\"#DejaVuSans-72\" transform=\"translate(39.208984 0)\"/>\n      <use xlink:href=\"#DejaVuSans-61\" transform=\"translate(80.322266 0)\"/>\n      <use xlink:href=\"#DejaVuSans-69\" transform=\"translate(141.601562 0)\"/>\n      <use xlink:href=\"#DejaVuSans-6e\" transform=\"translate(169.384766 0)\"/>\n      <use xlink:href=\"#DejaVuSans-20\" transform=\"translate(232.763672 0)\"/>\n      <use xlink:href=\"#DejaVuSans-61\" transform=\"translate(264.550781 0)\"/>\n      <use xlink:href=\"#DejaVuSans-63\" transform=\"translate(325.830078 0)\"/>\n      <use xlink:href=\"#DejaVuSans-63\" transform=\"translate(380.810547 0)\"/>\n     </g>\n    </g>\n    <g id=\"line2d_28\">\n     <path d=\"M 142.634375 94.236719 \nL 152.634375 94.236719 \nL 162.634375 94.236719 \n\" style=\"fill: none; stroke-dasharray: 9.6,2.4,1.5,2.4; stroke-dashoffset: 0; stroke: #008000; stroke-width: 1.5\"/>\n    </g>\n    <g id=\"text_15\">\n     <!-- test acc -->\n     <g transform=\"translate(170.634375 97.736719) scale(0.1 -0.1)\">\n      <use xlink:href=\"#DejaVuSans-74\"/>\n      <use xlink:href=\"#DejaVuSans-65\" transform=\"translate(39.208984 0)\"/>\n      <use xlink:href=\"#DejaVuSans-73\" transform=\"translate(100.732422 0)\"/>\n      <use xlink:href=\"#DejaVuSans-74\" transform=\"translate(152.832031 0)\"/>\n      <use xlink:href=\"#DejaVuSans-20\" transform=\"translate(192.041016 0)\"/>\n      <use xlink:href=\"#DejaVuSans-61\" transform=\"translate(223.828125 0)\"/>\n      <use xlink:href=\"#DejaVuSans-63\" transform=\"translate(285.107422 0)\"/>\n      <use xlink:href=\"#DejaVuSans-63\" transform=\"translate(340.087891 0)\"/>\n     </g>\n    </g>\n   </g>\n  </g>\n </g>\n <defs>\n  <clipPath id=\"pafd8e4697b\">\n   <rect x=\"30.103125\" y=\"10.999219\" width=\"195.3\" height=\"138.6\"/>\n  </clipPath>\n </defs>\n</svg>\n"
          },
          "metadata": {}
        }
      ]
    },
    {
      "cell_type": "code",
      "source": [
        "import math\n",
        "import torch\n",
        "from torch import nn\n",
        "from torch.utils.data import Dataset, DataLoader\n",
        "import torch.nn.functional as F\n",
        "\n",
        "# ============ 辅助函数 ============\n",
        "def transpose_qkv(X, num_heads):\n",
        "    \"\"\"变换多头注意力的输入\"\"\"\n",
        "    X = X.reshape(X.shape[0], X.shape[1], num_heads, -1)\n",
        "    X = X.permute(0, 2, 1, 3)\n",
        "    return X.reshape(-1, X.shape[2], X.shape[3])\n",
        "\n",
        "def transpose_output(X, num_heads):\n",
        "    \"\"\"逆转transpose_qkv的操作\"\"\"\n",
        "    X = X.reshape(-1, num_heads, X.shape[1], X.shape[2])\n",
        "    X = X.permute(0, 2, 1, 3)\n",
        "    return X.reshape(X.shape[0], X.shape[1], -1)\n",
        "\n",
        "# ============ 注意力机制 ============\n",
        "class DotProductAttention(nn.Module):\n",
        "    \"\"\"缩放点积注意力\"\"\"\n",
        "    def __init__(self, dropout):\n",
        "        super(DotProductAttention, self).__init__()\n",
        "        self.dropout = nn.Dropout(dropout)\n",
        "        self.attention_weights = None\n",
        "\n",
        "    def forward(self, queries, keys, values, valid_lens=None):\n",
        "        d = queries.shape[-1]\n",
        "        scores = torch.bmm(queries, keys.transpose(1, 2)) / math.sqrt(d)\n",
        "        if valid_lens is not None:\n",
        "            attention_weights = self.masked_softmax(scores, valid_lens)\n",
        "        else:\n",
        "            attention_weights = F.softmax(scores, dim=-1)\n",
        "        self.attention_weights = attention_weights\n",
        "        return torch.bmm(self.dropout(attention_weights), values)\n",
        "\n",
        "    def masked_softmax(self, X, valid_lens):\n",
        "        \"\"\"遮蔽softmax操作\"\"\"\n",
        "        if valid_lens is None:\n",
        "            return F.softmax(X, dim=-1)\n",
        "        else:\n",
        "            shape = X.shape\n",
        "            if valid_lens.dim() == 1:\n",
        "                valid_lens = torch.repeat_interleave(valid_lens, shape[1])\n",
        "            else:\n",
        "                valid_lens = valid_lens.reshape(-1)\n",
        "            X = X.reshape(-1, shape[-1])\n",
        "            for i, length in enumerate(valid_lens):\n",
        "                if length > 0:\n",
        "                    X[i, length:] = -1e6\n",
        "            return F.softmax(X.reshape(shape), dim=-1)\n",
        "\n",
        "# ============ 基础模块 ============\n",
        "class PositionWiseFFN(nn.Module):\n",
        "    \"\"\"基于位置的前馈网络\"\"\"\n",
        "    def __init__(self, ffn_num_input, ffn_num_hiddens, ffn_num_outputs):\n",
        "        super(PositionWiseFFN, self).__init__()\n",
        "        self.dense1 = nn.Linear(ffn_num_input, ffn_num_hiddens)\n",
        "        self.relu = nn.ReLU()\n",
        "        self.dense2 = nn.Linear(ffn_num_hiddens, ffn_num_outputs)\n",
        "\n",
        "    def forward(self, X):\n",
        "        return self.dense2(self.relu(self.dense1(X)))\n",
        "\n",
        "class AddNorm(nn.Module):\n",
        "    \"\"\"残差连接后进行层规范化\"\"\"\n",
        "    def __init__(self, normalized_shape, dropout):\n",
        "        super(AddNorm, self).__init__()\n",
        "        self.dropout = nn.Dropout(dropout)\n",
        "        self.ln = nn.LayerNorm(normalized_shape)\n",
        "\n",
        "    def forward(self, X, Y):\n",
        "        return self.ln(self.dropout(Y) + X)\n",
        "\n",
        "class MultiHeadAttention(nn.Module):\n",
        "    \"\"\"多头注意力\"\"\"\n",
        "    def __init__(self, key_size, query_size, value_size, num_hiddens,\n",
        "                 num_heads, dropout, bias=False):\n",
        "        super(MultiHeadAttention, self).__init__()\n",
        "        self.num_heads = num_heads\n",
        "        self.attention = DotProductAttention(dropout)\n",
        "        self.W_q = nn.Linear(query_size, num_hiddens, bias=bias)\n",
        "        self.W_k = nn.Linear(key_size, num_hiddens, bias=bias)\n",
        "        self.W_v = nn.Linear(value_size, num_hiddens, bias=bias)\n",
        "        self.W_o = nn.Linear(num_hiddens, num_hiddens, bias=bias)\n",
        "\n",
        "    def forward(self, queries, keys, values, valid_lens):\n",
        "        queries = transpose_qkv(self.W_q(queries), self.num_heads)\n",
        "        keys = transpose_qkv(self.W_k(keys), self.num_heads)\n",
        "        values = transpose_qkv(self.W_v(values), self.num_heads)\n",
        "\n",
        "        if valid_lens is not None:\n",
        "            valid_lens = torch.repeat_interleave(\n",
        "                valid_lens, repeats=self.num_heads, dim=0)\n",
        "\n",
        "        output = self.attention(queries, keys, values, valid_lens)\n",
        "        output_concat = transpose_output(output, self.num_heads)\n",
        "        return self.W_o(output_concat)\n",
        "\n",
        "class PositionalEncoding(nn.Module):\n",
        "    \"\"\"位置编码\"\"\"\n",
        "    def __init__(self, num_hiddens, dropout, max_len=1000):\n",
        "        super(PositionalEncoding, self).__init__()\n",
        "        self.dropout = nn.Dropout(dropout)\n",
        "        self.P = torch.zeros((1, max_len, num_hiddens))\n",
        "        X = torch.arange(max_len, dtype=torch.float32).reshape(\n",
        "            -1, 1) / torch.pow(10000, torch.arange(\n",
        "            0, num_hiddens, 2, dtype=torch.float32) / num_hiddens)\n",
        "        self.P[:, :, 0::2] = torch.sin(X)\n",
        "        self.P[:, :, 1::2] = torch.cos(X)\n",
        "\n",
        "    def forward(self, X):\n",
        "        X = X + self.P[:, :X.shape[1], :].to(X.device)\n",
        "        return self.dropout(X)\n",
        "\n",
        "class EncoderBlock(nn.Module):\n",
        "    \"\"\"Transformer编码器块\"\"\"\n",
        "    def __init__(self, key_size, query_size, value_size, num_hiddens,\n",
        "                 norm_shape, ffn_num_input, ffn_num_hiddens, num_heads,\n",
        "                 dropout, use_bias=False):\n",
        "        super(EncoderBlock, self).__init__()\n",
        "        self.attention = MultiHeadAttention(\n",
        "            key_size, query_size, value_size, num_hiddens, num_heads, dropout,\n",
        "            use_bias)\n",
        "        self.addnorm1 = AddNorm(norm_shape, dropout)\n",
        "        self.ffn = PositionWiseFFN(\n",
        "            ffn_num_input, ffn_num_hiddens, num_hiddens)\n",
        "        self.addnorm2 = AddNorm(norm_shape, dropout)\n",
        "\n",
        "    def forward(self, X, valid_lens):\n",
        "        Y = self.addnorm1(X, self.attention(X, X, X, valid_lens))\n",
        "        return self.addnorm2(Y, self.ffn(Y))\n",
        "\n",
        "# ============ 情感分类模型 ============\n",
        "class TransformerSentimentClassifier(nn.Module):\n",
        "    \"\"\"基于Transformer编码器的情感分类模型\"\"\"\n",
        "    def __init__(self, vocab_size, num_hiddens, num_heads, num_layers,\n",
        "                 ffn_num_hiddens, num_classes, dropout=0.1, max_len=512):\n",
        "        super(TransformerSentimentClassifier, self).__init__()\n",
        "        self.num_hiddens = num_hiddens\n",
        "\n",
        "        # 词嵌入和位置编码\n",
        "        self.embedding = nn.Embedding(vocab_size, num_hiddens)\n",
        "        self.pos_encoding = PositionalEncoding(num_hiddens, dropout, max_len)\n",
        "\n",
        "        # Transformer编码器层\n",
        "        self.encoder_blocks = nn.ModuleList([\n",
        "            EncoderBlock(\n",
        "                key_size=num_hiddens,\n",
        "                query_size=num_hiddens,\n",
        "                value_size=num_hiddens,\n",
        "                num_hiddens=num_hiddens,\n",
        "                norm_shape=num_hiddens,\n",
        "                ffn_num_input=num_hiddens,\n",
        "                ffn_num_hiddens=ffn_num_hiddens,\n",
        "                num_heads=num_heads,\n",
        "                dropout=dropout\n",
        "            ) for _ in range(num_layers)\n",
        "        ])\n",
        "\n",
        "        # 分类头\n",
        "        self.dropout = nn.Dropout(dropout)\n",
        "        self.classifier = nn.Linear(num_hiddens, num_classes)\n",
        "\n",
        "    def forward(self, X, valid_lens=None):\n",
        "        \"\"\"\n",
        "        X: (batch_size, seq_len) - 输入序列的token索引\n",
        "        valid_lens: (batch_size,) - 每个序列的有效长度\n",
        "        \"\"\"\n",
        "        # 词嵌入和位置编码\n",
        "        X = self.pos_encoding(self.embedding(X) * math.sqrt(self.num_hiddens))\n",
        "\n",
        "        # 通过编码器层\n",
        "        for block in self.encoder_blocks:\n",
        "            X = block(X, valid_lens)\n",
        "\n",
        "        # 使用[CLS] token(第一个位置)进行分类\n",
        "        # 或者使用平均池化\n",
        "        # pooled = X[:, 0, :]  # 取第一个token的输出\n",
        "        pooled = X.mean(dim=1)  # 或者: 平均池化\n",
        "\n",
        "        # 分类\n",
        "        output = self.classifier(self.dropout(pooled))\n",
        "        return output\n"
      ],
      "metadata": {
        "id": "o9471gCzS29m"
      },
      "id": "o9471gCzS29m",
      "execution_count": null,
      "outputs": []
    },
    {
      "cell_type": "code",
      "source": [
        "\n",
        "num_classes = 2         # 预训练embedding维度\n",
        "num_hiddens = 100          # 统一hidden维度\n",
        "num_heads = 2              # 每头32维\n",
        "num_layers = 4             # 增加深度\n",
        "ffn_num_hiddens = 256      # 2倍扩展\n",
        "dropout = 0.1\n",
        "lr = 0.0001               # 降低学习率!\n",
        "batch_size = 32           # 减小batch_size\n",
        "num_epochs = 20           # 增加训练轮数\n",
        "\n",
        "net = TransformerSentimentClassifier(\n",
        "        vocab_size=len(vocab),\n",
        "        num_hiddens=num_hiddens,\n",
        "        num_heads=num_heads,\n",
        "        num_layers=num_layers,\n",
        "        ffn_num_hiddens=ffn_num_hiddens,\n",
        "        num_classes=num_classes,\n",
        "        dropout=dropout,\n",
        "        max_len=num_steps\n",
        "    )\n",
        "\n",
        "\n",
        "# print(embeds.shape)\n",
        "# #我们使用这些预训练的词向量来表示评论中的词元，并且在训练期间不要更新这些向量。\n",
        "net.embedding.weight.data.copy_(embeds)\n",
        "net.embedding.weight.requires_grad = False\n",
        "# net.decoder.embedding.weight.data.copy_(embeds)\n",
        "# net.decoder.embedding.weight.requires_grad = False\n",
        "\n",
        "# lr, num_epochs = 0.01, 5\n",
        "trainer = torch.optim.Adam(net.parameters(), lr=lr)\n",
        "loss = nn.CrossEntropyLoss(reduction=\"none\")\n",
        "devices = d2l.try_all_gpus()\n",
        "train_ch13(net, train_iter, test_iter, loss, trainer, num_epochs,devices)"
      ],
      "metadata": {
        "id": "CeDqX5f70jHB"
      },
      "id": "CeDqX5f70jHB",
      "execution_count": null,
      "outputs": []
    },
    {
      "cell_type": "markdown",
      "source": [
        "###将BERT集成到您现有的训练代码中 完全兼容d2l的训练框架"
      ],
      "metadata": {
        "id": "NxX6Af0uHcTU"
      },
      "id": "NxX6Af0uHcTU"
    },
    {
      "cell_type": "code",
      "source": [
        "data_dir = d2l.download_extract('aclImdb', 'aclImdb')\n",
        "train_data = read_imdb(data_dir, True)\n",
        "test_data = read_imdb(data_dir, False)\n",
        "train_texts,train_labels= train_data\n",
        "test_texts,test_labels=test_data\n",
        "print(len(train_data[0]))\n",
        "print(len(train_data[1]))\n",
        "print(len(train_data))"
      ],
      "metadata": {
        "id": "J4QBuTjEHbyx",
        "outputId": "0c0ddb5c-baa9-44dc-eb57-648b3c36b7fa",
        "colab": {
          "base_uri": "https://localhost:8080/"
        }
      },
      "id": "J4QBuTjEHbyx",
      "execution_count": 21,
      "outputs": [
        {
          "output_type": "stream",
          "name": "stdout",
          "text": [
            "25000\n",
            "25000\n",
            "2\n"
          ]
        }
      ]
    },
    {
      "cell_type": "code",
      "source": [
        "\"\"\"\n",
        "将BERT集成到您现有的训练代码中\n",
        "完全兼容d2l的训练框架\n",
        "\"\"\"\n",
        "\n",
        "import torch\n",
        "import torch.nn as nn\n",
        "from torch.utils.data import Dataset, DataLoader\n",
        "from transformers import BertModel, BertTokenizer\n",
        "from torch.optim import AdamW\n",
        "from transformers import get_linear_schedule_with_warmup\n",
        "from d2l import torch as d2l\n",
        "\n",
        "# ============ BERT模型定义 ============\n",
        "class BERTSentimentClassifier(nn.Module):\n",
        "    \"\"\"BERT情感分类器 - 兼容您的训练代码\"\"\"\n",
        "    def __init__(self, bert_model_name='bert-base-uncased', num_classes=2,\n",
        "                 dropout=0.1):\n",
        "        super(BERTSentimentClassifier, self).__init__()\n",
        "\n",
        "        self.bert = BertModel.from_pretrained(bert_model_name)\n",
        "        self.dropout = nn.Dropout(dropout)\n",
        "        self.classifier = nn.Linear(self.bert.config.hidden_size, num_classes)\n",
        "\n",
        "    def forward(self, input_ids, attention_mask):\n",
        "        \"\"\"前向传播 - 返回logits\"\"\"\n",
        "        outputs = self.bert(input_ids=input_ids, attention_mask=attention_mask)\n",
        "        pooled = outputs.pooler_output\n",
        "        return self.classifier(self.dropout(pooled))\n",
        "\n",
        "# ============ 使用DistilBERT (推荐!) ============\n",
        "class DistilBERTSentimentClassifier(nn.Module):\n",
        "    \"\"\"使用DistilBERT - 速度快2倍, 显存少40%\"\"\"\n",
        "    def __init__(self, num_classes=2, dropout=0.1):\n",
        "        super(DistilBERTSentimentClassifier, self).__init__()\n",
        "        from transformers import DistilBertModel\n",
        "\n",
        "        # DistilBERT: 66M参数 vs BERT: 110M参数\n",
        "        self.bert = DistilBertModel.from_pretrained('distilbert-base-uncased')\n",
        "        self.dropout = nn.Dropout(dropout)\n",
        "        self.classifier = nn.Linear(self.bert.config.hidden_size, num_classes)\n",
        "\n",
        "    def forward(self, input_ids, attention_mask):\n",
        "        outputs = self.bert(input_ids=input_ids, attention_mask=attention_mask)\n",
        "        # DistilBERT没有pooler_output, 使用第一个token\n",
        "        pooled_output = outputs.last_hidden_state[:, 0]\n",
        "        return self.classifier(self.dropout(pooled_output))\n",
        "\n",
        "\n",
        "# ============ 数据集包装器 ============\n",
        "class BERTDatasetWrapper:\n",
        "    \"\"\"\n",
        "    包装您现有的数据,使其兼容BERT\n",
        "    用法: 替换您原来的数据迭代器\n",
        "    \"\"\"\n",
        "    def __init__(self, data_iter, tokenizer, max_length=500, device=None):\n",
        "        \"\"\"\n",
        "        data_iter: 您原来的数据迭代器 (返回 features, labels)\n",
        "        tokenizer: BERT tokenizer\n",
        "        max_length: 最大序列长度\n",
        "        \"\"\"\n",
        "        self.data_iter = data_iter\n",
        "        self.tokenizer = tokenizer\n",
        "        self.max_length = max_length\n",
        "        self.device = device\n",
        "\n",
        "    def __iter__(self):\n",
        "        for batch in self.data_iter:\n",
        "            if len(batch) == 2:\n",
        "                features, labels = batch\n",
        "            else:\n",
        "                # 如果有valid_lens等额外信息\n",
        "                features, labels = batch[0], batch[-1]\n",
        "\n",
        "            # 如果features已经是tensor,需要转换回文本\n",
        "            # 这里假设您有vocab.to_tokens方法\n",
        "            # 实际使用时需要根据您的数据格式调整\n",
        "            yield self._convert_batch(features, labels)\n",
        "\n",
        "    def _convert_batch(self, features, labels):\n",
        "        \"\"\"将batch转换为BERT格式\"\"\"\n",
        "        # 如果features是token ids,需要转回文本再用BERT tokenizer\n",
        "        # 这里展示直接使用BERT tokenizer的情况\n",
        "        batch_size = labels.shape[0]\n",
        "\n",
        "        # 创建空的input_ids和attention_mask\n",
        "        input_ids = torch.zeros((batch_size, self.max_length), dtype=torch.long)\n",
        "        attention_mask = torch.zeros((batch_size, self.max_length), dtype=torch.long)\n",
        "\n",
        "        # 这里需要根据您的数据格式填充\n",
        "        # 示例: 如果features已经是适合的格式\n",
        "        if isinstance(features, torch.Tensor):\n",
        "            seq_len = min(features.shape[1], self.max_length)\n",
        "            input_ids[:, :seq_len] = features[:, :seq_len]\n",
        "            attention_mask[:, :seq_len] = 1\n",
        "\n",
        "        if self.device:\n",
        "            input_ids = input_ids.to(self.device)\n",
        "            attention_mask = attention_mask.to(self.device)\n",
        "            labels = labels.to(self.device)\n",
        "\n",
        "        return input_ids, attention_mask, labels\n",
        "\n",
        "\n",
        "# ============ 修改后的训练函数 ============\n",
        "def train_bert_epoch(net, train_iter, loss, updater, device, tokenizer=None):\n",
        "    \"\"\"\n",
        "    单个epoch训练 - 兼容d2l风格\n",
        "    与train_ch13类似,但适配BERT输入\n",
        "    \"\"\"\n",
        "    net.train()\n",
        "    metric = d2l.Accumulator(3)  # 训练损失总和, 准确数, 样本数\n",
        "\n",
        "    for batch_idx, batch in enumerate(train_iter):\n",
        "        # 解析batch\n",
        "        if len(batch) == 3:\n",
        "            input_ids, attention_mask, labels = batch\n",
        "        else:\n",
        "            # 如果使用BERTDatasetWrapper\n",
        "            input_ids, attention_mask, labels = batch\n",
        "\n",
        "        input_ids = input_ids.to(device)\n",
        "        attention_mask = attention_mask.to(device)\n",
        "        labels = labels.to(device)\n",
        "\n",
        "        # 前向传播\n",
        "        y_hat = net(input_ids, attention_mask)\n",
        "        l = loss(y_hat, labels)\n",
        "\n",
        "        # 反向传播\n",
        "        if isinstance(updater, torch.optim.Optimizer):\n",
        "            updater.zero_grad()\n",
        "            l.sum().backward()\n",
        "            # 梯度裁剪\n",
        "            torch.nn.utils.clip_grad_norm_(net.parameters(), max_norm=1.0)\n",
        "            updater.step()\n",
        "        else:\n",
        "            # 如果使用自定义updater\n",
        "            l.sum().backward()\n",
        "            updater(input_ids.shape[0])\n",
        "\n",
        "        # 统计\n",
        "        metric.add(l.sum(), d2l.accuracy(y_hat, labels), labels.numel())\n",
        "\n",
        "    return metric[0] / metric[2], metric[1] / metric[2]\n",
        "\n",
        "\n",
        "def evaluate_bert_accuracy(net, data_iter, device):\n",
        "    \"\"\"评估准确率 - 兼容d2l风格\"\"\"\n",
        "    net.eval()\n",
        "    metric = d2l.Accumulator(2)  # 正确预测数, 总数\n",
        "\n",
        "    with torch.no_grad():\n",
        "        for batch in data_iter:\n",
        "            if len(batch) == 3:\n",
        "                input_ids, attention_mask, labels = batch\n",
        "            else:\n",
        "                input_ids, attention_mask, labels = batch\n",
        "\n",
        "            input_ids = input_ids.to(device)\n",
        "            attention_mask = attention_mask.to(device)\n",
        "            labels = labels.to(device)\n",
        "\n",
        "            y_hat = net(input_ids, attention_mask)\n",
        "            metric.add(d2l.accuracy(y_hat, labels), labels.numel())\n",
        "\n",
        "    return metric[0] / metric[1]\n",
        "\n",
        "\n",
        "def train_bert_ch13(net, train_iter, test_iter, loss, trainer, num_epochs,\n",
        "                    devices, scheduler=None):\n",
        "    \"\"\"\n",
        "    完整训练流程 - 完全兼容您的train_ch13\n",
        "    \"\"\"\n",
        "    print('training on', devices)\n",
        "\n",
        "    if isinstance(devices, list) and len(devices) > 1:\n",
        "        # 多GPU\n",
        "        net = nn.DataParallel(net, device_ids=devices)\n",
        "\n",
        "    device = devices[0] if isinstance(devices, list) else devices\n",
        "    net = net.to(device)\n",
        "\n",
        "    timer, num_batches = d2l.Timer(), len(train_iter)\n",
        "    animator = d2l.Animator(xlabel='epoch', xlim=[1, num_epochs],\n",
        "                           legend=['train loss', 'train acc', 'test acc'])\n",
        "\n",
        "    for epoch in range(num_epochs):\n",
        "        # 训练\n",
        "        train_loss, train_acc = train_bert_epoch(\n",
        "            net, train_iter, loss, trainer, device\n",
        "        )\n",
        "\n",
        "        # 验证\n",
        "        test_acc = evaluate_bert_accuracy(net, test_iter, device)\n",
        "\n",
        "        # 学习率调度\n",
        "        if scheduler is not None:\n",
        "            scheduler.step()\n",
        "\n",
        "        # 绘图\n",
        "        animator.add(epoch + 1, (train_loss, train_acc, test_acc))\n",
        "\n",
        "        print(f'Epoch {epoch + 1}: '\n",
        "              f'loss {train_loss:.3f}, '\n",
        "              f'train acc {train_acc:.3f}, '\n",
        "              f'test acc {test_acc:.3f}')\n",
        "\n",
        "    print(f'Training completed in {timer.stop():.1f} sec')\n",
        "    print(f'Final: train acc {train_acc:.3f}, test acc {test_acc:.3f}')\n",
        "\n",
        "\n",
        "\n",
        "\n",
        "# 1. 初始化BERT tokenizer\n",
        "# DistilBERT 和 BERT 使用相同的tokenizer，因为 DistilBERT 是从 BERT 蒸馏而来的，保留了相同的词汇表和分词方式。\n",
        "tokenizer = BertTokenizer.from_pretrained('bert-base-uncased')\n",
        "\n",
        "# 2. 替换模型定义\n",
        "num_classes = 2\n",
        "dropout = 0.1\n",
        "batch_size = 16\n",
        "num_steps = 128  # 最大序列长度\n",
        "lr = 2e-5  # BERT学习率\n",
        "num_epochs = 5\n",
        "\n",
        " # 或 'distilbert-base-uncased' (更快)\n",
        "net = DistilBERTSentimentClassifier(\n",
        "    num_classes=num_classes,\n",
        "    dropout=dropout\n",
        ")\n",
        "\n",
        "# 注意: BERT自带预训练embedding,不需要手动加载embeds!\n",
        "\n",
        "# 3. 数据处理需要改用BERT tokenizer\n",
        "# 假设您有 train_texts, train_labels 等\n",
        "class BERTDataset(torch.utils.data.Dataset):\n",
        "    def __init__(self, texts, labels, tokenizer, max_length=500):\n",
        "        self.encodings = tokenizer(\n",
        "            texts,\n",
        "            truncation=True,\n",
        "            padding='max_length',\n",
        "            max_length=max_length,\n",
        "            return_tensors='pt'\n",
        "        )\n",
        "        self.labels = torch.tensor(labels)\n",
        "\n",
        "    def __getitem__(self, idx):\n",
        "        return (\n",
        "            self.encodings['input_ids'][idx],\n",
        "            self.encodings['attention_mask'][idx],\n",
        "            self.labels[idx]\n",
        "        )\n",
        "\n",
        "    def __len__(self):\n",
        "        return len(self.labels)\n",
        "\n",
        "\n",
        "# 创建数据集 (需要您的原始文本数据)\n",
        "train_dataset = BERTDataset(train_texts, train_labels, tokenizer, max_length=num_steps)\n",
        "test_dataset = BERTDataset(test_texts, test_labels, tokenizer, max_length=num_steps)\n",
        "\n",
        "train_iter = torch.utils.data.DataLoader(train_dataset, batch_size=batch_size, shuffle=True)\n",
        "test_iter = torch.utils.data.DataLoader(test_dataset, batch_size=batch_size, shuffle=False)\n",
        "\n",
        "# 优化器和调度器\n",
        "trainer = AdamW(net.parameters(), lr=lr, weight_decay=0.01)\n",
        "total_steps = len(train_iter) * num_epochs\n",
        "scheduler = get_linear_schedule_with_warmup(\n",
        "    trainer,\n",
        "    num_warmup_steps=total_steps // 10,\n",
        "    num_training_steps=total_steps\n",
        ")\n",
        "\n",
        "# 损失函数\n",
        "loss = nn.CrossEntropyLoss(reduction=\"none\")\n",
        "\n",
        "# 训练\n",
        "devices = d2l.try_all_gpus()\n",
        "train_bert_ch13(net, train_iter, test_iter, loss, trainer, num_epochs, devices, scheduler)\n",
        "\n",
        "print(\"\\n\" + \"=\"*60)\n",
        "print(\"关键修改点总结:\")\n",
        "print(\"=\"*60)\n",
        "print(\"1. 模型: TransformerSentimentClassifier → BERTSentimentClassifier\")\n",
        "print(\"2. 学习率: 0.01 → 2e-5 (BERT需要小学习率)\")\n",
        "print(\"3. 数据: vocab索引 → BERT tokenizer\")\n",
        "print(\"4. 优化器: Adam → AdamW (带weight decay)\")\n",
        "print(\"5. 添加: 学习率warmup scheduler\")\n",
        "print(\"6. 训练函数: train_ch13 → train_bert_ch13\")\n",
        "\n",
        "\n",
        "\n"
      ],
      "metadata": {
        "id": "lqrNE_cvAPaD",
        "outputId": "24328429-e2cc-45d0-f611-3713dac49512",
        "colab": {
          "base_uri": "https://localhost:8080/",
          "height": 681
        }
      },
      "id": "lqrNE_cvAPaD",
      "execution_count": 24,
      "outputs": [
        {
          "metadata": {
            "tags": null
          },
          "name": "stdout",
          "output_type": "stream",
          "text": [
            "training on [device(type='cuda', index=0)]\n"
          ]
        },
        {
          "metadata": {
            "tags": null
          },
          "name": "stderr",
          "output_type": "stream",
          "text": [
            "/usr/local/lib/python3.12/dist-packages/d2l/torch.py:3179: UserWarning: Converting a tensor with requires_grad=True to a scalar may lead to unexpected behavior.\n",
            "Consider using tensor.detach() first. (Triggered internally at /pytorch/torch/csrc/autograd/generated/python_variable_methods.cpp:835.)\n",
            "  self.data = [a + float(b) for a, b in zip(self.data, args)]\n"
          ]
        },
        {
          "output_type": "error",
          "ename": "KeyboardInterrupt",
          "evalue": "",
          "traceback": [
            "\u001b[0;31m---------------------------------------------------------------------------\u001b[0m",
            "\u001b[0;31mKeyboardInterrupt\u001b[0m                         Traceback (most recent call last)",
            "\u001b[0;32m/tmp/ipython-input-3852678043.py\u001b[0m in \u001b[0;36m<cell line: 0>\u001b[0;34m()\u001b[0m\n\u001b[1;32m    278\u001b[0m \u001b[0;31m# 训练\u001b[0m\u001b[0;34m\u001b[0m\u001b[0;34m\u001b[0m\u001b[0m\n\u001b[1;32m    279\u001b[0m \u001b[0mdevices\u001b[0m \u001b[0;34m=\u001b[0m \u001b[0md2l\u001b[0m\u001b[0;34m.\u001b[0m\u001b[0mtry_all_gpus\u001b[0m\u001b[0;34m(\u001b[0m\u001b[0;34m)\u001b[0m\u001b[0;34m\u001b[0m\u001b[0;34m\u001b[0m\u001b[0m\n\u001b[0;32m--> 280\u001b[0;31m \u001b[0mtrain_bert_ch13\u001b[0m\u001b[0;34m(\u001b[0m\u001b[0mnet\u001b[0m\u001b[0;34m,\u001b[0m \u001b[0mtrain_iter\u001b[0m\u001b[0;34m,\u001b[0m \u001b[0mtest_iter\u001b[0m\u001b[0;34m,\u001b[0m \u001b[0mloss\u001b[0m\u001b[0;34m,\u001b[0m \u001b[0mtrainer\u001b[0m\u001b[0;34m,\u001b[0m \u001b[0mnum_epochs\u001b[0m\u001b[0;34m,\u001b[0m \u001b[0mdevices\u001b[0m\u001b[0;34m,\u001b[0m \u001b[0mscheduler\u001b[0m\u001b[0;34m)\u001b[0m\u001b[0;34m\u001b[0m\u001b[0;34m\u001b[0m\u001b[0m\n\u001b[0m\u001b[1;32m    281\u001b[0m \u001b[0;34m\u001b[0m\u001b[0m\n\u001b[1;32m    282\u001b[0m \u001b[0mprint\u001b[0m\u001b[0;34m(\u001b[0m\u001b[0;34m\"\\n\"\u001b[0m \u001b[0;34m+\u001b[0m \u001b[0;34m\"=\"\u001b[0m\u001b[0;34m*\u001b[0m\u001b[0;36m60\u001b[0m\u001b[0;34m)\u001b[0m\u001b[0;34m\u001b[0m\u001b[0;34m\u001b[0m\u001b[0m\n",
            "\u001b[0;32m/tmp/ipython-input-3852678043.py\u001b[0m in \u001b[0;36mtrain_bert_ch13\u001b[0;34m(net, train_iter, test_iter, loss, trainer, num_epochs, devices, scheduler)\u001b[0m\n\u001b[1;32m    193\u001b[0m \u001b[0;34m\u001b[0m\u001b[0m\n\u001b[1;32m    194\u001b[0m         \u001b[0;31m# 验证\u001b[0m\u001b[0;34m\u001b[0m\u001b[0;34m\u001b[0m\u001b[0m\n\u001b[0;32m--> 195\u001b[0;31m         \u001b[0mtest_acc\u001b[0m \u001b[0;34m=\u001b[0m \u001b[0mevaluate_bert_accuracy\u001b[0m\u001b[0;34m(\u001b[0m\u001b[0mnet\u001b[0m\u001b[0;34m,\u001b[0m \u001b[0mtest_iter\u001b[0m\u001b[0;34m,\u001b[0m \u001b[0mdevice\u001b[0m\u001b[0;34m)\u001b[0m\u001b[0;34m\u001b[0m\u001b[0;34m\u001b[0m\u001b[0m\n\u001b[0m\u001b[1;32m    196\u001b[0m \u001b[0;34m\u001b[0m\u001b[0m\n\u001b[1;32m    197\u001b[0m         \u001b[0;31m# 学习率调度\u001b[0m\u001b[0;34m\u001b[0m\u001b[0;34m\u001b[0m\u001b[0m\n",
            "\u001b[0;32m/tmp/ipython-input-3852678043.py\u001b[0m in \u001b[0;36mevaluate_bert_accuracy\u001b[0;34m(net, data_iter, device)\u001b[0m\n\u001b[1;32m    163\u001b[0m \u001b[0;34m\u001b[0m\u001b[0m\n\u001b[1;32m    164\u001b[0m             \u001b[0my_hat\u001b[0m \u001b[0;34m=\u001b[0m \u001b[0mnet\u001b[0m\u001b[0;34m(\u001b[0m\u001b[0minput_ids\u001b[0m\u001b[0;34m,\u001b[0m \u001b[0mattention_mask\u001b[0m\u001b[0;34m)\u001b[0m\u001b[0;34m\u001b[0m\u001b[0;34m\u001b[0m\u001b[0m\n\u001b[0;32m--> 165\u001b[0;31m             \u001b[0mmetric\u001b[0m\u001b[0;34m.\u001b[0m\u001b[0madd\u001b[0m\u001b[0;34m(\u001b[0m\u001b[0md2l\u001b[0m\u001b[0;34m.\u001b[0m\u001b[0maccuracy\u001b[0m\u001b[0;34m(\u001b[0m\u001b[0my_hat\u001b[0m\u001b[0;34m,\u001b[0m \u001b[0mlabels\u001b[0m\u001b[0;34m)\u001b[0m\u001b[0;34m,\u001b[0m \u001b[0mlabels\u001b[0m\u001b[0;34m.\u001b[0m\u001b[0mnumel\u001b[0m\u001b[0;34m(\u001b[0m\u001b[0;34m)\u001b[0m\u001b[0;34m)\u001b[0m\u001b[0;34m\u001b[0m\u001b[0;34m\u001b[0m\u001b[0m\n\u001b[0m\u001b[1;32m    166\u001b[0m \u001b[0;34m\u001b[0m\u001b[0m\n\u001b[1;32m    167\u001b[0m     \u001b[0;32mreturn\u001b[0m \u001b[0mmetric\u001b[0m\u001b[0;34m[\u001b[0m\u001b[0;36m0\u001b[0m\u001b[0;34m]\u001b[0m \u001b[0;34m/\u001b[0m \u001b[0mmetric\u001b[0m\u001b[0;34m[\u001b[0m\u001b[0;36m1\u001b[0m\u001b[0;34m]\u001b[0m\u001b[0;34m\u001b[0m\u001b[0;34m\u001b[0m\u001b[0m\n",
            "\u001b[0;32m/usr/local/lib/python3.12/dist-packages/d2l/torch.py\u001b[0m in \u001b[0;36maccuracy\u001b[0;34m(y_hat, y)\u001b[0m\n\u001b[1;32m   3193\u001b[0m         \u001b[0my_hat\u001b[0m \u001b[0;34m=\u001b[0m \u001b[0md2l\u001b[0m\u001b[0;34m.\u001b[0m\u001b[0margmax\u001b[0m\u001b[0;34m(\u001b[0m\u001b[0my_hat\u001b[0m\u001b[0;34m,\u001b[0m \u001b[0maxis\u001b[0m\u001b[0;34m=\u001b[0m\u001b[0;36m1\u001b[0m\u001b[0;34m)\u001b[0m\u001b[0;34m\u001b[0m\u001b[0;34m\u001b[0m\u001b[0m\n\u001b[1;32m   3194\u001b[0m     \u001b[0mcmp\u001b[0m \u001b[0;34m=\u001b[0m \u001b[0md2l\u001b[0m\u001b[0;34m.\u001b[0m\u001b[0mastype\u001b[0m\u001b[0;34m(\u001b[0m\u001b[0my_hat\u001b[0m\u001b[0;34m,\u001b[0m \u001b[0my\u001b[0m\u001b[0;34m.\u001b[0m\u001b[0mdtype\u001b[0m\u001b[0;34m)\u001b[0m \u001b[0;34m==\u001b[0m \u001b[0my\u001b[0m\u001b[0;34m\u001b[0m\u001b[0;34m\u001b[0m\u001b[0m\n\u001b[0;32m-> 3195\u001b[0;31m     \u001b[0;32mreturn\u001b[0m \u001b[0mfloat\u001b[0m\u001b[0;34m(\u001b[0m\u001b[0md2l\u001b[0m\u001b[0;34m.\u001b[0m\u001b[0mreduce_sum\u001b[0m\u001b[0;34m(\u001b[0m\u001b[0md2l\u001b[0m\u001b[0;34m.\u001b[0m\u001b[0mastype\u001b[0m\u001b[0;34m(\u001b[0m\u001b[0mcmp\u001b[0m\u001b[0;34m,\u001b[0m \u001b[0my\u001b[0m\u001b[0;34m.\u001b[0m\u001b[0mdtype\u001b[0m\u001b[0;34m)\u001b[0m\u001b[0;34m)\u001b[0m\u001b[0;34m)\u001b[0m\u001b[0;34m\u001b[0m\u001b[0;34m\u001b[0m\u001b[0m\n\u001b[0m\u001b[1;32m   3196\u001b[0m \u001b[0;34m\u001b[0m\u001b[0m\n\u001b[1;32m   3197\u001b[0m \u001b[0;32mdef\u001b[0m \u001b[0mdownload\u001b[0m\u001b[0;34m(\u001b[0m\u001b[0murl\u001b[0m\u001b[0;34m,\u001b[0m \u001b[0mfolder\u001b[0m\u001b[0;34m=\u001b[0m\u001b[0;34m'../data'\u001b[0m\u001b[0;34m,\u001b[0m \u001b[0msha1_hash\u001b[0m\u001b[0;34m=\u001b[0m\u001b[0;32mNone\u001b[0m\u001b[0;34m)\u001b[0m\u001b[0;34m:\u001b[0m\u001b[0;34m\u001b[0m\u001b[0;34m\u001b[0m\u001b[0m\n",
            "\u001b[0;31mKeyboardInterrupt\u001b[0m: "
          ]
        },
        {
          "output_type": "display_data",
          "data": {
            "text/plain": [
              "<Figure size 350x250 with 1 Axes>"
            ],
            "image/svg+xml": "<?xml version=\"1.0\" encoding=\"utf-8\" standalone=\"no\"?>\n<!DOCTYPE svg PUBLIC \"-//W3C//DTD SVG 1.1//EN\"\n  \"http://www.w3.org/Graphics/SVG/1.1/DTD/svg11.dtd\">\n<svg xmlns:xlink=\"http://www.w3.org/1999/xlink\" width=\"240.554688pt\" height=\"173.477344pt\" viewBox=\"0 0 240.554688 173.477344\" xmlns=\"http://www.w3.org/2000/svg\" version=\"1.1\">\n <metadata>\n  <rdf:RDF xmlns:dc=\"http://purl.org/dc/elements/1.1/\" xmlns:cc=\"http://creativecommons.org/ns#\" xmlns:rdf=\"http://www.w3.org/1999/02/22-rdf-syntax-ns#\">\n   <cc:Work>\n    <dc:type rdf:resource=\"http://purl.org/dc/dcmitype/StillImage\"/>\n    <dc:date>2025-10-04T03:11:23.364795</dc:date>\n    <dc:format>image/svg+xml</dc:format>\n    <dc:creator>\n     <cc:Agent>\n      <dc:title>Matplotlib v3.10.0, https://matplotlib.org/</dc:title>\n     </cc:Agent>\n    </dc:creator>\n   </cc:Work>\n  </rdf:RDF>\n </metadata>\n <defs>\n  <style type=\"text/css\">*{stroke-linejoin: round; stroke-linecap: butt}</style>\n </defs>\n <g id=\"figure_1\">\n  <g id=\"patch_1\">\n   <path d=\"M 0 173.477344 \nL 240.554688 173.477344 \nL 240.554688 0 \nL 0 0 \nz\n\" style=\"fill: #ffffff\"/>\n  </g>\n  <g id=\"axes_1\">\n   <g id=\"patch_2\">\n    <path d=\"M 30.103125 149.599219 \nL 225.403125 149.599219 \nL 225.403125 10.999219 \nL 30.103125 10.999219 \nz\n\" style=\"fill: #ffffff\"/>\n   </g>\n   <g id=\"matplotlib.axis_1\">\n    <g id=\"xtick_1\">\n     <g id=\"line2d_1\">\n      <defs>\n       <path id=\"macb31c6219\" d=\"M 0 0 \nL 0 3.5 \n\" style=\"stroke: #000000; stroke-width: 0.8\"/>\n      </defs>\n      <g>\n       <use xlink:href=\"#macb31c6219\" x=\"30.103125\" y=\"149.599219\" style=\"stroke: #000000; stroke-width: 0.8\"/>\n      </g>\n     </g>\n     <g id=\"text_1\">\n      <!-- 0.0 -->\n      <g transform=\"translate(22.151563 164.197656) scale(0.1 -0.1)\">\n       <defs>\n        <path id=\"DejaVuSans-30\" d=\"M 2034 4250 \nQ 1547 4250 1301 3770 \nQ 1056 3291 1056 2328 \nQ 1056 1369 1301 889 \nQ 1547 409 2034 409 \nQ 2525 409 2770 889 \nQ 3016 1369 3016 2328 \nQ 3016 3291 2770 3770 \nQ 2525 4250 2034 4250 \nz\nM 2034 4750 \nQ 2819 4750 3233 4129 \nQ 3647 3509 3647 2328 \nQ 3647 1150 3233 529 \nQ 2819 -91 2034 -91 \nQ 1250 -91 836 529 \nQ 422 1150 422 2328 \nQ 422 3509 836 4129 \nQ 1250 4750 2034 4750 \nz\n\" transform=\"scale(0.015625)\"/>\n        <path id=\"DejaVuSans-2e\" d=\"M 684 794 \nL 1344 794 \nL 1344 0 \nL 684 0 \nL 684 794 \nz\n\" transform=\"scale(0.015625)\"/>\n       </defs>\n       <use xlink:href=\"#DejaVuSans-30\"/>\n       <use xlink:href=\"#DejaVuSans-2e\" transform=\"translate(63.623047 0)\"/>\n       <use xlink:href=\"#DejaVuSans-30\" transform=\"translate(95.410156 0)\"/>\n      </g>\n     </g>\n    </g>\n    <g id=\"xtick_2\">\n     <g id=\"line2d_2\">\n      <g>\n       <use xlink:href=\"#macb31c6219\" x=\"69.163125\" y=\"149.599219\" style=\"stroke: #000000; stroke-width: 0.8\"/>\n      </g>\n     </g>\n     <g id=\"text_2\">\n      <!-- 0.2 -->\n      <g transform=\"translate(61.211563 164.197656) scale(0.1 -0.1)\">\n       <defs>\n        <path id=\"DejaVuSans-32\" d=\"M 1228 531 \nL 3431 531 \nL 3431 0 \nL 469 0 \nL 469 531 \nQ 828 903 1448 1529 \nQ 2069 2156 2228 2338 \nQ 2531 2678 2651 2914 \nQ 2772 3150 2772 3378 \nQ 2772 3750 2511 3984 \nQ 2250 4219 1831 4219 \nQ 1534 4219 1204 4116 \nQ 875 4013 500 3803 \nL 500 4441 \nQ 881 4594 1212 4672 \nQ 1544 4750 1819 4750 \nQ 2544 4750 2975 4387 \nQ 3406 4025 3406 3419 \nQ 3406 3131 3298 2873 \nQ 3191 2616 2906 2266 \nQ 2828 2175 2409 1742 \nQ 1991 1309 1228 531 \nz\n\" transform=\"scale(0.015625)\"/>\n       </defs>\n       <use xlink:href=\"#DejaVuSans-30\"/>\n       <use xlink:href=\"#DejaVuSans-2e\" transform=\"translate(63.623047 0)\"/>\n       <use xlink:href=\"#DejaVuSans-32\" transform=\"translate(95.410156 0)\"/>\n      </g>\n     </g>\n    </g>\n    <g id=\"xtick_3\">\n     <g id=\"line2d_3\">\n      <g>\n       <use xlink:href=\"#macb31c6219\" x=\"108.223125\" y=\"149.599219\" style=\"stroke: #000000; stroke-width: 0.8\"/>\n      </g>\n     </g>\n     <g id=\"text_3\">\n      <!-- 0.4 -->\n      <g transform=\"translate(100.271563 164.197656) scale(0.1 -0.1)\">\n       <defs>\n        <path id=\"DejaVuSans-34\" d=\"M 2419 4116 \nL 825 1625 \nL 2419 1625 \nL 2419 4116 \nz\nM 2253 4666 \nL 3047 4666 \nL 3047 1625 \nL 3713 1625 \nL 3713 1100 \nL 3047 1100 \nL 3047 0 \nL 2419 0 \nL 2419 1100 \nL 313 1100 \nL 313 1709 \nL 2253 4666 \nz\n\" transform=\"scale(0.015625)\"/>\n       </defs>\n       <use xlink:href=\"#DejaVuSans-30\"/>\n       <use xlink:href=\"#DejaVuSans-2e\" transform=\"translate(63.623047 0)\"/>\n       <use xlink:href=\"#DejaVuSans-34\" transform=\"translate(95.410156 0)\"/>\n      </g>\n     </g>\n    </g>\n    <g id=\"xtick_4\">\n     <g id=\"line2d_4\">\n      <g>\n       <use xlink:href=\"#macb31c6219\" x=\"147.283125\" y=\"149.599219\" style=\"stroke: #000000; stroke-width: 0.8\"/>\n      </g>\n     </g>\n     <g id=\"text_4\">\n      <!-- 0.6 -->\n      <g transform=\"translate(139.331563 164.197656) scale(0.1 -0.1)\">\n       <defs>\n        <path id=\"DejaVuSans-36\" d=\"M 2113 2584 \nQ 1688 2584 1439 2293 \nQ 1191 2003 1191 1497 \nQ 1191 994 1439 701 \nQ 1688 409 2113 409 \nQ 2538 409 2786 701 \nQ 3034 994 3034 1497 \nQ 3034 2003 2786 2293 \nQ 2538 2584 2113 2584 \nz\nM 3366 4563 \nL 3366 3988 \nQ 3128 4100 2886 4159 \nQ 2644 4219 2406 4219 \nQ 1781 4219 1451 3797 \nQ 1122 3375 1075 2522 \nQ 1259 2794 1537 2939 \nQ 1816 3084 2150 3084 \nQ 2853 3084 3261 2657 \nQ 3669 2231 3669 1497 \nQ 3669 778 3244 343 \nQ 2819 -91 2113 -91 \nQ 1303 -91 875 529 \nQ 447 1150 447 2328 \nQ 447 3434 972 4092 \nQ 1497 4750 2381 4750 \nQ 2619 4750 2861 4703 \nQ 3103 4656 3366 4563 \nz\n\" transform=\"scale(0.015625)\"/>\n       </defs>\n       <use xlink:href=\"#DejaVuSans-30\"/>\n       <use xlink:href=\"#DejaVuSans-2e\" transform=\"translate(63.623047 0)\"/>\n       <use xlink:href=\"#DejaVuSans-36\" transform=\"translate(95.410156 0)\"/>\n      </g>\n     </g>\n    </g>\n    <g id=\"xtick_5\">\n     <g id=\"line2d_5\">\n      <g>\n       <use xlink:href=\"#macb31c6219\" x=\"186.343125\" y=\"149.599219\" style=\"stroke: #000000; stroke-width: 0.8\"/>\n      </g>\n     </g>\n     <g id=\"text_5\">\n      <!-- 0.8 -->\n      <g transform=\"translate(178.391563 164.197656) scale(0.1 -0.1)\">\n       <defs>\n        <path id=\"DejaVuSans-38\" d=\"M 2034 2216 \nQ 1584 2216 1326 1975 \nQ 1069 1734 1069 1313 \nQ 1069 891 1326 650 \nQ 1584 409 2034 409 \nQ 2484 409 2743 651 \nQ 3003 894 3003 1313 \nQ 3003 1734 2745 1975 \nQ 2488 2216 2034 2216 \nz\nM 1403 2484 \nQ 997 2584 770 2862 \nQ 544 3141 544 3541 \nQ 544 4100 942 4425 \nQ 1341 4750 2034 4750 \nQ 2731 4750 3128 4425 \nQ 3525 4100 3525 3541 \nQ 3525 3141 3298 2862 \nQ 3072 2584 2669 2484 \nQ 3125 2378 3379 2068 \nQ 3634 1759 3634 1313 \nQ 3634 634 3220 271 \nQ 2806 -91 2034 -91 \nQ 1263 -91 848 271 \nQ 434 634 434 1313 \nQ 434 1759 690 2068 \nQ 947 2378 1403 2484 \nz\nM 1172 3481 \nQ 1172 3119 1398 2916 \nQ 1625 2713 2034 2713 \nQ 2441 2713 2670 2916 \nQ 2900 3119 2900 3481 \nQ 2900 3844 2670 4047 \nQ 2441 4250 2034 4250 \nQ 1625 4250 1398 4047 \nQ 1172 3844 1172 3481 \nz\n\" transform=\"scale(0.015625)\"/>\n       </defs>\n       <use xlink:href=\"#DejaVuSans-30\"/>\n       <use xlink:href=\"#DejaVuSans-2e\" transform=\"translate(63.623047 0)\"/>\n       <use xlink:href=\"#DejaVuSans-38\" transform=\"translate(95.410156 0)\"/>\n      </g>\n     </g>\n    </g>\n    <g id=\"xtick_6\">\n     <g id=\"line2d_6\">\n      <g>\n       <use xlink:href=\"#macb31c6219\" x=\"225.403125\" y=\"149.599219\" style=\"stroke: #000000; stroke-width: 0.8\"/>\n      </g>\n     </g>\n     <g id=\"text_6\">\n      <!-- 1.0 -->\n      <g transform=\"translate(217.451563 164.197656) scale(0.1 -0.1)\">\n       <defs>\n        <path id=\"DejaVuSans-31\" d=\"M 794 531 \nL 1825 531 \nL 1825 4091 \nL 703 3866 \nL 703 4441 \nL 1819 4666 \nL 2450 4666 \nL 2450 531 \nL 3481 531 \nL 3481 0 \nL 794 0 \nL 794 531 \nz\n\" transform=\"scale(0.015625)\"/>\n       </defs>\n       <use xlink:href=\"#DejaVuSans-31\"/>\n       <use xlink:href=\"#DejaVuSans-2e\" transform=\"translate(63.623047 0)\"/>\n       <use xlink:href=\"#DejaVuSans-30\" transform=\"translate(95.410156 0)\"/>\n      </g>\n     </g>\n    </g>\n   </g>\n   <g id=\"matplotlib.axis_2\">\n    <g id=\"ytick_1\">\n     <g id=\"line2d_7\">\n      <defs>\n       <path id=\"m27074c2b22\" d=\"M 0 0 \nL -3.5 0 \n\" style=\"stroke: #000000; stroke-width: 0.8\"/>\n      </defs>\n      <g>\n       <use xlink:href=\"#m27074c2b22\" x=\"30.103125\" y=\"149.599219\" style=\"stroke: #000000; stroke-width: 0.8\"/>\n      </g>\n     </g>\n     <g id=\"text_7\">\n      <!-- 0.0 -->\n      <g transform=\"translate(7.2 153.398438) scale(0.1 -0.1)\">\n       <use xlink:href=\"#DejaVuSans-30\"/>\n       <use xlink:href=\"#DejaVuSans-2e\" transform=\"translate(63.623047 0)\"/>\n       <use xlink:href=\"#DejaVuSans-30\" transform=\"translate(95.410156 0)\"/>\n      </g>\n     </g>\n    </g>\n    <g id=\"ytick_2\">\n     <g id=\"line2d_8\">\n      <g>\n       <use xlink:href=\"#m27074c2b22\" x=\"30.103125\" y=\"121.879219\" style=\"stroke: #000000; stroke-width: 0.8\"/>\n      </g>\n     </g>\n     <g id=\"text_8\">\n      <!-- 0.2 -->\n      <g transform=\"translate(7.2 125.678438) scale(0.1 -0.1)\">\n       <use xlink:href=\"#DejaVuSans-30\"/>\n       <use xlink:href=\"#DejaVuSans-2e\" transform=\"translate(63.623047 0)\"/>\n       <use xlink:href=\"#DejaVuSans-32\" transform=\"translate(95.410156 0)\"/>\n      </g>\n     </g>\n    </g>\n    <g id=\"ytick_3\">\n     <g id=\"line2d_9\">\n      <g>\n       <use xlink:href=\"#m27074c2b22\" x=\"30.103125\" y=\"94.159219\" style=\"stroke: #000000; stroke-width: 0.8\"/>\n      </g>\n     </g>\n     <g id=\"text_9\">\n      <!-- 0.4 -->\n      <g transform=\"translate(7.2 97.958438) scale(0.1 -0.1)\">\n       <use xlink:href=\"#DejaVuSans-30\"/>\n       <use xlink:href=\"#DejaVuSans-2e\" transform=\"translate(63.623047 0)\"/>\n       <use xlink:href=\"#DejaVuSans-34\" transform=\"translate(95.410156 0)\"/>\n      </g>\n     </g>\n    </g>\n    <g id=\"ytick_4\">\n     <g id=\"line2d_10\">\n      <g>\n       <use xlink:href=\"#m27074c2b22\" x=\"30.103125\" y=\"66.439219\" style=\"stroke: #000000; stroke-width: 0.8\"/>\n      </g>\n     </g>\n     <g id=\"text_10\">\n      <!-- 0.6 -->\n      <g transform=\"translate(7.2 70.238438) scale(0.1 -0.1)\">\n       <use xlink:href=\"#DejaVuSans-30\"/>\n       <use xlink:href=\"#DejaVuSans-2e\" transform=\"translate(63.623047 0)\"/>\n       <use xlink:href=\"#DejaVuSans-36\" transform=\"translate(95.410156 0)\"/>\n      </g>\n     </g>\n    </g>\n    <g id=\"ytick_5\">\n     <g id=\"line2d_11\">\n      <g>\n       <use xlink:href=\"#m27074c2b22\" x=\"30.103125\" y=\"38.719219\" style=\"stroke: #000000; stroke-width: 0.8\"/>\n      </g>\n     </g>\n     <g id=\"text_11\">\n      <!-- 0.8 -->\n      <g transform=\"translate(7.2 42.518438) scale(0.1 -0.1)\">\n       <use xlink:href=\"#DejaVuSans-30\"/>\n       <use xlink:href=\"#DejaVuSans-2e\" transform=\"translate(63.623047 0)\"/>\n       <use xlink:href=\"#DejaVuSans-38\" transform=\"translate(95.410156 0)\"/>\n      </g>\n     </g>\n    </g>\n    <g id=\"ytick_6\">\n     <g id=\"line2d_12\">\n      <g>\n       <use xlink:href=\"#m27074c2b22\" x=\"30.103125\" y=\"10.999219\" style=\"stroke: #000000; stroke-width: 0.8\"/>\n      </g>\n     </g>\n     <g id=\"text_12\">\n      <!-- 1.0 -->\n      <g transform=\"translate(7.2 14.798438) scale(0.1 -0.1)\">\n       <use xlink:href=\"#DejaVuSans-31\"/>\n       <use xlink:href=\"#DejaVuSans-2e\" transform=\"translate(63.623047 0)\"/>\n       <use xlink:href=\"#DejaVuSans-30\" transform=\"translate(95.410156 0)\"/>\n      </g>\n     </g>\n    </g>\n   </g>\n   <g id=\"patch_3\">\n    <path d=\"M 30.103125 149.599219 \nL 30.103125 10.999219 \n\" style=\"fill: none; stroke: #000000; stroke-width: 0.8; stroke-linejoin: miter; stroke-linecap: square\"/>\n   </g>\n   <g id=\"patch_4\">\n    <path d=\"M 225.403125 149.599219 \nL 225.403125 10.999219 \n\" style=\"fill: none; stroke: #000000; stroke-width: 0.8; stroke-linejoin: miter; stroke-linecap: square\"/>\n   </g>\n   <g id=\"patch_5\">\n    <path d=\"M 30.103125 149.599219 \nL 225.403125 149.599219 \n\" style=\"fill: none; stroke: #000000; stroke-width: 0.8; stroke-linejoin: miter; stroke-linecap: square\"/>\n   </g>\n   <g id=\"patch_6\">\n    <path d=\"M 30.103125 10.999219 \nL 225.403125 10.999219 \n\" style=\"fill: none; stroke: #000000; stroke-width: 0.8; stroke-linejoin: miter; stroke-linecap: square\"/>\n   </g>\n  </g>\n </g>\n</svg>\n"
          },
          "metadata": {}
        }
      ]
    },
    {
      "cell_type": "code",
      "source": [
        "print(len(train_data[0]))\n",
        "print(len(train_data[1]))\n",
        "print(len(train_data))"
      ],
      "metadata": {
        "id": "k-w6Wm5CFsO2",
        "outputId": "bf0eea07-2c11-4a68-97a6-53b2fc32ceda",
        "colab": {
          "base_uri": "https://localhost:8080/"
        }
      },
      "id": "k-w6Wm5CFsO2",
      "execution_count": 18,
      "outputs": [
        {
          "output_type": "stream",
          "name": "stdout",
          "text": [
            "25000\n",
            "25000\n",
            "2\n"
          ]
        }
      ]
    },
    {
      "cell_type": "code",
      "source": [
        "\"\"\"\n",
        "BERT在IMDB情感分类上的完整实战示例\n",
        "可直接运行的代码\n",
        "\"\"\"\n",
        "\n",
        "import torch\n",
        "import torch.nn as nn\n",
        "from torch.utils.data import Dataset, DataLoader\n",
        "from transformers import BertModel, BertTokenizer, AdamW, get_linear_schedule_with_warmup\n",
        "import numpy as np\n",
        "from tqdm import tqdm\n",
        "import os\n",
        "\n",
        "# ============ 模型定义 ============\n",
        "class BERTForSentiment(nn.Module):\n",
        "    def __init__(self, bert_name='bert-base-uncased', num_classes=2, dropout=0.3):\n",
        "        super(BERTForSentiment, self).__init__()\n",
        "        self.bert = BertModel.from_pretrained(bert_name)\n",
        "        self.dropout = nn.Dropout(dropout)\n",
        "        self.fc = nn.Linear(self.bert.config.hidden_size, num_classes)\n",
        "\n",
        "    def forward(self, input_ids, attention_mask):\n",
        "        outputs = self.bert(input_ids=input_ids, attention_mask=attention_mask)\n",
        "        pooled = outputs.pooler_output\n",
        "        return self.fc(self.dropout(pooled))\n",
        "\n",
        "\n",
        "# ============ 数据集 ============\n",
        "class IMDBDataset(Dataset):\n",
        "    def __init__(self, texts, labels, tokenizer, max_len=256):\n",
        "        self.texts = texts\n",
        "        self.labels = labels\n",
        "        self.tokenizer = tokenizer\n",
        "        self.max_len = max_len\n",
        "\n",
        "    def __len__(self):\n",
        "        return len(self.texts)\n",
        "\n",
        "    def __getitem__(self, idx):\n",
        "        text = str(self.texts[idx])\n",
        "        label = self.labels[idx]\n",
        "\n",
        "        encoding = self.tokenizer.encode_plus(\n",
        "            text,\n",
        "            add_special_tokens=True,\n",
        "            max_length=self.max_len,\n",
        "            padding='max_length',\n",
        "            truncation=True,\n",
        "            return_attention_mask=True,\n",
        "            return_tensors='pt'\n",
        "        )\n",
        "\n",
        "        return {\n",
        "            'input_ids': encoding['input_ids'].flatten(),\n",
        "            'attention_mask': encoding['attention_mask'].flatten(),\n",
        "            'labels': torch.tensor(label, dtype=torch.long)\n",
        "        }\n",
        "\n",
        "\n",
        "# ============ 训练器 ============\n",
        "class BERTTrainer:\n",
        "    def __init__(self, model, train_loader, val_loader, device, lr=2e-5, epochs=3):\n",
        "        self.model = model.to(device)\n",
        "        self.train_loader = train_loader\n",
        "        self.val_loader = val_loader\n",
        "        self.device = device\n",
        "        self.epochs = epochs\n",
        "\n",
        "        # 优化器\n",
        "        self.optimizer = AdamW(model.parameters(), lr=lr, weight_decay=0.01)\n",
        "\n",
        "        # 学习率调度\n",
        "        total_steps = len(train_loader) * epochs\n",
        "        self.scheduler = get_linear_schedule_with_warmup(\n",
        "            self.optimizer,\n",
        "            num_warmup_steps=total_steps // 10,\n",
        "            num_training_steps=total_steps\n",
        "        )\n",
        "\n",
        "        # 损失函数\n",
        "        self.criterion = nn.CrossEntropyLoss()\n",
        "\n",
        "        # 记录\n",
        "        self.train_losses = []\n",
        "        self.val_losses = []\n",
        "        self.train_accs = []\n",
        "        self.val_accs = []\n",
        "        self.best_val_acc = 0\n",
        "\n",
        "    def train_epoch(self):\n",
        "        self.model.train()\n",
        "        total_loss = 0\n",
        "        correct = 0\n",
        "        total = 0\n",
        "\n",
        "        pbar = tqdm(self.train_loader, desc='Training')\n",
        "        for batch in pbar:\n",
        "            input_ids = batch['input_ids'].to(self.device)\n",
        "            attention_mask = batch['attention_mask'].to(self.device)\n",
        "            labels = batch['labels'].to(self.device)\n",
        "\n",
        "            self.optimizer.zero_grad()\n",
        "            outputs = self.model(input_ids, attention_mask)\n",
        "            loss = self.criterion(outputs, labels)\n",
        "\n",
        "            loss.backward()\n",
        "            torch.nn.utils.clip_grad_norm_(self.model.parameters(), 1.0)\n",
        "            self.optimizer.step()\n",
        "            self.scheduler.step()\n",
        "\n",
        "            total_loss += loss.item()\n",
        "            _, preds = torch.max(outputs, 1)\n",
        "            correct += (preds == labels).sum().item()\n",
        "            total += labels.size(0)\n",
        "\n",
        "            pbar.set_postfix({\n",
        "                'loss': f'{loss.item():.4f}',\n",
        "                'acc': f'{100*correct/total:.2f}%'\n",
        "            })\n",
        "\n",
        "        return total_loss / len(self.train_loader), 100 * correct / total\n",
        "\n",
        "    def validate(self):\n",
        "        self.model.eval()\n",
        "        total_loss = 0\n",
        "        correct = 0\n",
        "        total = 0\n",
        "\n",
        "        with torch.no_grad():\n",
        "            for batch in tqdm(self.val_loader, desc='Validating'):\n",
        "                input_ids = batch['input_ids'].to(self.device)\n",
        "                attention_mask = batch['attention_mask'].to(self.device)\n",
        "                labels = batch['labels'].to(self.device)\n",
        "\n",
        "                outputs = self.model(input_ids, attention_mask)\n",
        "                loss = self.criterion(outputs, labels)\n",
        "\n",
        "                total_loss += loss.item()\n",
        "                _, preds = torch.max(outputs, 1)\n",
        "                correct += (preds == labels).sum().item()\n",
        "                total += labels.size(0)\n",
        "\n",
        "        return total_loss / len(self.val_loader), 100 * correct / total\n",
        "\n",
        "    def train(self):\n",
        "        print(f'Starting training on {self.device}')\n",
        "        print('='*70)\n",
        "\n",
        "        for epoch in range(self.epochs):\n",
        "            print(f'\\nEpoch {epoch + 1}/{self.epochs}')\n",
        "            print('-'*70)\n",
        "\n",
        "            train_loss, train_acc = self.train_epoch()\n",
        "            val_loss, val_acc = self.validate()\n",
        "\n",
        "            self.train_losses.append(train_loss)\n",
        "            self.val_losses.append(val_loss)\n",
        "            self.train_accs.append(train_acc)\n",
        "            self.val_accs.append(val_acc)\n",
        "\n",
        "            print(f'\\nTrain Loss: {train_loss:.4f} | Train Acc: {train_acc:.2f}%')\n",
        "            print(f'Val Loss: {val_loss:.4f} | Val Acc: {val_acc:.2f}%')\n",
        "\n",
        "            if val_acc > self.best_val_acc:\n",
        "                self.best_val_acc = val_acc\n",
        "                torch.save(self.model.state_dict(), 'best_bert_imdb.pth')\n",
        "                print(f'✓ Best model saved! (Val Acc: {val_acc:.2f}%)')\n",
        "\n",
        "        print('\\n' + '='*70)\n",
        "        print(f'Training completed!')\n",
        "        print(f'Best validation accuracy: {self.best_val_acc:.2f}%')\n",
        "\n",
        "\n",
        "#"
      ],
      "metadata": {
        "id": "keKZlejHCBgf"
      },
      "id": "keKZlejHCBgf",
      "execution_count": null,
      "outputs": []
    },
    {
      "cell_type": "code",
      "source": [
        "import torch\n",
        "import torch.nn as nn\n",
        "\n",
        "# --- 参数设定 ---\n",
        "vocab_size = 1000\n",
        "embed_size = 50\n",
        "hidden_size = 128  # 隐藏单元数\n",
        "num_layers = 2     # LSTM层数\n",
        "batch_size = 10\n",
        "seq_len = 20       # 序列长度\n",
        "\n",
        "# --- 创建一个双向LSTM ---\n",
        "# bidirectional=True, 所以 num_directions = 2\n",
        "lstm = nn.LSTM(embed_size, hidden_size, num_layers=num_layers, bidirectional=True)\n",
        "\n",
        "# 创建一个假的输入数据\n",
        "# 形状: (seq_len, batch_size, embed_size)\n",
        "fake_input = torch.randn(seq_len, batch_size, embed_size)\n",
        "\n",
        "# --- 前向传播 ---\n",
        "output, (h_n, c_n) = lstm(fake_input)\n",
        "\n",
        "# --- 打印形状来验证 ---\n",
        "print(\"Input shape:\", fake_input.shape)\n",
        "print(\"-\" * 30)\n",
        "print(\"Output shape:\", output.shape)\n",
        "print(\"h_n shape:\", h_n.shape)\n",
        "print(\"c_n shape:\", c_n.shape)\n",
        "\n",
        "# --- 验证形状 ---\n",
        "# 期望 output 形状: (20, 10, 2 * 128) -> (20, 10, 256)\n",
        "# 期望 h_n, c_n 形状: (2 * 2, 10, 128) -> (4, 10, 128)"
      ],
      "metadata": {
        "id": "jg6a8jaHDAQF"
      },
      "id": "jg6a8jaHDAQF",
      "execution_count": null,
      "outputs": []
    },
    {
      "cell_type": "markdown",
      "id": "ead6677a",
      "metadata": {
        "origin_pos": 22,
        "id": "ead6677a"
      },
      "source": [
        "## 小结\n",
        "\n",
        "* 情感分析研究人们在文本中的情感，这被认为是一个文本分类问题，它将可变长度的文本序列进行转换转换为固定长度的文本类别。\n",
        "* 经过预处理后，我们可以使用词表将IMDb评论数据集加载到数据迭代器中。\n",
        "\n",
        "## 练习\n",
        "\n",
        "1. 我们可以修改本节中的哪些超参数来加速训练情感分析模型？\n",
        "1. 请实现一个函数来将[Amazon reviews](https://snap.stanford.edu/data/web-Amazon.html)的数据集加载到数据迭代器中进行情感分析。\n"
      ]
    },
    {
      "cell_type": "markdown",
      "id": "0a0b32b5",
      "metadata": {
        "origin_pos": 24,
        "tab": [
          "pytorch"
        ],
        "id": "0a0b32b5"
      },
      "source": [
        "[Discussions](https://discuss.d2l.ai/t/5726)\n"
      ]
    }
  ],
  "metadata": {
    "kernelspec": {
      "display_name": "Python 3",
      "name": "python3"
    },
    "language_info": {
      "name": "python"
    },
    "required_libs": [],
    "colab": {
      "provenance": [],
      "gpuType": "T4",
      "include_colab_link": true
    },
    "accelerator": "GPU"
  },
  "nbformat": 4,
  "nbformat_minor": 5
}